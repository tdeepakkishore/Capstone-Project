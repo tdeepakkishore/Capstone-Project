{
  "nbformat": 4,
  "nbformat_minor": 0,
  "metadata": {
    "colab": {
      "provenance": [],
      "collapsed_sections": [
        "8Q8PZ34yVLYF",
        "9rPOXiL3hHsd",
        "bMaJY4gf8rMR"
      ]
    },
    "kernelspec": {
      "name": "python3",
      "display_name": "Python 3"
    },
    "language_info": {
      "name": "python"
    }
  },
  "cells": [
    {
      "cell_type": "markdown",
      "source": [
        "# Importing Data / Preprocessing"
      ],
      "metadata": {
        "id": "xgYGRUQ-sFmt"
      }
    },
    {
      "cell_type": "code",
      "execution_count": null,
      "metadata": {
        "colab": {
          "base_uri": "https://localhost:8080/"
        },
        "id": "eq_HYbKR974s",
        "outputId": "4825e142-3fae-432f-b144-82003300bd24"
      },
      "outputs": [
        {
          "output_type": "stream",
          "name": "stdout",
          "text": [
            "Mounted at /content/drive\n"
          ]
        }
      ],
      "source": [
        "# Connecting to Drive\n",
        "from google.colab import drive\n",
        "drive.mount('/content/drive')"
      ]
    },
    {
      "cell_type": "code",
      "source": [
        "import pandas as pd\n",
        "from sklearn.preprocessing import LabelEncoder\n",
        "from sklearn import preprocessing"
      ],
      "metadata": {
        "id": "FNtNDjQr-KsR"
      },
      "execution_count": null,
      "outputs": []
    },
    {
      "cell_type": "code",
      "source": [
        "import re\n",
        "import string\n",
        "import gzip\n",
        "import nltk\n",
        "nltk.download(\"stopwords\")\n",
        "from nltk.corpus import stopwords\n",
        "import pandas as pd\n",
        "import numpy as np\n",
        "import seaborn as sb\n",
        "import matplotlib.pyplot as pyplot\n",
        "from pandas import option_context\n",
        "from sklearn import preprocessing\n",
        "from tabulate import tabulate\n",
        "from sklearn.preprocessing import LabelEncoder\n",
        "from sklearn.pipeline import Pipeline\n",
        "from sklearn.model_selection import train_test_split\n",
        "from sklearn.feature_extraction.text import TfidfVectorizer, CountVectorizer\n",
        "from sklearn.linear_model import LogisticRegression\n",
        "from sklearn.naive_bayes import MultinomialNB\n",
        "from sklearn.cluster import KMeans\n",
        "from sklearn.ensemble  import RandomForestClassifier\n",
        "from sklearn.linear_model import SGDClassifier\n",
        "from sklearn.model_selection import GridSearchCV\n",
        "from sklearn.metrics import f1_score,accuracy_score,recall_score,precision_score,classification_report,confusion_matrix\n",
        "from IPython.core.interactiveshell import InteractiveShell  \n",
        "InteractiveShell.ast_node_interactivity = \"all\"\n",
        "import warnings\n",
        "warnings.filterwarnings('ignore')"
      ],
      "metadata": {
        "colab": {
          "base_uri": "https://localhost:8080/"
        },
        "id": "y_6E9zhQ-KvA",
        "outputId": "cf9d5d7f-5a13-45e4-85a1-93786e3e3fa7"
      },
      "execution_count": null,
      "outputs": [
        {
          "output_type": "stream",
          "name": "stderr",
          "text": [
            "[nltk_data] Downloading package stopwords to /root/nltk_data...\n",
            "[nltk_data]   Unzipping corpora/stopwords.zip.\n"
          ]
        }
      ]
    },
    {
      "cell_type": "code",
      "source": [
        "def parse(path):\n",
        "  g = gzip.open(path, 'rb')\n",
        "  for l in g:\n",
        "    yield eval(l)\n",
        "\n",
        "def getDF(path):\n",
        "  i = 0\n",
        "  df = {}\n",
        "  for d in parse(path):\n",
        "    df[i] = d\n",
        "    i += 1\n",
        "  return pd.DataFrame.from_dict(df, orient='index')"
      ],
      "metadata": {
        "id": "okzF8HKX-KxY"
      },
      "execution_count": null,
      "outputs": []
    },
    {
      "cell_type": "code",
      "source": [
        "# Reading Data\n",
        "meta_sports = getDF('/content/drive/MyDrive/Data Files/meta_Sports_and_Outdoors.json.gz')\n",
        "meta_sports.head(3)"
      ],
      "metadata": {
        "colab": {
          "base_uri": "https://localhost:8080/",
          "height": 326
        },
        "outputId": "03ef2bce-0cfe-4392-8d73-54d07d81d7ec",
        "id": "1s2HNj4oKVX8"
      },
      "execution_count": null,
      "outputs": [
        {
          "output_type": "execute_result",
          "data": {
            "text/plain": [
              "         asin                           title  price  \\\n",
              "0  0000032069  Adult Ballet Tutu Cheetah Pink   7.89   \n",
              "1  0000031909     Girls Ballet Tutu Neon Pink   7.00   \n",
              "2  0000032034        Adult Ballet Tutu Yellow   7.87   \n",
              "\n",
              "                                               imUrl  \\\n",
              "0  http://ecx.images-amazon.com/images/I/51EzU6qu...   \n",
              "1  http://ecx.images-amazon.com/images/I/41xBoP0F...   \n",
              "2  http://ecx.images-amazon.com/images/I/21GNUNIa...   \n",
              "\n",
              "                                             related     brand  \\\n",
              "0  {'also_bought': ['0000032050', 'B00D0DJAEG', '...  BubuBibi   \n",
              "1  {'also_bought': ['B002BZX8Z6', 'B00JHONN1S', '...   Unknown   \n",
              "2  {'also_bought': ['B00D2JSRFQ', '0000032042', '...  BubuBibi   \n",
              "\n",
              "                                          categories  \\\n",
              "0  [[Sports & Outdoors, Other Sports, Dance, Clot...   \n",
              "1         [[Sports & Outdoors, Other Sports, Dance]]   \n",
              "2  [[Sports & Outdoors, Other Sports, Dance, Clot...   \n",
              "\n",
              "                  salesRank                                        description  \n",
              "0                       NaN                                                NaN  \n",
              "1  {'Toys & Games': 201847}  High quality 3 layer ballet tutu. 12 inches in...  \n",
              "2                       NaN                                                NaN  "
            ],
            "text/html": [
              "\n",
              "  <div id=\"df-7f64868e-4119-4327-b06b-59e3bbe2598e\">\n",
              "    <div class=\"colab-df-container\">\n",
              "      <div>\n",
              "<style scoped>\n",
              "    .dataframe tbody tr th:only-of-type {\n",
              "        vertical-align: middle;\n",
              "    }\n",
              "\n",
              "    .dataframe tbody tr th {\n",
              "        vertical-align: top;\n",
              "    }\n",
              "\n",
              "    .dataframe thead th {\n",
              "        text-align: right;\n",
              "    }\n",
              "</style>\n",
              "<table border=\"1\" class=\"dataframe\">\n",
              "  <thead>\n",
              "    <tr style=\"text-align: right;\">\n",
              "      <th></th>\n",
              "      <th>asin</th>\n",
              "      <th>title</th>\n",
              "      <th>price</th>\n",
              "      <th>imUrl</th>\n",
              "      <th>related</th>\n",
              "      <th>brand</th>\n",
              "      <th>categories</th>\n",
              "      <th>salesRank</th>\n",
              "      <th>description</th>\n",
              "    </tr>\n",
              "  </thead>\n",
              "  <tbody>\n",
              "    <tr>\n",
              "      <th>0</th>\n",
              "      <td>0000032069</td>\n",
              "      <td>Adult Ballet Tutu Cheetah Pink</td>\n",
              "      <td>7.89</td>\n",
              "      <td>http://ecx.images-amazon.com/images/I/51EzU6qu...</td>\n",
              "      <td>{'also_bought': ['0000032050', 'B00D0DJAEG', '...</td>\n",
              "      <td>BubuBibi</td>\n",
              "      <td>[[Sports &amp; Outdoors, Other Sports, Dance, Clot...</td>\n",
              "      <td>NaN</td>\n",
              "      <td>NaN</td>\n",
              "    </tr>\n",
              "    <tr>\n",
              "      <th>1</th>\n",
              "      <td>0000031909</td>\n",
              "      <td>Girls Ballet Tutu Neon Pink</td>\n",
              "      <td>7.00</td>\n",
              "      <td>http://ecx.images-amazon.com/images/I/41xBoP0F...</td>\n",
              "      <td>{'also_bought': ['B002BZX8Z6', 'B00JHONN1S', '...</td>\n",
              "      <td>Unknown</td>\n",
              "      <td>[[Sports &amp; Outdoors, Other Sports, Dance]]</td>\n",
              "      <td>{'Toys &amp; Games': 201847}</td>\n",
              "      <td>High quality 3 layer ballet tutu. 12 inches in...</td>\n",
              "    </tr>\n",
              "    <tr>\n",
              "      <th>2</th>\n",
              "      <td>0000032034</td>\n",
              "      <td>Adult Ballet Tutu Yellow</td>\n",
              "      <td>7.87</td>\n",
              "      <td>http://ecx.images-amazon.com/images/I/21GNUNIa...</td>\n",
              "      <td>{'also_bought': ['B00D2JSRFQ', '0000032042', '...</td>\n",
              "      <td>BubuBibi</td>\n",
              "      <td>[[Sports &amp; Outdoors, Other Sports, Dance, Clot...</td>\n",
              "      <td>NaN</td>\n",
              "      <td>NaN</td>\n",
              "    </tr>\n",
              "  </tbody>\n",
              "</table>\n",
              "</div>\n",
              "      <button class=\"colab-df-convert\" onclick=\"convertToInteractive('df-7f64868e-4119-4327-b06b-59e3bbe2598e')\"\n",
              "              title=\"Convert this dataframe to an interactive table.\"\n",
              "              style=\"display:none;\">\n",
              "        \n",
              "  <svg xmlns=\"http://www.w3.org/2000/svg\" height=\"24px\"viewBox=\"0 0 24 24\"\n",
              "       width=\"24px\">\n",
              "    <path d=\"M0 0h24v24H0V0z\" fill=\"none\"/>\n",
              "    <path d=\"M18.56 5.44l.94 2.06.94-2.06 2.06-.94-2.06-.94-.94-2.06-.94 2.06-2.06.94zm-11 1L8.5 8.5l.94-2.06 2.06-.94-2.06-.94L8.5 2.5l-.94 2.06-2.06.94zm10 10l.94 2.06.94-2.06 2.06-.94-2.06-.94-.94-2.06-.94 2.06-2.06.94z\"/><path d=\"M17.41 7.96l-1.37-1.37c-.4-.4-.92-.59-1.43-.59-.52 0-1.04.2-1.43.59L10.3 9.45l-7.72 7.72c-.78.78-.78 2.05 0 2.83L4 21.41c.39.39.9.59 1.41.59.51 0 1.02-.2 1.41-.59l7.78-7.78 2.81-2.81c.8-.78.8-2.07 0-2.86zM5.41 20L4 18.59l7.72-7.72 1.47 1.35L5.41 20z\"/>\n",
              "  </svg>\n",
              "      </button>\n",
              "      \n",
              "  <style>\n",
              "    .colab-df-container {\n",
              "      display:flex;\n",
              "      flex-wrap:wrap;\n",
              "      gap: 12px;\n",
              "    }\n",
              "\n",
              "    .colab-df-convert {\n",
              "      background-color: #E8F0FE;\n",
              "      border: none;\n",
              "      border-radius: 50%;\n",
              "      cursor: pointer;\n",
              "      display: none;\n",
              "      fill: #1967D2;\n",
              "      height: 32px;\n",
              "      padding: 0 0 0 0;\n",
              "      width: 32px;\n",
              "    }\n",
              "\n",
              "    .colab-df-convert:hover {\n",
              "      background-color: #E2EBFA;\n",
              "      box-shadow: 0px 1px 2px rgba(60, 64, 67, 0.3), 0px 1px 3px 1px rgba(60, 64, 67, 0.15);\n",
              "      fill: #174EA6;\n",
              "    }\n",
              "\n",
              "    [theme=dark] .colab-df-convert {\n",
              "      background-color: #3B4455;\n",
              "      fill: #D2E3FC;\n",
              "    }\n",
              "\n",
              "    [theme=dark] .colab-df-convert:hover {\n",
              "      background-color: #434B5C;\n",
              "      box-shadow: 0px 1px 3px 1px rgba(0, 0, 0, 0.15);\n",
              "      filter: drop-shadow(0px 1px 2px rgba(0, 0, 0, 0.3));\n",
              "      fill: #FFFFFF;\n",
              "    }\n",
              "  </style>\n",
              "\n",
              "      <script>\n",
              "        const buttonEl =\n",
              "          document.querySelector('#df-7f64868e-4119-4327-b06b-59e3bbe2598e button.colab-df-convert');\n",
              "        buttonEl.style.display =\n",
              "          google.colab.kernel.accessAllowed ? 'block' : 'none';\n",
              "\n",
              "        async function convertToInteractive(key) {\n",
              "          const element = document.querySelector('#df-7f64868e-4119-4327-b06b-59e3bbe2598e');\n",
              "          const dataTable =\n",
              "            await google.colab.kernel.invokeFunction('convertToInteractive',\n",
              "                                                     [key], {});\n",
              "          if (!dataTable) return;\n",
              "\n",
              "          const docLinkHtml = 'Like what you see? Visit the ' +\n",
              "            '<a target=\"_blank\" href=https://colab.research.google.com/notebooks/data_table.ipynb>data table notebook</a>'\n",
              "            + ' to learn more about interactive tables.';\n",
              "          element.innerHTML = '';\n",
              "          dataTable['output_type'] = 'display_data';\n",
              "          await google.colab.output.renderOutput(dataTable, element);\n",
              "          const docLink = document.createElement('div');\n",
              "          docLink.innerHTML = docLinkHtml;\n",
              "          element.appendChild(docLink);\n",
              "        }\n",
              "      </script>\n",
              "    </div>\n",
              "  </div>\n",
              "  "
            ]
          },
          "metadata": {},
          "execution_count": 6
        }
      ]
    },
    {
      "cell_type": "code",
      "source": [
        "# Reading Data\n",
        "review_sports = getDF('/content/drive/MyDrive/Data Files/reviews_Sports_and_Outdoors.json.gz')\n",
        "review_sports.head(3)"
      ],
      "metadata": {
        "colab": {
          "base_uri": "https://localhost:8080/",
          "height": 239
        },
        "outputId": "849b8827-58dd-4afd-cdf4-48b9426898c0",
        "id": "_9KXyMeZKVX8"
      },
      "execution_count": null,
      "outputs": [
        {
          "output_type": "execute_result",
          "data": {
            "text/plain": [
              "       reviewerID        asin        reviewerName helpful  \\\n",
              "0  A3PMSRCL80KSA1  0000031852                 Dee  [0, 0]   \n",
              "1  A1SNLWGLFXD70K  0000031852                DEVA  [0, 0]   \n",
              "2  A1KJ4CVG87QW09  0000031852  Donna Carter-Scott  [0, 0]   \n",
              "\n",
              "                                          reviewText  overall  \\\n",
              "0  Tutus are cute but a little thin. Can't compla...      4.0   \n",
              "1  I origonally didn't get the item I ordered.  W...      4.0   \n",
              "2  Arrived very timely, cute grandbaby loves it. ...      4.0   \n",
              "\n",
              "                                             summary  unixReviewTime  \\\n",
              "0                                            Not bad      1388275200   \n",
              "1  Happy with purchase even though it came a lot ...      1392940800   \n",
              "2                                          Cute Tutu      1389657600   \n",
              "\n",
              "    reviewTime  \n",
              "0  12 29, 2013  \n",
              "1  02 21, 2014  \n",
              "2  01 14, 2014  "
            ],
            "text/html": [
              "\n",
              "  <div id=\"df-b5ad18d6-04f7-42be-8b29-454a2c8b949c\">\n",
              "    <div class=\"colab-df-container\">\n",
              "      <div>\n",
              "<style scoped>\n",
              "    .dataframe tbody tr th:only-of-type {\n",
              "        vertical-align: middle;\n",
              "    }\n",
              "\n",
              "    .dataframe tbody tr th {\n",
              "        vertical-align: top;\n",
              "    }\n",
              "\n",
              "    .dataframe thead th {\n",
              "        text-align: right;\n",
              "    }\n",
              "</style>\n",
              "<table border=\"1\" class=\"dataframe\">\n",
              "  <thead>\n",
              "    <tr style=\"text-align: right;\">\n",
              "      <th></th>\n",
              "      <th>reviewerID</th>\n",
              "      <th>asin</th>\n",
              "      <th>reviewerName</th>\n",
              "      <th>helpful</th>\n",
              "      <th>reviewText</th>\n",
              "      <th>overall</th>\n",
              "      <th>summary</th>\n",
              "      <th>unixReviewTime</th>\n",
              "      <th>reviewTime</th>\n",
              "    </tr>\n",
              "  </thead>\n",
              "  <tbody>\n",
              "    <tr>\n",
              "      <th>0</th>\n",
              "      <td>A3PMSRCL80KSA1</td>\n",
              "      <td>0000031852</td>\n",
              "      <td>Dee</td>\n",
              "      <td>[0, 0]</td>\n",
              "      <td>Tutus are cute but a little thin. Can't compla...</td>\n",
              "      <td>4.0</td>\n",
              "      <td>Not bad</td>\n",
              "      <td>1388275200</td>\n",
              "      <td>12 29, 2013</td>\n",
              "    </tr>\n",
              "    <tr>\n",
              "      <th>1</th>\n",
              "      <td>A1SNLWGLFXD70K</td>\n",
              "      <td>0000031852</td>\n",
              "      <td>DEVA</td>\n",
              "      <td>[0, 0]</td>\n",
              "      <td>I origonally didn't get the item I ordered.  W...</td>\n",
              "      <td>4.0</td>\n",
              "      <td>Happy with purchase even though it came a lot ...</td>\n",
              "      <td>1392940800</td>\n",
              "      <td>02 21, 2014</td>\n",
              "    </tr>\n",
              "    <tr>\n",
              "      <th>2</th>\n",
              "      <td>A1KJ4CVG87QW09</td>\n",
              "      <td>0000031852</td>\n",
              "      <td>Donna Carter-Scott</td>\n",
              "      <td>[0, 0]</td>\n",
              "      <td>Arrived very timely, cute grandbaby loves it. ...</td>\n",
              "      <td>4.0</td>\n",
              "      <td>Cute Tutu</td>\n",
              "      <td>1389657600</td>\n",
              "      <td>01 14, 2014</td>\n",
              "    </tr>\n",
              "  </tbody>\n",
              "</table>\n",
              "</div>\n",
              "      <button class=\"colab-df-convert\" onclick=\"convertToInteractive('df-b5ad18d6-04f7-42be-8b29-454a2c8b949c')\"\n",
              "              title=\"Convert this dataframe to an interactive table.\"\n",
              "              style=\"display:none;\">\n",
              "        \n",
              "  <svg xmlns=\"http://www.w3.org/2000/svg\" height=\"24px\"viewBox=\"0 0 24 24\"\n",
              "       width=\"24px\">\n",
              "    <path d=\"M0 0h24v24H0V0z\" fill=\"none\"/>\n",
              "    <path d=\"M18.56 5.44l.94 2.06.94-2.06 2.06-.94-2.06-.94-.94-2.06-.94 2.06-2.06.94zm-11 1L8.5 8.5l.94-2.06 2.06-.94-2.06-.94L8.5 2.5l-.94 2.06-2.06.94zm10 10l.94 2.06.94-2.06 2.06-.94-2.06-.94-.94-2.06-.94 2.06-2.06.94z\"/><path d=\"M17.41 7.96l-1.37-1.37c-.4-.4-.92-.59-1.43-.59-.52 0-1.04.2-1.43.59L10.3 9.45l-7.72 7.72c-.78.78-.78 2.05 0 2.83L4 21.41c.39.39.9.59 1.41.59.51 0 1.02-.2 1.41-.59l7.78-7.78 2.81-2.81c.8-.78.8-2.07 0-2.86zM5.41 20L4 18.59l7.72-7.72 1.47 1.35L5.41 20z\"/>\n",
              "  </svg>\n",
              "      </button>\n",
              "      \n",
              "  <style>\n",
              "    .colab-df-container {\n",
              "      display:flex;\n",
              "      flex-wrap:wrap;\n",
              "      gap: 12px;\n",
              "    }\n",
              "\n",
              "    .colab-df-convert {\n",
              "      background-color: #E8F0FE;\n",
              "      border: none;\n",
              "      border-radius: 50%;\n",
              "      cursor: pointer;\n",
              "      display: none;\n",
              "      fill: #1967D2;\n",
              "      height: 32px;\n",
              "      padding: 0 0 0 0;\n",
              "      width: 32px;\n",
              "    }\n",
              "\n",
              "    .colab-df-convert:hover {\n",
              "      background-color: #E2EBFA;\n",
              "      box-shadow: 0px 1px 2px rgba(60, 64, 67, 0.3), 0px 1px 3px 1px rgba(60, 64, 67, 0.15);\n",
              "      fill: #174EA6;\n",
              "    }\n",
              "\n",
              "    [theme=dark] .colab-df-convert {\n",
              "      background-color: #3B4455;\n",
              "      fill: #D2E3FC;\n",
              "    }\n",
              "\n",
              "    [theme=dark] .colab-df-convert:hover {\n",
              "      background-color: #434B5C;\n",
              "      box-shadow: 0px 1px 3px 1px rgba(0, 0, 0, 0.15);\n",
              "      filter: drop-shadow(0px 1px 2px rgba(0, 0, 0, 0.3));\n",
              "      fill: #FFFFFF;\n",
              "    }\n",
              "  </style>\n",
              "\n",
              "      <script>\n",
              "        const buttonEl =\n",
              "          document.querySelector('#df-b5ad18d6-04f7-42be-8b29-454a2c8b949c button.colab-df-convert');\n",
              "        buttonEl.style.display =\n",
              "          google.colab.kernel.accessAllowed ? 'block' : 'none';\n",
              "\n",
              "        async function convertToInteractive(key) {\n",
              "          const element = document.querySelector('#df-b5ad18d6-04f7-42be-8b29-454a2c8b949c');\n",
              "          const dataTable =\n",
              "            await google.colab.kernel.invokeFunction('convertToInteractive',\n",
              "                                                     [key], {});\n",
              "          if (!dataTable) return;\n",
              "\n",
              "          const docLinkHtml = 'Like what you see? Visit the ' +\n",
              "            '<a target=\"_blank\" href=https://colab.research.google.com/notebooks/data_table.ipynb>data table notebook</a>'\n",
              "            + ' to learn more about interactive tables.';\n",
              "          element.innerHTML = '';\n",
              "          dataTable['output_type'] = 'display_data';\n",
              "          await google.colab.output.renderOutput(dataTable, element);\n",
              "          const docLink = document.createElement('div');\n",
              "          docLink.innerHTML = docLinkHtml;\n",
              "          element.appendChild(docLink);\n",
              "        }\n",
              "      </script>\n",
              "    </div>\n",
              "  </div>\n",
              "  "
            ]
          },
          "metadata": {},
          "execution_count": 7
        }
      ]
    },
    {
      "cell_type": "code",
      "source": [
        "# Merging Data\n",
        "merge_data = pd.merge(review_sports,meta_sports,on='asin',how='inner')"
      ],
      "metadata": {
        "id": "Wq2_wzXwWVxA"
      },
      "execution_count": null,
      "outputs": []
    },
    {
      "cell_type": "code",
      "source": [
        "# Data Head\n",
        "merge_data.head(2)"
      ],
      "metadata": {
        "colab": {
          "base_uri": "https://localhost:8080/",
          "height": 367
        },
        "outputId": "0cb1d568-b5ed-4f28-9b5c-dddf3ab1849d",
        "id": "7J3o1yj9WVxB"
      },
      "execution_count": null,
      "outputs": [
        {
          "output_type": "execute_result",
          "data": {
            "text/plain": [
              "       reviewerID        asin reviewerName helpful  \\\n",
              "0  A3PMSRCL80KSA1  0000031852          Dee  [0, 0]   \n",
              "1  A1SNLWGLFXD70K  0000031852         DEVA  [0, 0]   \n",
              "\n",
              "                                          reviewText  overall  \\\n",
              "0  Tutus are cute but a little thin. Can't compla...      4.0   \n",
              "1  I origonally didn't get the item I ordered.  W...      4.0   \n",
              "\n",
              "                                             summary  unixReviewTime  \\\n",
              "0                                            Not bad      1388275200   \n",
              "1  Happy with purchase even though it came a lot ...      1392940800   \n",
              "\n",
              "    reviewTime                             title  price  \\\n",
              "0  12 29, 2013  Girls Ballet Tutu Zebra Hot Pink   3.17   \n",
              "1  02 21, 2014  Girls Ballet Tutu Zebra Hot Pink   3.17   \n",
              "\n",
              "                                               imUrl  \\\n",
              "0  http://ecx.images-amazon.com/images/I/51fAmVkT...   \n",
              "1  http://ecx.images-amazon.com/images/I/51fAmVkT...   \n",
              "\n",
              "                                             related     brand  \\\n",
              "0  {'also_bought': ['B00JHONN1S', 'B002BZX8Z6', '...  Coxlures   \n",
              "1  {'also_bought': ['B00JHONN1S', 'B002BZX8Z6', '...  Coxlures   \n",
              "\n",
              "                                   categories                 salesRank  \\\n",
              "0  [[Sports & Outdoors, Other Sports, Dance]]  {'Toys & Games': 211836}   \n",
              "1  [[Sports & Outdoors, Other Sports, Dance]]  {'Toys & Games': 211836}   \n",
              "\n",
              "  description  \n",
              "0        TUtu  \n",
              "1        TUtu  "
            ],
            "text/html": [
              "\n",
              "  <div id=\"df-9828af53-f4b5-4499-a952-649c4f1cd7da\">\n",
              "    <div class=\"colab-df-container\">\n",
              "      <div>\n",
              "<style scoped>\n",
              "    .dataframe tbody tr th:only-of-type {\n",
              "        vertical-align: middle;\n",
              "    }\n",
              "\n",
              "    .dataframe tbody tr th {\n",
              "        vertical-align: top;\n",
              "    }\n",
              "\n",
              "    .dataframe thead th {\n",
              "        text-align: right;\n",
              "    }\n",
              "</style>\n",
              "<table border=\"1\" class=\"dataframe\">\n",
              "  <thead>\n",
              "    <tr style=\"text-align: right;\">\n",
              "      <th></th>\n",
              "      <th>reviewerID</th>\n",
              "      <th>asin</th>\n",
              "      <th>reviewerName</th>\n",
              "      <th>helpful</th>\n",
              "      <th>reviewText</th>\n",
              "      <th>overall</th>\n",
              "      <th>summary</th>\n",
              "      <th>unixReviewTime</th>\n",
              "      <th>reviewTime</th>\n",
              "      <th>title</th>\n",
              "      <th>price</th>\n",
              "      <th>imUrl</th>\n",
              "      <th>related</th>\n",
              "      <th>brand</th>\n",
              "      <th>categories</th>\n",
              "      <th>salesRank</th>\n",
              "      <th>description</th>\n",
              "    </tr>\n",
              "  </thead>\n",
              "  <tbody>\n",
              "    <tr>\n",
              "      <th>0</th>\n",
              "      <td>A3PMSRCL80KSA1</td>\n",
              "      <td>0000031852</td>\n",
              "      <td>Dee</td>\n",
              "      <td>[0, 0]</td>\n",
              "      <td>Tutus are cute but a little thin. Can't compla...</td>\n",
              "      <td>4.0</td>\n",
              "      <td>Not bad</td>\n",
              "      <td>1388275200</td>\n",
              "      <td>12 29, 2013</td>\n",
              "      <td>Girls Ballet Tutu Zebra Hot Pink</td>\n",
              "      <td>3.17</td>\n",
              "      <td>http://ecx.images-amazon.com/images/I/51fAmVkT...</td>\n",
              "      <td>{'also_bought': ['B00JHONN1S', 'B002BZX8Z6', '...</td>\n",
              "      <td>Coxlures</td>\n",
              "      <td>[[Sports &amp; Outdoors, Other Sports, Dance]]</td>\n",
              "      <td>{'Toys &amp; Games': 211836}</td>\n",
              "      <td>TUtu</td>\n",
              "    </tr>\n",
              "    <tr>\n",
              "      <th>1</th>\n",
              "      <td>A1SNLWGLFXD70K</td>\n",
              "      <td>0000031852</td>\n",
              "      <td>DEVA</td>\n",
              "      <td>[0, 0]</td>\n",
              "      <td>I origonally didn't get the item I ordered.  W...</td>\n",
              "      <td>4.0</td>\n",
              "      <td>Happy with purchase even though it came a lot ...</td>\n",
              "      <td>1392940800</td>\n",
              "      <td>02 21, 2014</td>\n",
              "      <td>Girls Ballet Tutu Zebra Hot Pink</td>\n",
              "      <td>3.17</td>\n",
              "      <td>http://ecx.images-amazon.com/images/I/51fAmVkT...</td>\n",
              "      <td>{'also_bought': ['B00JHONN1S', 'B002BZX8Z6', '...</td>\n",
              "      <td>Coxlures</td>\n",
              "      <td>[[Sports &amp; Outdoors, Other Sports, Dance]]</td>\n",
              "      <td>{'Toys &amp; Games': 211836}</td>\n",
              "      <td>TUtu</td>\n",
              "    </tr>\n",
              "  </tbody>\n",
              "</table>\n",
              "</div>\n",
              "      <button class=\"colab-df-convert\" onclick=\"convertToInteractive('df-9828af53-f4b5-4499-a952-649c4f1cd7da')\"\n",
              "              title=\"Convert this dataframe to an interactive table.\"\n",
              "              style=\"display:none;\">\n",
              "        \n",
              "  <svg xmlns=\"http://www.w3.org/2000/svg\" height=\"24px\"viewBox=\"0 0 24 24\"\n",
              "       width=\"24px\">\n",
              "    <path d=\"M0 0h24v24H0V0z\" fill=\"none\"/>\n",
              "    <path d=\"M18.56 5.44l.94 2.06.94-2.06 2.06-.94-2.06-.94-.94-2.06-.94 2.06-2.06.94zm-11 1L8.5 8.5l.94-2.06 2.06-.94-2.06-.94L8.5 2.5l-.94 2.06-2.06.94zm10 10l.94 2.06.94-2.06 2.06-.94-2.06-.94-.94-2.06-.94 2.06-2.06.94z\"/><path d=\"M17.41 7.96l-1.37-1.37c-.4-.4-.92-.59-1.43-.59-.52 0-1.04.2-1.43.59L10.3 9.45l-7.72 7.72c-.78.78-.78 2.05 0 2.83L4 21.41c.39.39.9.59 1.41.59.51 0 1.02-.2 1.41-.59l7.78-7.78 2.81-2.81c.8-.78.8-2.07 0-2.86zM5.41 20L4 18.59l7.72-7.72 1.47 1.35L5.41 20z\"/>\n",
              "  </svg>\n",
              "      </button>\n",
              "      \n",
              "  <style>\n",
              "    .colab-df-container {\n",
              "      display:flex;\n",
              "      flex-wrap:wrap;\n",
              "      gap: 12px;\n",
              "    }\n",
              "\n",
              "    .colab-df-convert {\n",
              "      background-color: #E8F0FE;\n",
              "      border: none;\n",
              "      border-radius: 50%;\n",
              "      cursor: pointer;\n",
              "      display: none;\n",
              "      fill: #1967D2;\n",
              "      height: 32px;\n",
              "      padding: 0 0 0 0;\n",
              "      width: 32px;\n",
              "    }\n",
              "\n",
              "    .colab-df-convert:hover {\n",
              "      background-color: #E2EBFA;\n",
              "      box-shadow: 0px 1px 2px rgba(60, 64, 67, 0.3), 0px 1px 3px 1px rgba(60, 64, 67, 0.15);\n",
              "      fill: #174EA6;\n",
              "    }\n",
              "\n",
              "    [theme=dark] .colab-df-convert {\n",
              "      background-color: #3B4455;\n",
              "      fill: #D2E3FC;\n",
              "    }\n",
              "\n",
              "    [theme=dark] .colab-df-convert:hover {\n",
              "      background-color: #434B5C;\n",
              "      box-shadow: 0px 1px 3px 1px rgba(0, 0, 0, 0.15);\n",
              "      filter: drop-shadow(0px 1px 2px rgba(0, 0, 0, 0.3));\n",
              "      fill: #FFFFFF;\n",
              "    }\n",
              "  </style>\n",
              "\n",
              "      <script>\n",
              "        const buttonEl =\n",
              "          document.querySelector('#df-9828af53-f4b5-4499-a952-649c4f1cd7da button.colab-df-convert');\n",
              "        buttonEl.style.display =\n",
              "          google.colab.kernel.accessAllowed ? 'block' : 'none';\n",
              "\n",
              "        async function convertToInteractive(key) {\n",
              "          const element = document.querySelector('#df-9828af53-f4b5-4499-a952-649c4f1cd7da');\n",
              "          const dataTable =\n",
              "            await google.colab.kernel.invokeFunction('convertToInteractive',\n",
              "                                                     [key], {});\n",
              "          if (!dataTable) return;\n",
              "\n",
              "          const docLinkHtml = 'Like what you see? Visit the ' +\n",
              "            '<a target=\"_blank\" href=https://colab.research.google.com/notebooks/data_table.ipynb>data table notebook</a>'\n",
              "            + ' to learn more about interactive tables.';\n",
              "          element.innerHTML = '';\n",
              "          dataTable['output_type'] = 'display_data';\n",
              "          await google.colab.output.renderOutput(dataTable, element);\n",
              "          const docLink = document.createElement('div');\n",
              "          docLink.innerHTML = docLinkHtml;\n",
              "          element.appendChild(docLink);\n",
              "        }\n",
              "      </script>\n",
              "    </div>\n",
              "  </div>\n",
              "  "
            ]
          },
          "metadata": {},
          "execution_count": 9
        }
      ]
    },
    {
      "cell_type": "code",
      "source": [
        "# Converting Date Format\n",
        "merge_data['reviewTime'] = pd.to_datetime(merge_data['reviewTime'])"
      ],
      "metadata": {
        "id": "khKyOlkPWVxD"
      },
      "execution_count": null,
      "outputs": []
    },
    {
      "cell_type": "code",
      "source": [
        "# Sorting the Data on Time Frame\n",
        "merge_data = merge_data.sort_values('reviewTime')"
      ],
      "metadata": {
        "id": "pDaAeaeUua1g"
      },
      "execution_count": null,
      "outputs": []
    },
    {
      "cell_type": "code",
      "source": [
        "# Setting Review Date as Index\n",
        "merge_data = merge_data.set_index(merge_data['reviewTime'])"
      ],
      "metadata": {
        "id": "bGKtNXoeu5u5"
      },
      "execution_count": null,
      "outputs": []
    },
    {
      "cell_type": "code",
      "execution_count": null,
      "metadata": {
        "colab": {
          "base_uri": "https://localhost:8080/"
        },
        "id": "aYV_Kks3nD9u",
        "outputId": "29b55ee9-337a-4c55-82af-0c983f0d25ea"
      },
      "outputs": [
        {
          "output_type": "execute_result",
          "data": {
            "text/plain": [
              "reviewerID              0\n",
              "asin                    0\n",
              "reviewerName        13957\n",
              "helpful                 0\n",
              "reviewText              0\n",
              "overall                 0\n",
              "summary                 0\n",
              "unixReviewTime          0\n",
              "reviewTime              0\n",
              "title               29103\n",
              "price              958649\n",
              "imUrl                7744\n",
              "related            230249\n",
              "brand             1554499\n",
              "categories              0\n",
              "salesRank          386367\n",
              "description        561692\n",
              "dtype: int64"
            ]
          },
          "metadata": {},
          "execution_count": 12
        }
      ],
      "source": [
        "# Checking Null Values\n",
        "merge_data.isnull().sum()"
      ]
    },
    {
      "cell_type": "code",
      "execution_count": null,
      "metadata": {
        "colab": {
          "base_uri": "https://localhost:8080/"
        },
        "id": "NFeDjHhpnEI0",
        "outputId": "f4e333f9-496d-4486-eb5f-560565a9aee3"
      },
      "outputs": [
        {
          "output_type": "execute_result",
          "data": {
            "text/plain": [
              "(3268695, 17)"
            ]
          },
          "metadata": {},
          "execution_count": 13
        }
      ],
      "source": [
        "# Data Shape\n",
        "merge_data.shape"
      ]
    },
    {
      "cell_type": "code",
      "execution_count": null,
      "metadata": {
        "id": "x8DnJ3P7D8uz"
      },
      "outputs": [],
      "source": [
        "# Converting Categories Nested List into List\n",
        "merge_data['categories'] = [i[0] for i in merge_data['categories']]"
      ]
    },
    {
      "cell_type": "code",
      "execution_count": null,
      "metadata": {
        "id": "gsf85HP0gO5K"
      },
      "outputs": [],
      "source": [
        "# Converting Rating Float to Int\n",
        "merge_data['overall'] = merge_data['overall'].astype('int')"
      ]
    },
    {
      "cell_type": "code",
      "execution_count": null,
      "metadata": {
        "colab": {
          "base_uri": "https://localhost:8080/"
        },
        "id": "of6ppVPpgV0z",
        "outputId": "4af2ee52-473c-4c5a-efc7-5e4b71542fad"
      },
      "outputs": [
        {
          "output_type": "stream",
          "name": "stdout",
          "text": [
            "<class 'pandas.core.frame.DataFrame'>\n",
            "DatetimeIndex: 3268695 entries, 1998-08-03 to 2014-07-23\n",
            "Data columns (total 17 columns):\n",
            " #   Column          Dtype         \n",
            "---  ------          -----         \n",
            " 0   reviewerID      object        \n",
            " 1   asin            object        \n",
            " 2   reviewerName    object        \n",
            " 3   helpful         object        \n",
            " 4   reviewText      object        \n",
            " 5   overall         int64         \n",
            " 6   summary         object        \n",
            " 7   unixReviewTime  int64         \n",
            " 8   reviewTime      datetime64[ns]\n",
            " 9   title           object        \n",
            " 10  price           float64       \n",
            " 11  imUrl           object        \n",
            " 12  related         object        \n",
            " 13  brand           object        \n",
            " 14  categories      object        \n",
            " 15  salesRank       object        \n",
            " 16  description     object        \n",
            "dtypes: datetime64[ns](1), float64(1), int64(2), object(13)\n",
            "memory usage: 448.9+ MB\n"
          ]
        }
      ],
      "source": [
        "# Info\n",
        "merge_data.info()"
      ]
    },
    {
      "cell_type": "code",
      "execution_count": null,
      "metadata": {
        "id": "xMQD70uYkWY0"
      },
      "outputs": [],
      "source": [
        "# Filtering the Records based on Good or Bad\n",
        "merge_data.insert(6,'sentiment',np.nan)"
      ]
    },
    {
      "cell_type": "code",
      "source": [
        "# Adding Sentiment Columns\n",
        "lst = []\n",
        "for i in merge_data['overall']:\n",
        "  if i > 3:\n",
        "    lst.append('Positive')\n",
        "  elif i == 3:\n",
        "    lst.append('Neutral')\n",
        "  else:\n",
        "    lst.append('Negative')\n",
        "\n",
        "merge_data['sentiment'] = lst"
      ],
      "metadata": {
        "id": "CkG4vdcdfeJD"
      },
      "execution_count": null,
      "outputs": []
    },
    {
      "cell_type": "code",
      "execution_count": null,
      "metadata": {
        "id": "JKSm5QS_iP2B"
      },
      "outputs": [],
      "source": [
        "# Filtering the Records based on Helpful or Not\n",
        "merge_data.insert(4,'help_per',np.nan)"
      ]
    },
    {
      "cell_type": "code",
      "execution_count": null,
      "metadata": {
        "id": "YAtahi7WxBmf"
      },
      "outputs": [],
      "source": [
        "# Adding Values to the Columns helpful percentage\n",
        "merge_data['help_per'] = [0 if i[1]==0 else round(i[0]/i[1]*100,2) for i in merge_data['helpful']]"
      ]
    },
    {
      "cell_type": "code",
      "execution_count": null,
      "metadata": {
        "colab": {
          "base_uri": "https://localhost:8080/"
        },
        "id": "WY0kPnrnucPH",
        "outputId": "706b76e2-26c5-471c-f077-2e38ca38baa1"
      },
      "outputs": [
        {
          "output_type": "execute_result",
          "data": {
            "text/plain": [
              "Index(['reviewerID', 'asin', 'reviewerName', 'helpful', 'help_per',\n",
              "       'reviewText', 'overall', 'sentiment', 'summary', 'unixReviewTime',\n",
              "       'reviewTime', 'title', 'price', 'imUrl', 'related', 'brand',\n",
              "       'categories', 'salesRank', 'description'],\n",
              "      dtype='object')"
            ]
          },
          "metadata": {},
          "execution_count": 21
        }
      ],
      "source": [
        "# Columns\n",
        "merge_data.columns"
      ]
    },
    {
      "cell_type": "code",
      "execution_count": null,
      "metadata": {
        "colab": {
          "base_uri": "https://localhost:8080/",
          "height": 300
        },
        "id": "5koUg67IucUF",
        "outputId": "9a2706cc-3a80-44cb-dee3-b40176476614"
      },
      "outputs": [
        {
          "output_type": "execute_result",
          "data": {
            "text/plain": [
              "           help_per       overall  unixReviewTime         price\n",
              "count  3.268695e+06  3.268695e+06    3.268695e+06  2.310046e+06\n",
              "mean   2.975344e+01  4.174684e+00    1.356640e+09  5.327670e+01\n",
              "std    4.313362e+01  1.239174e+00    4.888327e+07  8.402762e+01\n",
              "min    0.000000e+00  1.000000e+00    9.021024e+08  1.000000e-02\n",
              "25%    0.000000e+00  4.000000e+00    1.343261e+09  1.303000e+01\n",
              "50%    0.000000e+00  5.000000e+00    1.370736e+09  2.559000e+01\n",
              "75%    8.000000e+01  5.000000e+00    1.389744e+09  5.734000e+01\n",
              "max    1.000000e+02  5.000000e+00    1.406074e+09  9.999900e+02"
            ],
            "text/html": [
              "\n",
              "  <div id=\"df-00945676-c1d2-4d7b-b850-6b78f08b8484\">\n",
              "    <div class=\"colab-df-container\">\n",
              "      <div>\n",
              "<style scoped>\n",
              "    .dataframe tbody tr th:only-of-type {\n",
              "        vertical-align: middle;\n",
              "    }\n",
              "\n",
              "    .dataframe tbody tr th {\n",
              "        vertical-align: top;\n",
              "    }\n",
              "\n",
              "    .dataframe thead th {\n",
              "        text-align: right;\n",
              "    }\n",
              "</style>\n",
              "<table border=\"1\" class=\"dataframe\">\n",
              "  <thead>\n",
              "    <tr style=\"text-align: right;\">\n",
              "      <th></th>\n",
              "      <th>help_per</th>\n",
              "      <th>overall</th>\n",
              "      <th>unixReviewTime</th>\n",
              "      <th>price</th>\n",
              "    </tr>\n",
              "  </thead>\n",
              "  <tbody>\n",
              "    <tr>\n",
              "      <th>count</th>\n",
              "      <td>3.268695e+06</td>\n",
              "      <td>3.268695e+06</td>\n",
              "      <td>3.268695e+06</td>\n",
              "      <td>2.310046e+06</td>\n",
              "    </tr>\n",
              "    <tr>\n",
              "      <th>mean</th>\n",
              "      <td>2.975344e+01</td>\n",
              "      <td>4.174684e+00</td>\n",
              "      <td>1.356640e+09</td>\n",
              "      <td>5.327670e+01</td>\n",
              "    </tr>\n",
              "    <tr>\n",
              "      <th>std</th>\n",
              "      <td>4.313362e+01</td>\n",
              "      <td>1.239174e+00</td>\n",
              "      <td>4.888327e+07</td>\n",
              "      <td>8.402762e+01</td>\n",
              "    </tr>\n",
              "    <tr>\n",
              "      <th>min</th>\n",
              "      <td>0.000000e+00</td>\n",
              "      <td>1.000000e+00</td>\n",
              "      <td>9.021024e+08</td>\n",
              "      <td>1.000000e-02</td>\n",
              "    </tr>\n",
              "    <tr>\n",
              "      <th>25%</th>\n",
              "      <td>0.000000e+00</td>\n",
              "      <td>4.000000e+00</td>\n",
              "      <td>1.343261e+09</td>\n",
              "      <td>1.303000e+01</td>\n",
              "    </tr>\n",
              "    <tr>\n",
              "      <th>50%</th>\n",
              "      <td>0.000000e+00</td>\n",
              "      <td>5.000000e+00</td>\n",
              "      <td>1.370736e+09</td>\n",
              "      <td>2.559000e+01</td>\n",
              "    </tr>\n",
              "    <tr>\n",
              "      <th>75%</th>\n",
              "      <td>8.000000e+01</td>\n",
              "      <td>5.000000e+00</td>\n",
              "      <td>1.389744e+09</td>\n",
              "      <td>5.734000e+01</td>\n",
              "    </tr>\n",
              "    <tr>\n",
              "      <th>max</th>\n",
              "      <td>1.000000e+02</td>\n",
              "      <td>5.000000e+00</td>\n",
              "      <td>1.406074e+09</td>\n",
              "      <td>9.999900e+02</td>\n",
              "    </tr>\n",
              "  </tbody>\n",
              "</table>\n",
              "</div>\n",
              "      <button class=\"colab-df-convert\" onclick=\"convertToInteractive('df-00945676-c1d2-4d7b-b850-6b78f08b8484')\"\n",
              "              title=\"Convert this dataframe to an interactive table.\"\n",
              "              style=\"display:none;\">\n",
              "        \n",
              "  <svg xmlns=\"http://www.w3.org/2000/svg\" height=\"24px\"viewBox=\"0 0 24 24\"\n",
              "       width=\"24px\">\n",
              "    <path d=\"M0 0h24v24H0V0z\" fill=\"none\"/>\n",
              "    <path d=\"M18.56 5.44l.94 2.06.94-2.06 2.06-.94-2.06-.94-.94-2.06-.94 2.06-2.06.94zm-11 1L8.5 8.5l.94-2.06 2.06-.94-2.06-.94L8.5 2.5l-.94 2.06-2.06.94zm10 10l.94 2.06.94-2.06 2.06-.94-2.06-.94-.94-2.06-.94 2.06-2.06.94z\"/><path d=\"M17.41 7.96l-1.37-1.37c-.4-.4-.92-.59-1.43-.59-.52 0-1.04.2-1.43.59L10.3 9.45l-7.72 7.72c-.78.78-.78 2.05 0 2.83L4 21.41c.39.39.9.59 1.41.59.51 0 1.02-.2 1.41-.59l7.78-7.78 2.81-2.81c.8-.78.8-2.07 0-2.86zM5.41 20L4 18.59l7.72-7.72 1.47 1.35L5.41 20z\"/>\n",
              "  </svg>\n",
              "      </button>\n",
              "      \n",
              "  <style>\n",
              "    .colab-df-container {\n",
              "      display:flex;\n",
              "      flex-wrap:wrap;\n",
              "      gap: 12px;\n",
              "    }\n",
              "\n",
              "    .colab-df-convert {\n",
              "      background-color: #E8F0FE;\n",
              "      border: none;\n",
              "      border-radius: 50%;\n",
              "      cursor: pointer;\n",
              "      display: none;\n",
              "      fill: #1967D2;\n",
              "      height: 32px;\n",
              "      padding: 0 0 0 0;\n",
              "      width: 32px;\n",
              "    }\n",
              "\n",
              "    .colab-df-convert:hover {\n",
              "      background-color: #E2EBFA;\n",
              "      box-shadow: 0px 1px 2px rgba(60, 64, 67, 0.3), 0px 1px 3px 1px rgba(60, 64, 67, 0.15);\n",
              "      fill: #174EA6;\n",
              "    }\n",
              "\n",
              "    [theme=dark] .colab-df-convert {\n",
              "      background-color: #3B4455;\n",
              "      fill: #D2E3FC;\n",
              "    }\n",
              "\n",
              "    [theme=dark] .colab-df-convert:hover {\n",
              "      background-color: #434B5C;\n",
              "      box-shadow: 0px 1px 3px 1px rgba(0, 0, 0, 0.15);\n",
              "      filter: drop-shadow(0px 1px 2px rgba(0, 0, 0, 0.3));\n",
              "      fill: #FFFFFF;\n",
              "    }\n",
              "  </style>\n",
              "\n",
              "      <script>\n",
              "        const buttonEl =\n",
              "          document.querySelector('#df-00945676-c1d2-4d7b-b850-6b78f08b8484 button.colab-df-convert');\n",
              "        buttonEl.style.display =\n",
              "          google.colab.kernel.accessAllowed ? 'block' : 'none';\n",
              "\n",
              "        async function convertToInteractive(key) {\n",
              "          const element = document.querySelector('#df-00945676-c1d2-4d7b-b850-6b78f08b8484');\n",
              "          const dataTable =\n",
              "            await google.colab.kernel.invokeFunction('convertToInteractive',\n",
              "                                                     [key], {});\n",
              "          if (!dataTable) return;\n",
              "\n",
              "          const docLinkHtml = 'Like what you see? Visit the ' +\n",
              "            '<a target=\"_blank\" href=https://colab.research.google.com/notebooks/data_table.ipynb>data table notebook</a>'\n",
              "            + ' to learn more about interactive tables.';\n",
              "          element.innerHTML = '';\n",
              "          dataTable['output_type'] = 'display_data';\n",
              "          await google.colab.output.renderOutput(dataTable, element);\n",
              "          const docLink = document.createElement('div');\n",
              "          docLink.innerHTML = docLinkHtml;\n",
              "          element.appendChild(docLink);\n",
              "        }\n",
              "      </script>\n",
              "    </div>\n",
              "  </div>\n",
              "  "
            ]
          },
          "metadata": {},
          "execution_count": 22
        }
      ],
      "source": [
        "# Describe\n",
        "merge_data.describe()"
      ]
    },
    {
      "cell_type": "code",
      "execution_count": null,
      "metadata": {
        "colab": {
          "base_uri": "https://localhost:8080/"
        },
        "id": "tM6DkYwfCVxi",
        "outputId": "31d8b6aa-7f05-44ff-aefa-0eedeff81aa4"
      },
      "outputs": [
        {
          "output_type": "stream",
          "name": "stdout",
          "text": [
            "<class 'pandas.core.frame.DataFrame'>\n",
            "DatetimeIndex: 3268695 entries, 1998-08-03 to 2014-07-23\n",
            "Data columns (total 19 columns):\n",
            " #   Column          Dtype         \n",
            "---  ------          -----         \n",
            " 0   reviewerID      object        \n",
            " 1   asin            object        \n",
            " 2   reviewerName    object        \n",
            " 3   helpful         object        \n",
            " 4   help_per        float64       \n",
            " 5   reviewText      object        \n",
            " 6   overall         int64         \n",
            " 7   sentiment       object        \n",
            " 8   summary         object        \n",
            " 9   unixReviewTime  int64         \n",
            " 10  reviewTime      datetime64[ns]\n",
            " 11  title           object        \n",
            " 12  price           float64       \n",
            " 13  imUrl           object        \n",
            " 14  related         object        \n",
            " 15  brand           object        \n",
            " 16  categories      object        \n",
            " 17  salesRank       object        \n",
            " 18  description     object        \n",
            "dtypes: datetime64[ns](1), float64(2), int64(2), object(14)\n",
            "memory usage: 498.8+ MB\n"
          ]
        }
      ],
      "source": [
        "# Info\n",
        "merge_data.info()"
      ]
    },
    {
      "cell_type": "code",
      "source": [
        "# Shape\n",
        "merge_data.shape"
      ],
      "metadata": {
        "colab": {
          "base_uri": "https://localhost:8080/"
        },
        "id": "6GuhJ-Lcgax4",
        "outputId": "dbf3349f-4842-4b96-fd6b-8d42cb9b749e"
      },
      "execution_count": null,
      "outputs": [
        {
          "output_type": "execute_result",
          "data": {
            "text/plain": [
              "(3268695, 19)"
            ]
          },
          "metadata": {},
          "execution_count": 25
        }
      ]
    },
    {
      "cell_type": "code",
      "source": [
        "# Copying Data Frame\n",
        "data = merge_data.copy()"
      ],
      "metadata": {
        "id": "QEfGheeigzIn"
      },
      "execution_count": null,
      "outputs": []
    },
    {
      "cell_type": "code",
      "source": [
        "# Dropping Null Values\n",
        "merge_data.dropna(inplace=True)"
      ],
      "metadata": {
        "id": "3-6Cu3qIhGOt"
      },
      "execution_count": null,
      "outputs": []
    },
    {
      "cell_type": "code",
      "source": [
        "# Data Shape \n",
        "merge_data.shape"
      ],
      "metadata": {
        "colab": {
          "base_uri": "https://localhost:8080/"
        },
        "id": "mZlgbqcqg9TH",
        "outputId": "93e6fa61-b455-4e3d-8858-e4e42271359e"
      },
      "execution_count": null,
      "outputs": [
        {
          "output_type": "execute_result",
          "data": {
            "text/plain": [
              "(1278568, 19)"
            ]
          },
          "metadata": {},
          "execution_count": 27
        }
      ]
    },
    {
      "cell_type": "code",
      "source": [
        "# Null Values Check\n",
        "merge_data.isnull().sum()"
      ],
      "metadata": {
        "colab": {
          "base_uri": "https://localhost:8080/"
        },
        "id": "v4_cKQQAhwvZ",
        "outputId": "1851fe3c-80fe-4dd3-c234-906474deae5d"
      },
      "execution_count": null,
      "outputs": [
        {
          "output_type": "execute_result",
          "data": {
            "text/plain": [
              "reviewerID        0\n",
              "asin              0\n",
              "reviewerName      0\n",
              "helpful           0\n",
              "help_per          0\n",
              "reviewText        0\n",
              "overall           0\n",
              "sentiment         0\n",
              "summary           0\n",
              "unixReviewTime    0\n",
              "reviewTime        0\n",
              "title             0\n",
              "price             0\n",
              "imUrl             0\n",
              "related           0\n",
              "brand             0\n",
              "categories        0\n",
              "salesRank         0\n",
              "description       0\n",
              "dtype: int64"
            ]
          },
          "metadata": {},
          "execution_count": 28
        }
      ]
    },
    {
      "cell_type": "markdown",
      "source": [
        "# NLP Text Classification"
      ],
      "metadata": {
        "id": "8Q8PZ34yVLYF"
      }
    },
    {
      "cell_type": "code",
      "source": [
        "# Sampling Data\n",
        "group_s=merge_data.groupby([\"sentiment\"])\n",
        "sentiments=merge_data.sentiment.unique()\n",
        "sample_df=pd.DataFrame()\n",
        "for s in sentiments:\n",
        "  s_data=group_s.get_group(s)\n",
        "  sample_data=s_data.sample(frac=0.4,random_state=42)\n",
        "  sample_df=sample_df.append(sample_data,ignore_index=True)"
      ],
      "metadata": {
        "id": "yBN3qCpiznh9"
      },
      "execution_count": null,
      "outputs": []
    },
    {
      "cell_type": "code",
      "source": [
        "# COnverting Data to CSV\n",
        "sample_df.to_csv('/content/drive/MyDrive/Data Files/nlp_data_sports.csv')"
      ],
      "metadata": {
        "id": "4HyhPfFHET9x"
      },
      "execution_count": null,
      "outputs": []
    },
    {
      "cell_type": "code",
      "source": [
        "# Reading Data \n",
        "sample_df = pd.read_csv('/content/drive/MyDrive/Data Files/nlp_data_sports.csv')"
      ],
      "metadata": {
        "id": "MG79BxHsFMC5"
      },
      "execution_count": null,
      "outputs": []
    },
    {
      "cell_type": "code",
      "source": [
        "# Data Shape of Sampled Data\n",
        "sample_df.shape"
      ],
      "metadata": {
        "colab": {
          "base_uri": "https://localhost:8080/"
        },
        "id": "vQ9Aspt2z1PL",
        "outputId": "a1b611c3-8e54-46e4-8f2a-025b6feb1968"
      },
      "execution_count": null,
      "outputs": [
        {
          "output_type": "execute_result",
          "data": {
            "text/plain": [
              "(511427, 20)"
            ]
          },
          "metadata": {},
          "execution_count": 6
        }
      ]
    },
    {
      "cell_type": "code",
      "source": [
        "data_1 = pd.DataFrame()\n",
        "data_1[\"review\"]=sample_df[\"reviewText\"]\n",
        "data_1[\"sentiment\"]=sample_df[\"sentiment\"]"
      ],
      "metadata": {
        "id": "rAdzPTAU7f7O"
      },
      "execution_count": null,
      "outputs": []
    },
    {
      "cell_type": "code",
      "source": [
        "# Displaying Data Frame\n",
        "with option_context('display.max_colwidth',200):\n",
        "    display(data_1.head(5))"
      ],
      "metadata": {
        "colab": {
          "base_uri": "https://localhost:8080/",
          "height": 206
        },
        "id": "IJ5l9WT8DXkR",
        "outputId": "aff28a18-3403-43fc-b219-9a0a9c475ce0"
      },
      "execution_count": null,
      "outputs": [
        {
          "output_type": "display_data",
          "data": {
            "text/plain": [
              "                                                                                                                                                                                                    review  \\\n",
              "0  Cast iron is the way to go. What's not to like? It doesn't release toxic chemicals on high heat (like teflon does), makes its own nonstick surface if you treat and maintain it properly, AND it can...   \n",
              "1                                                                                         It was well packaged, came on time. Really neat item, better than I initially ecpected, it will be a great gift.   \n",
              "2  Well built.  Feels solid in the hand.  My only complaint is the holster.  Cannot rotate the holster ninety degrees for better removal for my wife.  She is small (4'-11&#34;) and must be able to ro...   \n",
              "3                                                       Great quality product that does what it was made to do.  Fits great, looks great and works great.  All at a reasonable price.  Highly recommended.   \n",
              "4  If you are a NCIS fan, this is the same knife as Special Agent Gibbs carries and featured in several episodes. It is also one great knife. It opens faster than most switchblades and the shape of t...   \n",
              "\n",
              "  sentiment  \n",
              "0  Positive  \n",
              "1  Positive  \n",
              "2  Positive  \n",
              "3  Positive  \n",
              "4  Positive  "
            ],
            "text/html": [
              "\n",
              "  <div id=\"df-d974285a-4b0e-40df-81ac-b8c7e9a43b90\">\n",
              "    <div class=\"colab-df-container\">\n",
              "      <div>\n",
              "<style scoped>\n",
              "    .dataframe tbody tr th:only-of-type {\n",
              "        vertical-align: middle;\n",
              "    }\n",
              "\n",
              "    .dataframe tbody tr th {\n",
              "        vertical-align: top;\n",
              "    }\n",
              "\n",
              "    .dataframe thead th {\n",
              "        text-align: right;\n",
              "    }\n",
              "</style>\n",
              "<table border=\"1\" class=\"dataframe\">\n",
              "  <thead>\n",
              "    <tr style=\"text-align: right;\">\n",
              "      <th></th>\n",
              "      <th>review</th>\n",
              "      <th>sentiment</th>\n",
              "    </tr>\n",
              "  </thead>\n",
              "  <tbody>\n",
              "    <tr>\n",
              "      <th>0</th>\n",
              "      <td>Cast iron is the way to go. What's not to like? It doesn't release toxic chemicals on high heat (like teflon does), makes its own nonstick surface if you treat and maintain it properly, AND it can...</td>\n",
              "      <td>Positive</td>\n",
              "    </tr>\n",
              "    <tr>\n",
              "      <th>1</th>\n",
              "      <td>It was well packaged, came on time. Really neat item, better than I initially ecpected, it will be a great gift.</td>\n",
              "      <td>Positive</td>\n",
              "    </tr>\n",
              "    <tr>\n",
              "      <th>2</th>\n",
              "      <td>Well built.  Feels solid in the hand.  My only complaint is the holster.  Cannot rotate the holster ninety degrees for better removal for my wife.  She is small (4'-11&amp;#34;) and must be able to ro...</td>\n",
              "      <td>Positive</td>\n",
              "    </tr>\n",
              "    <tr>\n",
              "      <th>3</th>\n",
              "      <td>Great quality product that does what it was made to do.  Fits great, looks great and works great.  All at a reasonable price.  Highly recommended.</td>\n",
              "      <td>Positive</td>\n",
              "    </tr>\n",
              "    <tr>\n",
              "      <th>4</th>\n",
              "      <td>If you are a NCIS fan, this is the same knife as Special Agent Gibbs carries and featured in several episodes. It is also one great knife. It opens faster than most switchblades and the shape of t...</td>\n",
              "      <td>Positive</td>\n",
              "    </tr>\n",
              "  </tbody>\n",
              "</table>\n",
              "</div>\n",
              "      <button class=\"colab-df-convert\" onclick=\"convertToInteractive('df-d974285a-4b0e-40df-81ac-b8c7e9a43b90')\"\n",
              "              title=\"Convert this dataframe to an interactive table.\"\n",
              "              style=\"display:none;\">\n",
              "        \n",
              "  <svg xmlns=\"http://www.w3.org/2000/svg\" height=\"24px\"viewBox=\"0 0 24 24\"\n",
              "       width=\"24px\">\n",
              "    <path d=\"M0 0h24v24H0V0z\" fill=\"none\"/>\n",
              "    <path d=\"M18.56 5.44l.94 2.06.94-2.06 2.06-.94-2.06-.94-.94-2.06-.94 2.06-2.06.94zm-11 1L8.5 8.5l.94-2.06 2.06-.94-2.06-.94L8.5 2.5l-.94 2.06-2.06.94zm10 10l.94 2.06.94-2.06 2.06-.94-2.06-.94-.94-2.06-.94 2.06-2.06.94z\"/><path d=\"M17.41 7.96l-1.37-1.37c-.4-.4-.92-.59-1.43-.59-.52 0-1.04.2-1.43.59L10.3 9.45l-7.72 7.72c-.78.78-.78 2.05 0 2.83L4 21.41c.39.39.9.59 1.41.59.51 0 1.02-.2 1.41-.59l7.78-7.78 2.81-2.81c.8-.78.8-2.07 0-2.86zM5.41 20L4 18.59l7.72-7.72 1.47 1.35L5.41 20z\"/>\n",
              "  </svg>\n",
              "      </button>\n",
              "      \n",
              "  <style>\n",
              "    .colab-df-container {\n",
              "      display:flex;\n",
              "      flex-wrap:wrap;\n",
              "      gap: 12px;\n",
              "    }\n",
              "\n",
              "    .colab-df-convert {\n",
              "      background-color: #E8F0FE;\n",
              "      border: none;\n",
              "      border-radius: 50%;\n",
              "      cursor: pointer;\n",
              "      display: none;\n",
              "      fill: #1967D2;\n",
              "      height: 32px;\n",
              "      padding: 0 0 0 0;\n",
              "      width: 32px;\n",
              "    }\n",
              "\n",
              "    .colab-df-convert:hover {\n",
              "      background-color: #E2EBFA;\n",
              "      box-shadow: 0px 1px 2px rgba(60, 64, 67, 0.3), 0px 1px 3px 1px rgba(60, 64, 67, 0.15);\n",
              "      fill: #174EA6;\n",
              "    }\n",
              "\n",
              "    [theme=dark] .colab-df-convert {\n",
              "      background-color: #3B4455;\n",
              "      fill: #D2E3FC;\n",
              "    }\n",
              "\n",
              "    [theme=dark] .colab-df-convert:hover {\n",
              "      background-color: #434B5C;\n",
              "      box-shadow: 0px 1px 3px 1px rgba(0, 0, 0, 0.15);\n",
              "      filter: drop-shadow(0px 1px 2px rgba(0, 0, 0, 0.3));\n",
              "      fill: #FFFFFF;\n",
              "    }\n",
              "  </style>\n",
              "\n",
              "      <script>\n",
              "        const buttonEl =\n",
              "          document.querySelector('#df-d974285a-4b0e-40df-81ac-b8c7e9a43b90 button.colab-df-convert');\n",
              "        buttonEl.style.display =\n",
              "          google.colab.kernel.accessAllowed ? 'block' : 'none';\n",
              "\n",
              "        async function convertToInteractive(key) {\n",
              "          const element = document.querySelector('#df-d974285a-4b0e-40df-81ac-b8c7e9a43b90');\n",
              "          const dataTable =\n",
              "            await google.colab.kernel.invokeFunction('convertToInteractive',\n",
              "                                                     [key], {});\n",
              "          if (!dataTable) return;\n",
              "\n",
              "          const docLinkHtml = 'Like what you see? Visit the ' +\n",
              "            '<a target=\"_blank\" href=https://colab.research.google.com/notebooks/data_table.ipynb>data table notebook</a>'\n",
              "            + ' to learn more about interactive tables.';\n",
              "          element.innerHTML = '';\n",
              "          dataTable['output_type'] = 'display_data';\n",
              "          await google.colab.output.renderOutput(dataTable, element);\n",
              "          const docLink = document.createElement('div');\n",
              "          docLink.innerHTML = docLinkHtml;\n",
              "          element.appendChild(docLink);\n",
              "        }\n",
              "      </script>\n",
              "    </div>\n",
              "  </div>\n",
              "  "
            ]
          },
          "metadata": {}
        }
      ]
    },
    {
      "cell_type": "code",
      "source": [
        "# Defining Function for Cleaning\n",
        "def cleaning(text):\n",
        "    '''Make text lowercase, remove text in square brackets,remove links,remove punctuation\n",
        "    and remove words containing numbers.'''\n",
        "    text = str(text).lower()\n",
        "    text = re.sub('\\[.*?\\]', '', text)\n",
        "    text = re.sub('https?://\\S+|www\\.\\S+', '', text)\n",
        "    text = re.sub('<.*?>+', '', text)\n",
        "    text = re.sub('[%s]' % re.escape(string.punctuation), '', text)\n",
        "    text = re.sub('\\n', '', text)\n",
        "    text = re.sub('\\w*\\d\\w*', '', text)\n",
        "    return text"
      ],
      "metadata": {
        "id": "NPjM-ERyDbs8"
      },
      "execution_count": null,
      "outputs": []
    },
    {
      "cell_type": "code",
      "source": [
        "# Cleaning of Data\n",
        "data_1['cleaned_review']=data_1['review'].apply(cleaning)\n",
        "data_1['cleaned_review']"
      ],
      "metadata": {
        "colab": {
          "base_uri": "https://localhost:8080/"
        },
        "id": "A0dmH_N1EXNs",
        "outputId": "8ec2f254-763a-40ac-cc53-6bf7572cfc6e"
      },
      "execution_count": null,
      "outputs": [
        {
          "output_type": "execute_result",
          "data": {
            "text/plain": [
              "0         cast iron is the way to go whats not to like i...\n",
              "1         it was well packaged came on time really neat ...\n",
              "2         well built  feels solid in the hand  my only c...\n",
              "3         great quality product that does what it was ma...\n",
              "4         if you are a ncis fan this is the same knife a...\n",
              "                                ...                        \n",
              "511422    the grip should sell for a lot cheaper doesnt ...\n",
              "511423    this racket has a very tacky surface but is re...\n",
              "511424    i picked these up when i started reloading to ...\n",
              "511425    this boat is for pool use only  it did not hol...\n",
              "511426    does work fine to charge two batteries at  amp...\n",
              "Name: cleaned_review, Length: 511427, dtype: object"
            ]
          },
          "metadata": {},
          "execution_count": 10
        }
      ]
    },
    {
      "cell_type": "code",
      "source": [
        "# Stopwords Treatment\n",
        "import nltk\n",
        "nltk.download(\"stopwords\")\n",
        "from nltk.corpus import stopwords"
      ],
      "metadata": {
        "colab": {
          "base_uri": "https://localhost:8080/"
        },
        "id": "Poz3LRN9EulH",
        "outputId": "5a266272-1e40-4bc5-9fc7-2f4b69a490d5"
      },
      "execution_count": null,
      "outputs": [
        {
          "output_type": "stream",
          "name": "stderr",
          "text": [
            "[nltk_data] Downloading package stopwords to /root/nltk_data...\n",
            "[nltk_data]   Package stopwords is already up-to-date!\n"
          ]
        },
        {
          "output_type": "execute_result",
          "data": {
            "text/plain": [
              "True"
            ]
          },
          "metadata": {},
          "execution_count": 11
        }
      ]
    },
    {
      "cell_type": "code",
      "source": [
        "# Loading Stopwords\n",
        "sw = stopwords.words('english')"
      ],
      "metadata": {
        "id": "YrBxwcEHEeYA"
      },
      "execution_count": null,
      "outputs": []
    },
    {
      "cell_type": "code",
      "source": [
        "# Defining Function for Stopwords\n",
        "def stop_treat(data):\n",
        "  flst = []\n",
        "  for i in data:\n",
        "    lst = []\n",
        "    for j in i.split(' '):\n",
        "      if j not in sw:\n",
        "        lst.append(j)\n",
        "    flst.append(' '.join(lst))\n",
        "  return(flst)"
      ],
      "metadata": {
        "id": "NiaICoIREnyK"
      },
      "execution_count": null,
      "outputs": []
    },
    {
      "cell_type": "code",
      "source": [
        "# Stopwords Treatment\n",
        "data_1['cleaned_review']=stop_treat(data_1['cleaned_review'])\n",
        "data_1['cleaned_review']"
      ],
      "metadata": {
        "colab": {
          "base_uri": "https://localhost:8080/"
        },
        "id": "cSVRfT3IE2DG",
        "outputId": "79033657-af73-426b-a467-426b0425919c"
      },
      "execution_count": null,
      "outputs": [
        {
          "output_type": "execute_result",
          "data": {
            "text/plain": [
              "0         cast iron way go whats like doesnt release tox...\n",
              "1         well packaged came time really neat item bette...\n",
              "2         well built  feels solid hand  complaint holste...\n",
              "3         great quality product made  fits great looks g...\n",
              "4         ncis fan knife special agent gibbs carries fea...\n",
              "                                ...                        \n",
              "511422    grip sell lot cheaper doesnt work scale scale ...\n",
              "511423    racket tacky surface really heavy much heavier...\n",
              "511424    picked started reloading store completed  roun...\n",
              "511425    boat pool use  hold  hour  mile kayak trip min...\n",
              "511426    work fine charge two batteries  amps switch au...\n",
              "Name: cleaned_review, Length: 511427, dtype: object"
            ]
          },
          "metadata": {},
          "execution_count": 14
        }
      ]
    },
    {
      "cell_type": "code",
      "source": [
        "# Dropping Review Column\n",
        "data_1.drop([\"review\"],axis=1,inplace=True)"
      ],
      "metadata": {
        "id": "3426Ec-nFCGc"
      },
      "execution_count": null,
      "outputs": []
    },
    {
      "cell_type": "code",
      "source": [
        "# Displaying Data\n",
        "with option_context('display.max_colwidth',200):\n",
        "    display(data_1.head(5))"
      ],
      "metadata": {
        "colab": {
          "base_uri": "https://localhost:8080/",
          "height": 206
        },
        "id": "zT2zMo-jFnRc",
        "outputId": "3c419454-9598-414a-e287-0ee346eeb4af"
      },
      "execution_count": null,
      "outputs": [
        {
          "output_type": "display_data",
          "data": {
            "text/plain": [
              "  sentiment  \\\n",
              "0  Positive   \n",
              "1  Positive   \n",
              "2  Positive   \n",
              "3  Positive   \n",
              "4  Positive   \n",
              "\n",
              "                                                                                                                                                                                            cleaned_review  \n",
              "0  cast iron way go whats like doesnt release toxic chemicals high heat like teflon makes nonstick surface treat maintain properly source dietary iron food cooked  griddle great eggs pancakes omelett...  \n",
              "1                                                                                                                            well packaged came time really neat item better initially ecpected great gift  \n",
              "2  well built  feels solid hand  complaint holster  cannot rotate holster ninety degrees better removal wife  small  must able rotate holster access sitting driving situations would call horizontal draw  \n",
              "3                                                                                                     great quality product made  fits great looks great works great  reasonable price  highly recommended  \n",
              "4          ncis fan knife special agent gibbs carries featured several episodes also one great knife opens faster switchblades shape blade strong knife carry show one every one want get stupid hurt keep  "
            ],
            "text/html": [
              "\n",
              "  <div id=\"df-73a58089-c32e-41d7-bcee-14d5dcac0c47\">\n",
              "    <div class=\"colab-df-container\">\n",
              "      <div>\n",
              "<style scoped>\n",
              "    .dataframe tbody tr th:only-of-type {\n",
              "        vertical-align: middle;\n",
              "    }\n",
              "\n",
              "    .dataframe tbody tr th {\n",
              "        vertical-align: top;\n",
              "    }\n",
              "\n",
              "    .dataframe thead th {\n",
              "        text-align: right;\n",
              "    }\n",
              "</style>\n",
              "<table border=\"1\" class=\"dataframe\">\n",
              "  <thead>\n",
              "    <tr style=\"text-align: right;\">\n",
              "      <th></th>\n",
              "      <th>sentiment</th>\n",
              "      <th>cleaned_review</th>\n",
              "    </tr>\n",
              "  </thead>\n",
              "  <tbody>\n",
              "    <tr>\n",
              "      <th>0</th>\n",
              "      <td>Positive</td>\n",
              "      <td>cast iron way go whats like doesnt release toxic chemicals high heat like teflon makes nonstick surface treat maintain properly source dietary iron food cooked  griddle great eggs pancakes omelett...</td>\n",
              "    </tr>\n",
              "    <tr>\n",
              "      <th>1</th>\n",
              "      <td>Positive</td>\n",
              "      <td>well packaged came time really neat item better initially ecpected great gift</td>\n",
              "    </tr>\n",
              "    <tr>\n",
              "      <th>2</th>\n",
              "      <td>Positive</td>\n",
              "      <td>well built  feels solid hand  complaint holster  cannot rotate holster ninety degrees better removal wife  small  must able rotate holster access sitting driving situations would call horizontal draw</td>\n",
              "    </tr>\n",
              "    <tr>\n",
              "      <th>3</th>\n",
              "      <td>Positive</td>\n",
              "      <td>great quality product made  fits great looks great works great  reasonable price  highly recommended</td>\n",
              "    </tr>\n",
              "    <tr>\n",
              "      <th>4</th>\n",
              "      <td>Positive</td>\n",
              "      <td>ncis fan knife special agent gibbs carries featured several episodes also one great knife opens faster switchblades shape blade strong knife carry show one every one want get stupid hurt keep</td>\n",
              "    </tr>\n",
              "  </tbody>\n",
              "</table>\n",
              "</div>\n",
              "      <button class=\"colab-df-convert\" onclick=\"convertToInteractive('df-73a58089-c32e-41d7-bcee-14d5dcac0c47')\"\n",
              "              title=\"Convert this dataframe to an interactive table.\"\n",
              "              style=\"display:none;\">\n",
              "        \n",
              "  <svg xmlns=\"http://www.w3.org/2000/svg\" height=\"24px\"viewBox=\"0 0 24 24\"\n",
              "       width=\"24px\">\n",
              "    <path d=\"M0 0h24v24H0V0z\" fill=\"none\"/>\n",
              "    <path d=\"M18.56 5.44l.94 2.06.94-2.06 2.06-.94-2.06-.94-.94-2.06-.94 2.06-2.06.94zm-11 1L8.5 8.5l.94-2.06 2.06-.94-2.06-.94L8.5 2.5l-.94 2.06-2.06.94zm10 10l.94 2.06.94-2.06 2.06-.94-2.06-.94-.94-2.06-.94 2.06-2.06.94z\"/><path d=\"M17.41 7.96l-1.37-1.37c-.4-.4-.92-.59-1.43-.59-.52 0-1.04.2-1.43.59L10.3 9.45l-7.72 7.72c-.78.78-.78 2.05 0 2.83L4 21.41c.39.39.9.59 1.41.59.51 0 1.02-.2 1.41-.59l7.78-7.78 2.81-2.81c.8-.78.8-2.07 0-2.86zM5.41 20L4 18.59l7.72-7.72 1.47 1.35L5.41 20z\"/>\n",
              "  </svg>\n",
              "      </button>\n",
              "      \n",
              "  <style>\n",
              "    .colab-df-container {\n",
              "      display:flex;\n",
              "      flex-wrap:wrap;\n",
              "      gap: 12px;\n",
              "    }\n",
              "\n",
              "    .colab-df-convert {\n",
              "      background-color: #E8F0FE;\n",
              "      border: none;\n",
              "      border-radius: 50%;\n",
              "      cursor: pointer;\n",
              "      display: none;\n",
              "      fill: #1967D2;\n",
              "      height: 32px;\n",
              "      padding: 0 0 0 0;\n",
              "      width: 32px;\n",
              "    }\n",
              "\n",
              "    .colab-df-convert:hover {\n",
              "      background-color: #E2EBFA;\n",
              "      box-shadow: 0px 1px 2px rgba(60, 64, 67, 0.3), 0px 1px 3px 1px rgba(60, 64, 67, 0.15);\n",
              "      fill: #174EA6;\n",
              "    }\n",
              "\n",
              "    [theme=dark] .colab-df-convert {\n",
              "      background-color: #3B4455;\n",
              "      fill: #D2E3FC;\n",
              "    }\n",
              "\n",
              "    [theme=dark] .colab-df-convert:hover {\n",
              "      background-color: #434B5C;\n",
              "      box-shadow: 0px 1px 3px 1px rgba(0, 0, 0, 0.15);\n",
              "      filter: drop-shadow(0px 1px 2px rgba(0, 0, 0, 0.3));\n",
              "      fill: #FFFFFF;\n",
              "    }\n",
              "  </style>\n",
              "\n",
              "      <script>\n",
              "        const buttonEl =\n",
              "          document.querySelector('#df-73a58089-c32e-41d7-bcee-14d5dcac0c47 button.colab-df-convert');\n",
              "        buttonEl.style.display =\n",
              "          google.colab.kernel.accessAllowed ? 'block' : 'none';\n",
              "\n",
              "        async function convertToInteractive(key) {\n",
              "          const element = document.querySelector('#df-73a58089-c32e-41d7-bcee-14d5dcac0c47');\n",
              "          const dataTable =\n",
              "            await google.colab.kernel.invokeFunction('convertToInteractive',\n",
              "                                                     [key], {});\n",
              "          if (!dataTable) return;\n",
              "\n",
              "          const docLinkHtml = 'Like what you see? Visit the ' +\n",
              "            '<a target=\"_blank\" href=https://colab.research.google.com/notebooks/data_table.ipynb>data table notebook</a>'\n",
              "            + ' to learn more about interactive tables.';\n",
              "          element.innerHTML = '';\n",
              "          dataTable['output_type'] = 'display_data';\n",
              "          await google.colab.output.renderOutput(dataTable, element);\n",
              "          const docLink = document.createElement('div');\n",
              "          docLink.innerHTML = docLinkHtml;\n",
              "          element.appendChild(docLink);\n",
              "        }\n",
              "      </script>\n",
              "    </div>\n",
              "  </div>\n",
              "  "
            ]
          },
          "metadata": {}
        }
      ]
    },
    {
      "cell_type": "code",
      "source": [
        "# Converting Category to Numerical\n",
        "labelencoder=preprocessing.LabelEncoder()\n",
        "data_1[\"sentiment\"]=labelencoder.fit_transform(data_1[\"sentiment\"])"
      ],
      "metadata": {
        "id": "UfTt8WYcFsOs"
      },
      "execution_count": null,
      "outputs": []
    },
    {
      "cell_type": "code",
      "source": [
        "# Converting to Unicode\n",
        "data_1[\"cleaned_review\"] = data_1[\"cleaned_review\"].astype('U').values"
      ],
      "metadata": {
        "id": "O9JqGPsNFxC8"
      },
      "execution_count": null,
      "outputs": []
    },
    {
      "cell_type": "code",
      "source": [
        "# Splitting Dependent and Independent Data\n",
        "x=data_1[\"cleaned_review\"]\n",
        "y=data_1[\"sentiment\"]"
      ],
      "metadata": {
        "id": "V2GGPTkSEFqN"
      },
      "execution_count": null,
      "outputs": []
    },
    {
      "cell_type": "code",
      "source": [
        "from sklearn.pipeline import Pipeline\n",
        "from sklearn.model_selection import train_test_split\n",
        "from imblearn.over_sampling import SMOTE\n",
        "from sklearn.feature_extraction.text import TfidfVectorizer, CountVectorizer"
      ],
      "metadata": {
        "id": "r-lcqgxkEFqO"
      },
      "execution_count": null,
      "outputs": []
    },
    {
      "cell_type": "code",
      "source": [
        "# Splitting Train and Test Data\n",
        "x_train,x_test,y_train,y_test=train_test_split(x,y,test_size=0.30,random_state=42)"
      ],
      "metadata": {
        "id": "oaZib9BeEFqO"
      },
      "execution_count": null,
      "outputs": []
    },
    {
      "cell_type": "code",
      "source": [
        "# Length of Train and Test\n",
        "print(f\"length of x_train ={len(x_train)},length of y_train ={len(y_train)}\")\n",
        "print(f\"length of x_test ={len(x_test)},length of y_test ={len(y_test)}\")"
      ],
      "metadata": {
        "colab": {
          "base_uri": "https://localhost:8080/"
        },
        "outputId": "2311081b-b3bd-47a9-c2eb-80b31f8c6808",
        "id": "1566QxwaFniq"
      },
      "execution_count": null,
      "outputs": [
        {
          "output_type": "stream",
          "name": "stdout",
          "text": [
            "length of x_train =357998,length of y_train =357998\n",
            "length of x_test =153429,length of y_test =153429\n"
          ]
        }
      ]
    },
    {
      "cell_type": "code",
      "source": [
        "# Vectorizing Data\n",
        "tvectorizer = TfidfVectorizer(ngram_range=(2,2))"
      ],
      "metadata": {
        "id": "WLMljARkEkip"
      },
      "execution_count": null,
      "outputs": []
    },
    {
      "cell_type": "code",
      "source": [
        "# Data Vectorization\n",
        "x_train1 = tvectorizer.fit_transform(x_train)\n",
        "x_test1 = tvectorizer.transform(x_test)  "
      ],
      "metadata": {
        "id": "0CqcgTiuEkiq"
      },
      "execution_count": null,
      "outputs": []
    },
    {
      "cell_type": "code",
      "source": [
        "# SMOTE \n",
        "sm = SMOTE(random_state=25)\n",
        "x_res, y_res = sm.fit_resample(x_train1, y_train)"
      ],
      "metadata": {
        "id": "MN_-LE4acCiA"
      },
      "execution_count": null,
      "outputs": []
    },
    {
      "cell_type": "code",
      "source": [
        "from sklearn.linear_model import LogisticRegression\n",
        "import warnings\n",
        "warnings.filterwarnings('ignore')"
      ],
      "metadata": {
        "id": "xejeQpeEFcXv"
      },
      "execution_count": null,
      "outputs": []
    },
    {
      "cell_type": "code",
      "source": [
        "# Defining Function for Evaluation\n",
        "def evaluation_metrics(y_test,y_pred):\n",
        "    print(\"--------------------------------------------confusion matrix -----------------------------------------\")\n",
        "    cm=confusion_matrix(y_test,y_pred)\n",
        "    print(cm)\n",
        "    print()\n",
        "    print(\"--------------------------------------------classification report -----------------------------------------\")\n",
        "    cr=classification_report(y_test,y_pred)\n",
        "    print(cr)\n",
        "    acc=accuracy_score(y_test,y_pred)\n",
        "    rec=recall_score(y_test,y_pred,average=\"weighted\")\n",
        "    f1=f1_score(y_test,y_pred,average=\"weighted\")\n",
        "    pre=precision_score(y_test,y_pred,average=\"weighted\")\n",
        "    print('The Accuracy score is : ',round(acc*100,1),'%')\n",
        "    print('The Precission score is : ',round(pre*100,1),'%')\n",
        "    print('The F1_score score is : ',round(f1*100,1),'%')\n",
        "    print('The Recall score is : ',round(rec*100,1),'%')"
      ],
      "metadata": {
        "id": "QVt5HumgLRkE"
      },
      "execution_count": null,
      "outputs": []
    },
    {
      "cell_type": "code",
      "source": [
        "# Logistic Regression Model Building\n",
        "lr=LogisticRegression()\n",
        "lr.fit(x_res, y_res)"
      ],
      "metadata": {
        "colab": {
          "base_uri": "https://localhost:8080/"
        },
        "id": "mdb5mcU9G8BR",
        "outputId": "757c5a02-d02c-40b6-8537-a3b797c9ce15"
      },
      "execution_count": null,
      "outputs": [
        {
          "output_type": "execute_result",
          "data": {
            "text/plain": [
              "LogisticRegression()"
            ]
          },
          "metadata": {},
          "execution_count": 57
        }
      ]
    },
    {
      "cell_type": "code",
      "source": [
        "# LR Model Prediction\n",
        "pred_lr = lr.predict(x_test1)"
      ],
      "metadata": {
        "id": "BWOq15i0LRdu"
      },
      "execution_count": null,
      "outputs": []
    },
    {
      "cell_type": "code",
      "source": [
        "# Evaluation\n",
        "evaluation_metrics(y_test,pred_lr)"
      ],
      "metadata": {
        "colab": {
          "base_uri": "https://localhost:8080/"
        },
        "id": "hbr_qMHpLRmX",
        "outputId": "b5b14f77-8b5e-42ff-90c3-ca3ca0e96295"
      },
      "execution_count": null,
      "outputs": [
        {
          "output_type": "stream",
          "name": "stdout",
          "text": [
            "--------------------------------------------confusion matrix -----------------------------------------\n",
            "[[ 13409   2770   3415]\n",
            " [  3058   3907   5764]\n",
            " [  6907   9501 104698]]\n",
            "\n",
            "--------------------------------------------classification report -----------------------------------------\n",
            "              precision    recall  f1-score   support\n",
            "\n",
            "           0       0.57      0.68      0.62     19594\n",
            "           1       0.24      0.31      0.27     12729\n",
            "           2       0.92      0.86      0.89    121106\n",
            "\n",
            "    accuracy                           0.80    153429\n",
            "   macro avg       0.58      0.62      0.60    153429\n",
            "weighted avg       0.82      0.80      0.81    153429\n",
            "\n",
            "The Accuracy score is :  79.5 %\n",
            "The Precission score is :  81.9 %\n",
            "The F1_score score is :  80.6 %\n",
            "The Recall score is :  79.5 %\n"
          ]
        }
      ]
    },
    {
      "cell_type": "code",
      "source": [
        "# Multinomial Model Building\n",
        "mb = MultinomialNB()\n",
        "mb.fit(x_res, y_res)"
      ],
      "metadata": {
        "colab": {
          "base_uri": "https://localhost:8080/"
        },
        "id": "lqSV6UFxUJIi",
        "outputId": "570d27db-0f30-42f4-fc34-70a8a668a82e"
      },
      "execution_count": null,
      "outputs": [
        {
          "output_type": "execute_result",
          "data": {
            "text/plain": [
              "MultinomialNB()"
            ]
          },
          "metadata": {},
          "execution_count": 60
        }
      ]
    },
    {
      "cell_type": "code",
      "source": [
        "# MB Model Prediction\n",
        "pred_mb = mb.predict(x_test1)"
      ],
      "metadata": {
        "id": "2geM9gDGUJIi"
      },
      "execution_count": null,
      "outputs": []
    },
    {
      "cell_type": "code",
      "source": [
        "# Evaluation\n",
        "evaluation_metrics(y_test,pred_mb)"
      ],
      "metadata": {
        "colab": {
          "base_uri": "https://localhost:8080/"
        },
        "id": "lRDdTny7UJIj",
        "outputId": "87db1058-b0ed-4e0d-895e-732634f52c8b"
      },
      "execution_count": null,
      "outputs": [
        {
          "output_type": "stream",
          "name": "stdout",
          "text": [
            "--------------------------------------------confusion matrix -----------------------------------------\n",
            "[[ 12097   2178   5319]\n",
            " [  2330   2558   7841]\n",
            " [  3060   3150 114896]]\n",
            "\n",
            "--------------------------------------------classification report -----------------------------------------\n",
            "              precision    recall  f1-score   support\n",
            "\n",
            "           0       0.69      0.62      0.65     19594\n",
            "           1       0.32      0.20      0.25     12729\n",
            "           2       0.90      0.95      0.92    121106\n",
            "\n",
            "    accuracy                           0.84    153429\n",
            "   macro avg       0.64      0.59      0.61    153429\n",
            "weighted avg       0.82      0.84      0.83    153429\n",
            "\n",
            "The Accuracy score is :  84.4 %\n",
            "The Precission score is :  82.3 %\n",
            "The F1_score score is :  83.2 %\n",
            "The Recall score is :  84.4 %\n"
          ]
        }
      ]
    },
    {
      "cell_type": "code",
      "source": [
        "from sklearn.svm import LinearSVC"
      ],
      "metadata": {
        "id": "TWHyoj1OLRrw"
      },
      "execution_count": null,
      "outputs": []
    },
    {
      "cell_type": "code",
      "source": [
        "# SVM Model Building\n",
        "svm = LinearSVC()\n",
        "svm.fit(x_res, y_res)"
      ],
      "metadata": {
        "colab": {
          "base_uri": "https://localhost:8080/"
        },
        "outputId": "a4b66f44-f4bf-4f30-861e-a1c4fd35a5b0",
        "id": "7NiTM7fUVjMY"
      },
      "execution_count": null,
      "outputs": [
        {
          "output_type": "execute_result",
          "data": {
            "text/plain": [
              "LinearSVC()"
            ]
          },
          "metadata": {},
          "execution_count": 64
        }
      ]
    },
    {
      "cell_type": "code",
      "source": [
        "# SVM Model Prediction\n",
        "pred_svm = svm.predict(x_test1)"
      ],
      "metadata": {
        "id": "LVSGnN3iVjMZ"
      },
      "execution_count": null,
      "outputs": []
    },
    {
      "cell_type": "code",
      "source": [
        "# Evaluation\n",
        "evaluation_metrics(y_test,pred_svm)"
      ],
      "metadata": {
        "colab": {
          "base_uri": "https://localhost:8080/"
        },
        "outputId": "ec876231-49aa-4901-b166-4439aac2be02",
        "id": "KWBlUgLGVjMZ"
      },
      "execution_count": null,
      "outputs": [
        {
          "output_type": "stream",
          "name": "stdout",
          "text": [
            "--------------------------------------------confusion matrix -----------------------------------------\n",
            "[[ 12986   2171   4437]\n",
            " [  2878   2930   6921]\n",
            " [  5177   6474 109455]]\n",
            "\n",
            "--------------------------------------------classification report -----------------------------------------\n",
            "              precision    recall  f1-score   support\n",
            "\n",
            "           0       0.62      0.66      0.64     19594\n",
            "           1       0.25      0.23      0.24     12729\n",
            "           2       0.91      0.90      0.90    121106\n",
            "\n",
            "    accuracy                           0.82    153429\n",
            "   macro avg       0.59      0.60      0.60    153429\n",
            "weighted avg       0.81      0.82      0.82    153429\n",
            "\n",
            "The Accuracy score is :  81.7 %\n",
            "The Precission score is :  81.5 %\n",
            "The F1_score score is :  81.6 %\n",
            "The Recall score is :  81.7 %\n"
          ]
        }
      ]
    },
    {
      "cell_type": "code",
      "source": [
        "# Count Vectorizer\n",
        "cvectorizer = CountVectorizer(ngram_range=(2,2))"
      ],
      "metadata": {
        "id": "V49B8hRLLRuP"
      },
      "execution_count": null,
      "outputs": []
    },
    {
      "cell_type": "code",
      "source": [
        "# Vectorizing Data\n",
        "x_train1 = cvectorizer.fit_transform(x_train)\n",
        "x_test1 = cvectorizer.transform(x_test)"
      ],
      "metadata": {
        "id": "GJrvXNrELRw0"
      },
      "execution_count": null,
      "outputs": []
    },
    {
      "cell_type": "code",
      "source": [
        "# LR Model Building\n",
        "lr_1 = LogisticRegression()\n",
        "lr_1.fit(x_train1,y_train)"
      ],
      "metadata": {
        "colab": {
          "base_uri": "https://localhost:8080/"
        },
        "outputId": "02bf0f8a-54b2-4228-d2dd-c62715a34d58",
        "id": "2eizeLK3dLxg"
      },
      "execution_count": null,
      "outputs": [
        {
          "output_type": "execute_result",
          "data": {
            "text/plain": [
              "LogisticRegression()"
            ]
          },
          "metadata": {},
          "execution_count": 75
        }
      ]
    },
    {
      "cell_type": "code",
      "source": [
        "# Prediction\n",
        "pred_lr_1 = lr_1.predict(x_test1)"
      ],
      "metadata": {
        "id": "CXTcsx_ndLxi"
      },
      "execution_count": null,
      "outputs": []
    },
    {
      "cell_type": "code",
      "source": [
        "# Evaluation\n",
        "evaluation_metrics(y_test,pred_lr)"
      ],
      "metadata": {
        "colab": {
          "base_uri": "https://localhost:8080/"
        },
        "outputId": "eb747e41-1e21-4117-df19-436590c2981c",
        "id": "HD_4WQSGdLxi"
      },
      "execution_count": null,
      "outputs": [
        {
          "output_type": "stream",
          "name": "stdout",
          "text": [
            "--------------------------------------------confusion matrix -----------------------------------------\n",
            "[[ 13409   2770   3415]\n",
            " [  3058   3907   5764]\n",
            " [  6907   9501 104698]]\n",
            "\n",
            "--------------------------------------------classification report -----------------------------------------\n",
            "              precision    recall  f1-score   support\n",
            "\n",
            "           0       0.57      0.68      0.62     19594\n",
            "           1       0.24      0.31      0.27     12729\n",
            "           2       0.92      0.86      0.89    121106\n",
            "\n",
            "    accuracy                           0.80    153429\n",
            "   macro avg       0.58      0.62      0.60    153429\n",
            "weighted avg       0.82      0.80      0.81    153429\n",
            "\n",
            "The Accuracy score is :  79.5 %\n",
            "The Precission score is :  81.9 %\n",
            "The F1_score score is :  80.6 %\n",
            "The Recall score is :  79.5 %\n"
          ]
        }
      ]
    },
    {
      "cell_type": "code",
      "source": [
        "# Multinomial NB Model Building\n",
        "mb_1 = MultinomialNB()\n",
        "mb_1.fit(x_train1,y_train)"
      ],
      "metadata": {
        "colab": {
          "base_uri": "https://localhost:8080/"
        },
        "outputId": "d052966a-6e4c-4140-d556-5867b8ad16f8",
        "id": "uyUknPQdf1H-"
      },
      "execution_count": null,
      "outputs": [
        {
          "output_type": "execute_result",
          "data": {
            "text/plain": [
              "MultinomialNB()"
            ]
          },
          "metadata": {},
          "execution_count": 79
        }
      ]
    },
    {
      "cell_type": "code",
      "source": [
        "# Prediction\n",
        "pred_mb_1 = mb_1.predict(x_test1)"
      ],
      "metadata": {
        "id": "fQ-QssjLf1H-"
      },
      "execution_count": null,
      "outputs": []
    },
    {
      "cell_type": "code",
      "source": [
        "# Evaluation\n",
        "evaluation_metrics(y_test,pred_mb_1)"
      ],
      "metadata": {
        "colab": {
          "base_uri": "https://localhost:8080/"
        },
        "outputId": "4d5ea8ac-984e-4b5c-df76-fe2490a9e112",
        "id": "isAqYhnQf1H-"
      },
      "execution_count": null,
      "outputs": [
        {
          "output_type": "stream",
          "name": "stdout",
          "text": [
            "--------------------------------------------confusion matrix -----------------------------------------\n",
            "[[  6012     45  13537]\n",
            " [   640     48  12041]\n",
            " [   368     42 120696]]\n",
            "\n",
            "--------------------------------------------classification report -----------------------------------------\n",
            "              precision    recall  f1-score   support\n",
            "\n",
            "           0       0.86      0.31      0.45     19594\n",
            "           1       0.36      0.00      0.01     12729\n",
            "           2       0.83      1.00      0.90    121106\n",
            "\n",
            "    accuracy                           0.83    153429\n",
            "   macro avg       0.68      0.44      0.45    153429\n",
            "weighted avg       0.79      0.83      0.77    153429\n",
            "\n",
            "The Accuracy score is :  82.6 %\n",
            "The Precission score is :  79.0 %\n",
            "The F1_score score is :  77.1 %\n",
            "The Recall score is :  82.6 %\n"
          ]
        }
      ]
    },
    {
      "cell_type": "code",
      "source": [
        "# SVM Model Building\n",
        "svm_1 = LinearSVC()\n",
        "svm_1.fit(x_train1,y_train)"
      ],
      "metadata": {
        "colab": {
          "base_uri": "https://localhost:8080/"
        },
        "outputId": "1642e24a-f0fa-415e-8c62-a031a82ed41e",
        "id": "0qevBGPcgn5L"
      },
      "execution_count": null,
      "outputs": [
        {
          "output_type": "execute_result",
          "data": {
            "text/plain": [
              "LinearSVC()"
            ]
          },
          "metadata": {},
          "execution_count": 82
        }
      ]
    },
    {
      "cell_type": "code",
      "source": [
        "# Prediction\n",
        "pred_svm_1 = svm_1.predict(x_test1)"
      ],
      "metadata": {
        "id": "qWsD-tHAgn5M"
      },
      "execution_count": null,
      "outputs": []
    },
    {
      "cell_type": "code",
      "source": [
        "# Evaluation\n",
        "evaluation_metrics(y_test,pred_svm_1)"
      ],
      "metadata": {
        "colab": {
          "base_uri": "https://localhost:8080/"
        },
        "outputId": "fc511ad3-5082-4112-e39e-b5fbe472070e",
        "id": "1j5qol-Ygn5M"
      },
      "execution_count": null,
      "outputs": [
        {
          "output_type": "stream",
          "name": "stdout",
          "text": [
            "--------------------------------------------confusion matrix -----------------------------------------\n",
            "[[ 10781   1310   7503]\n",
            " [  2305   1843   8581]\n",
            " [  2357   2270 116479]]\n",
            "\n",
            "--------------------------------------------classification report -----------------------------------------\n",
            "              precision    recall  f1-score   support\n",
            "\n",
            "           0       0.70      0.55      0.62     19594\n",
            "           1       0.34      0.14      0.20     12729\n",
            "           2       0.88      0.96      0.92    121106\n",
            "\n",
            "    accuracy                           0.84    153429\n",
            "   macro avg       0.64      0.55      0.58    153429\n",
            "weighted avg       0.81      0.84      0.82    153429\n",
            "\n",
            "The Accuracy score is :  84.1 %\n",
            "The Precission score is :  81.1 %\n",
            "The F1_score score is :  82.0 %\n",
            "The Recall score is :  84.1 %\n"
          ]
        }
      ]
    },
    {
      "cell_type": "markdown",
      "source": [
        "# Customer Segmentation"
      ],
      "metadata": {
        "id": "9rPOXiL3hHsd"
      }
    },
    {
      "cell_type": "code",
      "source": [
        "from sklearn.cluster import KMeans\n",
        "from sklearn.preprocessing import StandardScaler\n",
        "from sklearn.metrics import silhouette_samples, silhouette_score\n",
        "import matplotlib.cm as cm\n",
        "import datetime as dt\n",
        "import pandas as pd\n",
        "import numpy as np\n",
        "import seaborn as sb\n",
        "import matplotlib.pyplot as plt\n",
        "\n",
        "import warnings\n",
        "warnings.filterwarnings('ignore')"
      ],
      "metadata": {
        "id": "C0Au9s8ExQCJ"
      },
      "execution_count": null,
      "outputs": []
    },
    {
      "cell_type": "code",
      "source": [
        "# Copying Data\n",
        "df_2 = data.copy()"
      ],
      "metadata": {
        "id": "XwX_U9rHVMb1"
      },
      "execution_count": null,
      "outputs": []
    },
    {
      "cell_type": "code",
      "source": [
        "# Columns\n",
        "df_2.columns"
      ],
      "metadata": {
        "colab": {
          "base_uri": "https://localhost:8080/"
        },
        "id": "D6QrLd7kxp2d",
        "outputId": "a7d0009d-ebb3-4ca9-9e77-9ec1123ae84b"
      },
      "execution_count": null,
      "outputs": [
        {
          "output_type": "execute_result",
          "data": {
            "text/plain": [
              "Index(['reviewerID', 'asin', 'reviewerName', 'helpful', 'help_per',\n",
              "       'reviewText', 'overall', 'sentiment', 'summary', 'unixReviewTime',\n",
              "       'reviewTime', 'title', 'price', 'imUrl', 'related', 'brand',\n",
              "       'categories', 'salesRank', 'description'],\n",
              "      dtype='object')"
            ]
          },
          "metadata": {},
          "execution_count": 75
        }
      ]
    },
    {
      "cell_type": "code",
      "source": [
        "# Columns\n",
        "df_2.shape"
      ],
      "metadata": {
        "colab": {
          "base_uri": "https://localhost:8080/"
        },
        "id": "Tv3VfnWzxvKZ",
        "outputId": "4fff56a6-3c32-4a2e-e85c-11f2c167eb28"
      },
      "execution_count": null,
      "outputs": [
        {
          "output_type": "execute_result",
          "data": {
            "text/plain": [
              "(3268695, 19)"
            ]
          },
          "metadata": {},
          "execution_count": 76
        }
      ]
    },
    {
      "cell_type": "code",
      "source": [
        "# Summary\n",
        "df_2.describe()"
      ],
      "metadata": {
        "id": "Qq_Tj4aBLbXd",
        "colab": {
          "base_uri": "https://localhost:8080/",
          "height": 300
        },
        "outputId": "a4720db1-8d8a-4b04-93cd-5aa686079f6c"
      },
      "execution_count": null,
      "outputs": [
        {
          "output_type": "execute_result",
          "data": {
            "text/plain": [
              "           help_per       overall  unixReviewTime         price\n",
              "count  3.268695e+06  3.268695e+06    3.268695e+06  2.310046e+06\n",
              "mean   2.975344e+01  4.174684e+00    1.356640e+09  5.327670e+01\n",
              "std    4.313362e+01  1.239174e+00    4.888327e+07  8.402762e+01\n",
              "min    0.000000e+00  1.000000e+00    9.021024e+08  1.000000e-02\n",
              "25%    0.000000e+00  4.000000e+00    1.343261e+09  1.303000e+01\n",
              "50%    0.000000e+00  5.000000e+00    1.370736e+09  2.559000e+01\n",
              "75%    8.000000e+01  5.000000e+00    1.389744e+09  5.734000e+01\n",
              "max    1.000000e+02  5.000000e+00    1.406074e+09  9.999900e+02"
            ],
            "text/html": [
              "\n",
              "  <div id=\"df-1ac74e4b-50c6-49dd-9bbf-08eb54801bc6\">\n",
              "    <div class=\"colab-df-container\">\n",
              "      <div>\n",
              "<style scoped>\n",
              "    .dataframe tbody tr th:only-of-type {\n",
              "        vertical-align: middle;\n",
              "    }\n",
              "\n",
              "    .dataframe tbody tr th {\n",
              "        vertical-align: top;\n",
              "    }\n",
              "\n",
              "    .dataframe thead th {\n",
              "        text-align: right;\n",
              "    }\n",
              "</style>\n",
              "<table border=\"1\" class=\"dataframe\">\n",
              "  <thead>\n",
              "    <tr style=\"text-align: right;\">\n",
              "      <th></th>\n",
              "      <th>help_per</th>\n",
              "      <th>overall</th>\n",
              "      <th>unixReviewTime</th>\n",
              "      <th>price</th>\n",
              "    </tr>\n",
              "  </thead>\n",
              "  <tbody>\n",
              "    <tr>\n",
              "      <th>count</th>\n",
              "      <td>3.268695e+06</td>\n",
              "      <td>3.268695e+06</td>\n",
              "      <td>3.268695e+06</td>\n",
              "      <td>2.310046e+06</td>\n",
              "    </tr>\n",
              "    <tr>\n",
              "      <th>mean</th>\n",
              "      <td>2.975344e+01</td>\n",
              "      <td>4.174684e+00</td>\n",
              "      <td>1.356640e+09</td>\n",
              "      <td>5.327670e+01</td>\n",
              "    </tr>\n",
              "    <tr>\n",
              "      <th>std</th>\n",
              "      <td>4.313362e+01</td>\n",
              "      <td>1.239174e+00</td>\n",
              "      <td>4.888327e+07</td>\n",
              "      <td>8.402762e+01</td>\n",
              "    </tr>\n",
              "    <tr>\n",
              "      <th>min</th>\n",
              "      <td>0.000000e+00</td>\n",
              "      <td>1.000000e+00</td>\n",
              "      <td>9.021024e+08</td>\n",
              "      <td>1.000000e-02</td>\n",
              "    </tr>\n",
              "    <tr>\n",
              "      <th>25%</th>\n",
              "      <td>0.000000e+00</td>\n",
              "      <td>4.000000e+00</td>\n",
              "      <td>1.343261e+09</td>\n",
              "      <td>1.303000e+01</td>\n",
              "    </tr>\n",
              "    <tr>\n",
              "      <th>50%</th>\n",
              "      <td>0.000000e+00</td>\n",
              "      <td>5.000000e+00</td>\n",
              "      <td>1.370736e+09</td>\n",
              "      <td>2.559000e+01</td>\n",
              "    </tr>\n",
              "    <tr>\n",
              "      <th>75%</th>\n",
              "      <td>8.000000e+01</td>\n",
              "      <td>5.000000e+00</td>\n",
              "      <td>1.389744e+09</td>\n",
              "      <td>5.734000e+01</td>\n",
              "    </tr>\n",
              "    <tr>\n",
              "      <th>max</th>\n",
              "      <td>1.000000e+02</td>\n",
              "      <td>5.000000e+00</td>\n",
              "      <td>1.406074e+09</td>\n",
              "      <td>9.999900e+02</td>\n",
              "    </tr>\n",
              "  </tbody>\n",
              "</table>\n",
              "</div>\n",
              "      <button class=\"colab-df-convert\" onclick=\"convertToInteractive('df-1ac74e4b-50c6-49dd-9bbf-08eb54801bc6')\"\n",
              "              title=\"Convert this dataframe to an interactive table.\"\n",
              "              style=\"display:none;\">\n",
              "        \n",
              "  <svg xmlns=\"http://www.w3.org/2000/svg\" height=\"24px\"viewBox=\"0 0 24 24\"\n",
              "       width=\"24px\">\n",
              "    <path d=\"M0 0h24v24H0V0z\" fill=\"none\"/>\n",
              "    <path d=\"M18.56 5.44l.94 2.06.94-2.06 2.06-.94-2.06-.94-.94-2.06-.94 2.06-2.06.94zm-11 1L8.5 8.5l.94-2.06 2.06-.94-2.06-.94L8.5 2.5l-.94 2.06-2.06.94zm10 10l.94 2.06.94-2.06 2.06-.94-2.06-.94-.94-2.06-.94 2.06-2.06.94z\"/><path d=\"M17.41 7.96l-1.37-1.37c-.4-.4-.92-.59-1.43-.59-.52 0-1.04.2-1.43.59L10.3 9.45l-7.72 7.72c-.78.78-.78 2.05 0 2.83L4 21.41c.39.39.9.59 1.41.59.51 0 1.02-.2 1.41-.59l7.78-7.78 2.81-2.81c.8-.78.8-2.07 0-2.86zM5.41 20L4 18.59l7.72-7.72 1.47 1.35L5.41 20z\"/>\n",
              "  </svg>\n",
              "      </button>\n",
              "      \n",
              "  <style>\n",
              "    .colab-df-container {\n",
              "      display:flex;\n",
              "      flex-wrap:wrap;\n",
              "      gap: 12px;\n",
              "    }\n",
              "\n",
              "    .colab-df-convert {\n",
              "      background-color: #E8F0FE;\n",
              "      border: none;\n",
              "      border-radius: 50%;\n",
              "      cursor: pointer;\n",
              "      display: none;\n",
              "      fill: #1967D2;\n",
              "      height: 32px;\n",
              "      padding: 0 0 0 0;\n",
              "      width: 32px;\n",
              "    }\n",
              "\n",
              "    .colab-df-convert:hover {\n",
              "      background-color: #E2EBFA;\n",
              "      box-shadow: 0px 1px 2px rgba(60, 64, 67, 0.3), 0px 1px 3px 1px rgba(60, 64, 67, 0.15);\n",
              "      fill: #174EA6;\n",
              "    }\n",
              "\n",
              "    [theme=dark] .colab-df-convert {\n",
              "      background-color: #3B4455;\n",
              "      fill: #D2E3FC;\n",
              "    }\n",
              "\n",
              "    [theme=dark] .colab-df-convert:hover {\n",
              "      background-color: #434B5C;\n",
              "      box-shadow: 0px 1px 3px 1px rgba(0, 0, 0, 0.15);\n",
              "      filter: drop-shadow(0px 1px 2px rgba(0, 0, 0, 0.3));\n",
              "      fill: #FFFFFF;\n",
              "    }\n",
              "  </style>\n",
              "\n",
              "      <script>\n",
              "        const buttonEl =\n",
              "          document.querySelector('#df-1ac74e4b-50c6-49dd-9bbf-08eb54801bc6 button.colab-df-convert');\n",
              "        buttonEl.style.display =\n",
              "          google.colab.kernel.accessAllowed ? 'block' : 'none';\n",
              "\n",
              "        async function convertToInteractive(key) {\n",
              "          const element = document.querySelector('#df-1ac74e4b-50c6-49dd-9bbf-08eb54801bc6');\n",
              "          const dataTable =\n",
              "            await google.colab.kernel.invokeFunction('convertToInteractive',\n",
              "                                                     [key], {});\n",
              "          if (!dataTable) return;\n",
              "\n",
              "          const docLinkHtml = 'Like what you see? Visit the ' +\n",
              "            '<a target=\"_blank\" href=https://colab.research.google.com/notebooks/data_table.ipynb>data table notebook</a>'\n",
              "            + ' to learn more about interactive tables.';\n",
              "          element.innerHTML = '';\n",
              "          dataTable['output_type'] = 'display_data';\n",
              "          await google.colab.output.renderOutput(dataTable, element);\n",
              "          const docLink = document.createElement('div');\n",
              "          docLink.innerHTML = docLinkHtml;\n",
              "          element.appendChild(docLink);\n",
              "        }\n",
              "      </script>\n",
              "    </div>\n",
              "  </div>\n",
              "  "
            ]
          },
          "metadata": {},
          "execution_count": 77
        }
      ]
    },
    {
      "cell_type": "code",
      "source": [
        "# Creating Date\n",
        "end_date = dt.datetime(2015, 12, 1)"
      ],
      "metadata": {
        "id": "ij_QbnOKfue_"
      },
      "execution_count": null,
      "outputs": []
    },
    {
      "cell_type": "code",
      "source": [
        "# Info\n",
        "df_2.info()"
      ],
      "metadata": {
        "colab": {
          "base_uri": "https://localhost:8080/"
        },
        "id": "c1T3B7qlEWs2",
        "outputId": "f605f1c8-23ad-4239-bf19-6f1497035d48"
      },
      "execution_count": null,
      "outputs": [
        {
          "output_type": "stream",
          "name": "stdout",
          "text": [
            "<class 'pandas.core.frame.DataFrame'>\n",
            "DatetimeIndex: 3268695 entries, 1998-08-03 to 2014-07-23\n",
            "Data columns (total 19 columns):\n",
            " #   Column          Dtype         \n",
            "---  ------          -----         \n",
            " 0   reviewerID      object        \n",
            " 1   asin            object        \n",
            " 2   reviewerName    object        \n",
            " 3   helpful         object        \n",
            " 4   help_per        float64       \n",
            " 5   reviewText      object        \n",
            " 6   overall         int64         \n",
            " 7   sentiment       object        \n",
            " 8   summary         object        \n",
            " 9   unixReviewTime  int64         \n",
            " 10  reviewTime      datetime64[ns]\n",
            " 11  title           object        \n",
            " 12  price           float64       \n",
            " 13  imUrl           object        \n",
            " 14  related         object        \n",
            " 15  brand           object        \n",
            " 16  categories      object        \n",
            " 17  salesRank       object        \n",
            " 18  description     object        \n",
            "dtypes: datetime64[ns](1), float64(2), int64(2), object(14)\n",
            "memory usage: 498.8+ MB\n"
          ]
        }
      ]
    },
    {
      "cell_type": "code",
      "source": [
        "# Grouping the Data for RFM\n",
        "data_2 = df_2.groupby('reviewerID').agg({'reviewTime': lambda reviewTime: (end_date - reviewTime.max()).days,'asin' : 'nunique', 'price' : 'sum'})"
      ],
      "metadata": {
        "id": "UwJjTlU2cU0e"
      },
      "execution_count": null,
      "outputs": []
    },
    {
      "cell_type": "code",
      "source": [
        "# Shape of Data\n",
        "data_2.shape"
      ],
      "metadata": {
        "colab": {
          "base_uri": "https://localhost:8080/"
        },
        "id": "nlhFN24lFIKq",
        "outputId": "2a3d3796-909f-4ff2-963d-1e697642717a"
      },
      "execution_count": null,
      "outputs": [
        {
          "output_type": "execute_result",
          "data": {
            "text/plain": [
              "(1990521, 3)"
            ]
          },
          "metadata": {},
          "execution_count": 83
        }
      ]
    },
    {
      "cell_type": "code",
      "source": [
        "# Assigning Columns\n",
        "data_2.columns = ['recency','frequency','monetary']"
      ],
      "metadata": {
        "id": "773uEg49iqyx"
      },
      "execution_count": null,
      "outputs": []
    },
    {
      "cell_type": "code",
      "source": [
        "# Data Head\n",
        "data_2.head()"
      ],
      "metadata": {
        "colab": {
          "base_uri": "https://localhost:8080/",
          "height": 237
        },
        "id": "x_6NvEF8iq4F",
        "outputId": "99b04cd9-0c91-4532-da42-60728e8dcb23"
      },
      "execution_count": null,
      "outputs": [
        {
          "output_type": "execute_result",
          "data": {
            "text/plain": [
              "                       recency  frequency  monetary\n",
              "reviewerID                                         \n",
              "A00000922W28P2OCH6JSE      617          3     88.84\n",
              "A0000196KBA0ICH151EG       738          1      0.00\n",
              "A00003783ISYSII6MAN88      775          1      0.00\n",
              "A0000618JRL8NVY0J0AN       713          1      0.00\n",
              "A0001488DZ7OUAZ5WMTX       983          1     15.45"
            ],
            "text/html": [
              "\n",
              "  <div id=\"df-806ef907-09a5-49f4-97a1-f51777c37ac0\">\n",
              "    <div class=\"colab-df-container\">\n",
              "      <div>\n",
              "<style scoped>\n",
              "    .dataframe tbody tr th:only-of-type {\n",
              "        vertical-align: middle;\n",
              "    }\n",
              "\n",
              "    .dataframe tbody tr th {\n",
              "        vertical-align: top;\n",
              "    }\n",
              "\n",
              "    .dataframe thead th {\n",
              "        text-align: right;\n",
              "    }\n",
              "</style>\n",
              "<table border=\"1\" class=\"dataframe\">\n",
              "  <thead>\n",
              "    <tr style=\"text-align: right;\">\n",
              "      <th></th>\n",
              "      <th>recency</th>\n",
              "      <th>frequency</th>\n",
              "      <th>monetary</th>\n",
              "    </tr>\n",
              "    <tr>\n",
              "      <th>reviewerID</th>\n",
              "      <th></th>\n",
              "      <th></th>\n",
              "      <th></th>\n",
              "    </tr>\n",
              "  </thead>\n",
              "  <tbody>\n",
              "    <tr>\n",
              "      <th>A00000922W28P2OCH6JSE</th>\n",
              "      <td>617</td>\n",
              "      <td>3</td>\n",
              "      <td>88.84</td>\n",
              "    </tr>\n",
              "    <tr>\n",
              "      <th>A0000196KBA0ICH151EG</th>\n",
              "      <td>738</td>\n",
              "      <td>1</td>\n",
              "      <td>0.00</td>\n",
              "    </tr>\n",
              "    <tr>\n",
              "      <th>A00003783ISYSII6MAN88</th>\n",
              "      <td>775</td>\n",
              "      <td>1</td>\n",
              "      <td>0.00</td>\n",
              "    </tr>\n",
              "    <tr>\n",
              "      <th>A0000618JRL8NVY0J0AN</th>\n",
              "      <td>713</td>\n",
              "      <td>1</td>\n",
              "      <td>0.00</td>\n",
              "    </tr>\n",
              "    <tr>\n",
              "      <th>A0001488DZ7OUAZ5WMTX</th>\n",
              "      <td>983</td>\n",
              "      <td>1</td>\n",
              "      <td>15.45</td>\n",
              "    </tr>\n",
              "  </tbody>\n",
              "</table>\n",
              "</div>\n",
              "      <button class=\"colab-df-convert\" onclick=\"convertToInteractive('df-806ef907-09a5-49f4-97a1-f51777c37ac0')\"\n",
              "              title=\"Convert this dataframe to an interactive table.\"\n",
              "              style=\"display:none;\">\n",
              "        \n",
              "  <svg xmlns=\"http://www.w3.org/2000/svg\" height=\"24px\"viewBox=\"0 0 24 24\"\n",
              "       width=\"24px\">\n",
              "    <path d=\"M0 0h24v24H0V0z\" fill=\"none\"/>\n",
              "    <path d=\"M18.56 5.44l.94 2.06.94-2.06 2.06-.94-2.06-.94-.94-2.06-.94 2.06-2.06.94zm-11 1L8.5 8.5l.94-2.06 2.06-.94-2.06-.94L8.5 2.5l-.94 2.06-2.06.94zm10 10l.94 2.06.94-2.06 2.06-.94-2.06-.94-.94-2.06-.94 2.06-2.06.94z\"/><path d=\"M17.41 7.96l-1.37-1.37c-.4-.4-.92-.59-1.43-.59-.52 0-1.04.2-1.43.59L10.3 9.45l-7.72 7.72c-.78.78-.78 2.05 0 2.83L4 21.41c.39.39.9.59 1.41.59.51 0 1.02-.2 1.41-.59l7.78-7.78 2.81-2.81c.8-.78.8-2.07 0-2.86zM5.41 20L4 18.59l7.72-7.72 1.47 1.35L5.41 20z\"/>\n",
              "  </svg>\n",
              "      </button>\n",
              "      \n",
              "  <style>\n",
              "    .colab-df-container {\n",
              "      display:flex;\n",
              "      flex-wrap:wrap;\n",
              "      gap: 12px;\n",
              "    }\n",
              "\n",
              "    .colab-df-convert {\n",
              "      background-color: #E8F0FE;\n",
              "      border: none;\n",
              "      border-radius: 50%;\n",
              "      cursor: pointer;\n",
              "      display: none;\n",
              "      fill: #1967D2;\n",
              "      height: 32px;\n",
              "      padding: 0 0 0 0;\n",
              "      width: 32px;\n",
              "    }\n",
              "\n",
              "    .colab-df-convert:hover {\n",
              "      background-color: #E2EBFA;\n",
              "      box-shadow: 0px 1px 2px rgba(60, 64, 67, 0.3), 0px 1px 3px 1px rgba(60, 64, 67, 0.15);\n",
              "      fill: #174EA6;\n",
              "    }\n",
              "\n",
              "    [theme=dark] .colab-df-convert {\n",
              "      background-color: #3B4455;\n",
              "      fill: #D2E3FC;\n",
              "    }\n",
              "\n",
              "    [theme=dark] .colab-df-convert:hover {\n",
              "      background-color: #434B5C;\n",
              "      box-shadow: 0px 1px 3px 1px rgba(0, 0, 0, 0.15);\n",
              "      filter: drop-shadow(0px 1px 2px rgba(0, 0, 0, 0.3));\n",
              "      fill: #FFFFFF;\n",
              "    }\n",
              "  </style>\n",
              "\n",
              "      <script>\n",
              "        const buttonEl =\n",
              "          document.querySelector('#df-806ef907-09a5-49f4-97a1-f51777c37ac0 button.colab-df-convert');\n",
              "        buttonEl.style.display =\n",
              "          google.colab.kernel.accessAllowed ? 'block' : 'none';\n",
              "\n",
              "        async function convertToInteractive(key) {\n",
              "          const element = document.querySelector('#df-806ef907-09a5-49f4-97a1-f51777c37ac0');\n",
              "          const dataTable =\n",
              "            await google.colab.kernel.invokeFunction('convertToInteractive',\n",
              "                                                     [key], {});\n",
              "          if (!dataTable) return;\n",
              "\n",
              "          const docLinkHtml = 'Like what you see? Visit the ' +\n",
              "            '<a target=\"_blank\" href=https://colab.research.google.com/notebooks/data_table.ipynb>data table notebook</a>'\n",
              "            + ' to learn more about interactive tables.';\n",
              "          element.innerHTML = '';\n",
              "          dataTable['output_type'] = 'display_data';\n",
              "          await google.colab.output.renderOutput(dataTable, element);\n",
              "          const docLink = document.createElement('div');\n",
              "          docLink.innerHTML = docLinkHtml;\n",
              "          element.appendChild(docLink);\n",
              "        }\n",
              "      </script>\n",
              "    </div>\n",
              "  </div>\n",
              "  "
            ]
          },
          "metadata": {},
          "execution_count": 85
        }
      ]
    },
    {
      "cell_type": "code",
      "source": [
        "# Scaling of Data\n",
        "std = StandardScaler()\n",
        "\n",
        "scaled_df = std.fit_transform(data_2)"
      ],
      "metadata": {
        "id": "vch3dLcLiq5t"
      },
      "execution_count": null,
      "outputs": []
    },
    {
      "cell_type": "code",
      "source": [
        "# Creating DataFrame for Scaled Data\n",
        "\n",
        "scaled_df = pd.DataFrame(scaled_df,columns=['recency','frequency','monetary'], index=data_2.index)"
      ],
      "metadata": {
        "id": "4YcB_wYRiq_H"
      },
      "execution_count": null,
      "outputs": []
    },
    {
      "cell_type": "code",
      "source": [
        "# Data Head\n",
        "scaled_df.head()"
      ],
      "metadata": {
        "colab": {
          "base_uri": "https://localhost:8080/",
          "height": 237
        },
        "id": "Uk3bYjVpjk0H",
        "outputId": "a5221f47-ce64-4769-f76d-a45c78ca378b"
      },
      "execution_count": null,
      "outputs": [
        {
          "output_type": "execute_result",
          "data": {
            "text/plain": [
              "                        recency  frequency  monetary\n",
              "reviewerID                                          \n",
              "A00000922W28P2OCH6JSE -0.745404   0.640281  0.219401\n",
              "A0000196KBA0ICH151EG  -0.539375  -0.302786 -0.502213\n",
              "A00003783ISYSII6MAN88 -0.476375  -0.302786 -0.502213\n",
              "A0000618JRL8NVY0J0AN  -0.581943  -0.302786 -0.502213\n",
              "A0001488DZ7OUAZ5WMTX  -0.122211  -0.302786 -0.376718"
            ],
            "text/html": [
              "\n",
              "  <div id=\"df-444cb45b-6174-4f06-955d-7b73fd84b07e\">\n",
              "    <div class=\"colab-df-container\">\n",
              "      <div>\n",
              "<style scoped>\n",
              "    .dataframe tbody tr th:only-of-type {\n",
              "        vertical-align: middle;\n",
              "    }\n",
              "\n",
              "    .dataframe tbody tr th {\n",
              "        vertical-align: top;\n",
              "    }\n",
              "\n",
              "    .dataframe thead th {\n",
              "        text-align: right;\n",
              "    }\n",
              "</style>\n",
              "<table border=\"1\" class=\"dataframe\">\n",
              "  <thead>\n",
              "    <tr style=\"text-align: right;\">\n",
              "      <th></th>\n",
              "      <th>recency</th>\n",
              "      <th>frequency</th>\n",
              "      <th>monetary</th>\n",
              "    </tr>\n",
              "    <tr>\n",
              "      <th>reviewerID</th>\n",
              "      <th></th>\n",
              "      <th></th>\n",
              "      <th></th>\n",
              "    </tr>\n",
              "  </thead>\n",
              "  <tbody>\n",
              "    <tr>\n",
              "      <th>A00000922W28P2OCH6JSE</th>\n",
              "      <td>-0.745404</td>\n",
              "      <td>0.640281</td>\n",
              "      <td>0.219401</td>\n",
              "    </tr>\n",
              "    <tr>\n",
              "      <th>A0000196KBA0ICH151EG</th>\n",
              "      <td>-0.539375</td>\n",
              "      <td>-0.302786</td>\n",
              "      <td>-0.502213</td>\n",
              "    </tr>\n",
              "    <tr>\n",
              "      <th>A00003783ISYSII6MAN88</th>\n",
              "      <td>-0.476375</td>\n",
              "      <td>-0.302786</td>\n",
              "      <td>-0.502213</td>\n",
              "    </tr>\n",
              "    <tr>\n",
              "      <th>A0000618JRL8NVY0J0AN</th>\n",
              "      <td>-0.581943</td>\n",
              "      <td>-0.302786</td>\n",
              "      <td>-0.502213</td>\n",
              "    </tr>\n",
              "    <tr>\n",
              "      <th>A0001488DZ7OUAZ5WMTX</th>\n",
              "      <td>-0.122211</td>\n",
              "      <td>-0.302786</td>\n",
              "      <td>-0.376718</td>\n",
              "    </tr>\n",
              "  </tbody>\n",
              "</table>\n",
              "</div>\n",
              "      <button class=\"colab-df-convert\" onclick=\"convertToInteractive('df-444cb45b-6174-4f06-955d-7b73fd84b07e')\"\n",
              "              title=\"Convert this dataframe to an interactive table.\"\n",
              "              style=\"display:none;\">\n",
              "        \n",
              "  <svg xmlns=\"http://www.w3.org/2000/svg\" height=\"24px\"viewBox=\"0 0 24 24\"\n",
              "       width=\"24px\">\n",
              "    <path d=\"M0 0h24v24H0V0z\" fill=\"none\"/>\n",
              "    <path d=\"M18.56 5.44l.94 2.06.94-2.06 2.06-.94-2.06-.94-.94-2.06-.94 2.06-2.06.94zm-11 1L8.5 8.5l.94-2.06 2.06-.94-2.06-.94L8.5 2.5l-.94 2.06-2.06.94zm10 10l.94 2.06.94-2.06 2.06-.94-2.06-.94-.94-2.06-.94 2.06-2.06.94z\"/><path d=\"M17.41 7.96l-1.37-1.37c-.4-.4-.92-.59-1.43-.59-.52 0-1.04.2-1.43.59L10.3 9.45l-7.72 7.72c-.78.78-.78 2.05 0 2.83L4 21.41c.39.39.9.59 1.41.59.51 0 1.02-.2 1.41-.59l7.78-7.78 2.81-2.81c.8-.78.8-2.07 0-2.86zM5.41 20L4 18.59l7.72-7.72 1.47 1.35L5.41 20z\"/>\n",
              "  </svg>\n",
              "      </button>\n",
              "      \n",
              "  <style>\n",
              "    .colab-df-container {\n",
              "      display:flex;\n",
              "      flex-wrap:wrap;\n",
              "      gap: 12px;\n",
              "    }\n",
              "\n",
              "    .colab-df-convert {\n",
              "      background-color: #E8F0FE;\n",
              "      border: none;\n",
              "      border-radius: 50%;\n",
              "      cursor: pointer;\n",
              "      display: none;\n",
              "      fill: #1967D2;\n",
              "      height: 32px;\n",
              "      padding: 0 0 0 0;\n",
              "      width: 32px;\n",
              "    }\n",
              "\n",
              "    .colab-df-convert:hover {\n",
              "      background-color: #E2EBFA;\n",
              "      box-shadow: 0px 1px 2px rgba(60, 64, 67, 0.3), 0px 1px 3px 1px rgba(60, 64, 67, 0.15);\n",
              "      fill: #174EA6;\n",
              "    }\n",
              "\n",
              "    [theme=dark] .colab-df-convert {\n",
              "      background-color: #3B4455;\n",
              "      fill: #D2E3FC;\n",
              "    }\n",
              "\n",
              "    [theme=dark] .colab-df-convert:hover {\n",
              "      background-color: #434B5C;\n",
              "      box-shadow: 0px 1px 3px 1px rgba(0, 0, 0, 0.15);\n",
              "      filter: drop-shadow(0px 1px 2px rgba(0, 0, 0, 0.3));\n",
              "      fill: #FFFFFF;\n",
              "    }\n",
              "  </style>\n",
              "\n",
              "      <script>\n",
              "        const buttonEl =\n",
              "          document.querySelector('#df-444cb45b-6174-4f06-955d-7b73fd84b07e button.colab-df-convert');\n",
              "        buttonEl.style.display =\n",
              "          google.colab.kernel.accessAllowed ? 'block' : 'none';\n",
              "\n",
              "        async function convertToInteractive(key) {\n",
              "          const element = document.querySelector('#df-444cb45b-6174-4f06-955d-7b73fd84b07e');\n",
              "          const dataTable =\n",
              "            await google.colab.kernel.invokeFunction('convertToInteractive',\n",
              "                                                     [key], {});\n",
              "          if (!dataTable) return;\n",
              "\n",
              "          const docLinkHtml = 'Like what you see? Visit the ' +\n",
              "            '<a target=\"_blank\" href=https://colab.research.google.com/notebooks/data_table.ipynb>data table notebook</a>'\n",
              "            + ' to learn more about interactive tables.';\n",
              "          element.innerHTML = '';\n",
              "          dataTable['output_type'] = 'display_data';\n",
              "          await google.colab.output.renderOutput(dataTable, element);\n",
              "          const docLink = document.createElement('div');\n",
              "          docLink.innerHTML = docLinkHtml;\n",
              "          element.appendChild(docLink);\n",
              "        }\n",
              "      </script>\n",
              "    </div>\n",
              "  </div>\n",
              "  "
            ]
          },
          "metadata": {},
          "execution_count": 88
        }
      ]
    },
    {
      "cell_type": "code",
      "source": [
        "# Elbow Method for Finding Best Cluster\n",
        "\n",
        "error = []\n",
        "for i in range(1,11):\n",
        "    km = KMeans(n_clusters=i,random_state=10)\n",
        "    km.fit_predict(scaled_df)\n",
        "    error.append(km.inertia_)\n",
        "    \n",
        "plt.figure(figsize=(12,6))\n",
        "plt.plot(range(1,11),error,marker='o',ls='--',color='red',mfc='black')\n",
        "plt.xlabel('Cluster (K)')\n",
        "plt.ylabel('Error (Distortions)')\n",
        "plt.show()"
      ],
      "metadata": {
        "colab": {
          "base_uri": "https://localhost:8080/",
          "height": 468
        },
        "id": "IOhnfnLwjk4-",
        "outputId": "9dbf3257-b1bf-4116-c091-acd0b83e5a92"
      },
      "execution_count": null,
      "outputs": [
        {
          "output_type": "execute_result",
          "data": {
            "text/plain": [
              "array([0, 0, 0, ..., 0, 0, 0], dtype=int32)"
            ]
          },
          "metadata": {},
          "execution_count": 89
        },
        {
          "output_type": "execute_result",
          "data": {
            "text/plain": [
              "array([0, 0, 0, ..., 0, 0, 0], dtype=int32)"
            ]
          },
          "metadata": {},
          "execution_count": 89
        },
        {
          "output_type": "execute_result",
          "data": {
            "text/plain": [
              "array([2, 2, 2, ..., 2, 2, 2], dtype=int32)"
            ]
          },
          "metadata": {},
          "execution_count": 89
        },
        {
          "output_type": "execute_result",
          "data": {
            "text/plain": [
              "array([0, 0, 0, ..., 0, 0, 0], dtype=int32)"
            ]
          },
          "metadata": {},
          "execution_count": 89
        },
        {
          "output_type": "execute_result",
          "data": {
            "text/plain": [
              "array([0, 0, 0, ..., 0, 0, 0], dtype=int32)"
            ]
          },
          "metadata": {},
          "execution_count": 89
        },
        {
          "output_type": "execute_result",
          "data": {
            "text/plain": [
              "array([0, 0, 0, ..., 5, 0, 0], dtype=int32)"
            ]
          },
          "metadata": {},
          "execution_count": 89
        },
        {
          "output_type": "execute_result",
          "data": {
            "text/plain": [
              "array([6, 2, 2, ..., 6, 2, 2], dtype=int32)"
            ]
          },
          "metadata": {},
          "execution_count": 89
        },
        {
          "output_type": "execute_result",
          "data": {
            "text/plain": [
              "array([1, 1, 1, ..., 0, 1, 1], dtype=int32)"
            ]
          },
          "metadata": {},
          "execution_count": 89
        },
        {
          "output_type": "execute_result",
          "data": {
            "text/plain": [
              "array([8, 5, 5, ..., 8, 5, 5], dtype=int32)"
            ]
          },
          "metadata": {},
          "execution_count": 89
        },
        {
          "output_type": "execute_result",
          "data": {
            "text/plain": [
              "array([5, 8, 8, ..., 5, 0, 8], dtype=int32)"
            ]
          },
          "metadata": {},
          "execution_count": 89
        },
        {
          "output_type": "execute_result",
          "data": {
            "text/plain": [
              "<Figure size 864x432 with 0 Axes>"
            ]
          },
          "metadata": {},
          "execution_count": 89
        },
        {
          "output_type": "execute_result",
          "data": {
            "text/plain": [
              "[<matplotlib.lines.Line2D at 0x7f9b1924fbe0>]"
            ]
          },
          "metadata": {},
          "execution_count": 89
        },
        {
          "output_type": "execute_result",
          "data": {
            "text/plain": [
              "Text(0.5, 0, 'Cluster (K)')"
            ]
          },
          "metadata": {},
          "execution_count": 89
        },
        {
          "output_type": "execute_result",
          "data": {
            "text/plain": [
              "Text(0, 0.5, 'Error (Distortions)')"
            ]
          },
          "metadata": {},
          "execution_count": 89
        },
        {
          "output_type": "display_data",
          "data": {
            "text/plain": [
              "<Figure size 864x432 with 1 Axes>"
            ],
            "image/png": "[encoded data removed]"
          },
          "metadata": {
            "needs_background": "light"
          }
        }
      ]
    },
    {
      "cell_type": "code",
      "source": [
        "# Model Building\n",
        "model_1 = KMeans(n_clusters=4,random_state=22)"
      ],
      "metadata": {
        "id": "FlBvCp6Fjk7k"
      },
      "execution_count": null,
      "outputs": []
    },
    {
      "cell_type": "code",
      "source": [
        "# Fitting Data\n",
        "model_1.fit(scaled_df)"
      ],
      "metadata": {
        "colab": {
          "base_uri": "https://localhost:8080/"
        },
        "id": "Sf0UT-l9jk-M",
        "outputId": "7188e891-0dc9-43da-9ba1-ebf200ed535b"
      },
      "execution_count": null,
      "outputs": [
        {
          "output_type": "execute_result",
          "data": {
            "text/plain": [
              "KMeans(n_clusters=4, random_state=22)"
            ]
          },
          "metadata": {},
          "execution_count": 91
        }
      ]
    },
    {
      "cell_type": "code",
      "source": [
        "# Centroids of Clusters\n",
        "centroids = model_1.cluster_centers_\n",
        "centroids_df = pd.DataFrame(centroids,columns=list(scaled_df))\n",
        "centroids_df"
      ],
      "metadata": {
        "colab": {
          "base_uri": "https://localhost:8080/",
          "height": 175
        },
        "id": "LSgPW-4vqwPN",
        "outputId": "4feeda1d-7555-4fec-ca0d-c4ba15a5953e"
      },
      "execution_count": null,
      "outputs": [
        {
          "output_type": "execute_result",
          "data": {
            "text/plain": [
              "    recency  frequency  monetary\n",
              "0  1.854754  -0.227985 -0.214185\n",
              "1 -0.362174  -0.119589 -0.184563\n",
              "2 -0.707669  11.027821  6.940014\n",
              "3 -0.374663   1.384092  2.274362"
            ],
            "text/html": [
              "\n",
              "  <div id=\"df-c1be3a80-0d74-48c6-bd43-0bcb38d0dc44\">\n",
              "    <div class=\"colab-df-container\">\n",
              "      <div>\n",
              "<style scoped>\n",
              "    .dataframe tbody tr th:only-of-type {\n",
              "        vertical-align: middle;\n",
              "    }\n",
              "\n",
              "    .dataframe tbody tr th {\n",
              "        vertical-align: top;\n",
              "    }\n",
              "\n",
              "    .dataframe thead th {\n",
              "        text-align: right;\n",
              "    }\n",
              "</style>\n",
              "<table border=\"1\" class=\"dataframe\">\n",
              "  <thead>\n",
              "    <tr style=\"text-align: right;\">\n",
              "      <th></th>\n",
              "      <th>recency</th>\n",
              "      <th>frequency</th>\n",
              "      <th>monetary</th>\n",
              "    </tr>\n",
              "  </thead>\n",
              "  <tbody>\n",
              "    <tr>\n",
              "      <th>0</th>\n",
              "      <td>1.854754</td>\n",
              "      <td>-0.227985</td>\n",
              "      <td>-0.214185</td>\n",
              "    </tr>\n",
              "    <tr>\n",
              "      <th>1</th>\n",
              "      <td>-0.362174</td>\n",
              "      <td>-0.119589</td>\n",
              "      <td>-0.184563</td>\n",
              "    </tr>\n",
              "    <tr>\n",
              "      <th>2</th>\n",
              "      <td>-0.707669</td>\n",
              "      <td>11.027821</td>\n",
              "      <td>6.940014</td>\n",
              "    </tr>\n",
              "    <tr>\n",
              "      <th>3</th>\n",
              "      <td>-0.374663</td>\n",
              "      <td>1.384092</td>\n",
              "      <td>2.274362</td>\n",
              "    </tr>\n",
              "  </tbody>\n",
              "</table>\n",
              "</div>\n",
              "      <button class=\"colab-df-convert\" onclick=\"convertToInteractive('df-c1be3a80-0d74-48c6-bd43-0bcb38d0dc44')\"\n",
              "              title=\"Convert this dataframe to an interactive table.\"\n",
              "              style=\"display:none;\">\n",
              "        \n",
              "  <svg xmlns=\"http://www.w3.org/2000/svg\" height=\"24px\"viewBox=\"0 0 24 24\"\n",
              "       width=\"24px\">\n",
              "    <path d=\"M0 0h24v24H0V0z\" fill=\"none\"/>\n",
              "    <path d=\"M18.56 5.44l.94 2.06.94-2.06 2.06-.94-2.06-.94-.94-2.06-.94 2.06-2.06.94zm-11 1L8.5 8.5l.94-2.06 2.06-.94-2.06-.94L8.5 2.5l-.94 2.06-2.06.94zm10 10l.94 2.06.94-2.06 2.06-.94-2.06-.94-.94-2.06-.94 2.06-2.06.94z\"/><path d=\"M17.41 7.96l-1.37-1.37c-.4-.4-.92-.59-1.43-.59-.52 0-1.04.2-1.43.59L10.3 9.45l-7.72 7.72c-.78.78-.78 2.05 0 2.83L4 21.41c.39.39.9.59 1.41.59.51 0 1.02-.2 1.41-.59l7.78-7.78 2.81-2.81c.8-.78.8-2.07 0-2.86zM5.41 20L4 18.59l7.72-7.72 1.47 1.35L5.41 20z\"/>\n",
              "  </svg>\n",
              "      </button>\n",
              "      \n",
              "  <style>\n",
              "    .colab-df-container {\n",
              "      display:flex;\n",
              "      flex-wrap:wrap;\n",
              "      gap: 12px;\n",
              "    }\n",
              "\n",
              "    .colab-df-convert {\n",
              "      background-color: #E8F0FE;\n",
              "      border: none;\n",
              "      border-radius: 50%;\n",
              "      cursor: pointer;\n",
              "      display: none;\n",
              "      fill: #1967D2;\n",
              "      height: 32px;\n",
              "      padding: 0 0 0 0;\n",
              "      width: 32px;\n",
              "    }\n",
              "\n",
              "    .colab-df-convert:hover {\n",
              "      background-color: #E2EBFA;\n",
              "      box-shadow: 0px 1px 2px rgba(60, 64, 67, 0.3), 0px 1px 3px 1px rgba(60, 64, 67, 0.15);\n",
              "      fill: #174EA6;\n",
              "    }\n",
              "\n",
              "    [theme=dark] .colab-df-convert {\n",
              "      background-color: #3B4455;\n",
              "      fill: #D2E3FC;\n",
              "    }\n",
              "\n",
              "    [theme=dark] .colab-df-convert:hover {\n",
              "      background-color: #434B5C;\n",
              "      box-shadow: 0px 1px 3px 1px rgba(0, 0, 0, 0.15);\n",
              "      filter: drop-shadow(0px 1px 2px rgba(0, 0, 0, 0.3));\n",
              "      fill: #FFFFFF;\n",
              "    }\n",
              "  </style>\n",
              "\n",
              "      <script>\n",
              "        const buttonEl =\n",
              "          document.querySelector('#df-c1be3a80-0d74-48c6-bd43-0bcb38d0dc44 button.colab-df-convert');\n",
              "        buttonEl.style.display =\n",
              "          google.colab.kernel.accessAllowed ? 'block' : 'none';\n",
              "\n",
              "        async function convertToInteractive(key) {\n",
              "          const element = document.querySelector('#df-c1be3a80-0d74-48c6-bd43-0bcb38d0dc44');\n",
              "          const dataTable =\n",
              "            await google.colab.kernel.invokeFunction('convertToInteractive',\n",
              "                                                     [key], {});\n",
              "          if (!dataTable) return;\n",
              "\n",
              "          const docLinkHtml = 'Like what you see? Visit the ' +\n",
              "            '<a target=\"_blank\" href=https://colab.research.google.com/notebooks/data_table.ipynb>data table notebook</a>'\n",
              "            + ' to learn more about interactive tables.';\n",
              "          element.innerHTML = '';\n",
              "          dataTable['output_type'] = 'display_data';\n",
              "          await google.colab.output.renderOutput(dataTable, element);\n",
              "          const docLink = document.createElement('div');\n",
              "          docLink.innerHTML = docLinkHtml;\n",
              "          element.appendChild(docLink);\n",
              "        }\n",
              "      </script>\n",
              "    </div>\n",
              "  </div>\n",
              "  "
            ]
          },
          "metadata": {},
          "execution_count": 92
        }
      ]
    },
    {
      "cell_type": "code",
      "source": [
        "# Clusters Labels\n",
        "label_df = pd.DataFrame(model_1.labels_,columns=['labels'])\n",
        "label_df.head()"
      ],
      "metadata": {
        "colab": {
          "base_uri": "https://localhost:8080/",
          "height": 206
        },
        "id": "uMrwX8VhqwUM",
        "outputId": "b78a9e7e-8dde-4ee7-b041-6de553c8a650"
      },
      "execution_count": null,
      "outputs": [
        {
          "output_type": "execute_result",
          "data": {
            "text/plain": [
              "   labels\n",
              "0       1\n",
              "1       1\n",
              "2       1\n",
              "3       1\n",
              "4       1"
            ],
            "text/html": [
              "\n",
              "  <div id=\"df-ca16b2c4-879a-416b-b730-36f67e46d63e\">\n",
              "    <div class=\"colab-df-container\">\n",
              "      <div>\n",
              "<style scoped>\n",
              "    .dataframe tbody tr th:only-of-type {\n",
              "        vertical-align: middle;\n",
              "    }\n",
              "\n",
              "    .dataframe tbody tr th {\n",
              "        vertical-align: top;\n",
              "    }\n",
              "\n",
              "    .dataframe thead th {\n",
              "        text-align: right;\n",
              "    }\n",
              "</style>\n",
              "<table border=\"1\" class=\"dataframe\">\n",
              "  <thead>\n",
              "    <tr style=\"text-align: right;\">\n",
              "      <th></th>\n",
              "      <th>labels</th>\n",
              "    </tr>\n",
              "  </thead>\n",
              "  <tbody>\n",
              "    <tr>\n",
              "      <th>0</th>\n",
              "      <td>1</td>\n",
              "    </tr>\n",
              "    <tr>\n",
              "      <th>1</th>\n",
              "      <td>1</td>\n",
              "    </tr>\n",
              "    <tr>\n",
              "      <th>2</th>\n",
              "      <td>1</td>\n",
              "    </tr>\n",
              "    <tr>\n",
              "      <th>3</th>\n",
              "      <td>1</td>\n",
              "    </tr>\n",
              "    <tr>\n",
              "      <th>4</th>\n",
              "      <td>1</td>\n",
              "    </tr>\n",
              "  </tbody>\n",
              "</table>\n",
              "</div>\n",
              "      <button class=\"colab-df-convert\" onclick=\"convertToInteractive('df-ca16b2c4-879a-416b-b730-36f67e46d63e')\"\n",
              "              title=\"Convert this dataframe to an interactive table.\"\n",
              "              style=\"display:none;\">\n",
              "        \n",
              "  <svg xmlns=\"http://www.w3.org/2000/svg\" height=\"24px\"viewBox=\"0 0 24 24\"\n",
              "       width=\"24px\">\n",
              "    <path d=\"M0 0h24v24H0V0z\" fill=\"none\"/>\n",
              "    <path d=\"M18.56 5.44l.94 2.06.94-2.06 2.06-.94-2.06-.94-.94-2.06-.94 2.06-2.06.94zm-11 1L8.5 8.5l.94-2.06 2.06-.94-2.06-.94L8.5 2.5l-.94 2.06-2.06.94zm10 10l.94 2.06.94-2.06 2.06-.94-2.06-.94-.94-2.06-.94 2.06-2.06.94z\"/><path d=\"M17.41 7.96l-1.37-1.37c-.4-.4-.92-.59-1.43-.59-.52 0-1.04.2-1.43.59L10.3 9.45l-7.72 7.72c-.78.78-.78 2.05 0 2.83L4 21.41c.39.39.9.59 1.41.59.51 0 1.02-.2 1.41-.59l7.78-7.78 2.81-2.81c.8-.78.8-2.07 0-2.86zM5.41 20L4 18.59l7.72-7.72 1.47 1.35L5.41 20z\"/>\n",
              "  </svg>\n",
              "      </button>\n",
              "      \n",
              "  <style>\n",
              "    .colab-df-container {\n",
              "      display:flex;\n",
              "      flex-wrap:wrap;\n",
              "      gap: 12px;\n",
              "    }\n",
              "\n",
              "    .colab-df-convert {\n",
              "      background-color: #E8F0FE;\n",
              "      border: none;\n",
              "      border-radius: 50%;\n",
              "      cursor: pointer;\n",
              "      display: none;\n",
              "      fill: #1967D2;\n",
              "      height: 32px;\n",
              "      padding: 0 0 0 0;\n",
              "      width: 32px;\n",
              "    }\n",
              "\n",
              "    .colab-df-convert:hover {\n",
              "      background-color: #E2EBFA;\n",
              "      box-shadow: 0px 1px 2px rgba(60, 64, 67, 0.3), 0px 1px 3px 1px rgba(60, 64, 67, 0.15);\n",
              "      fill: #174EA6;\n",
              "    }\n",
              "\n",
              "    [theme=dark] .colab-df-convert {\n",
              "      background-color: #3B4455;\n",
              "      fill: #D2E3FC;\n",
              "    }\n",
              "\n",
              "    [theme=dark] .colab-df-convert:hover {\n",
              "      background-color: #434B5C;\n",
              "      box-shadow: 0px 1px 3px 1px rgba(0, 0, 0, 0.15);\n",
              "      filter: drop-shadow(0px 1px 2px rgba(0, 0, 0, 0.3));\n",
              "      fill: #FFFFFF;\n",
              "    }\n",
              "  </style>\n",
              "\n",
              "      <script>\n",
              "        const buttonEl =\n",
              "          document.querySelector('#df-ca16b2c4-879a-416b-b730-36f67e46d63e button.colab-df-convert');\n",
              "        buttonEl.style.display =\n",
              "          google.colab.kernel.accessAllowed ? 'block' : 'none';\n",
              "\n",
              "        async function convertToInteractive(key) {\n",
              "          const element = document.querySelector('#df-ca16b2c4-879a-416b-b730-36f67e46d63e');\n",
              "          const dataTable =\n",
              "            await google.colab.kernel.invokeFunction('convertToInteractive',\n",
              "                                                     [key], {});\n",
              "          if (!dataTable) return;\n",
              "\n",
              "          const docLinkHtml = 'Like what you see? Visit the ' +\n",
              "            '<a target=\"_blank\" href=https://colab.research.google.com/notebooks/data_table.ipynb>data table notebook</a>'\n",
              "            + ' to learn more about interactive tables.';\n",
              "          element.innerHTML = '';\n",
              "          dataTable['output_type'] = 'display_data';\n",
              "          await google.colab.output.renderOutput(dataTable, element);\n",
              "          const docLink = document.createElement('div');\n",
              "          docLink.innerHTML = docLinkHtml;\n",
              "          element.appendChild(docLink);\n",
              "        }\n",
              "      </script>\n",
              "    </div>\n",
              "  </div>\n",
              "  "
            ]
          },
          "metadata": {},
          "execution_count": 93
        }
      ]
    },
    {
      "cell_type": "code",
      "source": [
        "# Adding Values to Data Frame\n",
        "scaled_df['labels'] = label_df['labels'].values"
      ],
      "metadata": {
        "id": "cm3ZzBA8qwWN"
      },
      "execution_count": null,
      "outputs": []
    },
    {
      "cell_type": "code",
      "source": [
        "# Data Head\n",
        "scaled_df.head()"
      ],
      "metadata": {
        "colab": {
          "base_uri": "https://localhost:8080/",
          "height": 237
        },
        "id": "wW2b8xbtr2GS",
        "outputId": "17f0737c-4c7e-465a-bb63-4b40c25c500d"
      },
      "execution_count": null,
      "outputs": [
        {
          "output_type": "execute_result",
          "data": {
            "text/plain": [
              "                        recency  frequency  monetary  labels\n",
              "reviewerID                                                  \n",
              "A00000922W28P2OCH6JSE -0.745404   0.640281  0.219401       1\n",
              "A0000196KBA0ICH151EG  -0.539375  -0.302786 -0.502213       1\n",
              "A00003783ISYSII6MAN88 -0.476375  -0.302786 -0.502213       1\n",
              "A0000618JRL8NVY0J0AN  -0.581943  -0.302786 -0.502213       1\n",
              "A0001488DZ7OUAZ5WMTX  -0.122211  -0.302786 -0.376718       1"
            ],
            "text/html": [
              "\n",
              "  <div id=\"df-68e07e2c-162b-4502-bbaa-031c434965d6\">\n",
              "    <div class=\"colab-df-container\">\n",
              "      <div>\n",
              "<style scoped>\n",
              "    .dataframe tbody tr th:only-of-type {\n",
              "        vertical-align: middle;\n",
              "    }\n",
              "\n",
              "    .dataframe tbody tr th {\n",
              "        vertical-align: top;\n",
              "    }\n",
              "\n",
              "    .dataframe thead th {\n",
              "        text-align: right;\n",
              "    }\n",
              "</style>\n",
              "<table border=\"1\" class=\"dataframe\">\n",
              "  <thead>\n",
              "    <tr style=\"text-align: right;\">\n",
              "      <th></th>\n",
              "      <th>recency</th>\n",
              "      <th>frequency</th>\n",
              "      <th>monetary</th>\n",
              "      <th>labels</th>\n",
              "    </tr>\n",
              "    <tr>\n",
              "      <th>reviewerID</th>\n",
              "      <th></th>\n",
              "      <th></th>\n",
              "      <th></th>\n",
              "      <th></th>\n",
              "    </tr>\n",
              "  </thead>\n",
              "  <tbody>\n",
              "    <tr>\n",
              "      <th>A00000922W28P2OCH6JSE</th>\n",
              "      <td>-0.745404</td>\n",
              "      <td>0.640281</td>\n",
              "      <td>0.219401</td>\n",
              "      <td>1</td>\n",
              "    </tr>\n",
              "    <tr>\n",
              "      <th>A0000196KBA0ICH151EG</th>\n",
              "      <td>-0.539375</td>\n",
              "      <td>-0.302786</td>\n",
              "      <td>-0.502213</td>\n",
              "      <td>1</td>\n",
              "    </tr>\n",
              "    <tr>\n",
              "      <th>A00003783ISYSII6MAN88</th>\n",
              "      <td>-0.476375</td>\n",
              "      <td>-0.302786</td>\n",
              "      <td>-0.502213</td>\n",
              "      <td>1</td>\n",
              "    </tr>\n",
              "    <tr>\n",
              "      <th>A0000618JRL8NVY0J0AN</th>\n",
              "      <td>-0.581943</td>\n",
              "      <td>-0.302786</td>\n",
              "      <td>-0.502213</td>\n",
              "      <td>1</td>\n",
              "    </tr>\n",
              "    <tr>\n",
              "      <th>A0001488DZ7OUAZ5WMTX</th>\n",
              "      <td>-0.122211</td>\n",
              "      <td>-0.302786</td>\n",
              "      <td>-0.376718</td>\n",
              "      <td>1</td>\n",
              "    </tr>\n",
              "  </tbody>\n",
              "</table>\n",
              "</div>\n",
              "      <button class=\"colab-df-convert\" onclick=\"convertToInteractive('df-68e07e2c-162b-4502-bbaa-031c434965d6')\"\n",
              "              title=\"Convert this dataframe to an interactive table.\"\n",
              "              style=\"display:none;\">\n",
              "        \n",
              "  <svg xmlns=\"http://www.w3.org/2000/svg\" height=\"24px\"viewBox=\"0 0 24 24\"\n",
              "       width=\"24px\">\n",
              "    <path d=\"M0 0h24v24H0V0z\" fill=\"none\"/>\n",
              "    <path d=\"M18.56 5.44l.94 2.06.94-2.06 2.06-.94-2.06-.94-.94-2.06-.94 2.06-2.06.94zm-11 1L8.5 8.5l.94-2.06 2.06-.94-2.06-.94L8.5 2.5l-.94 2.06-2.06.94zm10 10l.94 2.06.94-2.06 2.06-.94-2.06-.94-.94-2.06-.94 2.06-2.06.94z\"/><path d=\"M17.41 7.96l-1.37-1.37c-.4-.4-.92-.59-1.43-.59-.52 0-1.04.2-1.43.59L10.3 9.45l-7.72 7.72c-.78.78-.78 2.05 0 2.83L4 21.41c.39.39.9.59 1.41.59.51 0 1.02-.2 1.41-.59l7.78-7.78 2.81-2.81c.8-.78.8-2.07 0-2.86zM5.41 20L4 18.59l7.72-7.72 1.47 1.35L5.41 20z\"/>\n",
              "  </svg>\n",
              "      </button>\n",
              "      \n",
              "  <style>\n",
              "    .colab-df-container {\n",
              "      display:flex;\n",
              "      flex-wrap:wrap;\n",
              "      gap: 12px;\n",
              "    }\n",
              "\n",
              "    .colab-df-convert {\n",
              "      background-color: #E8F0FE;\n",
              "      border: none;\n",
              "      border-radius: 50%;\n",
              "      cursor: pointer;\n",
              "      display: none;\n",
              "      fill: #1967D2;\n",
              "      height: 32px;\n",
              "      padding: 0 0 0 0;\n",
              "      width: 32px;\n",
              "    }\n",
              "\n",
              "    .colab-df-convert:hover {\n",
              "      background-color: #E2EBFA;\n",
              "      box-shadow: 0px 1px 2px rgba(60, 64, 67, 0.3), 0px 1px 3px 1px rgba(60, 64, 67, 0.15);\n",
              "      fill: #174EA6;\n",
              "    }\n",
              "\n",
              "    [theme=dark] .colab-df-convert {\n",
              "      background-color: #3B4455;\n",
              "      fill: #D2E3FC;\n",
              "    }\n",
              "\n",
              "    [theme=dark] .colab-df-convert:hover {\n",
              "      background-color: #434B5C;\n",
              "      box-shadow: 0px 1px 3px 1px rgba(0, 0, 0, 0.15);\n",
              "      filter: drop-shadow(0px 1px 2px rgba(0, 0, 0, 0.3));\n",
              "      fill: #FFFFFF;\n",
              "    }\n",
              "  </style>\n",
              "\n",
              "      <script>\n",
              "        const buttonEl =\n",
              "          document.querySelector('#df-68e07e2c-162b-4502-bbaa-031c434965d6 button.colab-df-convert');\n",
              "        buttonEl.style.display =\n",
              "          google.colab.kernel.accessAllowed ? 'block' : 'none';\n",
              "\n",
              "        async function convertToInteractive(key) {\n",
              "          const element = document.querySelector('#df-68e07e2c-162b-4502-bbaa-031c434965d6');\n",
              "          const dataTable =\n",
              "            await google.colab.kernel.invokeFunction('convertToInteractive',\n",
              "                                                     [key], {});\n",
              "          if (!dataTable) return;\n",
              "\n",
              "          const docLinkHtml = 'Like what you see? Visit the ' +\n",
              "            '<a target=\"_blank\" href=https://colab.research.google.com/notebooks/data_table.ipynb>data table notebook</a>'\n",
              "            + ' to learn more about interactive tables.';\n",
              "          element.innerHTML = '';\n",
              "          dataTable['output_type'] = 'display_data';\n",
              "          await google.colab.output.renderOutput(dataTable, element);\n",
              "          const docLink = document.createElement('div');\n",
              "          docLink.innerHTML = docLinkHtml;\n",
              "          element.appendChild(docLink);\n",
              "        }\n",
              "      </script>\n",
              "    </div>\n",
              "  </div>\n",
              "  "
            ]
          },
          "metadata": {},
          "execution_count": 95
        }
      ]
    },
    {
      "cell_type": "code",
      "source": [
        "# Data Types\n",
        "scaled_df.dtypes"
      ],
      "metadata": {
        "colab": {
          "base_uri": "https://localhost:8080/"
        },
        "id": "p55lH1zZr2JK",
        "outputId": "9b6d7a0c-24da-46a5-b605-b0379ea10126"
      },
      "execution_count": null,
      "outputs": [
        {
          "output_type": "execute_result",
          "data": {
            "text/plain": [
              "recency      float64\n",
              "frequency    float64\n",
              "monetary     float64\n",
              "labels         int32\n",
              "dtype: object"
            ]
          },
          "metadata": {},
          "execution_count": 96
        }
      ]
    },
    {
      "cell_type": "code",
      "source": [
        "# Replacing Names of Clusters\n",
        "scaled_df['labels'] = scaled_df['labels'].replace({0:'Churn-Out',1:'Need-Attention',2:'Best-Customer',3:'Promising'})"
      ],
      "metadata": {
        "id": "DrStHMAaai0A"
      },
      "execution_count": null,
      "outputs": []
    },
    {
      "cell_type": "code",
      "source": [
        "# Recency VS Frequency\n",
        "plt.figure(figsize=(8,8))\n",
        "sb.scatterplot(x ='recency',y = 'frequency',data = scaled_df, hue='labels', palette='dark')\n",
        "plt.title('Recency VS Frequency')\n",
        "plt.show()"
      ],
      "metadata": {
        "id": "SjrPYPuRZGcB",
        "colab": {
          "base_uri": "https://localhost:8080/",
          "height": 530
        },
        "outputId": "f30211cc-e4ab-45c5-fa0e-323a0cec3548"
      },
      "execution_count": null,
      "outputs": [
        {
          "output_type": "execute_result",
          "data": {
            "text/plain": [
              "<Figure size 576x576 with 0 Axes>"
            ]
          },
          "metadata": {},
          "execution_count": 98
        },
        {
          "output_type": "execute_result",
          "data": {
            "text/plain": [
              "<matplotlib.axes._subplots.AxesSubplot at 0x7f9b907fbd00>"
            ]
          },
          "metadata": {},
          "execution_count": 98
        },
        {
          "output_type": "execute_result",
          "data": {
            "text/plain": [
              "Text(0.5, 1.0, 'Recency VS Frequency')"
            ]
          },
          "metadata": {},
          "execution_count": 98
        },
        {
          "output_type": "display_data",
          "data": {
            "text/plain": [
              "<Figure size 576x576 with 1 Axes>"
            ],
            "image/png": "[encoded data removed]"
          },
          "metadata": {
            "needs_background": "light"
          }
        }
      ]
    },
    {
      "cell_type": "code",
      "source": [
        "# Recency VS Monetary\n",
        "plt.figure(figsize=(8,8))\n",
        "sb.scatterplot(x ='recency',y = 'monetary',data = scaled_df, hue='labels', palette='dark')\n",
        "plt.title('Recency VS Monetary')\n",
        "plt.show()"
      ],
      "metadata": {
        "colab": {
          "base_uri": "https://localhost:8080/",
          "height": 530
        },
        "id": "51B6gHOFjdH6",
        "outputId": "3cf84cb6-2153-41ed-c6a3-d2b363d4355f"
      },
      "execution_count": null,
      "outputs": [
        {
          "output_type": "execute_result",
          "data": {
            "text/plain": [
              "<Figure size 576x576 with 0 Axes>"
            ]
          },
          "metadata": {},
          "execution_count": 99
        },
        {
          "output_type": "execute_result",
          "data": {
            "text/plain": [
              "<matplotlib.axes._subplots.AxesSubplot at 0x7f9b170bd550>"
            ]
          },
          "metadata": {},
          "execution_count": 99
        },
        {
          "output_type": "execute_result",
          "data": {
            "text/plain": [
              "Text(0.5, 1.0, 'Recency VS Monetary')"
            ]
          },
          "metadata": {},
          "execution_count": 99
        },
        {
          "output_type": "display_data",
          "data": {
            "text/plain": [
              "<Figure size 576x576 with 1 Axes>"
            ],
            "image/png": "[encoded data removed]"
          },
          "metadata": {
            "needs_background": "light"
          }
        }
      ]
    },
    {
      "cell_type": "markdown",
      "source": [
        "# Product Recommendation"
      ],
      "metadata": {
        "id": "bMaJY4gf8rMR"
      }
    },
    {
      "cell_type": "code",
      "source": [
        "from sklearn.decomposition import TruncatedSVD"
      ],
      "metadata": {
        "id": "HZhwAqq1hXr8"
      },
      "execution_count": null,
      "outputs": []
    },
    {
      "cell_type": "code",
      "source": [
        "# Review Data Head\n",
        "review_sports.head(2)"
      ],
      "metadata": {
        "id": "zu_X-JioBtvP",
        "colab": {
          "base_uri": "https://localhost:8080/",
          "height": 112
        },
        "outputId": "f5925c04-0bcc-474e-fc47-1d513c9e619d"
      },
      "execution_count": null,
      "outputs": [
        {
          "output_type": "execute_result",
          "data": {
            "text/plain": [
              "       reviewerID        asin reviewerName helpful  \\\n",
              "0  A3PMSRCL80KSA1  0000031852          Dee  [0, 0]   \n",
              "1  A1SNLWGLFXD70K  0000031852         DEVA  [0, 0]   \n",
              "\n",
              "                                          reviewText  overall  \\\n",
              "0  Tutus are cute but a little thin. Can't compla...      4.0   \n",
              "1  I origonally didn't get the item I ordered.  W...      4.0   \n",
              "\n",
              "                                             summary  unixReviewTime  \\\n",
              "0                                            Not bad      1388275200   \n",
              "1  Happy with purchase even though it came a lot ...      1392940800   \n",
              "\n",
              "    reviewTime  \n",
              "0  12 29, 2013  \n",
              "1  02 21, 2014  "
            ],
            "text/html": [
              "\n",
              "  <div id=\"df-14d40413-0127-4c2e-b63e-299af1ad9950\">\n",
              "    <div class=\"colab-df-container\">\n",
              "      <div>\n",
              "<style scoped>\n",
              "    .dataframe tbody tr th:only-of-type {\n",
              "        vertical-align: middle;\n",
              "    }\n",
              "\n",
              "    .dataframe tbody tr th {\n",
              "        vertical-align: top;\n",
              "    }\n",
              "\n",
              "    .dataframe thead th {\n",
              "        text-align: right;\n",
              "    }\n",
              "</style>\n",
              "<table border=\"1\" class=\"dataframe\">\n",
              "  <thead>\n",
              "    <tr style=\"text-align: right;\">\n",
              "      <th></th>\n",
              "      <th>reviewerID</th>\n",
              "      <th>asin</th>\n",
              "      <th>reviewerName</th>\n",
              "      <th>helpful</th>\n",
              "      <th>reviewText</th>\n",
              "      <th>overall</th>\n",
              "      <th>summary</th>\n",
              "      <th>unixReviewTime</th>\n",
              "      <th>reviewTime</th>\n",
              "    </tr>\n",
              "  </thead>\n",
              "  <tbody>\n",
              "    <tr>\n",
              "      <th>0</th>\n",
              "      <td>A3PMSRCL80KSA1</td>\n",
              "      <td>0000031852</td>\n",
              "      <td>Dee</td>\n",
              "      <td>[0, 0]</td>\n",
              "      <td>Tutus are cute but a little thin. Can't compla...</td>\n",
              "      <td>4.0</td>\n",
              "      <td>Not bad</td>\n",
              "      <td>1388275200</td>\n",
              "      <td>12 29, 2013</td>\n",
              "    </tr>\n",
              "    <tr>\n",
              "      <th>1</th>\n",
              "      <td>A1SNLWGLFXD70K</td>\n",
              "      <td>0000031852</td>\n",
              "      <td>DEVA</td>\n",
              "      <td>[0, 0]</td>\n",
              "      <td>I origonally didn't get the item I ordered.  W...</td>\n",
              "      <td>4.0</td>\n",
              "      <td>Happy with purchase even though it came a lot ...</td>\n",
              "      <td>1392940800</td>\n",
              "      <td>02 21, 2014</td>\n",
              "    </tr>\n",
              "  </tbody>\n",
              "</table>\n",
              "</div>\n",
              "      <button class=\"colab-df-convert\" onclick=\"convertToInteractive('df-14d40413-0127-4c2e-b63e-299af1ad9950')\"\n",
              "              title=\"Convert this dataframe to an interactive table.\"\n",
              "              style=\"display:none;\">\n",
              "        \n",
              "  <svg xmlns=\"http://www.w3.org/2000/svg\" height=\"24px\"viewBox=\"0 0 24 24\"\n",
              "       width=\"24px\">\n",
              "    <path d=\"M0 0h24v24H0V0z\" fill=\"none\"/>\n",
              "    <path d=\"M18.56 5.44l.94 2.06.94-2.06 2.06-.94-2.06-.94-.94-2.06-.94 2.06-2.06.94zm-11 1L8.5 8.5l.94-2.06 2.06-.94-2.06-.94L8.5 2.5l-.94 2.06-2.06.94zm10 10l.94 2.06.94-2.06 2.06-.94-2.06-.94-.94-2.06-.94 2.06-2.06.94z\"/><path d=\"M17.41 7.96l-1.37-1.37c-.4-.4-.92-.59-1.43-.59-.52 0-1.04.2-1.43.59L10.3 9.45l-7.72 7.72c-.78.78-.78 2.05 0 2.83L4 21.41c.39.39.9.59 1.41.59.51 0 1.02-.2 1.41-.59l7.78-7.78 2.81-2.81c.8-.78.8-2.07 0-2.86zM5.41 20L4 18.59l7.72-7.72 1.47 1.35L5.41 20z\"/>\n",
              "  </svg>\n",
              "      </button>\n",
              "      \n",
              "  <style>\n",
              "    .colab-df-container {\n",
              "      display:flex;\n",
              "      flex-wrap:wrap;\n",
              "      gap: 12px;\n",
              "    }\n",
              "\n",
              "    .colab-df-convert {\n",
              "      background-color: #E8F0FE;\n",
              "      border: none;\n",
              "      border-radius: 50%;\n",
              "      cursor: pointer;\n",
              "      display: none;\n",
              "      fill: #1967D2;\n",
              "      height: 32px;\n",
              "      padding: 0 0 0 0;\n",
              "      width: 32px;\n",
              "    }\n",
              "\n",
              "    .colab-df-convert:hover {\n",
              "      background-color: #E2EBFA;\n",
              "      box-shadow: 0px 1px 2px rgba(60, 64, 67, 0.3), 0px 1px 3px 1px rgba(60, 64, 67, 0.15);\n",
              "      fill: #174EA6;\n",
              "    }\n",
              "\n",
              "    [theme=dark] .colab-df-convert {\n",
              "      background-color: #3B4455;\n",
              "      fill: #D2E3FC;\n",
              "    }\n",
              "\n",
              "    [theme=dark] .colab-df-convert:hover {\n",
              "      background-color: #434B5C;\n",
              "      box-shadow: 0px 1px 3px 1px rgba(0, 0, 0, 0.15);\n",
              "      filter: drop-shadow(0px 1px 2px rgba(0, 0, 0, 0.3));\n",
              "      fill: #FFFFFF;\n",
              "    }\n",
              "  </style>\n",
              "\n",
              "      <script>\n",
              "        const buttonEl =\n",
              "          document.querySelector('#df-14d40413-0127-4c2e-b63e-299af1ad9950 button.colab-df-convert');\n",
              "        buttonEl.style.display =\n",
              "          google.colab.kernel.accessAllowed ? 'block' : 'none';\n",
              "\n",
              "        async function convertToInteractive(key) {\n",
              "          const element = document.querySelector('#df-14d40413-0127-4c2e-b63e-299af1ad9950');\n",
              "          const dataTable =\n",
              "            await google.colab.kernel.invokeFunction('convertToInteractive',\n",
              "                                                     [key], {});\n",
              "          if (!dataTable) return;\n",
              "\n",
              "          const docLinkHtml = 'Like what you see? Visit the ' +\n",
              "            '<a target=\"_blank\" href=https://colab.research.google.com/notebooks/data_table.ipynb>data table notebook</a>'\n",
              "            + ' to learn more about interactive tables.';\n",
              "          element.innerHTML = '';\n",
              "          dataTable['output_type'] = 'display_data';\n",
              "          await google.colab.output.renderOutput(dataTable, element);\n",
              "          const docLink = document.createElement('div');\n",
              "          docLink.innerHTML = docLinkHtml;\n",
              "          element.appendChild(docLink);\n",
              "        }\n",
              "      </script>\n",
              "    </div>\n",
              "  </div>\n",
              "  "
            ]
          },
          "metadata": {},
          "execution_count": 6
        }
      ]
    },
    {
      "cell_type": "code",
      "source": [
        "# Rating Details\n",
        "rating = review_sports.overall.unique()\n",
        "print('Ratings: ',rating)\n",
        "print('Len of Ratings: ',len(rating))"
      ],
      "metadata": {
        "id": "qJdJTakgAhft",
        "colab": {
          "base_uri": "https://localhost:8080/"
        },
        "outputId": "f3e5eabb-97af-45d5-f3dd-8c6c1e22b220"
      },
      "execution_count": null,
      "outputs": [
        {
          "output_type": "stream",
          "name": "stdout",
          "text": [
            "Ratings:  [4. 5. 1. 2. 3.]\n",
            "Len of Ratings:  5\n"
          ]
        }
      ]
    },
    {
      "cell_type": "code",
      "source": [
        "# Reviewer ID Details\n",
        "id = review_sports.reviewerID.unique()\n",
        "print('Reviewer ID: ',id)\n",
        "print('Len of Reviewer ID: ',len(id))"
      ],
      "metadata": {
        "id": "eXJyqS5fAhiH",
        "colab": {
          "base_uri": "https://localhost:8080/"
        },
        "outputId": "16504f90-e976-4dc9-83d2-873f075b1930"
      },
      "execution_count": null,
      "outputs": [
        {
          "output_type": "stream",
          "name": "stdout",
          "text": [
            "Reviewer ID:  ['A3PMSRCL80KSA1' 'A1SNLWGLFXD70K' 'A1KJ4CVG87QW09' ... 'A1ZUS94QF43DAC'\n",
            " 'A32T585IZ0DJX2' 'A1CYT9JXQXPFDD']\n",
            "Len of Reviewer ID:  1990521\n"
          ]
        }
      ]
    },
    {
      "cell_type": "code",
      "source": [
        "# Product ID\n",
        "pro = review_sports.asin.unique()\n",
        "print('Products: ',pro)\n",
        "print('Len of Products: ',len(pro))"
      ],
      "metadata": {
        "id": "zQlM3uasAhkh",
        "colab": {
          "base_uri": "https://localhost:8080/"
        },
        "outputId": "a933b50d-3282-469e-c3b3-037957aa2d56"
      },
      "execution_count": null,
      "outputs": [
        {
          "output_type": "stream",
          "name": "stdout",
          "text": [
            "Products:  ['0000031852' '0000031895' '0000031909' ... 'B00LR2PQ68' 'B00LUEBKKY'\n",
            " 'B00LVHLRZ8']\n",
            "Len of Products:  478898\n"
          ]
        }
      ]
    },
    {
      "cell_type": "code",
      "source": [
        "# Product which were sold more \n",
        "product_sales = review_sports.groupby('asin')['overall'].count().sort_values(ascending=False)\n",
        "product_sales.head()"
      ],
      "metadata": {
        "id": "eRo1d17lAhmw",
        "colab": {
          "base_uri": "https://localhost:8080/"
        },
        "outputId": "6fe79471-0402-4db5-f8f5-0ae5d10b96bb"
      },
      "execution_count": null,
      "outputs": [
        {
          "output_type": "execute_result",
          "data": {
            "text/plain": [
              "asin\n",
              "B00BGO0Q9O    6016\n",
              "B001HBHNHE    4201\n",
              "B000M0MJU2    3376\n",
              "B0095PZHRC    3344\n",
              "B001T7QJ9O    3266\n",
              "Name: overall, dtype: int64"
            ]
          },
          "metadata": {},
          "execution_count": 10
        }
      ]
    },
    {
      "cell_type": "code",
      "source": [
        "# Reviewer written more \n",
        "rev_sales = review_sports.groupby('reviewerID')['overall'].count().sort_values(ascending=False)\n",
        "rev_sales.head()"
      ],
      "metadata": {
        "id": "1iY2OK3CAhpS",
        "colab": {
          "base_uri": "https://localhost:8080/"
        },
        "outputId": "2e1d9d35-0808-4733-d7e6-716d95127c0b"
      },
      "execution_count": null,
      "outputs": [
        {
          "output_type": "execute_result",
          "data": {
            "text/plain": [
              "reviewerID\n",
              "A3OXHLG6DIBRW8    403\n",
              "A8VI7KMUHI7ZH     254\n",
              "AN81JUYW2SL24     224\n",
              "AOVTLYTHVDNUX     194\n",
              "AGGAQLXPVGM5D     168\n",
              "Name: overall, dtype: int64"
            ]
          },
          "metadata": {},
          "execution_count": 11
        }
      ]
    },
    {
      "cell_type": "code",
      "source": [
        "# Filtering the Data which has more than 50 items sold\n",
        "new_df=review_sports.groupby(\"asin\").filter(lambda x:x['overall'].count() >= 50)"
      ],
      "metadata": {
        "id": "tjApP45nAhr0"
      },
      "execution_count": null,
      "outputs": []
    },
    {
      "cell_type": "code",
      "source": [
        "# Data Head\n",
        "new_df.head()"
      ],
      "metadata": {
        "id": "-52UAw2hAhuk",
        "colab": {
          "base_uri": "https://localhost:8080/",
          "height": 206
        },
        "outputId": "d799081f-02d3-43f1-d174-c8c84a932f65"
      },
      "execution_count": null,
      "outputs": [
        {
          "output_type": "execute_result",
          "data": {
            "text/plain": [
              "         reviewerID        asin   reviewerName helpful  \\\n",
              "604  A2IP71OBGF0DYB  2094869245           AKS7  [0, 0]   \n",
              "605   AWG3H90WVZ0Z1  2094869245    Alec Nelson  [0, 0]   \n",
              "606  A2NJ0EJXJXGQQU  2094869245  Alessio Bembo  [3, 4]   \n",
              "607   ABD83CDQWLN84  2094869245     Alex Avila  [0, 0]   \n",
              "608  A374C8SBDBTSQ8  2094869245           alex  [0, 0]   \n",
              "\n",
              "                                            reviewText  overall  \\\n",
              "604  I have seen more expensive with USB charging. ...      5.0   \n",
              "605  This light will no doubt capture the attention...      4.0   \n",
              "606  the side light tracks really help to keep cars...      5.0   \n",
              "607  Packaged CorrectlyTakes 2 AAA BatteriesDiffere...      5.0   \n",
              "608  Very good lights. It has very good range brigh...      5.0   \n",
              "\n",
              "                                               summary  unixReviewTime  \\\n",
              "604                                      kool concept.      1401408000   \n",
              "605                                            Bright!      1377907200   \n",
              "606                                      works perfect      1360800000   \n",
              "607                              5 Led Bike Rear Light      1388966400   \n",
              "608  Very good lights. It has very good range brigh...      1395532800   \n",
              "\n",
              "      reviewTime  \n",
              "604  05 30, 2014  \n",
              "605  08 31, 2013  \n",
              "606  02 14, 2013  \n",
              "607   01 6, 2014  \n",
              "608  03 23, 2014  "
            ],
            "text/html": [
              "\n",
              "  <div id=\"df-51f24395-b013-4f29-b1a2-c95265781a84\">\n",
              "    <div class=\"colab-df-container\">\n",
              "      <div>\n",
              "<style scoped>\n",
              "    .dataframe tbody tr th:only-of-type {\n",
              "        vertical-align: middle;\n",
              "    }\n",
              "\n",
              "    .dataframe tbody tr th {\n",
              "        vertical-align: top;\n",
              "    }\n",
              "\n",
              "    .dataframe thead th {\n",
              "        text-align: right;\n",
              "    }\n",
              "</style>\n",
              "<table border=\"1\" class=\"dataframe\">\n",
              "  <thead>\n",
              "    <tr style=\"text-align: right;\">\n",
              "      <th></th>\n",
              "      <th>reviewerID</th>\n",
              "      <th>asin</th>\n",
              "      <th>reviewerName</th>\n",
              "      <th>helpful</th>\n",
              "      <th>reviewText</th>\n",
              "      <th>overall</th>\n",
              "      <th>summary</th>\n",
              "      <th>unixReviewTime</th>\n",
              "      <th>reviewTime</th>\n",
              "    </tr>\n",
              "  </thead>\n",
              "  <tbody>\n",
              "    <tr>\n",
              "      <th>604</th>\n",
              "      <td>A2IP71OBGF0DYB</td>\n",
              "      <td>2094869245</td>\n",
              "      <td>AKS7</td>\n",
              "      <td>[0, 0]</td>\n",
              "      <td>I have seen more expensive with USB charging. ...</td>\n",
              "      <td>5.0</td>\n",
              "      <td>kool concept.</td>\n",
              "      <td>1401408000</td>\n",
              "      <td>05 30, 2014</td>\n",
              "    </tr>\n",
              "    <tr>\n",
              "      <th>605</th>\n",
              "      <td>AWG3H90WVZ0Z1</td>\n",
              "      <td>2094869245</td>\n",
              "      <td>Alec Nelson</td>\n",
              "      <td>[0, 0]</td>\n",
              "      <td>This light will no doubt capture the attention...</td>\n",
              "      <td>4.0</td>\n",
              "      <td>Bright!</td>\n",
              "      <td>1377907200</td>\n",
              "      <td>08 31, 2013</td>\n",
              "    </tr>\n",
              "    <tr>\n",
              "      <th>606</th>\n",
              "      <td>A2NJ0EJXJXGQQU</td>\n",
              "      <td>2094869245</td>\n",
              "      <td>Alessio Bembo</td>\n",
              "      <td>[3, 4]</td>\n",
              "      <td>the side light tracks really help to keep cars...</td>\n",
              "      <td>5.0</td>\n",
              "      <td>works perfect</td>\n",
              "      <td>1360800000</td>\n",
              "      <td>02 14, 2013</td>\n",
              "    </tr>\n",
              "    <tr>\n",
              "      <th>607</th>\n",
              "      <td>ABD83CDQWLN84</td>\n",
              "      <td>2094869245</td>\n",
              "      <td>Alex Avila</td>\n",
              "      <td>[0, 0]</td>\n",
              "      <td>Packaged CorrectlyTakes 2 AAA BatteriesDiffere...</td>\n",
              "      <td>5.0</td>\n",
              "      <td>5 Led Bike Rear Light</td>\n",
              "      <td>1388966400</td>\n",
              "      <td>01 6, 2014</td>\n",
              "    </tr>\n",
              "    <tr>\n",
              "      <th>608</th>\n",
              "      <td>A374C8SBDBTSQ8</td>\n",
              "      <td>2094869245</td>\n",
              "      <td>alex</td>\n",
              "      <td>[0, 0]</td>\n",
              "      <td>Very good lights. It has very good range brigh...</td>\n",
              "      <td>5.0</td>\n",
              "      <td>Very good lights. It has very good range brigh...</td>\n",
              "      <td>1395532800</td>\n",
              "      <td>03 23, 2014</td>\n",
              "    </tr>\n",
              "  </tbody>\n",
              "</table>\n",
              "</div>\n",
              "      <button class=\"colab-df-convert\" onclick=\"convertToInteractive('df-51f24395-b013-4f29-b1a2-c95265781a84')\"\n",
              "              title=\"Convert this dataframe to an interactive table.\"\n",
              "              style=\"display:none;\">\n",
              "        \n",
              "  <svg xmlns=\"http://www.w3.org/2000/svg\" height=\"24px\"viewBox=\"0 0 24 24\"\n",
              "       width=\"24px\">\n",
              "    <path d=\"M0 0h24v24H0V0z\" fill=\"none\"/>\n",
              "    <path d=\"M18.56 5.44l.94 2.06.94-2.06 2.06-.94-2.06-.94-.94-2.06-.94 2.06-2.06.94zm-11 1L8.5 8.5l.94-2.06 2.06-.94-2.06-.94L8.5 2.5l-.94 2.06-2.06.94zm10 10l.94 2.06.94-2.06 2.06-.94-2.06-.94-.94-2.06-.94 2.06-2.06.94z\"/><path d=\"M17.41 7.96l-1.37-1.37c-.4-.4-.92-.59-1.43-.59-.52 0-1.04.2-1.43.59L10.3 9.45l-7.72 7.72c-.78.78-.78 2.05 0 2.83L4 21.41c.39.39.9.59 1.41.59.51 0 1.02-.2 1.41-.59l7.78-7.78 2.81-2.81c.8-.78.8-2.07 0-2.86zM5.41 20L4 18.59l7.72-7.72 1.47 1.35L5.41 20z\"/>\n",
              "  </svg>\n",
              "      </button>\n",
              "      \n",
              "  <style>\n",
              "    .colab-df-container {\n",
              "      display:flex;\n",
              "      flex-wrap:wrap;\n",
              "      gap: 12px;\n",
              "    }\n",
              "\n",
              "    .colab-df-convert {\n",
              "      background-color: #E8F0FE;\n",
              "      border: none;\n",
              "      border-radius: 50%;\n",
              "      cursor: pointer;\n",
              "      display: none;\n",
              "      fill: #1967D2;\n",
              "      height: 32px;\n",
              "      padding: 0 0 0 0;\n",
              "      width: 32px;\n",
              "    }\n",
              "\n",
              "    .colab-df-convert:hover {\n",
              "      background-color: #E2EBFA;\n",
              "      box-shadow: 0px 1px 2px rgba(60, 64, 67, 0.3), 0px 1px 3px 1px rgba(60, 64, 67, 0.15);\n",
              "      fill: #174EA6;\n",
              "    }\n",
              "\n",
              "    [theme=dark] .colab-df-convert {\n",
              "      background-color: #3B4455;\n",
              "      fill: #D2E3FC;\n",
              "    }\n",
              "\n",
              "    [theme=dark] .colab-df-convert:hover {\n",
              "      background-color: #434B5C;\n",
              "      box-shadow: 0px 1px 3px 1px rgba(0, 0, 0, 0.15);\n",
              "      filter: drop-shadow(0px 1px 2px rgba(0, 0, 0, 0.3));\n",
              "      fill: #FFFFFF;\n",
              "    }\n",
              "  </style>\n",
              "\n",
              "      <script>\n",
              "        const buttonEl =\n",
              "          document.querySelector('#df-51f24395-b013-4f29-b1a2-c95265781a84 button.colab-df-convert');\n",
              "        buttonEl.style.display =\n",
              "          google.colab.kernel.accessAllowed ? 'block' : 'none';\n",
              "\n",
              "        async function convertToInteractive(key) {\n",
              "          const element = document.querySelector('#df-51f24395-b013-4f29-b1a2-c95265781a84');\n",
              "          const dataTable =\n",
              "            await google.colab.kernel.invokeFunction('convertToInteractive',\n",
              "                                                     [key], {});\n",
              "          if (!dataTable) return;\n",
              "\n",
              "          const docLinkHtml = 'Like what you see? Visit the ' +\n",
              "            '<a target=\"_blank\" href=https://colab.research.google.com/notebooks/data_table.ipynb>data table notebook</a>'\n",
              "            + ' to learn more about interactive tables.';\n",
              "          element.innerHTML = '';\n",
              "          dataTable['output_type'] = 'display_data';\n",
              "          await google.colab.output.renderOutput(dataTable, element);\n",
              "          const docLink = document.createElement('div');\n",
              "          docLink.innerHTML = docLinkHtml;\n",
              "          element.appendChild(docLink);\n",
              "        }\n",
              "      </script>\n",
              "    </div>\n",
              "  </div>\n",
              "  "
            ]
          },
          "metadata": {},
          "execution_count": 13
        }
      ]
    },
    {
      "cell_type": "code",
      "source": [
        "# Structure of Dataset\n",
        "new_df.shape"
      ],
      "metadata": {
        "id": "OCXWPJdBAhxb",
        "colab": {
          "base_uri": "https://localhost:8080/"
        },
        "outputId": "bfeb86a7-b0b1-4575-fc05-e92c1ea03045"
      },
      "execution_count": null,
      "outputs": [
        {
          "output_type": "execute_result",
          "data": {
            "text/plain": [
              "(1449669, 9)"
            ]
          },
          "metadata": {},
          "execution_count": 14
        }
      ]
    },
    {
      "cell_type": "code",
      "source": [
        "# Slicing the Data \n",
        "new_df_1 = new_df[:100000]"
      ],
      "metadata": {
        "id": "BROu94z2MP1K"
      },
      "execution_count": null,
      "outputs": []
    },
    {
      "cell_type": "code",
      "source": [
        "# Creating Pivot table for Checking Correlation\n",
        "rating_matrix = new_df_1.pivot_table(index='asin',columns='reviewerID',values='overall',fill_value=0)"
      ],
      "metadata": {
        "id": "mGS79RhVMP9b"
      },
      "execution_count": null,
      "outputs": []
    },
    {
      "cell_type": "code",
      "source": [
        "# Data Head\n",
        "rating_matrix.head()"
      ],
      "metadata": {
        "id": "fHG0XdWdMQBH",
        "colab": {
          "base_uri": "https://localhost:8080/",
          "height": 331
        },
        "outputId": "2ebc147a-c044-4e9c-fb3f-dbe0d28cce6f"
      },
      "execution_count": null,
      "outputs": [
        {
          "output_type": "execute_result",
          "data": {
            "text/plain": [
              "reviewerID  A00063061AK7XBIZLCOXJ  A0010876CNE3ILIM9HV0  \\\n",
              "asin                                                      \n",
              "2094869245                      0                     0   \n",
              "7245456259                      0                     0   \n",
              "7245456313                      0                     0   \n",
              "7245456321                      0                     0   \n",
              "B000002IZ4                      0                     0   \n",
              "\n",
              "reviewerID  A00115942KQCYA4V5THGW  A00159721SOXMMFHA020T  \\\n",
              "asin                                                       \n",
              "2094869245                      0                      0   \n",
              "7245456259                      0                      0   \n",
              "7245456313                      0                      0   \n",
              "7245456321                      0                      0   \n",
              "B000002IZ4                      0                      0   \n",
              "\n",
              "reviewerID  A0029274J35Q1MYNKUWO  A005011233SVRED9Q0VY0  \\\n",
              "asin                                                      \n",
              "2094869245                     0                      0   \n",
              "7245456259                     0                      0   \n",
              "7245456313                     0                      0   \n",
              "7245456321                     0                      0   \n",
              "B000002IZ4                     0                      0   \n",
              "\n",
              "reviewerID  A00676013IBZZQ3UYWK47  A0071579ZEM74CBJAXU9  \\\n",
              "asin                                                      \n",
              "2094869245                      0                     0   \n",
              "7245456259                      0                     0   \n",
              "7245456313                      0                     0   \n",
              "7245456321                      0                     0   \n",
              "B000002IZ4                      0                     0   \n",
              "\n",
              "reviewerID  A00990251AX8J595YGONO  A01007512W8LIXGVKI7HZ  ...  AZZIOA7GP3IKD  \\\n",
              "asin                                                      ...                  \n",
              "2094869245                      0                      0  ...              0   \n",
              "7245456259                      0                      0  ...              0   \n",
              "7245456313                      0                      0  ...              0   \n",
              "7245456321                      0                      0  ...              0   \n",
              "B000002IZ4                      0                      0  ...              0   \n",
              "\n",
              "reviewerID  AZZIR2M36EGED  AZZLET9K4OLHP  AZZN3V2G7MGUG  AZZOGPUAJJRP1  \\\n",
              "asin                                                                     \n",
              "2094869245              0              0              0              0   \n",
              "7245456259              0              0              0              0   \n",
              "7245456313              0              0              0              0   \n",
              "7245456321              0              0              0              0   \n",
              "B000002IZ4              0              0              0              0   \n",
              "\n",
              "reviewerID  AZZOGZ93PYIKM  AZZTCG8URXK9W  AZZU1VEO8KUXH  AZZU8SNMNVKLP  \\\n",
              "asin                                                                     \n",
              "2094869245              0              0              0              0   \n",
              "7245456259              0              0              0              0   \n",
              "7245456313              0              0              0              0   \n",
              "7245456321              0              0              0              0   \n",
              "B000002IZ4              0              0              0              0   \n",
              "\n",
              "reviewerID  AZZWZZV473EVX  \n",
              "asin                       \n",
              "2094869245              0  \n",
              "7245456259              0  \n",
              "7245456313              0  \n",
              "7245456321              0  \n",
              "B000002IZ4              0  \n",
              "\n",
              "[5 rows x 94847 columns]"
            ],
            "text/html": [
              "\n",
              "  <div id=\"df-97065c5e-ca28-404e-a202-e7e5be99827d\">\n",
              "    <div class=\"colab-df-container\">\n",
              "      <div>\n",
              "<style scoped>\n",
              "    .dataframe tbody tr th:only-of-type {\n",
              "        vertical-align: middle;\n",
              "    }\n",
              "\n",
              "    .dataframe tbody tr th {\n",
              "        vertical-align: top;\n",
              "    }\n",
              "\n",
              "    .dataframe thead th {\n",
              "        text-align: right;\n",
              "    }\n",
              "</style>\n",
              "<table border=\"1\" class=\"dataframe\">\n",
              "  <thead>\n",
              "    <tr style=\"text-align: right;\">\n",
              "      <th>reviewerID</th>\n",
              "      <th>A00063061AK7XBIZLCOXJ</th>\n",
              "      <th>A0010876CNE3ILIM9HV0</th>\n",
              "      <th>A00115942KQCYA4V5THGW</th>\n",
              "      <th>A00159721SOXMMFHA020T</th>\n",
              "      <th>A0029274J35Q1MYNKUWO</th>\n",
              "      <th>A005011233SVRED9Q0VY0</th>\n",
              "      <th>A00676013IBZZQ3UYWK47</th>\n",
              "      <th>A0071579ZEM74CBJAXU9</th>\n",
              "      <th>A00990251AX8J595YGONO</th>\n",
              "      <th>A01007512W8LIXGVKI7HZ</th>\n",
              "      <th>...</th>\n",
              "      <th>AZZIOA7GP3IKD</th>\n",
              "      <th>AZZIR2M36EGED</th>\n",
              "      <th>AZZLET9K4OLHP</th>\n",
              "      <th>AZZN3V2G7MGUG</th>\n",
              "      <th>AZZOGPUAJJRP1</th>\n",
              "      <th>AZZOGZ93PYIKM</th>\n",
              "      <th>AZZTCG8URXK9W</th>\n",
              "      <th>AZZU1VEO8KUXH</th>\n",
              "      <th>AZZU8SNMNVKLP</th>\n",
              "      <th>AZZWZZV473EVX</th>\n",
              "    </tr>\n",
              "    <tr>\n",
              "      <th>asin</th>\n",
              "      <th></th>\n",
              "      <th></th>\n",
              "      <th></th>\n",
              "      <th></th>\n",
              "      <th></th>\n",
              "      <th></th>\n",
              "      <th></th>\n",
              "      <th></th>\n",
              "      <th></th>\n",
              "      <th></th>\n",
              "      <th></th>\n",
              "      <th></th>\n",
              "      <th></th>\n",
              "      <th></th>\n",
              "      <th></th>\n",
              "      <th></th>\n",
              "      <th></th>\n",
              "      <th></th>\n",
              "      <th></th>\n",
              "      <th></th>\n",
              "      <th></th>\n",
              "    </tr>\n",
              "  </thead>\n",
              "  <tbody>\n",
              "    <tr>\n",
              "      <th>2094869245</th>\n",
              "      <td>0</td>\n",
              "      <td>0</td>\n",
              "      <td>0</td>\n",
              "      <td>0</td>\n",
              "      <td>0</td>\n",
              "      <td>0</td>\n",
              "      <td>0</td>\n",
              "      <td>0</td>\n",
              "      <td>0</td>\n",
              "      <td>0</td>\n",
              "      <td>...</td>\n",
              "      <td>0</td>\n",
              "      <td>0</td>\n",
              "      <td>0</td>\n",
              "      <td>0</td>\n",
              "      <td>0</td>\n",
              "      <td>0</td>\n",
              "      <td>0</td>\n",
              "      <td>0</td>\n",
              "      <td>0</td>\n",
              "      <td>0</td>\n",
              "    </tr>\n",
              "    <tr>\n",
              "      <th>7245456259</th>\n",
              "      <td>0</td>\n",
              "      <td>0</td>\n",
              "      <td>0</td>\n",
              "      <td>0</td>\n",
              "      <td>0</td>\n",
              "      <td>0</td>\n",
              "      <td>0</td>\n",
              "      <td>0</td>\n",
              "      <td>0</td>\n",
              "      <td>0</td>\n",
              "      <td>...</td>\n",
              "      <td>0</td>\n",
              "      <td>0</td>\n",
              "      <td>0</td>\n",
              "      <td>0</td>\n",
              "      <td>0</td>\n",
              "      <td>0</td>\n",
              "      <td>0</td>\n",
              "      <td>0</td>\n",
              "      <td>0</td>\n",
              "      <td>0</td>\n",
              "    </tr>\n",
              "    <tr>\n",
              "      <th>7245456313</th>\n",
              "      <td>0</td>\n",
              "      <td>0</td>\n",
              "      <td>0</td>\n",
              "      <td>0</td>\n",
              "      <td>0</td>\n",
              "      <td>0</td>\n",
              "      <td>0</td>\n",
              "      <td>0</td>\n",
              "      <td>0</td>\n",
              "      <td>0</td>\n",
              "      <td>...</td>\n",
              "      <td>0</td>\n",
              "      <td>0</td>\n",
              "      <td>0</td>\n",
              "      <td>0</td>\n",
              "      <td>0</td>\n",
              "      <td>0</td>\n",
              "      <td>0</td>\n",
              "      <td>0</td>\n",
              "      <td>0</td>\n",
              "      <td>0</td>\n",
              "    </tr>\n",
              "    <tr>\n",
              "      <th>7245456321</th>\n",
              "      <td>0</td>\n",
              "      <td>0</td>\n",
              "      <td>0</td>\n",
              "      <td>0</td>\n",
              "      <td>0</td>\n",
              "      <td>0</td>\n",
              "      <td>0</td>\n",
              "      <td>0</td>\n",
              "      <td>0</td>\n",
              "      <td>0</td>\n",
              "      <td>...</td>\n",
              "      <td>0</td>\n",
              "      <td>0</td>\n",
              "      <td>0</td>\n",
              "      <td>0</td>\n",
              "      <td>0</td>\n",
              "      <td>0</td>\n",
              "      <td>0</td>\n",
              "      <td>0</td>\n",
              "      <td>0</td>\n",
              "      <td>0</td>\n",
              "    </tr>\n",
              "    <tr>\n",
              "      <th>B000002IZ4</th>\n",
              "      <td>0</td>\n",
              "      <td>0</td>\n",
              "      <td>0</td>\n",
              "      <td>0</td>\n",
              "      <td>0</td>\n",
              "      <td>0</td>\n",
              "      <td>0</td>\n",
              "      <td>0</td>\n",
              "      <td>0</td>\n",
              "      <td>0</td>\n",
              "      <td>...</td>\n",
              "      <td>0</td>\n",
              "      <td>0</td>\n",
              "      <td>0</td>\n",
              "      <td>0</td>\n",
              "      <td>0</td>\n",
              "      <td>0</td>\n",
              "      <td>0</td>\n",
              "      <td>0</td>\n",
              "      <td>0</td>\n",
              "      <td>0</td>\n",
              "    </tr>\n",
              "  </tbody>\n",
              "</table>\n",
              "<p>5 rows × 94847 columns</p>\n",
              "</div>\n",
              "      <button class=\"colab-df-convert\" onclick=\"convertToInteractive('df-97065c5e-ca28-404e-a202-e7e5be99827d')\"\n",
              "              title=\"Convert this dataframe to an interactive table.\"\n",
              "              style=\"display:none;\">\n",
              "        \n",
              "  <svg xmlns=\"http://www.w3.org/2000/svg\" height=\"24px\"viewBox=\"0 0 24 24\"\n",
              "       width=\"24px\">\n",
              "    <path d=\"M0 0h24v24H0V0z\" fill=\"none\"/>\n",
              "    <path d=\"M18.56 5.44l.94 2.06.94-2.06 2.06-.94-2.06-.94-.94-2.06-.94 2.06-2.06.94zm-11 1L8.5 8.5l.94-2.06 2.06-.94-2.06-.94L8.5 2.5l-.94 2.06-2.06.94zm10 10l.94 2.06.94-2.06 2.06-.94-2.06-.94-.94-2.06-.94 2.06-2.06.94z\"/><path d=\"M17.41 7.96l-1.37-1.37c-.4-.4-.92-.59-1.43-.59-.52 0-1.04.2-1.43.59L10.3 9.45l-7.72 7.72c-.78.78-.78 2.05 0 2.83L4 21.41c.39.39.9.59 1.41.59.51 0 1.02-.2 1.41-.59l7.78-7.78 2.81-2.81c.8-.78.8-2.07 0-2.86zM5.41 20L4 18.59l7.72-7.72 1.47 1.35L5.41 20z\"/>\n",
              "  </svg>\n",
              "      </button>\n",
              "      \n",
              "  <style>\n",
              "    .colab-df-container {\n",
              "      display:flex;\n",
              "      flex-wrap:wrap;\n",
              "      gap: 12px;\n",
              "    }\n",
              "\n",
              "    .colab-df-convert {\n",
              "      background-color: #E8F0FE;\n",
              "      border: none;\n",
              "      border-radius: 50%;\n",
              "      cursor: pointer;\n",
              "      display: none;\n",
              "      fill: #1967D2;\n",
              "      height: 32px;\n",
              "      padding: 0 0 0 0;\n",
              "      width: 32px;\n",
              "    }\n",
              "\n",
              "    .colab-df-convert:hover {\n",
              "      background-color: #E2EBFA;\n",
              "      box-shadow: 0px 1px 2px rgba(60, 64, 67, 0.3), 0px 1px 3px 1px rgba(60, 64, 67, 0.15);\n",
              "      fill: #174EA6;\n",
              "    }\n",
              "\n",
              "    [theme=dark] .colab-df-convert {\n",
              "      background-color: #3B4455;\n",
              "      fill: #D2E3FC;\n",
              "    }\n",
              "\n",
              "    [theme=dark] .colab-df-convert:hover {\n",
              "      background-color: #434B5C;\n",
              "      box-shadow: 0px 1px 3px 1px rgba(0, 0, 0, 0.15);\n",
              "      filter: drop-shadow(0px 1px 2px rgba(0, 0, 0, 0.3));\n",
              "      fill: #FFFFFF;\n",
              "    }\n",
              "  </style>\n",
              "\n",
              "      <script>\n",
              "        const buttonEl =\n",
              "          document.querySelector('#df-97065c5e-ca28-404e-a202-e7e5be99827d button.colab-df-convert');\n",
              "        buttonEl.style.display =\n",
              "          google.colab.kernel.accessAllowed ? 'block' : 'none';\n",
              "\n",
              "        async function convertToInteractive(key) {\n",
              "          const element = document.querySelector('#df-97065c5e-ca28-404e-a202-e7e5be99827d');\n",
              "          const dataTable =\n",
              "            await google.colab.kernel.invokeFunction('convertToInteractive',\n",
              "                                                     [key], {});\n",
              "          if (!dataTable) return;\n",
              "\n",
              "          const docLinkHtml = 'Like what you see? Visit the ' +\n",
              "            '<a target=\"_blank\" href=https://colab.research.google.com/notebooks/data_table.ipynb>data table notebook</a>'\n",
              "            + ' to learn more about interactive tables.';\n",
              "          element.innerHTML = '';\n",
              "          dataTable['output_type'] = 'display_data';\n",
              "          await google.colab.output.renderOutput(dataTable, element);\n",
              "          const docLink = document.createElement('div');\n",
              "          docLink.innerHTML = docLinkHtml;\n",
              "          element.appendChild(docLink);\n",
              "        }\n",
              "      </script>\n",
              "    </div>\n",
              "  </div>\n",
              "  "
            ]
          },
          "metadata": {},
          "execution_count": 17
        }
      ]
    },
    {
      "cell_type": "code",
      "source": [
        "# Structure of Pivot Table\n",
        "rating_matrix.shape"
      ],
      "metadata": {
        "id": "MP1hi6Q7o8y-",
        "colab": {
          "base_uri": "https://localhost:8080/"
        },
        "outputId": "a2c6318a-ea48-448b-fe16-575fd2f4a599"
      },
      "execution_count": null,
      "outputs": [
        {
          "output_type": "execute_result",
          "data": {
            "text/plain": [
              "(645, 94847)"
            ]
          },
          "metadata": {},
          "execution_count": 18
        }
      ]
    },
    {
      "cell_type": "code",
      "source": [
        "# Dimensionality Reduction\n",
        "svd = TruncatedSVD(n_components=20)\n",
        "dim_data = svd.fit_transform(rating_matrix)"
      ],
      "metadata": {
        "id": "PsJ_rquMo84C"
      },
      "execution_count": null,
      "outputs": []
    },
    {
      "cell_type": "code",
      "source": [
        "# Structure of SVD Data\n",
        "dim_data.shape"
      ],
      "metadata": {
        "id": "sxSPjsySo854",
        "colab": {
          "base_uri": "https://localhost:8080/"
        },
        "outputId": "66906e80-70ab-4092-80bb-b55d300a6064"
      },
      "execution_count": null,
      "outputs": [
        {
          "output_type": "execute_result",
          "data": {
            "text/plain": [
              "(645, 20)"
            ]
          },
          "metadata": {},
          "execution_count": 22
        }
      ]
    },
    {
      "cell_type": "code",
      "source": [
        "# Correlation Matrix\n",
        "corr_matrix = np.corrcoef(dim_data)"
      ],
      "metadata": {
        "id": "Kv0_cPDQrW2V"
      },
      "execution_count": null,
      "outputs": []
    },
    {
      "cell_type": "code",
      "source": [
        "# Shape of Correlation Matrix\n",
        "corr_matrix.shape"
      ],
      "metadata": {
        "id": "hHDdm-iwo87q",
        "colab": {
          "base_uri": "https://localhost:8080/"
        },
        "outputId": "945ab820-8777-442b-8b56-7e4e064b7742"
      },
      "execution_count": null,
      "outputs": [
        {
          "output_type": "execute_result",
          "data": {
            "text/plain": [
              "(645, 645)"
            ]
          },
          "metadata": {},
          "execution_count": 24
        }
      ]
    },
    {
      "cell_type": "code",
      "source": [
        "# Taking Random Product for Selection\n",
        "i = rating_matrix.index[350]"
      ],
      "metadata": {
        "id": "YXM76Pofo89s"
      },
      "execution_count": null,
      "outputs": []
    },
    {
      "cell_type": "code",
      "source": [
        "# Displaying the Selected Product ID\n",
        "i"
      ],
      "metadata": {
        "id": "u4XYvMQw_1Mp",
        "colab": {
          "base_uri": "https://localhost:8080/",
          "height": 36
        },
        "outputId": "df6a4df6-87e1-44db-e1e0-b31afeed30e7"
      },
      "execution_count": null,
      "outputs": [
        {
          "output_type": "execute_result",
          "data": {
            "text/plain": [
              "'B000276CYE'"
            ],
            "application/vnd.google.colaboratory.intrinsic+json": {
              "type": "string"
            }
          },
          "metadata": {},
          "execution_count": 26
        }
      ]
    },
    {
      "cell_type": "code",
      "source": [
        "# Taking Correlation Matrix Index into List\n",
        "lst = list(rating_matrix.index)"
      ],
      "metadata": {
        "id": "x_f7bu9Ro9Ay"
      },
      "execution_count": null,
      "outputs": []
    },
    {
      "cell_type": "code",
      "source": [
        "# Finding Index of Selected Product ID in List\n",
        "j = lst.index(i)"
      ],
      "metadata": {
        "id": "MXE7TkGbo9E3"
      },
      "execution_count": null,
      "outputs": []
    },
    {
      "cell_type": "code",
      "source": [
        "# Selection of Columns of Index of Product ID\n",
        "correlation_product_ID = corr_matrix[j]"
      ],
      "metadata": {
        "id": "smhYP4e_zjao"
      },
      "execution_count": null,
      "outputs": []
    },
    {
      "cell_type": "code",
      "source": [
        "# Fetching Correlated Product ID's\n",
        "\n",
        "Recommend = list(rating_matrix.index[correlation_product_ID > 0.80])\n",
        "\n",
        "Recommend.remove(i) "
      ],
      "metadata": {
        "id": "jeSnn0edzjhj"
      },
      "execution_count": null,
      "outputs": []
    },
    {
      "cell_type": "code",
      "source": [
        "Recommend"
      ],
      "metadata": {
        "colab": {
          "base_uri": "https://localhost:8080/"
        },
        "id": "lMO0JS9ThsF7",
        "outputId": "d61d8c01-6f60-4d00-bd8a-a10eb70644c3"
      },
      "execution_count": null,
      "outputs": [
        {
          "output_type": "execute_result",
          "data": {
            "text/plain": [
              "['B000030056',\n",
              " 'B0000AY1W1',\n",
              " 'B0000BYMX6',\n",
              " 'B00029KBF8',\n",
              " 'B0002CTZ70',\n",
              " 'B0006GSLDG',\n",
              " 'B0006NW8JC']"
            ]
          },
          "metadata": {},
          "execution_count": 34
        }
      ]
    },
    {
      "cell_type": "markdown",
      "source": [
        "# Time Series Demand Forecasting"
      ],
      "metadata": {
        "id": "ek-KuQctuBRJ"
      }
    },
    {
      "cell_type": "code",
      "execution_count": null,
      "metadata": {
        "id": "9qkSwnWR3yDw"
      },
      "outputs": [],
      "source": [
        "from statsmodels.tsa.seasonal import seasonal_decompose\n",
        "import matplotlib.pyplot as plt\n",
        "import pandas as pd\n",
        "from sklearn import metrics\n",
        "import statsmodels.api as sm\n",
        "import math\n",
        "from statsmodels.tsa.stattools import adfuller\n",
        "from statsmodels.graphics.tsaplots import plot_acf, plot_pacf\n",
        "\n",
        "import warnings\n",
        "warnings.filterwarnings('ignore')"
      ]
    },
    {
      "cell_type": "code",
      "source": [
        "# Head\n",
        "data.head(2)"
      ],
      "metadata": {
        "colab": {
          "base_uri": "https://localhost:8080/",
          "height": 381
        },
        "id": "ECDzw35HpMrI",
        "outputId": "4ae1889f-2998-4f91-e984-7ab13db18a39"
      },
      "execution_count": null,
      "outputs": [
        {
          "output_type": "execute_result",
          "data": {
            "text/plain": [
              "                reviewerID        asin          reviewerName helpful  \\\n",
              "reviewTime                                                             \n",
              "1998-08-03  A33UJ4LNZGOIRV  B000006CNN  eljibaro@crocker.com  [0, 0]   \n",
              "1998-10-17  A2KJLYGWEJLNLC  B000006CNN    JamieBroad@aol.com  [0, 0]   \n",
              "\n",
              "            help_per                                         reviewText  \\\n",
              "reviewTime                                                                \n",
              "1998-08-03       0.0  How do they do it? These guys create ageless, ...   \n",
              "1998-10-17       0.0  Viva Quetzal's music beckons the core of all h...   \n",
              "\n",
              "            overall sentiment  \\\n",
              "reviewTime                      \n",
              "1998-08-03        5  Positive   \n",
              "1998-10-17        5  Positive   \n",
              "\n",
              "                                                      summary  unixReviewTime  \\\n",
              "reviewTime                                                                      \n",
              "1998-08-03                    North and South fuse seamlessly       902102400   \n",
              "1998-10-17  Invigorating, Soul-Reaching, Ulluminating, Tra...       908582400   \n",
              "\n",
              "           reviewTime          title  price  \\\n",
              "reviewTime                                    \n",
              "1998-08-03 1998-08-03  Hijos Del Sol    NaN   \n",
              "1998-10-17 1998-10-17  Hijos Del Sol    NaN   \n",
              "\n",
              "                                                        imUrl  \\\n",
              "reviewTime                                                      \n",
              "1998-08-03  http://ecx.images-amazon.com/images/I/51PJW42Q...   \n",
              "1998-10-17  http://ecx.images-amazon.com/images/I/51PJW42Q...   \n",
              "\n",
              "                                    related brand  \\\n",
              "reviewTime                                          \n",
              "1998-08-03  {'also_viewed': ['B0014NPGWO']}   NaN   \n",
              "1998-10-17  {'also_viewed': ['B0014NPGWO']}   NaN   \n",
              "\n",
              "                                                categories          salesRank  \\\n",
              "reviewTime                                                                      \n",
              "1998-08-03  [CDs & Vinyl, Dance & Electronic, World Dance]  {'Music': 599639}   \n",
              "1998-10-17  [CDs & Vinyl, Dance & Electronic, World Dance]  {'Music': 599639}   \n",
              "\n",
              "                                                  description  \n",
              "reviewTime                                                     \n",
              "1998-08-03  Executive Stainless Steel LockbacksThese knive...  \n",
              "1998-10-17  Executive Stainless Steel LockbacksThese knive...  "
            ],
            "text/html": [
              "\n",
              "  <div id=\"df-656215c6-2243-4cb7-8d10-c4def0bb6c78\">\n",
              "    <div class=\"colab-df-container\">\n",
              "      <div>\n",
              "<style scoped>\n",
              "    .dataframe tbody tr th:only-of-type {\n",
              "        vertical-align: middle;\n",
              "    }\n",
              "\n",
              "    .dataframe tbody tr th {\n",
              "        vertical-align: top;\n",
              "    }\n",
              "\n",
              "    .dataframe thead th {\n",
              "        text-align: right;\n",
              "    }\n",
              "</style>\n",
              "<table border=\"1\" class=\"dataframe\">\n",
              "  <thead>\n",
              "    <tr style=\"text-align: right;\">\n",
              "      <th></th>\n",
              "      <th>reviewerID</th>\n",
              "      <th>asin</th>\n",
              "      <th>reviewerName</th>\n",
              "      <th>helpful</th>\n",
              "      <th>help_per</th>\n",
              "      <th>reviewText</th>\n",
              "      <th>overall</th>\n",
              "      <th>sentiment</th>\n",
              "      <th>summary</th>\n",
              "      <th>unixReviewTime</th>\n",
              "      <th>reviewTime</th>\n",
              "      <th>title</th>\n",
              "      <th>price</th>\n",
              "      <th>imUrl</th>\n",
              "      <th>related</th>\n",
              "      <th>brand</th>\n",
              "      <th>categories</th>\n",
              "      <th>salesRank</th>\n",
              "      <th>description</th>\n",
              "    </tr>\n",
              "    <tr>\n",
              "      <th>reviewTime</th>\n",
              "      <th></th>\n",
              "      <th></th>\n",
              "      <th></th>\n",
              "      <th></th>\n",
              "      <th></th>\n",
              "      <th></th>\n",
              "      <th></th>\n",
              "      <th></th>\n",
              "      <th></th>\n",
              "      <th></th>\n",
              "      <th></th>\n",
              "      <th></th>\n",
              "      <th></th>\n",
              "      <th></th>\n",
              "      <th></th>\n",
              "      <th></th>\n",
              "      <th></th>\n",
              "      <th></th>\n",
              "      <th></th>\n",
              "    </tr>\n",
              "  </thead>\n",
              "  <tbody>\n",
              "    <tr>\n",
              "      <th>1998-08-03</th>\n",
              "      <td>A33UJ4LNZGOIRV</td>\n",
              "      <td>B000006CNN</td>\n",
              "      <td>eljibaro@crocker.com</td>\n",
              "      <td>[0, 0]</td>\n",
              "      <td>0.0</td>\n",
              "      <td>How do they do it? These guys create ageless, ...</td>\n",
              "      <td>5</td>\n",
              "      <td>Positive</td>\n",
              "      <td>North and South fuse seamlessly</td>\n",
              "      <td>902102400</td>\n",
              "      <td>1998-08-03</td>\n",
              "      <td>Hijos Del Sol</td>\n",
              "      <td>NaN</td>\n",
              "      <td>http://ecx.images-amazon.com/images/I/51PJW42Q...</td>\n",
              "      <td>{'also_viewed': ['B0014NPGWO']}</td>\n",
              "      <td>NaN</td>\n",
              "      <td>[CDs &amp; Vinyl, Dance &amp; Electronic, World Dance]</td>\n",
              "      <td>{'Music': 599639}</td>\n",
              "      <td>Executive Stainless Steel LockbacksThese knive...</td>\n",
              "    </tr>\n",
              "    <tr>\n",
              "      <th>1998-10-17</th>\n",
              "      <td>A2KJLYGWEJLNLC</td>\n",
              "      <td>B000006CNN</td>\n",
              "      <td>JamieBroad@aol.com</td>\n",
              "      <td>[0, 0]</td>\n",
              "      <td>0.0</td>\n",
              "      <td>Viva Quetzal's music beckons the core of all h...</td>\n",
              "      <td>5</td>\n",
              "      <td>Positive</td>\n",
              "      <td>Invigorating, Soul-Reaching, Ulluminating, Tra...</td>\n",
              "      <td>908582400</td>\n",
              "      <td>1998-10-17</td>\n",
              "      <td>Hijos Del Sol</td>\n",
              "      <td>NaN</td>\n",
              "      <td>http://ecx.images-amazon.com/images/I/51PJW42Q...</td>\n",
              "      <td>{'also_viewed': ['B0014NPGWO']}</td>\n",
              "      <td>NaN</td>\n",
              "      <td>[CDs &amp; Vinyl, Dance &amp; Electronic, World Dance]</td>\n",
              "      <td>{'Music': 599639}</td>\n",
              "      <td>Executive Stainless Steel LockbacksThese knive...</td>\n",
              "    </tr>\n",
              "  </tbody>\n",
              "</table>\n",
              "</div>\n",
              "      <button class=\"colab-df-convert\" onclick=\"convertToInteractive('df-656215c6-2243-4cb7-8d10-c4def0bb6c78')\"\n",
              "              title=\"Convert this dataframe to an interactive table.\"\n",
              "              style=\"display:none;\">\n",
              "        \n",
              "  <svg xmlns=\"http://www.w3.org/2000/svg\" height=\"24px\"viewBox=\"0 0 24 24\"\n",
              "       width=\"24px\">\n",
              "    <path d=\"M0 0h24v24H0V0z\" fill=\"none\"/>\n",
              "    <path d=\"M18.56 5.44l.94 2.06.94-2.06 2.06-.94-2.06-.94-.94-2.06-.94 2.06-2.06.94zm-11 1L8.5 8.5l.94-2.06 2.06-.94-2.06-.94L8.5 2.5l-.94 2.06-2.06.94zm10 10l.94 2.06.94-2.06 2.06-.94-2.06-.94-.94-2.06-.94 2.06-2.06.94z\"/><path d=\"M17.41 7.96l-1.37-1.37c-.4-.4-.92-.59-1.43-.59-.52 0-1.04.2-1.43.59L10.3 9.45l-7.72 7.72c-.78.78-.78 2.05 0 2.83L4 21.41c.39.39.9.59 1.41.59.51 0 1.02-.2 1.41-.59l7.78-7.78 2.81-2.81c.8-.78.8-2.07 0-2.86zM5.41 20L4 18.59l7.72-7.72 1.47 1.35L5.41 20z\"/>\n",
              "  </svg>\n",
              "      </button>\n",
              "      \n",
              "  <style>\n",
              "    .colab-df-container {\n",
              "      display:flex;\n",
              "      flex-wrap:wrap;\n",
              "      gap: 12px;\n",
              "    }\n",
              "\n",
              "    .colab-df-convert {\n",
              "      background-color: #E8F0FE;\n",
              "      border: none;\n",
              "      border-radius: 50%;\n",
              "      cursor: pointer;\n",
              "      display: none;\n",
              "      fill: #1967D2;\n",
              "      height: 32px;\n",
              "      padding: 0 0 0 0;\n",
              "      width: 32px;\n",
              "    }\n",
              "\n",
              "    .colab-df-convert:hover {\n",
              "      background-color: #E2EBFA;\n",
              "      box-shadow: 0px 1px 2px rgba(60, 64, 67, 0.3), 0px 1px 3px 1px rgba(60, 64, 67, 0.15);\n",
              "      fill: #174EA6;\n",
              "    }\n",
              "\n",
              "    [theme=dark] .colab-df-convert {\n",
              "      background-color: #3B4455;\n",
              "      fill: #D2E3FC;\n",
              "    }\n",
              "\n",
              "    [theme=dark] .colab-df-convert:hover {\n",
              "      background-color: #434B5C;\n",
              "      box-shadow: 0px 1px 3px 1px rgba(0, 0, 0, 0.15);\n",
              "      filter: drop-shadow(0px 1px 2px rgba(0, 0, 0, 0.3));\n",
              "      fill: #FFFFFF;\n",
              "    }\n",
              "  </style>\n",
              "\n",
              "      <script>\n",
              "        const buttonEl =\n",
              "          document.querySelector('#df-656215c6-2243-4cb7-8d10-c4def0bb6c78 button.colab-df-convert');\n",
              "        buttonEl.style.display =\n",
              "          google.colab.kernel.accessAllowed ? 'block' : 'none';\n",
              "\n",
              "        async function convertToInteractive(key) {\n",
              "          const element = document.querySelector('#df-656215c6-2243-4cb7-8d10-c4def0bb6c78');\n",
              "          const dataTable =\n",
              "            await google.colab.kernel.invokeFunction('convertToInteractive',\n",
              "                                                     [key], {});\n",
              "          if (!dataTable) return;\n",
              "\n",
              "          const docLinkHtml = 'Like what you see? Visit the ' +\n",
              "            '<a target=\"_blank\" href=https://colab.research.google.com/notebooks/data_table.ipynb>data table notebook</a>'\n",
              "            + ' to learn more about interactive tables.';\n",
              "          element.innerHTML = '';\n",
              "          dataTable['output_type'] = 'display_data';\n",
              "          await google.colab.output.renderOutput(dataTable, element);\n",
              "          const docLink = document.createElement('div');\n",
              "          docLink.innerHTML = docLinkHtml;\n",
              "          element.appendChild(docLink);\n",
              "        }\n",
              "      </script>\n",
              "    </div>\n",
              "  </div>\n",
              "  "
            ]
          },
          "metadata": {},
          "execution_count": 28
        }
      ]
    },
    {
      "cell_type": "code",
      "source": [
        "# Datatypes\n",
        "data.dtypes"
      ],
      "metadata": {
        "colab": {
          "base_uri": "https://localhost:8080/"
        },
        "id": "LMPgTFh_rnSy",
        "outputId": "b52a9c93-8946-4896-c072-c0ee2d517961"
      },
      "execution_count": null,
      "outputs": [
        {
          "output_type": "execute_result",
          "data": {
            "text/plain": [
              "reviewerID                object\n",
              "asin                      object\n",
              "reviewerName              object\n",
              "helpful                   object\n",
              "help_per                 float64\n",
              "reviewText                object\n",
              "overall                    int64\n",
              "sentiment                 object\n",
              "summary                   object\n",
              "unixReviewTime             int64\n",
              "reviewTime        datetime64[ns]\n",
              "title                     object\n",
              "price                    float64\n",
              "imUrl                     object\n",
              "related                   object\n",
              "brand                     object\n",
              "categories                object\n",
              "salesRank                 object\n",
              "description               object\n",
              "dtype: object"
            ]
          },
          "metadata": {},
          "execution_count": 29
        }
      ]
    },
    {
      "cell_type": "code",
      "source": [
        "# Info\n",
        "data.info()"
      ],
      "metadata": {
        "colab": {
          "base_uri": "https://localhost:8080/"
        },
        "id": "JPo0ABMap3yI",
        "outputId": "f3944a91-0c5b-4d08-80b8-f69ae1459783"
      },
      "execution_count": null,
      "outputs": [
        {
          "output_type": "stream",
          "name": "stdout",
          "text": [
            "<class 'pandas.core.frame.DataFrame'>\n",
            "DatetimeIndex: 3268695 entries, 1998-08-03 to 2014-07-23\n",
            "Data columns (total 19 columns):\n",
            " #   Column          Dtype         \n",
            "---  ------          -----         \n",
            " 0   reviewerID      object        \n",
            " 1   asin            object        \n",
            " 2   reviewerName    object        \n",
            " 3   helpful         object        \n",
            " 4   help_per        float64       \n",
            " 5   reviewText      object        \n",
            " 6   overall         int64         \n",
            " 7   sentiment       object        \n",
            " 8   summary         object        \n",
            " 9   unixReviewTime  int64         \n",
            " 10  reviewTime      datetime64[ns]\n",
            " 11  title           object        \n",
            " 12  price           float64       \n",
            " 13  imUrl           object        \n",
            " 14  related         object        \n",
            " 15  brand           object        \n",
            " 16  categories      object        \n",
            " 17  salesRank       object        \n",
            " 18  description     object        \n",
            "dtypes: datetime64[ns](1), float64(2), int64(2), object(14)\n",
            "memory usage: 498.8+ MB\n"
          ]
        }
      ]
    },
    {
      "cell_type": "code",
      "source": [
        "# Columns\n",
        "data.columns"
      ],
      "metadata": {
        "colab": {
          "base_uri": "https://localhost:8080/"
        },
        "id": "2ScxyDcqp6Ic",
        "outputId": "37b030f8-97af-44e6-d38c-d11c51a706ea"
      },
      "execution_count": null,
      "outputs": [
        {
          "output_type": "execute_result",
          "data": {
            "text/plain": [
              "Index(['reviewerID', 'asin', 'reviewerName', 'helpful', 'help_per',\n",
              "       'reviewText', 'overall', 'sentiment', 'summary', 'unixReviewTime',\n",
              "       'reviewTime', 'title', 'price', 'imUrl', 'related', 'brand',\n",
              "       'categories', 'salesRank', 'description'],\n",
              "      dtype='object')"
            ]
          },
          "metadata": {},
          "execution_count": 31
        }
      ]
    },
    {
      "cell_type": "code",
      "source": [
        "# Decomposing Data Function\n",
        "def time_series_comp(data):\n",
        "  decomp = seasonal_decompose(data,period=12)\n",
        "  trend = decomp.trend\n",
        "  season = decomp.seasonal\n",
        "  irreg = decomp.resid\n",
        "  return(trend,season,irreg)"
      ],
      "metadata": {
        "id": "CF5rM-2C_bQl"
      },
      "execution_count": null,
      "outputs": []
    },
    {
      "cell_type": "code",
      "source": [
        "# Function for Time Series Components\n",
        "def plot_comp(actual,trend,season,irreg,name):\n",
        "\n",
        "  plt.figure(figsize=(20,20))\n",
        "  plt.subplot(4,1,1)\n",
        "  xx = plt.plot(actual,color='black')\n",
        "  plt.title(name+' Actual Data',fontsize=20,color=\"maroon\",fontweight=20)\n",
        "\n",
        "  plt.figure(figsize=(20,20))\n",
        "  plt.subplot(4,1,1)\n",
        "  yy = plt.plot(trend,color='blue')\n",
        "  plt.title(name+' Trend',fontsize=20,color=\"maroon\",fontweight=20)\n",
        "\n",
        "  plt.figure(figsize=(20,20))\n",
        "  plt.subplot(4,1,1)\n",
        "  zz = plt.plot(season,color='green')\n",
        "  plt.title(name+' Seasonality',fontsize=20,color=\"maroon\",fontweight=20)\n",
        "\n",
        "  plt.figure(figsize=(20,20))\n",
        "  plt.subplot(4,1,1)\n",
        "  aa = plt.plot(irreg,color='red')\n",
        "  plt.title(name+' Irregularity',fontsize=20,color=\"maroon\",fontweight=20)\n",
        "\n",
        "  return(xx,yy,zz,aa)"
      ],
      "metadata": {
        "id": "M_k4XDdGgZfY"
      },
      "execution_count": null,
      "outputs": []
    },
    {
      "cell_type": "code",
      "source": [
        "def stationarity_check(data):\n",
        "  p_value = adfuller(data)[1]\n",
        "  if p_value < 0.05:\n",
        "    dec = 'Model was Stationary - Proceed for Model Building'\n",
        "  else:\n",
        "    dec = 'Model was not Stationary - Take Differenced Data'\n",
        "  return(dec)"
      ],
      "metadata": {
        "id": "wLXSKljf0Jbh"
      },
      "execution_count": null,
      "outputs": []
    },
    {
      "cell_type": "code",
      "source": [
        "def plot(data):\n",
        "  return(plot_acf(res_data_diff,c='red',lags=12),plot_pacf(res_data_diff,c='red',lags=12));"
      ],
      "metadata": {
        "id": "-mbJdzbvRTkM"
      },
      "execution_count": null,
      "outputs": []
    },
    {
      "cell_type": "code",
      "source": [
        "def trend_order_iter(p,d,q):\n",
        "  lst = []\n",
        "  for i in range(p+1):\n",
        "    for j in range(q+1):\n",
        "      lst.append((i,0,j))\n",
        "  return(lst)\n",
        "\n",
        "def seasonal_order_iter(P,D,Q,L):\n",
        "  lst = []\n",
        "  for i in range(P+1):\n",
        "    for j in range(Q+1):\n",
        "      lst.append((i,D,j,L))\n",
        "  return(lst)\n",
        "\n",
        "def score_cal_1(t_lst,s_lst,data):\n",
        "  AIC = []\n",
        "  BIC = []\n",
        "  MSE = []\n",
        "  RMSE = []\n",
        "  for i in t_lst:\n",
        "    for j in s_lst:\n",
        "      model = sm.tsa.statespace.SARIMAX(data,order=i,seasonal_order=j).fit()\n",
        "      pred = model.fittedvalues\n",
        "      AIC.append(model.aic)\n",
        "      BIC.append(model.bic)\n",
        "      MSE.append(round(metrics.mean_squared_error(data,pred),3))\n",
        "      RMSE.append(round(metrics.mean_squared_error(data,pred,squared=False),3))\n",
        "  c = pd.DataFrame({'AIC':AIC,'BIC':BIC,'MSE':MSE,'RMSE':RMSE},index=lst)\n",
        "  print('Min AIC Order: ',c['AIC'].idxmin())\n",
        "  print('Min BIC Order: ',c['BIC'].idxmin())\n",
        "  print('Min MSE Order: ',c['MSE'].idxmin())\n",
        "  print('Min RMSE Order: ',c['RMSE'].idxmin())"
      ],
      "metadata": {
        "id": "YQPfvOf838ms"
      },
      "execution_count": null,
      "outputs": []
    },
    {
      "cell_type": "code",
      "source": [
        "# Ljung Box Test \n",
        "def fit_check(model):\n",
        "    pvalue = sm.stats.acorr_ljungbox(model.resid,lags=[12],return_df=True)['lb_pvalue'].values\n",
        "    if pvalue < 0.05:\n",
        "        print(\"Bad model - Build the Model Again with differnt Parameters\")\n",
        "    else:\n",
        "        print(\"Good model - Proceed for Forecasting\")"
      ],
      "metadata": {
        "id": "Y0iZUkft0yU3"
      },
      "execution_count": null,
      "outputs": []
    },
    {
      "cell_type": "code",
      "source": [
        "def error_check(data,forecast):\n",
        "    mse = round(metrics.mean_squared_error(data,forecast),3)\n",
        "    rmse = round(metrics.mean_squared_error(data,forecast,squared=False),3)\n",
        "    mae = round(metrics.mean_absolute_error(data,forecast),3)\n",
        "    mape = round(metrics.mean_absolute_percentage_error(data,forecast),3)\n",
        "    return(mse,rmse,mae,mape)\n",
        "\n",
        "def print_error(m1_mse, m1_rmse, m1_mae, m1_mape, Model):\n",
        "    print('Mean Squared Error of '+Model+' is: ',m1_mse)\n",
        "    print('Root Mean Squared Error of '+Model+' is: ',m1_rmse)\n",
        "    print('Mean Absolute Error of '+Model+' is: ',m1_mae)\n",
        "    print('Mean Absolute Percentage Error of '+Model+' is: ',m1_mape)\n",
        "    \n",
        "def aic_bic_scores(model):\n",
        "    AIC = round(model.aic,3)\n",
        "    BIC = round(model.bic,3)\n",
        "    return(AIC,BIC)\n",
        "\n",
        "def print_aic_bic(AIC, BIC, Model):\n",
        "    print('AIC Score '+Model+' is: ',AIC)\n",
        "    print('BIC Score '+Model+' is: ',BIC)"
      ],
      "metadata": {
        "id": "AMxbWp0f38v-"
      },
      "execution_count": null,
      "outputs": []
    },
    {
      "cell_type": "markdown",
      "source": [
        "## Butler Creek Lula Universal Pistol Magazine Loader"
      ],
      "metadata": {
        "id": "Ls1os2np2RnN"
      }
    },
    {
      "cell_type": "code",
      "source": [
        "# Copying Data\n",
        "df_1 = data.copy()"
      ],
      "metadata": {
        "id": "ZmsZARnKRjYp"
      },
      "execution_count": null,
      "outputs": []
    },
    {
      "cell_type": "code",
      "source": [
        "# Products which are sold more\n",
        "df_1.title.value_counts()"
      ],
      "metadata": {
        "colab": {
          "base_uri": "https://localhost:8080/"
        },
        "id": "oagTpkRUUJ_x",
        "outputId": "2dd84bac-4f41-4715-bdb2-5b2074965b07"
      },
      "execution_count": null,
      "outputs": [
        {
          "output_type": "execute_result",
          "data": {
            "text/plain": [
              "Fitbit Flex Wireless Activity + Sleep Wristband, Black                                  6016\n",
              "Butler Creek Lula Universal Pistol Magazine Loader                                      4201\n",
              "Intex Raised Downy Air Mattress - Queen                                                 3376\n",
              "Fitbit Zip Wireless Activity Tracker, Magenta                                           3344\n",
              "Howard Leight R-01526 Impact Sport Electronic Earmuff                                   3266\n",
              "                                                                                        ... \n",
              "Wilson Staff Relaxed Cap                                                                   1\n",
              "NBA Chicago Bulls Swingman Road Short - R28Ewbbu Youth                                     1\n",
              "Ranger 300 Series Landing Net (36-Inch Handle, 24 x 26-Inch Hoop, 36-Inch Net Depth)       1\n",
              "Chicago Bears NFL Superbowl Men's Varsity Jacket Coat                                      1\n",
              "Sun Mountain 2013 C-130 College Licensed Cart Bag Ohio State                               1\n",
              "Name: title, Length: 470537, dtype: int64"
            ]
          },
          "metadata": {},
          "execution_count": 40
        }
      ]
    },
    {
      "cell_type": "code",
      "source": [
        "# Mask the Data\n",
        "mask = (df_1['reviewTime'] > '2010-1-1') & (df_1['reviewTime'] <= '2013-12-31')\n",
        "df_1 = df_1.loc[mask]"
      ],
      "metadata": {
        "id": "GkxxQdUo_5Pm"
      },
      "execution_count": null,
      "outputs": []
    },
    {
      "cell_type": "code",
      "source": [
        "# Data Filtering\n",
        "data_time = df_1.loc[df_1.title == 'Butler Creek Lula Universal Pistol Magazine Loader','title']"
      ],
      "metadata": {
        "id": "JxUbU2A0UALh"
      },
      "execution_count": null,
      "outputs": []
    },
    {
      "cell_type": "code",
      "source": [
        "# Resampling the Data\n",
        "res_data = data_time.resample('M').count()"
      ],
      "metadata": {
        "id": "C7ejRPwFhlzC"
      },
      "execution_count": null,
      "outputs": []
    },
    {
      "cell_type": "code",
      "source": [
        "# Positive Time Series Data Components\n",
        "trend, season, irreg = time_series_comp(res_data)\n",
        "\n",
        "plot_comp(res_data,trend,season,irreg,'Positive')\n",
        "plt.show();"
      ],
      "metadata": {
        "id": "ODKkV5a_BAmb",
        "colab": {
          "base_uri": "https://localhost:8080/",
          "height": 1000
        },
        "outputId": "2bd704f3-c0ee-4cd5-c84c-04386e2a7ad3"
      },
      "execution_count": null,
      "outputs": [
        {
          "output_type": "display_data",
          "data": {
            "text/plain": [
              "<Figure size 1440x1440 with 1 Axes>"
            ],
            "image/png": "[encoded data removed]"
          },
          "metadata": {
            "needs_background": "light"
          }
        },
        {
          "output_type": "display_data",
          "data": {
            "text/plain": [
              "<Figure size 1440x1440 with 1 Axes>"
            ],
            "image/png": "[encoded data removed]"
          },
          "metadata": {
            "needs_background": "light"
          }
        },
        {
          "output_type": "display_data",
          "data": {
            "text/plain": [
              "<Figure size 1440x1440 with 1 Axes>"
            ],
            "image/png": "[encoded data removed]"
          },
          "metadata": {
            "needs_background": "light"
          }
        },
        {
          "output_type": "display_data",
          "data": {
            "text/plain": [
              "<Figure size 1440x1440 with 1 Axes>"
            ],
            "image/png": "[encoded data removed]"
          },
          "metadata": {
            "needs_background": "light"
          }
        }
      ]
    },
    {
      "cell_type": "code",
      "source": [
        "# Stationary Check\n",
        "stationarity_check(res_data)"
      ],
      "metadata": {
        "colab": {
          "base_uri": "https://localhost:8080/",
          "height": 36
        },
        "id": "3Xwme53UWz0L",
        "outputId": "33b5ad06-f0f9-4762-ad24-42ca2b3976d2"
      },
      "execution_count": null,
      "outputs": [
        {
          "output_type": "execute_result",
          "data": {
            "text/plain": [
              "'Model was not Stationary - Take Differenced Data'"
            ],
            "application/vnd.google.colaboratory.intrinsic+json": {
              "type": "string"
            }
          },
          "metadata": {},
          "execution_count": 45
        }
      ]
    },
    {
      "cell_type": "code",
      "source": [
        "# Differencing Data\n",
        "res_data_diff = res_data - res_data.shift(1)\n",
        "res_data_diff.dropna(inplace=True)"
      ],
      "metadata": {
        "id": "Ns4m_cX8Wz4U"
      },
      "execution_count": null,
      "outputs": []
    },
    {
      "cell_type": "code",
      "source": [
        "# Stationary Check\n",
        "stationarity_check(res_data_diff)"
      ],
      "metadata": {
        "colab": {
          "base_uri": "https://localhost:8080/",
          "height": 36
        },
        "id": "t7f2y1c-Wz6q",
        "outputId": "4affe350-146f-4dee-f22d-8715cb90e754"
      },
      "execution_count": null,
      "outputs": [
        {
          "output_type": "execute_result",
          "data": {
            "text/plain": [
              "'Model was Stationary - Proceed for Model Building'"
            ],
            "application/vnd.google.colaboratory.intrinsic+json": {
              "type": "string"
            }
          },
          "metadata": {},
          "execution_count": 47
        }
      ]
    },
    {
      "cell_type": "code",
      "source": [
        "# Plotting ACF and PACF\n",
        "plot(res_data_diff)"
      ],
      "metadata": {
        "colab": {
          "base_uri": "https://localhost:8080/",
          "height": 562
        },
        "id": "yjm6Qb-_WnO8",
        "outputId": "aba2df0f-50ea-4e83-bd18-b028c2f2789e"
      },
      "execution_count": null,
      "outputs": [
        {
          "output_type": "execute_result",
          "data": {
            "text/plain": [
              "(<Figure size 432x288 with 1 Axes>, <Figure size 432x288 with 1 Axes>)"
            ]
          },
          "metadata": {},
          "execution_count": 48
        },
        {
          "output_type": "display_data",
          "data": {
            "text/plain": [
              "<Figure size 432x288 with 1 Axes>"
            ],
            "image/png": "[encoded data removed]"
          },
          "metadata": {
            "needs_background": "light"
          }
        },
        {
          "output_type": "display_data",
          "data": {
            "text/plain": [
              "<Figure size 432x288 with 1 Axes>"
            ],
            "image/png": "[encoded data removed]"
          },
          "metadata": {
            "needs_background": "light"
          }
        }
      ]
    },
    {
      "cell_type": "code",
      "source": [
        "# Splitting Data\n",
        "sep = int(res_data.shape[0]*0.8)\n",
        "\n",
        "train = res_data[:sep+1]\n",
        "test = res_data[sep:]"
      ],
      "metadata": {
        "id": "7NWgpmZZYaRA"
      },
      "execution_count": null,
      "outputs": []
    },
    {
      "cell_type": "code",
      "source": [
        "# Model Building \n",
        "model_1 = sm.tsa.statespace.SARIMAX(train,order=(2,1,3),seasonal_order=(2,1,3,12)).fit()"
      ],
      "metadata": {
        "id": "lrO_JTDrXN6X"
      },
      "execution_count": null,
      "outputs": []
    },
    {
      "cell_type": "code",
      "source": [
        "# Fit Check\n",
        "fit_check(model_1)"
      ],
      "metadata": {
        "colab": {
          "base_uri": "https://localhost:8080/"
        },
        "id": "w4v5JvFuX4Y4",
        "outputId": "2887e49c-9038-4075-a745-ef9248960584"
      },
      "execution_count": null,
      "outputs": [
        {
          "output_type": "stream",
          "name": "stdout",
          "text": [
            "Good model - Proceed for Forecasting\n"
          ]
        }
      ]
    },
    {
      "cell_type": "code",
      "source": [
        "# Forecasting the Data\n",
        "pred = model_1.forecast(len(test)+30)"
      ],
      "metadata": {
        "id": "_lvL4eOZX4hp"
      },
      "execution_count": null,
      "outputs": []
    },
    {
      "cell_type": "code",
      "source": [
        "# Plotting Data\n",
        "plt.figure(figsize=(10,10))\n",
        "plt.plot(pred,ls='--',marker='o',mfc='black',color='red')\n",
        "plt.title('Butler Creek Lula Universal Pistol Magazine Loader',fontsize=15,fontweight = 'bold')\n",
        "plt.grid()\n",
        "plt.show();"
      ],
      "metadata": {
        "id": "cy-yjjqEojox",
        "colab": {
          "base_uri": "https://localhost:8080/",
          "height": 609
        },
        "outputId": "a7d4a1fa-9db2-424a-c97f-70936f42a9b8"
      },
      "execution_count": null,
      "outputs": [
        {
          "output_type": "display_data",
          "data": {
            "text/plain": [
              "<Figure size 720x720 with 1 Axes>"
            ],
            "image/png": "[encoded data removed]"
          },
          "metadata": {
            "needs_background": "light"
          }
        }
      ]
    },
    {
      "cell_type": "code",
      "source": [
        "# Category Finding\n",
        "X = df_1.loc[df_1.title == 'Butler Creek Lula Universal Pistol Magazine Loader','description'][:1]\n",
        "for i in X:\n",
        "  print(i)"
      ],
      "metadata": {
        "colab": {
          "base_uri": "https://localhost:8080/"
        },
        "id": "-Oe5BUb3z_vW",
        "outputId": "bb88bbce-405a-4baa-ab12-7c817dfe813f"
      },
      "execution_count": null,
      "outputs": [
        {
          "output_type": "stream",
          "name": "stdout",
          "text": [
            "Speed up and simplify the pistol loading process with the Butler Creek UpLula universal magazine loader. Compatible with virtually all 9mm, 10mm, .357, .40-, and .45-caliber mags, the loader/unloader makes filling a magazine as easy as flipping a switch. The UpLula works with both single and double stack pistols from almost all manufacturers. Shooting has never been so easy on your hands.\n"
          ]
        }
      ]
    },
    {
      "cell_type": "markdown",
      "source": [
        "## Intex Raised Downy Air Mattress - Queen"
      ],
      "metadata": {
        "id": "2MRfg0f5ZSaS"
      }
    },
    {
      "cell_type": "code",
      "source": [
        "# Copying Data\n",
        "df_1 = data.copy()"
      ],
      "metadata": {
        "id": "pwh1eppCZOsr"
      },
      "execution_count": null,
      "outputs": []
    },
    {
      "cell_type": "code",
      "source": [
        "df_1.shape"
      ],
      "metadata": {
        "colab": {
          "base_uri": "https://localhost:8080/"
        },
        "id": "O8pOos3TXD5A",
        "outputId": "c7b067da-41c2-4726-ad80-04953f07eb2a"
      },
      "execution_count": null,
      "outputs": [
        {
          "output_type": "execute_result",
          "data": {
            "text/plain": [
              "(3268695, 19)"
            ]
          },
          "metadata": {},
          "execution_count": 57
        }
      ]
    },
    {
      "cell_type": "code",
      "source": [
        "# Products which are sold more\n",
        "df_1.title.value_counts()"
      ],
      "metadata": {
        "colab": {
          "base_uri": "https://localhost:8080/"
        },
        "outputId": "e14b6535-6148-4939-a1b1-2e47368c0c76",
        "id": "ZcriWmiSZOsr"
      },
      "execution_count": null,
      "outputs": [
        {
          "output_type": "execute_result",
          "data": {
            "text/plain": [
              "Fitbit Flex Wireless Activity + Sleep Wristband, Black                                  6016\n",
              "Butler Creek Lula Universal Pistol Magazine Loader                                      4201\n",
              "Intex Raised Downy Air Mattress - Queen                                                 3376\n",
              "Fitbit Zip Wireless Activity Tracker, Magenta                                           3344\n",
              "Howard Leight R-01526 Impact Sport Electronic Earmuff                                   3266\n",
              "                                                                                        ... \n",
              "Wilson Staff Relaxed Cap                                                                   1\n",
              "NBA Chicago Bulls Swingman Road Short - R28Ewbbu Youth                                     1\n",
              "Ranger 300 Series Landing Net (36-Inch Handle, 24 x 26-Inch Hoop, 36-Inch Net Depth)       1\n",
              "Chicago Bears NFL Superbowl Men's Varsity Jacket Coat                                      1\n",
              "Sun Mountain 2013 C-130 College Licensed Cart Bag Ohio State                               1\n",
              "Name: title, Length: 470537, dtype: int64"
            ]
          },
          "metadata": {},
          "execution_count": 58
        }
      ]
    },
    {
      "cell_type": "code",
      "source": [
        "# Mask the Data\n",
        "mask = (df_1['reviewTime'] > '2010-1-1') & (df_1['reviewTime'] <= '2013-12-31')\n",
        "df_1 = df_1.loc[mask]"
      ],
      "metadata": {
        "id": "ijPeYAarZOsr"
      },
      "execution_count": null,
      "outputs": []
    },
    {
      "cell_type": "code",
      "source": [
        "# Data Filtering\n",
        "data_time = df_1.loc[df_1.title == 'Intex Raised Downy Air Mattress - Queen','title']"
      ],
      "metadata": {
        "id": "z_XJAnxnZOsr"
      },
      "execution_count": null,
      "outputs": []
    },
    {
      "cell_type": "code",
      "source": [
        "# Resampling the Data\n",
        "res_data = data_time.resample('M').count()"
      ],
      "metadata": {
        "id": "f8RyUif6ZOsr"
      },
      "execution_count": null,
      "outputs": []
    },
    {
      "cell_type": "code",
      "source": [
        "# Positive Time Series Data Components\n",
        "trend, season, irreg = time_series_comp(res_data)\n",
        "\n",
        "plot_comp(res_data,trend,season,irreg,'Positive')\n",
        "plt.show();"
      ],
      "metadata": {
        "colab": {
          "base_uri": "https://localhost:8080/",
          "height": 1000
        },
        "outputId": "60f27008-9d1e-4fb2-fc4b-2ad818dc6f5e",
        "id": "pMrBhnIgZOsr"
      },
      "execution_count": null,
      "outputs": [
        {
          "output_type": "display_data",
          "data": {
            "text/plain": [
              "<Figure size 1440x1440 with 1 Axes>"
            ],
            "image/png": "[encoded data removed]"
          },
          "metadata": {
            "needs_background": "light"
          }
        },
        {
          "output_type": "display_data",
          "data": {
            "text/plain": [
              "<Figure size 1440x1440 with 1 Axes>"
            ],
            "image/png": "[encoded data removed]"
          },
          "metadata": {
            "needs_background": "light"
          }
        },
        {
          "output_type": "display_data",
          "data": {
            "text/plain": [
              "<Figure size 1440x1440 with 1 Axes>"
            ],
            "image/png": "[encoded data removed]"
          },
          "metadata": {
            "needs_background": "light"
          }
        },
        {
          "output_type": "display_data",
          "data": {
            "text/plain": [
              "<Figure size 1440x1440 with 1 Axes>"
            ],
            "image/png": "[encoded data removed]"
          },
          "metadata": {
            "needs_background": "light"
          }
        }
      ]
    },
    {
      "cell_type": "code",
      "source": [
        "# Stationary Check\n",
        "stationarity_check(res_data)"
      ],
      "metadata": {
        "colab": {
          "base_uri": "https://localhost:8080/",
          "height": 36
        },
        "outputId": "fa6a239c-8a3e-4e23-c87a-29b0c4e6aa96",
        "id": "b86iNd06ZOss"
      },
      "execution_count": null,
      "outputs": [
        {
          "output_type": "execute_result",
          "data": {
            "text/plain": [
              "'Model was not Stationary - Take Differenced Data'"
            ],
            "application/vnd.google.colaboratory.intrinsic+json": {
              "type": "string"
            }
          },
          "metadata": {},
          "execution_count": 63
        }
      ]
    },
    {
      "cell_type": "code",
      "source": [
        "# Differencing Data\n",
        "res_data_diff = res_data - res_data.shift(1)\n",
        "res_data_diff.dropna(inplace=True)"
      ],
      "metadata": {
        "id": "tlXvpdvBZOss"
      },
      "execution_count": null,
      "outputs": []
    },
    {
      "cell_type": "code",
      "source": [
        "# Stationary Check\n",
        "stationarity_check(res_data_diff)"
      ],
      "metadata": {
        "colab": {
          "base_uri": "https://localhost:8080/",
          "height": 36
        },
        "outputId": "185b60a0-a097-48ce-90dd-0cf67468c7ea",
        "id": "oWMGtUzkZOss"
      },
      "execution_count": null,
      "outputs": [
        {
          "output_type": "execute_result",
          "data": {
            "text/plain": [
              "'Model was Stationary - Proceed for Model Building'"
            ],
            "application/vnd.google.colaboratory.intrinsic+json": {
              "type": "string"
            }
          },
          "metadata": {},
          "execution_count": 65
        }
      ]
    },
    {
      "cell_type": "code",
      "source": [
        "# Plotting ACF and PACF\n",
        "plot(res_data_diff)"
      ],
      "metadata": {
        "colab": {
          "base_uri": "https://localhost:8080/",
          "height": 562
        },
        "outputId": "7f36594a-5800-40be-dd70-1554f37f8d0a",
        "id": "0mgkMNdSZOss"
      },
      "execution_count": null,
      "outputs": [
        {
          "output_type": "execute_result",
          "data": {
            "text/plain": [
              "(<Figure size 432x288 with 1 Axes>, <Figure size 432x288 with 1 Axes>)"
            ]
          },
          "metadata": {},
          "execution_count": 66
        },
        {
          "output_type": "display_data",
          "data": {
            "text/plain": [
              "<Figure size 432x288 with 1 Axes>"
            ],
            "image/png": "[encoded data removed]"
          },
          "metadata": {
            "needs_background": "light"
          }
        },
        {
          "output_type": "display_data",
          "data": {
            "text/plain": [
              "<Figure size 432x288 with 1 Axes>"
            ],
            "image/png": "[encoded data removed]"
          },
          "metadata": {
            "needs_background": "light"
          }
        }
      ]
    },
    {
      "cell_type": "code",
      "source": [
        "# Splitting Data\n",
        "sep = int(res_data.shape[0]*0.8)\n",
        "\n",
        "train = res_data[:sep+1]\n",
        "test = res_data[sep:]"
      ],
      "metadata": {
        "id": "D4PRs0IzZOss"
      },
      "execution_count": null,
      "outputs": []
    },
    {
      "cell_type": "code",
      "source": [
        "# Model Building \n",
        "model_2 = sm.tsa.statespace.SARIMAX(train,order=(2,1,0),seasonal_order=(1,1,0,12)).fit()"
      ],
      "metadata": {
        "id": "oKw1csjYZOss"
      },
      "execution_count": null,
      "outputs": []
    },
    {
      "cell_type": "code",
      "source": [
        "# Fit Check\n",
        "fit_check(model_2)"
      ],
      "metadata": {
        "colab": {
          "base_uri": "https://localhost:8080/"
        },
        "outputId": "545408c4-abd4-4825-addb-7ba469c74cb5",
        "id": "IMNeWJeQZOss"
      },
      "execution_count": null,
      "outputs": [
        {
          "output_type": "stream",
          "name": "stdout",
          "text": [
            "Good model - Proceed for Forecasting\n"
          ]
        }
      ]
    },
    {
      "cell_type": "code",
      "source": [
        "# Forecasting the Data\n",
        "pred = model_2.forecast(len(test)+30)"
      ],
      "metadata": {
        "id": "OGo0Nc1tZOss"
      },
      "execution_count": null,
      "outputs": []
    },
    {
      "cell_type": "code",
      "source": [
        "# Plotting Data\n",
        "plt.figure(figsize=(10,10))\n",
        "plt.plot(pred,ls='--',marker='o',mfc='black',color='red')\n",
        "plt.title('Intex Raised Downy Air Mattress - Queen',fontsize=15,fontweight = 'bold')\n",
        "plt.grid()\n",
        "plt.show();"
      ],
      "metadata": {
        "colab": {
          "base_uri": "https://localhost:8080/",
          "height": 609
        },
        "outputId": "fa968fe1-b497-4a9a-cbcd-f4aaf487e304",
        "id": "HKOwxFbQZOst"
      },
      "execution_count": null,
      "outputs": [
        {
          "output_type": "display_data",
          "data": {
            "text/plain": [
              "<Figure size 720x720 with 1 Axes>"
            ],
            "image/png": "[encoded data removed]"
          },
          "metadata": {
            "needs_background": "light"
          }
        }
      ]
    },
    {
      "cell_type": "markdown",
      "source": [
        "\n",
        "\n",
        "\n",
        "---\n",
        "\n",
        "\n",
        "---\n",
        "\n",
        "\n",
        "\n",
        "---\n",
        "\n",
        "\n",
        "\n",
        "---\n",
        "\n"
      ],
      "metadata": {
        "id": "VFjSkw5a9oCU"
      }
    },
    {
      "cell_type": "markdown",
      "source": [
        "**Note :-**\n",
        "\n",
        "**Unable to further process with Imputed Data Due to the space complexity. So It is decided to Drop the Null Values**\n",
        "\n",
        "**Null Value Imputation Code Mentioned Below**"
      ],
      "metadata": {
        "id": "QIOBs97d5qoe"
      }
    },
    {
      "cell_type": "markdown",
      "source": [
        "# Imputation Part"
      ],
      "metadata": {
        "id": "RKCU7CpX3YRR"
      }
    },
    {
      "cell_type": "code",
      "execution_count": null,
      "metadata": {
        "colab": {
          "base_uri": "https://localhost:8080/"
        },
        "id": "rjAWk1hlXYND",
        "outputId": "8bb7b0f1-c7d2-4aa5-cdeb-134559398f61"
      },
      "outputs": [
        {
          "data": {
            "text/plain": [
              "asin                0\n",
              "title            2296\n",
              "price          244405\n",
              "imUrl             584\n",
              "related        144079\n",
              "brand          379710\n",
              "categories          0\n",
              "salesRank       45848\n",
              "description    129826\n",
              "dtype: int64"
            ]
          },
          "execution_count": 10,
          "metadata": {},
          "output_type": "execute_result"
        }
      ],
      "source": [
        "df1.isnull().sum()"
      ]
    },
    {
      "cell_type": "code",
      "execution_count": null,
      "metadata": {
        "id": "Dq2kLr9QXa1V"
      },
      "outputs": [],
      "source": [
        "df1.dropna(subset=[\"title\"],inplace=True)"
      ]
    },
    {
      "cell_type": "code",
      "execution_count": null,
      "metadata": {
        "colab": {
          "base_uri": "https://localhost:8080/"
        },
        "id": "QtCSZ4UhXrww",
        "outputId": "f886efb0-804f-485d-dc6f-3e30483c5be4"
      },
      "outputs": [
        {
          "data": {
            "text/plain": [
              "asin                0\n",
              "title               0\n",
              "price          243546\n",
              "imUrl               0\n",
              "related        143306\n",
              "brand          377414\n",
              "categories          0\n",
              "salesRank       45195\n",
              "description    129323\n",
              "dtype: int64"
            ]
          },
          "execution_count": 12,
          "metadata": {},
          "output_type": "execute_result"
        }
      ],
      "source": [
        "df1.isnull().sum()"
      ]
    },
    {
      "cell_type": "markdown",
      "source": [
        "## brand imputation approach- where brand name and 1st word of title is same"
      ],
      "metadata": {
        "id": "mtfJlm5J4cC9"
      }
    },
    {
      "cell_type": "code",
      "execution_count": null,
      "metadata": {
        "id": "56LvGQHVZNn-"
      },
      "outputs": [],
      "source": [
        "df=df1[[\"title\",\"brand\"]]"
      ]
    },
    {
      "cell_type": "code",
      "execution_count": null,
      "metadata": {
        "id": "C6KGG0txYWvI"
      },
      "outputs": [],
      "source": [
        "df_not_null=df[[\"title\",\"brand\"]][~df.brand.isnull()]\n",
        "df_null=df[[\"title\",\"brand\"]][df.brand.isnull()]"
      ]
    },
    {
      "cell_type": "code",
      "execution_count": null,
      "metadata": {
        "id": "q1ZjPSdTY9Ml"
      },
      "outputs": [],
      "source": [
        "dic1=dict()"
      ]
    },
    {
      "cell_type": "code",
      "execution_count": null,
      "metadata": {
        "id": "HjZHLR53ZZpJ"
      },
      "outputs": [],
      "source": [
        "brand=list(df_not_null[\"brand\"].values)\n",
        "title=list(df_not_null[\"title\"].values)\n",
        "brand_title=list(zip(brand,title))"
      ]
    },
    {
      "cell_type": "code",
      "execution_count": null,
      "metadata": {
        "id": "bE-t9mxQZbmp"
      },
      "outputs": [],
      "source": [
        "for i,j in brand_title:\n",
        "  dic1[i]=j"
      ]
    },
    {
      "cell_type": "code",
      "execution_count": null,
      "metadata": {
        "id": "AHf0Cmo4ZeF_"
      },
      "outputs": [],
      "source": [
        "dic=dict()\n",
        "for i ,j in dic1.items():\n",
        "  len_brand=len(i)\n",
        "  if i.lower()==j[:len_brand].lower():\n",
        "    dic[i]=j"
      ]
    },
    {
      "cell_type": "code",
      "execution_count": null,
      "metadata": {
        "id": "EfyVmVqF7N3F"
      },
      "outputs": [],
      "source": [
        "import numpy as np"
      ]
    },
    {
      "cell_type": "code",
      "execution_count": null,
      "metadata": {
        "id": "hLVsCdKJCCvM"
      },
      "outputs": [],
      "source": [
        "zip_list=list(zip(df_null.index,(df_null[\"title\"].values)))"
      ]
    },
    {
      "cell_type": "code",
      "execution_count": null,
      "metadata": {
        "id": "dYZPYG7-ZqJQ"
      },
      "outputs": [],
      "source": [
        "for i in dic.keys():\n",
        "  for indx,j in zip_list:\n",
        "    if i.lower()==j[:len(i)].lower():\n",
        "      df1.at[indx,\"brand\"]=i\n",
        "    else:\n",
        "      pass"
      ]
    },
    {
      "cell_type": "code",
      "execution_count": null,
      "metadata": {
        "id": "f16x8e56yD3p"
      },
      "outputs": [],
      "source": [
        "df1[\"brand\"].replace(\"\",np.nan,inplace=True)"
      ]
    },
    {
      "cell_type": "code",
      "execution_count": null,
      "metadata": {
        "colab": {
          "base_uri": "https://localhost:8080/"
        },
        "id": "1-dScHiNy0UA",
        "outputId": "94201b1a-feff-43e9-db50-9737cbc6d4a7"
      },
      "outputs": [
        {
          "data": {
            "text/plain": [
              "asin                0\n",
              "title               0\n",
              "price          243546\n",
              "imUrl               0\n",
              "related        143306\n",
              "brand          184086\n",
              "categories          0\n",
              "salesRank       45195\n",
              "description    129323\n",
              "dtype: int64"
            ]
          },
          "execution_count": 61,
          "metadata": {},
          "output_type": "execute_result"
        },
        {
          "name": "stdout",
          "output_type": "stream",
          "text": [
            "\n"
          ]
        },
        {
          "data": {
            "text/plain": [
              "asin            0.000000\n",
              "title           0.000000\n",
              "price          45.960661\n",
              "imUrl           0.000000\n",
              "related        27.043920\n",
              "brand          34.739697\n",
              "categories      0.000000\n",
              "salesRank       8.528952\n",
              "description    24.405125\n",
              "dtype: float64"
            ]
          },
          "execution_count": 61,
          "metadata": {},
          "output_type": "execute_result"
        }
      ],
      "source": [
        "df1.isnull().sum()\n",
        "print()\n",
        "df1.isnull().mean()*100"
      ]
    },
    {
      "cell_type": "code",
      "execution_count": null,
      "metadata": {
        "id": "AHM7cVKw-_vK"
      },
      "outputs": [],
      "source": [
        "df1.dropna(subset=[\"title\"],inplace=True)"
      ]
    },
    {
      "cell_type": "code",
      "execution_count": null,
      "metadata": {
        "colab": {
          "base_uri": "https://localhost:8080/"
        },
        "id": "10X9H4nn9K5P",
        "outputId": "2f23092e-7518-4aec-f7ee-7adac17c152a"
      },
      "outputs": [
        {
          "data": {
            "text/plain": [
              "asin            0.000000\n",
              "title           0.000000\n",
              "price          45.960992\n",
              "imUrl           0.000000\n",
              "related        27.043848\n",
              "brand          34.739335\n",
              "categories      0.000000\n",
              "salesRank       8.529048\n",
              "description    25.707923\n",
              "dtype: float64"
            ]
          },
          "execution_count": 25,
          "metadata": {},
          "output_type": "execute_result"
        }
      ],
      "source": [
        "df1.isnull().mean()*100"
      ]
    },
    {
      "cell_type": "code",
      "execution_count": null,
      "metadata": {
        "id": "ZjG7_j64zkXQ"
      },
      "outputs": [],
      "source": [
        "df_null=df1[[\"title\",\"brand\"]][df1.brand.isnull()]\n",
        "df_not_null=df1[[\"title\",\"brand\"]][~df1.brand.isnull()]\n"
      ]
    },
    {
      "cell_type": "code",
      "execution_count": null,
      "metadata": {
        "id": "sY9KIgW2zklQ"
      },
      "outputs": [],
      "source": [
        "df_not_null.sample(25)\n",
        "df_null.sample(25)"
      ]
    },
    {
      "cell_type": "code",
      "execution_count": null,
      "metadata": {
        "id": "TNUmWfJ9OBzf"
      },
      "outputs": [],
      "source": [
        "list(df_not_null[df_not_null.brand==\"Unknown\"].values)"
      ]
    },
    {
      "cell_type": "code",
      "execution_count": null,
      "metadata": {
        "id": "rIr38W4hOnE6"
      },
      "outputs": [],
      "source": [
        "df1[df1.title==\"Girls Ballet Tutu Neon Pink\"]"
      ]
    },
    {
      "cell_type": "code",
      "execution_count": null,
      "metadata": {
        "id": "7NZOHDQ5Pxf4"
      },
      "outputs": [],
      "source": [
        "df1.sample"
      ]
    },
    {
      "cell_type": "code",
      "execution_count": null,
      "metadata": {
        "id": "Ki1pmCs1OZN2"
      },
      "outputs": [],
      "source": [
        "df_not_null.sample(25)"
      ]
    },
    {
      "cell_type": "code",
      "execution_count": null,
      "metadata": {
        "id": "lhWV3EdCJMPo"
      },
      "outputs": [],
      "source": [
        "list(df_null[\"title\"].values)"
      ]
    },
    {
      "cell_type": "code",
      "execution_count": null,
      "metadata": {
        "id": "cHOWx4l3JGQd"
      },
      "outputs": [],
      "source": [
        "list(df1[df1.brand==\"BLACK\"][[\"title\"]].values)"
      ]
    },
    {
      "cell_type": "code",
      "execution_count": null,
      "metadata": {
        "id": "rnciMNHzJvMI"
      },
      "outputs": [],
      "source": [
        "list(df_not_null[df_not_null.brand==\"BLACK\"][[\"title\"]].values)"
      ]
    },
    {
      "cell_type": "code",
      "execution_count": null,
      "metadata": {
        "id": "S5oucK4h6wnd"
      },
      "outputs": [],
      "source": [
        "b='Kobwa(TM) Ultraviolet-Proof Folding Umbrella Hat With Adjustable Headband With Keyring'"
      ]
    },
    {
      "cell_type": "code",
      "execution_count": null,
      "metadata": {
        "colab": {
          "base_uri": "https://localhost:8080/"
        },
        "id": "0_tB1cQ956HT",
        "outputId": "6aecbfe3-a31e-464d-c30a-aa85b689adf7"
      },
      "outputs": [
        {
          "data": {
            "text/plain": [
              "True"
            ]
          },
          "execution_count": 10,
          "metadata": {},
          "output_type": "execute_result"
        }
      ],
      "source": [
        "\"kobwa\" in b.lower()"
      ]
    },
    {
      "cell_type": "code",
      "execution_count": null,
      "metadata": {
        "id": "RoJEgtl20ls6"
      },
      "outputs": [],
      "source": [
        "df1[df1.brand==\"Kobwa\"][[\"title\"]].values"
      ]
    },
    {
      "cell_type": "code",
      "execution_count": null,
      "metadata": {
        "id": "O9eTrHNV545b"
      },
      "outputs": [],
      "source": [
        "df1.loc[532196]"
      ]
    },
    {
      "cell_type": "code",
      "execution_count": null,
      "metadata": {
        "id": "_26h0pKEleTx"
      },
      "outputs": [],
      "source": [
        "df_null=df1[[\"title\",\"brand\"]][df1.brand.isnull()]"
      ]
    },
    {
      "cell_type": "code",
      "execution_count": null,
      "metadata": {
        "id": "YBGcIuAal2rv"
      },
      "outputs": [],
      "source": [
        "df_null"
      ]
    },
    {
      "cell_type": "code",
      "execution_count": null,
      "metadata": {
        "id": "eyP7vbyKl4Zx"
      },
      "outputs": [],
      "source": [
        "## price imputation"
      ]
    },
    {
      "cell_type": "code",
      "execution_count": null,
      "metadata": {
        "id": "GiNs5wpxVe0f"
      },
      "outputs": [],
      "source": [
        "df1.sample(2)"
      ]
    },
    {
      "cell_type": "code",
      "execution_count": null,
      "metadata": {
        "colab": {
          "base_uri": "https://localhost:8080/"
        },
        "id": "I-aZS3LaViA-",
        "outputId": "fce0bb54-79b2-4fe4-ab1d-0103b3be43ba"
      },
      "outputs": [
        {
          "data": {
            "text/plain": [
              "asin            0.000000\n",
              "title           0.000000\n",
              "price          45.960992\n",
              "imUrl           0.000000\n",
              "related        27.043848\n",
              "brand          34.739335\n",
              "categories      0.000000\n",
              "salesRank       8.529048\n",
              "description    25.707923\n",
              "dtype: float64"
            ]
          },
          "execution_count": 27,
          "metadata": {},
          "output_type": "execute_result"
        }
      ],
      "source": [
        "df1.isnull().mean()*100"
      ]
    },
    {
      "cell_type": "code",
      "execution_count": null,
      "metadata": {
        "colab": {
          "base_uri": "https://localhost:8080/"
        },
        "id": "yxNf0oIZXXqn",
        "outputId": "763d4451-6521-4789-ae36-e03a95d15911"
      },
      "outputs": [
        {
          "data": {
            "text/plain": [
              "476134"
            ]
          },
          "execution_count": 28,
          "metadata": {},
          "output_type": "execute_result"
        }
      ],
      "source": [
        "len(list(df1[\"imUrl\"].unique()))"
      ]
    },
    {
      "cell_type": "code",
      "execution_count": null,
      "metadata": {
        "id": "vT_hLhGuZYkh"
      },
      "outputs": [],
      "source": [
        "list(df1[df1[\"imUrl\"].duplicated()][[\"title\",\"imUrl\"]][\"imUrl\"].unique())"
      ]
    },
    {
      "cell_type": "code",
      "execution_count": null,
      "metadata": {
        "colab": {
          "base_uri": "https://localhost:8080/",
          "height": 225
        },
        "id": "TWpE-xcCaXVq",
        "outputId": "2a988e7c-9b7e-458b-f114-f685ac7e1946"
      },
      "outputs": [
        {
          "data": {
            "text/html": [
              "\n",
              "  <div id=\"df-3396ea72-5ff5-4d56-913b-338dd30c3d96\">\n",
              "    <div class=\"colab-df-container\">\n",
              "      <div>\n",
              "<style scoped>\n",
              "    .dataframe tbody tr th:only-of-type {\n",
              "        vertical-align: middle;\n",
              "    }\n",
              "\n",
              "    .dataframe tbody tr th {\n",
              "        vertical-align: top;\n",
              "    }\n",
              "\n",
              "    .dataframe thead th {\n",
              "        text-align: right;\n",
              "    }\n",
              "</style>\n",
              "<table border=\"1\" class=\"dataframe\">\n",
              "  <thead>\n",
              "    <tr style=\"text-align: right;\">\n",
              "      <th></th>\n",
              "      <th>asin</th>\n",
              "      <th>title</th>\n",
              "      <th>price</th>\n",
              "      <th>imUrl</th>\n",
              "      <th>related</th>\n",
              "      <th>brand</th>\n",
              "      <th>categories</th>\n",
              "      <th>salesRank</th>\n",
              "      <th>description</th>\n",
              "    </tr>\n",
              "  </thead>\n",
              "  <tbody>\n",
              "    <tr>\n",
              "      <th>3806</th>\n",
              "      <td>B0000C4LOU</td>\n",
              "      <td>Olympic Style Jump Rope, 8'(yellow &amp;amp; white)</td>\n",
              "      <td>6.67</td>\n",
              "      <td>http://ecx.images-amazon.com/images/I/41zECUwc...</td>\n",
              "      <td>{'also_bought': ['B0000C4LOT', 'B0013CGEXQ', '...</td>\n",
              "      <td>Balego USA</td>\n",
              "      <td>[['Sports &amp; Outdoors', 'Exercise &amp; Fitness', '...</td>\n",
              "      <td>{'Sports &amp;amp; Outdoors': 82040}</td>\n",
              "      <td>The CSI Cannon Sports Olympic 8 foot jump rope...</td>\n",
              "    </tr>\n",
              "    <tr>\n",
              "      <th>3815</th>\n",
              "      <td>B0000C4LOX</td>\n",
              "      <td>16' Segmented rope. Red/White/Blue.</td>\n",
              "      <td>7.35</td>\n",
              "      <td>http://ecx.images-amazon.com/images/I/41zECUwc...</td>\n",
              "      <td>{'also_viewed': ['B0073LU1NA', 'B00KHR9NBS'], ...</td>\n",
              "      <td>NaN</td>\n",
              "      <td>[['Sports &amp; Outdoors', 'Exercise &amp; Fitness', '...</td>\n",
              "      <td>{'Sports &amp;amp; Outdoors': 291941}</td>\n",
              "      <td>NaN</td>\n",
              "    </tr>\n",
              "  </tbody>\n",
              "</table>\n",
              "</div>\n",
              "      <button class=\"colab-df-convert\" onclick=\"convertToInteractive('df-3396ea72-5ff5-4d56-913b-338dd30c3d96')\"\n",
              "              title=\"Convert this dataframe to an interactive table.\"\n",
              "              style=\"display:none;\">\n",
              "        \n",
              "  <svg xmlns=\"http://www.w3.org/2000/svg\" height=\"24px\"viewBox=\"0 0 24 24\"\n",
              "       width=\"24px\">\n",
              "    <path d=\"M0 0h24v24H0V0z\" fill=\"none\"/>\n",
              "    <path d=\"M18.56 5.44l.94 2.06.94-2.06 2.06-.94-2.06-.94-.94-2.06-.94 2.06-2.06.94zm-11 1L8.5 8.5l.94-2.06 2.06-.94-2.06-.94L8.5 2.5l-.94 2.06-2.06.94zm10 10l.94 2.06.94-2.06 2.06-.94-2.06-.94-.94-2.06-.94 2.06-2.06.94z\"/><path d=\"M17.41 7.96l-1.37-1.37c-.4-.4-.92-.59-1.43-.59-.52 0-1.04.2-1.43.59L10.3 9.45l-7.72 7.72c-.78.78-.78 2.05 0 2.83L4 21.41c.39.39.9.59 1.41.59.51 0 1.02-.2 1.41-.59l7.78-7.78 2.81-2.81c.8-.78.8-2.07 0-2.86zM5.41 20L4 18.59l7.72-7.72 1.47 1.35L5.41 20z\"/>\n",
              "  </svg>\n",
              "      </button>\n",
              "      \n",
              "  <style>\n",
              "    .colab-df-container {\n",
              "      display:flex;\n",
              "      flex-wrap:wrap;\n",
              "      gap: 12px;\n",
              "    }\n",
              "\n",
              "    .colab-df-convert {\n",
              "      background-color: #E8F0FE;\n",
              "      border: none;\n",
              "      border-radius: 50%;\n",
              "      cursor: pointer;\n",
              "      display: none;\n",
              "      fill: #1967D2;\n",
              "      height: 32px;\n",
              "      padding: 0 0 0 0;\n",
              "      width: 32px;\n",
              "    }\n",
              "\n",
              "    .colab-df-convert:hover {\n",
              "      background-color: #E2EBFA;\n",
              "      box-shadow: 0px 1px 2px rgba(60, 64, 67, 0.3), 0px 1px 3px 1px rgba(60, 64, 67, 0.15);\n",
              "      fill: #174EA6;\n",
              "    }\n",
              "\n",
              "    [theme=dark] .colab-df-convert {\n",
              "      background-color: #3B4455;\n",
              "      fill: #D2E3FC;\n",
              "    }\n",
              "\n",
              "    [theme=dark] .colab-df-convert:hover {\n",
              "      background-color: #434B5C;\n",
              "      box-shadow: 0px 1px 3px 1px rgba(0, 0, 0, 0.15);\n",
              "      filter: drop-shadow(0px 1px 2px rgba(0, 0, 0, 0.3));\n",
              "      fill: #FFFFFF;\n",
              "    }\n",
              "  </style>\n",
              "\n",
              "      <script>\n",
              "        const buttonEl =\n",
              "          document.querySelector('#df-3396ea72-5ff5-4d56-913b-338dd30c3d96 button.colab-df-convert');\n",
              "        buttonEl.style.display =\n",
              "          google.colab.kernel.accessAllowed ? 'block' : 'none';\n",
              "\n",
              "        async function convertToInteractive(key) {\n",
              "          const element = document.querySelector('#df-3396ea72-5ff5-4d56-913b-338dd30c3d96');\n",
              "          const dataTable =\n",
              "            await google.colab.kernel.invokeFunction('convertToInteractive',\n",
              "                                                     [key], {});\n",
              "          if (!dataTable) return;\n",
              "\n",
              "          const docLinkHtml = 'Like what you see? Visit the ' +\n",
              "            '<a target=\"_blank\" href=https://colab.research.google.com/notebooks/data_table.ipynb>data table notebook</a>'\n",
              "            + ' to learn more about interactive tables.';\n",
              "          element.innerHTML = '';\n",
              "          dataTable['output_type'] = 'display_data';\n",
              "          await google.colab.output.renderOutput(dataTable, element);\n",
              "          const docLink = document.createElement('div');\n",
              "          docLink.innerHTML = docLinkHtml;\n",
              "          element.appendChild(docLink);\n",
              "        }\n",
              "      </script>\n",
              "    </div>\n",
              "  </div>\n",
              "  "
            ],
            "text/plain": [
              "            asin                                            title  price  \\\n",
              "3806  B0000C4LOU  Olympic Style Jump Rope, 8'(yellow &amp; white)   6.67   \n",
              "3815  B0000C4LOX              16' Segmented rope. Red/White/Blue.   7.35   \n",
              "\n",
              "                                                  imUrl  \\\n",
              "3806  http://ecx.images-amazon.com/images/I/41zECUwc...   \n",
              "3815  http://ecx.images-amazon.com/images/I/41zECUwc...   \n",
              "\n",
              "                                                related       brand  \\\n",
              "3806  {'also_bought': ['B0000C4LOT', 'B0013CGEXQ', '...  Balego USA   \n",
              "3815  {'also_viewed': ['B0073LU1NA', 'B00KHR9NBS'], ...         NaN   \n",
              "\n",
              "                                             categories  \\\n",
              "3806  [['Sports & Outdoors', 'Exercise & Fitness', '...   \n",
              "3815  [['Sports & Outdoors', 'Exercise & Fitness', '...   \n",
              "\n",
              "                              salesRank  \\\n",
              "3806   {'Sports &amp; Outdoors': 82040}   \n",
              "3815  {'Sports &amp; Outdoors': 291941}   \n",
              "\n",
              "                                            description  \n",
              "3806  The CSI Cannon Sports Olympic 8 foot jump rope...  \n",
              "3815                                                NaN  "
            ]
          },
          "execution_count": 30,
          "metadata": {},
          "output_type": "execute_result"
        }
      ],
      "source": [
        "df1[df1.imUrl== 'http://ecx.images-amazon.com/images/I/41zECUwcHqL._SX300_.jpg']"
      ]
    },
    {
      "cell_type": "markdown",
      "metadata": {
        "id": "tXR0yBDx-VRF"
      },
      "source": [
        "## 2nd method: brand imputation approach:- same url has same brand name\n"
      ]
    },
    {
      "cell_type": "code",
      "execution_count": null,
      "metadata": {
        "id": "7cTrysYEbo97"
      },
      "outputs": [],
      "source": [
        "df_null=df1[[\"imUrl\",\"brand\"]][df1.brand.isnull()]\n",
        "df_not_null=df1[[\"imUrl\",\"brand\"]][~df1.brand.isnull()]"
      ]
    },
    {
      "cell_type": "code",
      "execution_count": null,
      "metadata": {
        "id": "UGbLzwZXgd1-"
      },
      "outputs": [],
      "source": [
        "dic1=dict()"
      ]
    },
    {
      "cell_type": "code",
      "execution_count": null,
      "metadata": {
        "id": "h4JS-CMPhJlO"
      },
      "outputs": [],
      "source": [
        "url=list(df_not_null[\"imUrl\"].values)\n",
        "brand=list(df_not_null[\"brand\"].values)\n",
        "url_brand=list(zip(url,brand))"
      ]
    },
    {
      "cell_type": "code",
      "execution_count": null,
      "metadata": {
        "id": "g89ka_wphhBO"
      },
      "outputs": [],
      "source": [
        "for i,j in url_brand:\n",
        "  dic1[i]=j"
      ]
    },
    {
      "cell_type": "code",
      "execution_count": null,
      "metadata": {
        "id": "A9cKnjK5h5LC"
      },
      "outputs": [],
      "source": [
        "zip_list=list(zip(df_null.index,(df_null[\"imUrl\"].values)))"
      ]
    },
    {
      "cell_type": "code",
      "execution_count": null,
      "metadata": {
        "id": "2PL0MgafkWEQ"
      },
      "outputs": [],
      "source": [
        "for  i,k in dic1.items():\n",
        "  for indx,j in zip_list:\n",
        "    if i == j:\n",
        "      df1.at[indx,\"brand\"]=k\n",
        "    else:\n",
        "      pass"
      ]
    },
    {
      "cell_type": "code",
      "execution_count": null,
      "metadata": {
        "colab": {
          "base_uri": "https://localhost:8080/"
        },
        "id": "dav-_sZ1VwXY",
        "outputId": "55be0995-1a4e-432e-a987-25e372b27f25"
      },
      "outputs": [
        {
          "data": {
            "text/plain": [
              "NFL Men's Victory Pride Long Sleeve V-Neck T-Shirt                                                                                     60\n",
              "Paracord Planet 10', 25', 50', 100' Hanks &amp; 250', 1000' Spools of Parachute 550 Cord Type III 7 Strand Paracord Over 200 Colors    58\n",
              "NEXT LEVEL T-Shirts 6933 NL Ldy TerTk                                                                                                  57\n",
              "Women's NFL V-Neck Tee                                                                                                                 52\n",
              "Men's NFL Basic Tee                                                                                                                    44\n",
              "                                                                                                                                       ..\n",
              "Harrows 58433 Magnum 97% Tungsten Steel Tip Dart (25-gram)                                                                              1\n",
              "NFL Denver Broncos Signature Series Team Full Size Footballs                                                                            1\n",
              "NCAA South Carolina Fighting Gamecocks 3-by-5 foot Flag                                                                                 1\n",
              "NHL Playoff / Standings Board                                                                                                           1\n",
              "Apache Paracord Type III 7 Strand 550 Paracord - Made in the USA - Largest in Stock Selection of Paracord Colors                        1\n",
              "Name: title, Length: 483758, dtype: int64"
            ]
          },
          "execution_count": 7,
          "metadata": {},
          "output_type": "execute_result"
        }
      ],
      "source": [
        "df1[\"title\"].value_counts()"
      ]
    },
    {
      "cell_type": "code",
      "execution_count": null,
      "metadata": {
        "colab": {
          "base_uri": "https://localhost:8080/"
        },
        "id": "LrBWqkiGtCwx",
        "outputId": "32de877a-3fef-48b5-a159-86ce9e781dff"
      },
      "outputs": [
        {
          "data": {
            "text/plain": [
              "asin            0.000000\n",
              "title           0.000000\n",
              "price          45.960992\n",
              "imUrl           0.000000\n",
              "related        27.043848\n",
              "brand          34.117325\n",
              "categories      0.000000\n",
              "salesRank       8.529048\n",
              "description    25.707923\n",
              "dtype: float64"
            ]
          },
          "execution_count": 72,
          "metadata": {},
          "output_type": "execute_result"
        }
      ],
      "source": [
        "df1.isnull().mean()*100"
      ]
    },
    {
      "cell_type": "code",
      "execution_count": null,
      "metadata": {
        "colab": {
          "base_uri": "https://localhost:8080/",
          "height": 335
        },
        "id": "E0Fcs_zxuxxn",
        "outputId": "ec5da630-a4a7-475b-e85e-760a39f14b24"
      },
      "outputs": [
        {
          "name": "stderr",
          "output_type": "stream",
          "text": [
            "/usr/local/lib/python3.7/dist-packages/ipykernel_launcher.py:1: UserWarning: Boolean Series key will be reindexed to match DataFrame index.\n",
            "  \"\"\"Entry point for launching an IPython kernel.\n"
          ]
        },
        {
          "data": {
            "text/html": [
              "\n",
              "  <div id=\"df-857fca61-3571-487c-a21b-c44aeb7a4c4b\">\n",
              "    <div class=\"colab-df-container\">\n",
              "      <div>\n",
              "<style scoped>\n",
              "    .dataframe tbody tr th:only-of-type {\n",
              "        vertical-align: middle;\n",
              "    }\n",
              "\n",
              "    .dataframe tbody tr th {\n",
              "        vertical-align: top;\n",
              "    }\n",
              "\n",
              "    .dataframe thead th {\n",
              "        text-align: right;\n",
              "    }\n",
              "</style>\n",
              "<table border=\"1\" class=\"dataframe\">\n",
              "  <thead>\n",
              "    <tr style=\"text-align: right;\">\n",
              "      <th></th>\n",
              "      <th>price</th>\n",
              "    </tr>\n",
              "  </thead>\n",
              "  <tbody>\n",
              "    <tr>\n",
              "      <th>count</th>\n",
              "      <td>982.000000</td>\n",
              "    </tr>\n",
              "    <tr>\n",
              "      <th>mean</th>\n",
              "      <td>40.321466</td>\n",
              "    </tr>\n",
              "    <tr>\n",
              "      <th>std</th>\n",
              "      <td>41.393832</td>\n",
              "    </tr>\n",
              "    <tr>\n",
              "      <th>min</th>\n",
              "      <td>0.100000</td>\n",
              "    </tr>\n",
              "    <tr>\n",
              "      <th>25%</th>\n",
              "      <td>18.002500</td>\n",
              "    </tr>\n",
              "    <tr>\n",
              "      <th>50%</th>\n",
              "      <td>27.950000</td>\n",
              "    </tr>\n",
              "    <tr>\n",
              "      <th>75%</th>\n",
              "      <td>45.000000</td>\n",
              "    </tr>\n",
              "    <tr>\n",
              "      <th>max</th>\n",
              "      <td>599.990000</td>\n",
              "    </tr>\n",
              "  </tbody>\n",
              "</table>\n",
              "</div>\n",
              "      <button class=\"colab-df-convert\" onclick=\"convertToInteractive('df-857fca61-3571-487c-a21b-c44aeb7a4c4b')\"\n",
              "              title=\"Convert this dataframe to an interactive table.\"\n",
              "              style=\"display:none;\">\n",
              "        \n",
              "  <svg xmlns=\"http://www.w3.org/2000/svg\" height=\"24px\"viewBox=\"0 0 24 24\"\n",
              "       width=\"24px\">\n",
              "    <path d=\"M0 0h24v24H0V0z\" fill=\"none\"/>\n",
              "    <path d=\"M18.56 5.44l.94 2.06.94-2.06 2.06-.94-2.06-.94-.94-2.06-.94 2.06-2.06.94zm-11 1L8.5 8.5l.94-2.06 2.06-.94-2.06-.94L8.5 2.5l-.94 2.06-2.06.94zm10 10l.94 2.06.94-2.06 2.06-.94-2.06-.94-.94-2.06-.94 2.06-2.06.94z\"/><path d=\"M17.41 7.96l-1.37-1.37c-.4-.4-.92-.59-1.43-.59-.52 0-1.04.2-1.43.59L10.3 9.45l-7.72 7.72c-.78.78-.78 2.05 0 2.83L4 21.41c.39.39.9.59 1.41.59.51 0 1.02-.2 1.41-.59l7.78-7.78 2.81-2.81c.8-.78.8-2.07 0-2.86zM5.41 20L4 18.59l7.72-7.72 1.47 1.35L5.41 20z\"/>\n",
              "  </svg>\n",
              "      </button>\n",
              "      \n",
              "  <style>\n",
              "    .colab-df-container {\n",
              "      display:flex;\n",
              "      flex-wrap:wrap;\n",
              "      gap: 12px;\n",
              "    }\n",
              "\n",
              "    .colab-df-convert {\n",
              "      background-color: #E8F0FE;\n",
              "      border: none;\n",
              "      border-radius: 50%;\n",
              "      cursor: pointer;\n",
              "      display: none;\n",
              "      fill: #1967D2;\n",
              "      height: 32px;\n",
              "      padding: 0 0 0 0;\n",
              "      width: 32px;\n",
              "    }\n",
              "\n",
              "    .colab-df-convert:hover {\n",
              "      background-color: #E2EBFA;\n",
              "      box-shadow: 0px 1px 2px rgba(60, 64, 67, 0.3), 0px 1px 3px 1px rgba(60, 64, 67, 0.15);\n",
              "      fill: #174EA6;\n",
              "    }\n",
              "\n",
              "    [theme=dark] .colab-df-convert {\n",
              "      background-color: #3B4455;\n",
              "      fill: #D2E3FC;\n",
              "    }\n",
              "\n",
              "    [theme=dark] .colab-df-convert:hover {\n",
              "      background-color: #434B5C;\n",
              "      box-shadow: 0px 1px 3px 1px rgba(0, 0, 0, 0.15);\n",
              "      filter: drop-shadow(0px 1px 2px rgba(0, 0, 0, 0.3));\n",
              "      fill: #FFFFFF;\n",
              "    }\n",
              "  </style>\n",
              "\n",
              "      <script>\n",
              "        const buttonEl =\n",
              "          document.querySelector('#df-857fca61-3571-487c-a21b-c44aeb7a4c4b button.colab-df-convert');\n",
              "        buttonEl.style.display =\n",
              "          google.colab.kernel.accessAllowed ? 'block' : 'none';\n",
              "\n",
              "        async function convertToInteractive(key) {\n",
              "          const element = document.querySelector('#df-857fca61-3571-487c-a21b-c44aeb7a4c4b');\n",
              "          const dataTable =\n",
              "            await google.colab.kernel.invokeFunction('convertToInteractive',\n",
              "                                                     [key], {});\n",
              "          if (!dataTable) return;\n",
              "\n",
              "          const docLinkHtml = 'Like what you see? Visit the ' +\n",
              "            '<a target=\"_blank\" href=https://colab.research.google.com/notebooks/data_table.ipynb>data table notebook</a>'\n",
              "            + ' to learn more about interactive tables.';\n",
              "          element.innerHTML = '';\n",
              "          dataTable['output_type'] = 'display_data';\n",
              "          await google.colab.output.renderOutput(dataTable, element);\n",
              "          const docLink = document.createElement('div');\n",
              "          docLink.innerHTML = docLinkHtml;\n",
              "          element.appendChild(docLink);\n",
              "        }\n",
              "      </script>\n",
              "    </div>\n",
              "  </div>\n",
              "  "
            ],
            "text/plain": [
              "            price\n",
              "count  982.000000\n",
              "mean    40.321466\n",
              "std     41.393832\n",
              "min      0.100000\n",
              "25%     18.002500\n",
              "50%     27.950000\n",
              "75%     45.000000\n",
              "max    599.990000"
            ]
          },
          "execution_count": 54,
          "metadata": {},
          "output_type": "execute_result"
        }
      ],
      "source": [
        "df1[df1.brand==\"Nike\"][[\"price\",\"brand\",\"title\"]][~df1.price.isnull()].describe()"
      ]
    },
    {
      "cell_type": "code",
      "execution_count": null,
      "metadata": {
        "colab": {
          "base_uri": "https://localhost:8080/"
        },
        "id": "BJEf_LLmDp0P",
        "outputId": "d7adf7b6-5635-4738-b856-bf5ef91c8315"
      },
      "outputs": [
        {
          "data": {
            "text/plain": [
              "Columb               3664\n",
              "Nike                 3508\n",
              "NHL                  3398\n",
              "NBA                  3130\n",
              "DE                   2996\n",
              "                     ... \n",
              "HARTZ                   1\n",
              "Famous Trails           1\n",
              "Legion Sleeves          1\n",
              "Winchester Knives       1\n",
              "GoodyPlus               1\n",
              "Name: brand, Length: 14161, dtype: int64"
            ]
          },
          "execution_count": 47,
          "metadata": {},
          "output_type": "execute_result"
        }
      ],
      "source": [
        "df1[\"brand\"].value_counts()"
      ]
    },
    {
      "cell_type": "markdown",
      "metadata": {
        "id": "K5629np231Bq"
      },
      "source": [
        "## Price imputation"
      ]
    },
    {
      "cell_type": "code",
      "execution_count": null,
      "metadata": {
        "id": "_vOrcNKwD1RL"
      },
      "outputs": [],
      "source": [
        "df_null=df1[[\"brand\",\"title\",\"price\"]][df1.price.isnull()]\n",
        "df_not_null=df1[[\"brand\",\"title\",\"price\"]][~df1.price.isnull()]"
      ]
    },
    {
      "cell_type": "code",
      "execution_count": null,
      "metadata": {
        "colab": {
          "base_uri": "https://localhost:8080/",
          "height": 424
        },
        "id": "vrlvXgfVqJRc",
        "outputId": "caea246c-263c-4da3-fd65-4e91aef89561"
      },
      "outputs": [
        {
          "data": {
            "text/html": [
              "\n",
              "  <div id=\"df-1e9b4a8a-b072-4bf4-9279-6157f6cbf815\">\n",
              "    <div class=\"colab-df-container\">\n",
              "      <div>\n",
              "<style scoped>\n",
              "    .dataframe tbody tr th:only-of-type {\n",
              "        vertical-align: middle;\n",
              "    }\n",
              "\n",
              "    .dataframe tbody tr th {\n",
              "        vertical-align: top;\n",
              "    }\n",
              "\n",
              "    .dataframe thead th {\n",
              "        text-align: right;\n",
              "    }\n",
              "</style>\n",
              "<table border=\"1\" class=\"dataframe\">\n",
              "  <thead>\n",
              "    <tr style=\"text-align: right;\">\n",
              "      <th></th>\n",
              "      <th>brand</th>\n",
              "      <th>title</th>\n",
              "      <th>price</th>\n",
              "    </tr>\n",
              "  </thead>\n",
              "  <tbody>\n",
              "    <tr>\n",
              "      <th>1</th>\n",
              "      <td>Unknown</td>\n",
              "      <td>Girls Ballet Tutu Neon Pink</td>\n",
              "      <td>7.00</td>\n",
              "    </tr>\n",
              "    <tr>\n",
              "      <th>115</th>\n",
              "      <td>Unknown</td>\n",
              "      <td>Shawnee National Forest Map - Waterproof</td>\n",
              "      <td>19.00</td>\n",
              "    </tr>\n",
              "    <tr>\n",
              "      <th>808</th>\n",
              "      <td>Unknown</td>\n",
              "      <td>McFarlane Toys MLB Sports Picks Series 2 Actio...</td>\n",
              "      <td>24.27</td>\n",
              "    </tr>\n",
              "    <tr>\n",
              "      <th>809</th>\n",
              "      <td>Unknown</td>\n",
              "      <td>McFarlane Sportspicks: MLB Series 3 Curt Schil...</td>\n",
              "      <td>9.99</td>\n",
              "    </tr>\n",
              "    <tr>\n",
              "      <th>814</th>\n",
              "      <td>Unknown</td>\n",
              "      <td>Boston Red Sox Nomar Garciapappa Series 2 McFa...</td>\n",
              "      <td>11.33</td>\n",
              "    </tr>\n",
              "    <tr>\n",
              "      <th>...</th>\n",
              "      <td>...</td>\n",
              "      <td>...</td>\n",
              "      <td>...</td>\n",
              "    </tr>\n",
              "    <tr>\n",
              "      <th>520086</th>\n",
              "      <td>Unknown</td>\n",
              "      <td>Seattle Seahawks Super Bowl XLVIII Champions N...</td>\n",
              "      <td>50.94</td>\n",
              "    </tr>\n",
              "    <tr>\n",
              "      <th>520119</th>\n",
              "      <td>Unknown</td>\n",
              "      <td>Taylor Made Lethal Mint Refinished Golf Balls</td>\n",
              "      <td>15.98</td>\n",
              "    </tr>\n",
              "    <tr>\n",
              "      <th>520513</th>\n",
              "      <td>Unknown</td>\n",
              "      <td>Miami Dolphins Beach/Bath Towel</td>\n",
              "      <td>14.97</td>\n",
              "    </tr>\n",
              "    <tr>\n",
              "      <th>520792</th>\n",
              "      <td>Unknown</td>\n",
              "      <td>Mickey Hands Black Leopard Print Men's Snapbac...</td>\n",
              "      <td>14.90</td>\n",
              "    </tr>\n",
              "    <tr>\n",
              "      <th>527612</th>\n",
              "      <td>Unknown</td>\n",
              "      <td>Denny Hamlin 2014 FedEx Ground #11 1:64</td>\n",
              "      <td>7.49</td>\n",
              "    </tr>\n",
              "  </tbody>\n",
              "</table>\n",
              "<p>696 rows × 3 columns</p>\n",
              "</div>\n",
              "      <button class=\"colab-df-convert\" onclick=\"convertToInteractive('df-1e9b4a8a-b072-4bf4-9279-6157f6cbf815')\"\n",
              "              title=\"Convert this dataframe to an interactive table.\"\n",
              "              style=\"display:none;\">\n",
              "        \n",
              "  <svg xmlns=\"http://www.w3.org/2000/svg\" height=\"24px\"viewBox=\"0 0 24 24\"\n",
              "       width=\"24px\">\n",
              "    <path d=\"M0 0h24v24H0V0z\" fill=\"none\"/>\n",
              "    <path d=\"M18.56 5.44l.94 2.06.94-2.06 2.06-.94-2.06-.94-.94-2.06-.94 2.06-2.06.94zm-11 1L8.5 8.5l.94-2.06 2.06-.94-2.06-.94L8.5 2.5l-.94 2.06-2.06.94zm10 10l.94 2.06.94-2.06 2.06-.94-2.06-.94-.94-2.06-.94 2.06-2.06.94z\"/><path d=\"M17.41 7.96l-1.37-1.37c-.4-.4-.92-.59-1.43-.59-.52 0-1.04.2-1.43.59L10.3 9.45l-7.72 7.72c-.78.78-.78 2.05 0 2.83L4 21.41c.39.39.9.59 1.41.59.51 0 1.02-.2 1.41-.59l7.78-7.78 2.81-2.81c.8-.78.8-2.07 0-2.86zM5.41 20L4 18.59l7.72-7.72 1.47 1.35L5.41 20z\"/>\n",
              "  </svg>\n",
              "      </button>\n",
              "      \n",
              "  <style>\n",
              "    .colab-df-container {\n",
              "      display:flex;\n",
              "      flex-wrap:wrap;\n",
              "      gap: 12px;\n",
              "    }\n",
              "\n",
              "    .colab-df-convert {\n",
              "      background-color: #E8F0FE;\n",
              "      border: none;\n",
              "      border-radius: 50%;\n",
              "      cursor: pointer;\n",
              "      display: none;\n",
              "      fill: #1967D2;\n",
              "      height: 32px;\n",
              "      padding: 0 0 0 0;\n",
              "      width: 32px;\n",
              "    }\n",
              "\n",
              "    .colab-df-convert:hover {\n",
              "      background-color: #E2EBFA;\n",
              "      box-shadow: 0px 1px 2px rgba(60, 64, 67, 0.3), 0px 1px 3px 1px rgba(60, 64, 67, 0.15);\n",
              "      fill: #174EA6;\n",
              "    }\n",
              "\n",
              "    [theme=dark] .colab-df-convert {\n",
              "      background-color: #3B4455;\n",
              "      fill: #D2E3FC;\n",
              "    }\n",
              "\n",
              "    [theme=dark] .colab-df-convert:hover {\n",
              "      background-color: #434B5C;\n",
              "      box-shadow: 0px 1px 3px 1px rgba(0, 0, 0, 0.15);\n",
              "      filter: drop-shadow(0px 1px 2px rgba(0, 0, 0, 0.3));\n",
              "      fill: #FFFFFF;\n",
              "    }\n",
              "  </style>\n",
              "\n",
              "      <script>\n",
              "        const buttonEl =\n",
              "          document.querySelector('#df-1e9b4a8a-b072-4bf4-9279-6157f6cbf815 button.colab-df-convert');\n",
              "        buttonEl.style.display =\n",
              "          google.colab.kernel.accessAllowed ? 'block' : 'none';\n",
              "\n",
              "        async function convertToInteractive(key) {\n",
              "          const element = document.querySelector('#df-1e9b4a8a-b072-4bf4-9279-6157f6cbf815');\n",
              "          const dataTable =\n",
              "            await google.colab.kernel.invokeFunction('convertToInteractive',\n",
              "                                                     [key], {});\n",
              "          if (!dataTable) return;\n",
              "\n",
              "          const docLinkHtml = 'Like what you see? Visit the ' +\n",
              "            '<a target=\"_blank\" href=https://colab.research.google.com/notebooks/data_table.ipynb>data table notebook</a>'\n",
              "            + ' to learn more about interactive tables.';\n",
              "          element.innerHTML = '';\n",
              "          dataTable['output_type'] = 'display_data';\n",
              "          await google.colab.output.renderOutput(dataTable, element);\n",
              "          const docLink = document.createElement('div');\n",
              "          docLink.innerHTML = docLinkHtml;\n",
              "          element.appendChild(docLink);\n",
              "        }\n",
              "      </script>\n",
              "    </div>\n",
              "  </div>\n",
              "  "
            ],
            "text/plain": [
              "          brand                                              title  price\n",
              "1       Unknown                        Girls Ballet Tutu Neon Pink   7.00\n",
              "115     Unknown           Shawnee National Forest Map - Waterproof  19.00\n",
              "808     Unknown  McFarlane Toys MLB Sports Picks Series 2 Actio...  24.27\n",
              "809     Unknown  McFarlane Sportspicks: MLB Series 3 Curt Schil...   9.99\n",
              "814     Unknown  Boston Red Sox Nomar Garciapappa Series 2 McFa...  11.33\n",
              "...         ...                                                ...    ...\n",
              "520086  Unknown  Seattle Seahawks Super Bowl XLVIII Champions N...  50.94\n",
              "520119  Unknown      Taylor Made Lethal Mint Refinished Golf Balls  15.98\n",
              "520513  Unknown                    Miami Dolphins Beach/Bath Towel  14.97\n",
              "520792  Unknown  Mickey Hands Black Leopard Print Men's Snapbac...  14.90\n",
              "527612  Unknown            Denny Hamlin 2014 FedEx Ground #11 1:64   7.49\n",
              "\n",
              "[696 rows x 3 columns]"
            ]
          },
          "execution_count": 74,
          "metadata": {},
          "output_type": "execute_result"
        }
      ],
      "source": [
        "df_not_null[df_not_null.brand==\"Unknown\"]"
      ]
    },
    {
      "cell_type": "markdown",
      "metadata": {
        "id": "KwKyMvyX_YUs"
      },
      "source": [
        "### 1st method:- price imputation approach - price imputation by grouping the same brand and calculate the median\n"
      ]
    },
    {
      "cell_type": "code",
      "execution_count": null,
      "metadata": {
        "colab": {
          "base_uri": "https://localhost:8080/"
        },
        "id": "mDLYZ2HQyt8f",
        "outputId": "fcbf1743-a943-408f-b744-491be144afb9"
      },
      "outputs": [
        {
          "data": {
            "text/plain": [
              "asin            0.000000\n",
              "title           0.000000\n",
              "price          45.960992\n",
              "imUrl           0.000000\n",
              "related        27.043848\n",
              "brand          34.117325\n",
              "categories      0.000000\n",
              "salesRank       8.529048\n",
              "description    25.707923\n",
              "dtype: float64"
            ]
          },
          "execution_count": 6,
          "metadata": {},
          "output_type": "execute_result"
        },
        {
          "name": "stdout",
          "output_type": "stream",
          "text": [
            "\n"
          ]
        },
        {
          "data": {
            "text/plain": [
              "asin                0\n",
              "title               0\n",
              "price          243545\n",
              "imUrl               0\n",
              "related        143304\n",
              "brand          180786\n",
              "categories          0\n",
              "salesRank       45195\n",
              "description    136225\n",
              "dtype: int64"
            ]
          },
          "execution_count": 6,
          "metadata": {},
          "output_type": "execute_result"
        }
      ],
      "source": [
        "df1.isnull().mean()*100\n",
        "print()\n",
        "df1.isnull().sum()"
      ]
    },
    {
      "cell_type": "code",
      "execution_count": null,
      "metadata": {
        "id": "m0FpFyzSy1Zc"
      },
      "outputs": [],
      "source": [
        "df_null1=df1[[\"title\",\"price\"]][df1.price.isnull()]\n",
        "df_not_null=df1[[\"title\",\"price\"]][~df1.price.isnull()]"
      ]
    },
    {
      "cell_type": "code",
      "execution_count": null,
      "metadata": {
        "id": "xKDPKgdnzXeq"
      },
      "outputs": [],
      "source": [
        "title_unique=df_not_null['title'].unique()"
      ]
    },
    {
      "cell_type": "code",
      "execution_count": null,
      "metadata": {
        "colab": {
          "base_uri": "https://localhost:8080/",
          "height": 424
        },
        "id": "fQnkCFYrzd4k",
        "outputId": "fee57daf-ecde-4030-e9f3-30ae3173f8df"
      },
      "outputs": [
        {
          "data": {
            "text/html": [
              "\n",
              "  <div id=\"df-d50411bf-cd86-45fb-a4d8-87fbcea86d26\">\n",
              "    <div class=\"colab-df-container\">\n",
              "      <div>\n",
              "<style scoped>\n",
              "    .dataframe tbody tr th:only-of-type {\n",
              "        vertical-align: middle;\n",
              "    }\n",
              "\n",
              "    .dataframe tbody tr th {\n",
              "        vertical-align: top;\n",
              "    }\n",
              "\n",
              "    .dataframe thead th {\n",
              "        text-align: right;\n",
              "    }\n",
              "</style>\n",
              "<table border=\"1\" class=\"dataframe\">\n",
              "  <thead>\n",
              "    <tr style=\"text-align: right;\">\n",
              "      <th></th>\n",
              "      <th>title</th>\n",
              "      <th>price</th>\n",
              "    </tr>\n",
              "  </thead>\n",
              "  <tbody>\n",
              "    <tr>\n",
              "      <th>0</th>\n",
              "      <td>! Small S 1pc Black 1pc Navy (Blue) Replacemen...</td>\n",
              "      <td>25.99</td>\n",
              "    </tr>\n",
              "    <tr>\n",
              "      <th>1</th>\n",
              "      <td>! Small S 1pc Black 1pc Purple / Pink Replacem...</td>\n",
              "      <td>25.99</td>\n",
              "    </tr>\n",
              "    <tr>\n",
              "      <th>2</th>\n",
              "      <td>! Small S 1pc Black 1pc Teal (Blue/Green) Repl...</td>\n",
              "      <td>25.99</td>\n",
              "    </tr>\n",
              "    <tr>\n",
              "      <th>3</th>\n",
              "      <td>! Small S 1pc Green 1pc Navy (Blue) 1pc Purple...</td>\n",
              "      <td>29.50</td>\n",
              "    </tr>\n",
              "    <tr>\n",
              "      <th>4</th>\n",
              "      <td>! Small S 1pc Green 1pc Purple / Pink Replacem...</td>\n",
              "      <td>25.99</td>\n",
              "    </tr>\n",
              "    <tr>\n",
              "      <th>...</th>\n",
              "      <td>...</td>\n",
              "      <td>...</td>\n",
              "    </tr>\n",
              "    <tr>\n",
              "      <th>265389</th>\n",
              "      <td>{Factory Direct Sale} (pack of 20) LED Twin Be...</td>\n",
              "      <td>11.99</td>\n",
              "    </tr>\n",
              "    <tr>\n",
              "      <th>265390</th>\n",
              "      <td>|Kahtoola RNR22 Running Snowshoes</td>\n",
              "      <td>238.99</td>\n",
              "    </tr>\n",
              "    <tr>\n",
              "      <th>265391</th>\n",
              "      <td>~ 12 ~ Beach Ball Inflates ~ Approx. 16&amp;quot; ...</td>\n",
              "      <td>8.00</td>\n",
              "    </tr>\n",
              "    <tr>\n",
              "      <th>265392</th>\n",
              "      <td>~ 12 ~ Monkey Kickballs Hacky Sacks Softballs ...</td>\n",
              "      <td>6.99</td>\n",
              "    </tr>\n",
              "    <tr>\n",
              "      <th>265393</th>\n",
              "      <td>~ 12 ~ Skull Pirate Wrist Bands ~ 3&amp;quot; ~ In...</td>\n",
              "      <td>8.21</td>\n",
              "    </tr>\n",
              "  </tbody>\n",
              "</table>\n",
              "<p>265394 rows × 2 columns</p>\n",
              "</div>\n",
              "      <button class=\"colab-df-convert\" onclick=\"convertToInteractive('df-d50411bf-cd86-45fb-a4d8-87fbcea86d26')\"\n",
              "              title=\"Convert this dataframe to an interactive table.\"\n",
              "              style=\"display:none;\">\n",
              "        \n",
              "  <svg xmlns=\"http://www.w3.org/2000/svg\" height=\"24px\"viewBox=\"0 0 24 24\"\n",
              "       width=\"24px\">\n",
              "    <path d=\"M0 0h24v24H0V0z\" fill=\"none\"/>\n",
              "    <path d=\"M18.56 5.44l.94 2.06.94-2.06 2.06-.94-2.06-.94-.94-2.06-.94 2.06-2.06.94zm-11 1L8.5 8.5l.94-2.06 2.06-.94-2.06-.94L8.5 2.5l-.94 2.06-2.06.94zm10 10l.94 2.06.94-2.06 2.06-.94-2.06-.94-.94-2.06-.94 2.06-2.06.94z\"/><path d=\"M17.41 7.96l-1.37-1.37c-.4-.4-.92-.59-1.43-.59-.52 0-1.04.2-1.43.59L10.3 9.45l-7.72 7.72c-.78.78-.78 2.05 0 2.83L4 21.41c.39.39.9.59 1.41.59.51 0 1.02-.2 1.41-.59l7.78-7.78 2.81-2.81c.8-.78.8-2.07 0-2.86zM5.41 20L4 18.59l7.72-7.72 1.47 1.35L5.41 20z\"/>\n",
              "  </svg>\n",
              "      </button>\n",
              "      \n",
              "  <style>\n",
              "    .colab-df-container {\n",
              "      display:flex;\n",
              "      flex-wrap:wrap;\n",
              "      gap: 12px;\n",
              "    }\n",
              "\n",
              "    .colab-df-convert {\n",
              "      background-color: #E8F0FE;\n",
              "      border: none;\n",
              "      border-radius: 50%;\n",
              "      cursor: pointer;\n",
              "      display: none;\n",
              "      fill: #1967D2;\n",
              "      height: 32px;\n",
              "      padding: 0 0 0 0;\n",
              "      width: 32px;\n",
              "    }\n",
              "\n",
              "    .colab-df-convert:hover {\n",
              "      background-color: #E2EBFA;\n",
              "      box-shadow: 0px 1px 2px rgba(60, 64, 67, 0.3), 0px 1px 3px 1px rgba(60, 64, 67, 0.15);\n",
              "      fill: #174EA6;\n",
              "    }\n",
              "\n",
              "    [theme=dark] .colab-df-convert {\n",
              "      background-color: #3B4455;\n",
              "      fill: #D2E3FC;\n",
              "    }\n",
              "\n",
              "    [theme=dark] .colab-df-convert:hover {\n",
              "      background-color: #434B5C;\n",
              "      box-shadow: 0px 1px 3px 1px rgba(0, 0, 0, 0.15);\n",
              "      filter: drop-shadow(0px 1px 2px rgba(0, 0, 0, 0.3));\n",
              "      fill: #FFFFFF;\n",
              "    }\n",
              "  </style>\n",
              "\n",
              "      <script>\n",
              "        const buttonEl =\n",
              "          document.querySelector('#df-d50411bf-cd86-45fb-a4d8-87fbcea86d26 button.colab-df-convert');\n",
              "        buttonEl.style.display =\n",
              "          google.colab.kernel.accessAllowed ? 'block' : 'none';\n",
              "\n",
              "        async function convertToInteractive(key) {\n",
              "          const element = document.querySelector('#df-d50411bf-cd86-45fb-a4d8-87fbcea86d26');\n",
              "          const dataTable =\n",
              "            await google.colab.kernel.invokeFunction('convertToInteractive',\n",
              "                                                     [key], {});\n",
              "          if (!dataTable) return;\n",
              "\n",
              "          const docLinkHtml = 'Like what you see? Visit the ' +\n",
              "            '<a target=\"_blank\" href=https://colab.research.google.com/notebooks/data_table.ipynb>data table notebook</a>'\n",
              "            + ' to learn more about interactive tables.';\n",
              "          element.innerHTML = '';\n",
              "          dataTable['output_type'] = 'display_data';\n",
              "          await google.colab.output.renderOutput(dataTable, element);\n",
              "          const docLink = document.createElement('div');\n",
              "          docLink.innerHTML = docLinkHtml;\n",
              "          element.appendChild(docLink);\n",
              "        }\n",
              "      </script>\n",
              "    </div>\n",
              "  </div>\n",
              "  "
            ],
            "text/plain": [
              "                                                    title   price\n",
              "0       ! Small S 1pc Black 1pc Navy (Blue) Replacemen...   25.99\n",
              "1       ! Small S 1pc Black 1pc Purple / Pink Replacem...   25.99\n",
              "2       ! Small S 1pc Black 1pc Teal (Blue/Green) Repl...   25.99\n",
              "3       ! Small S 1pc Green 1pc Navy (Blue) 1pc Purple...   29.50\n",
              "4       ! Small S 1pc Green 1pc Purple / Pink Replacem...   25.99\n",
              "...                                                   ...     ...\n",
              "265389  {Factory Direct Sale} (pack of 20) LED Twin Be...   11.99\n",
              "265390                  |Kahtoola RNR22 Running Snowshoes  238.99\n",
              "265391  ~ 12 ~ Beach Ball Inflates ~ Approx. 16&quot; ...    8.00\n",
              "265392  ~ 12 ~ Monkey Kickballs Hacky Sacks Softballs ...    6.99\n",
              "265393  ~ 12 ~ Skull Pirate Wrist Bands ~ 3&quot; ~ In...    8.21\n",
              "\n",
              "[265394 rows x 2 columns]"
            ]
          },
          "execution_count": 32,
          "metadata": {},
          "output_type": "execute_result"
        }
      ],
      "source": [
        "median=df_not_null.groupby(['title'])[[\"price\"]].median().reset_index()\n",
        "median"
      ]
    },
    {
      "cell_type": "code",
      "execution_count": null,
      "metadata": {
        "id": "XN8qhVd_zix6"
      },
      "outputs": [],
      "source": [
        "dic1=dict()"
      ]
    },
    {
      "cell_type": "code",
      "execution_count": null,
      "metadata": {
        "id": "t6yHmBfZzzIc"
      },
      "outputs": [],
      "source": [
        "price=list(df_not_null[\"price\"].values)\n",
        "title=list(df_not_null[\"title\"].values)\n",
        "title_price=list(zip(title,price))"
      ]
    },
    {
      "cell_type": "code",
      "execution_count": null,
      "metadata": {
        "id": "5LjCyVLMz1nB"
      },
      "outputs": [],
      "source": [
        "for i,j in title_price:\n",
        "  dic1[i]=j"
      ]
    },
    {
      "cell_type": "code",
      "execution_count": null,
      "metadata": {
        "id": "gpPnFySsMy8-"
      },
      "outputs": [],
      "source": [
        "df_null=df_null1[200000:]"
      ]
    },
    {
      "cell_type": "code",
      "execution_count": null,
      "metadata": {
        "id": "wedkPyFqz8Hv"
      },
      "outputs": [],
      "source": [
        "zip_list=list(zip(df_null.index,(df_null[\"title\"].values)))"
      ]
    },
    {
      "cell_type": "code",
      "execution_count": null,
      "metadata": {
        "id": "xswt3iK3z_68"
      },
      "outputs": [],
      "source": [
        "for  i,k in dic1.items():\n",
        "  for indx,j in zip_list:\n",
        "    if i == j:\n",
        "      df1.at[indx,\"price\"]=k\n",
        "    else:\n",
        "      pass"
      ]
    },
    {
      "cell_type": "code",
      "execution_count": null,
      "metadata": {
        "colab": {
          "base_uri": "https://localhost:8080/"
        },
        "id": "pOV11RvN0FoL",
        "outputId": "f0c7a7fc-5429-469c-e1a2-6bfcc05c560f"
      },
      "outputs": [
        {
          "data": {
            "text/plain": [
              "asin            0.000000\n",
              "title           0.000000\n",
              "price          45.659423\n",
              "imUrl           0.000000\n",
              "related        27.043848\n",
              "brand          34.117325\n",
              "categories      0.000000\n",
              "salesRank       8.529048\n",
              "description    25.707923\n",
              "dtype: float64"
            ]
          },
          "execution_count": 49,
          "metadata": {},
          "output_type": "execute_result"
        },
        {
          "data": {
            "text/plain": [
              "asin                0\n",
              "title               0\n",
              "price          241947\n",
              "imUrl               0\n",
              "related        143304\n",
              "brand          180786\n",
              "categories          0\n",
              "salesRank       45195\n",
              "description    136225\n",
              "dtype: int64"
            ]
          },
          "execution_count": 49,
          "metadata": {},
          "output_type": "execute_result"
        }
      ],
      "source": [
        "df1.isnull().mean()*100\n",
        "df1.isnull().sum()"
      ]
    },
    {
      "cell_type": "markdown",
      "metadata": {
        "id": "zti3G7ZwALYR"
      },
      "source": [
        "### 2nd method : price imputation approach- calculating median of price by grouping the brand"
      ]
    },
    {
      "cell_type": "code",
      "execution_count": null,
      "metadata": {
        "id": "GHIibiZlWkOH"
      },
      "outputs": [],
      "source": [
        "df_null1=df1[[\"brand\",\"price\"]][df1.price.isnull()]\n",
        "df_not_null=df1[[\"brand\",\"price\"]][~df1.price.isnull()]"
      ]
    },
    {
      "cell_type": "code",
      "execution_count": null,
      "metadata": {
        "id": "wKwQX3UOrGT4"
      },
      "outputs": [],
      "source": [
        "brand_unique=df_not_null['brand'].unique()"
      ]
    },
    {
      "cell_type": "code",
      "execution_count": null,
      "metadata": {
        "colab": {
          "base_uri": "https://localhost:8080/",
          "height": 424
        },
        "id": "NcuHgDRVrXd5",
        "outputId": "652fd17d-9da9-4221-e0ca-f4ef05c2e167"
      },
      "outputs": [
        {
          "data": {
            "text/html": [
              "\n",
              "  <div id=\"df-17a11328-9d3d-4c3d-abd5-758e7f544a68\">\n",
              "    <div class=\"colab-df-container\">\n",
              "      <div>\n",
              "<style scoped>\n",
              "    .dataframe tbody tr th:only-of-type {\n",
              "        vertical-align: middle;\n",
              "    }\n",
              "\n",
              "    .dataframe tbody tr th {\n",
              "        vertical-align: top;\n",
              "    }\n",
              "\n",
              "    .dataframe thead th {\n",
              "        text-align: right;\n",
              "    }\n",
              "</style>\n",
              "<table border=\"1\" class=\"dataframe\">\n",
              "  <thead>\n",
              "    <tr style=\"text-align: right;\">\n",
              "      <th></th>\n",
              "      <th>brand</th>\n",
              "      <th>price</th>\n",
              "    </tr>\n",
              "  </thead>\n",
              "  <tbody>\n",
              "    <tr>\n",
              "      <th>0</th>\n",
              "      <td>$averPak</td>\n",
              "      <td>30.990</td>\n",
              "    </tr>\n",
              "    <tr>\n",
              "      <th>1</th>\n",
              "      <td>&amp;#39;47 Brand</td>\n",
              "      <td>18.245</td>\n",
              "    </tr>\n",
              "    <tr>\n",
              "      <th>2</th>\n",
              "      <td>&amp;nbsp;Canal Street</td>\n",
              "      <td>117.935</td>\n",
              "    </tr>\n",
              "    <tr>\n",
              "      <th>3</th>\n",
              "      <td>&amp;nbsp;Dog Tag</td>\n",
              "      <td>26.530</td>\n",
              "    </tr>\n",
              "    <tr>\n",
              "      <th>4</th>\n",
              "      <td>&amp;nbsp;KME Sharpeners</td>\n",
              "      <td>26.970</td>\n",
              "    </tr>\n",
              "    <tr>\n",
              "      <th>...</th>\n",
              "      <td>...</td>\n",
              "      <td>...</td>\n",
              "    </tr>\n",
              "    <tr>\n",
              "      <th>14108</th>\n",
              "      <td>xiufen shop</td>\n",
              "      <td>10.910</td>\n",
              "    </tr>\n",
              "    <tr>\n",
              "      <th>14109</th>\n",
              "      <td>znu</td>\n",
              "      <td>20.390</td>\n",
              "    </tr>\n",
              "    <tr>\n",
              "      <th>14110</th>\n",
              "      <td>zstyle</td>\n",
              "      <td>7.490</td>\n",
              "    </tr>\n",
              "    <tr>\n",
              "      <th>14111</th>\n",
              "      <td>zuo</td>\n",
              "      <td>595.240</td>\n",
              "    </tr>\n",
              "    <tr>\n",
              "      <th>14112</th>\n",
              "      <td>zw</td>\n",
              "      <td>13.990</td>\n",
              "    </tr>\n",
              "  </tbody>\n",
              "</table>\n",
              "<p>14113 rows × 2 columns</p>\n",
              "</div>\n",
              "      <button class=\"colab-df-convert\" onclick=\"convertToInteractive('df-17a11328-9d3d-4c3d-abd5-758e7f544a68')\"\n",
              "              title=\"Convert this dataframe to an interactive table.\"\n",
              "              style=\"display:none;\">\n",
              "        \n",
              "  <svg xmlns=\"http://www.w3.org/2000/svg\" height=\"24px\"viewBox=\"0 0 24 24\"\n",
              "       width=\"24px\">\n",
              "    <path d=\"M0 0h24v24H0V0z\" fill=\"none\"/>\n",
              "    <path d=\"M18.56 5.44l.94 2.06.94-2.06 2.06-.94-2.06-.94-.94-2.06-.94 2.06-2.06.94zm-11 1L8.5 8.5l.94-2.06 2.06-.94-2.06-.94L8.5 2.5l-.94 2.06-2.06.94zm10 10l.94 2.06.94-2.06 2.06-.94-2.06-.94-.94-2.06-.94 2.06-2.06.94z\"/><path d=\"M17.41 7.96l-1.37-1.37c-.4-.4-.92-.59-1.43-.59-.52 0-1.04.2-1.43.59L10.3 9.45l-7.72 7.72c-.78.78-.78 2.05 0 2.83L4 21.41c.39.39.9.59 1.41.59.51 0 1.02-.2 1.41-.59l7.78-7.78 2.81-2.81c.8-.78.8-2.07 0-2.86zM5.41 20L4 18.59l7.72-7.72 1.47 1.35L5.41 20z\"/>\n",
              "  </svg>\n",
              "      </button>\n",
              "      \n",
              "  <style>\n",
              "    .colab-df-container {\n",
              "      display:flex;\n",
              "      flex-wrap:wrap;\n",
              "      gap: 12px;\n",
              "    }\n",
              "\n",
              "    .colab-df-convert {\n",
              "      background-color: #E8F0FE;\n",
              "      border: none;\n",
              "      border-radius: 50%;\n",
              "      cursor: pointer;\n",
              "      display: none;\n",
              "      fill: #1967D2;\n",
              "      height: 32px;\n",
              "      padding: 0 0 0 0;\n",
              "      width: 32px;\n",
              "    }\n",
              "\n",
              "    .colab-df-convert:hover {\n",
              "      background-color: #E2EBFA;\n",
              "      box-shadow: 0px 1px 2px rgba(60, 64, 67, 0.3), 0px 1px 3px 1px rgba(60, 64, 67, 0.15);\n",
              "      fill: #174EA6;\n",
              "    }\n",
              "\n",
              "    [theme=dark] .colab-df-convert {\n",
              "      background-color: #3B4455;\n",
              "      fill: #D2E3FC;\n",
              "    }\n",
              "\n",
              "    [theme=dark] .colab-df-convert:hover {\n",
              "      background-color: #434B5C;\n",
              "      box-shadow: 0px 1px 3px 1px rgba(0, 0, 0, 0.15);\n",
              "      filter: drop-shadow(0px 1px 2px rgba(0, 0, 0, 0.3));\n",
              "      fill: #FFFFFF;\n",
              "    }\n",
              "  </style>\n",
              "\n",
              "      <script>\n",
              "        const buttonEl =\n",
              "          document.querySelector('#df-17a11328-9d3d-4c3d-abd5-758e7f544a68 button.colab-df-convert');\n",
              "        buttonEl.style.display =\n",
              "          google.colab.kernel.accessAllowed ? 'block' : 'none';\n",
              "\n",
              "        async function convertToInteractive(key) {\n",
              "          const element = document.querySelector('#df-17a11328-9d3d-4c3d-abd5-758e7f544a68');\n",
              "          const dataTable =\n",
              "            await google.colab.kernel.invokeFunction('convertToInteractive',\n",
              "                                                     [key], {});\n",
              "          if (!dataTable) return;\n",
              "\n",
              "          const docLinkHtml = 'Like what you see? Visit the ' +\n",
              "            '<a target=\"_blank\" href=https://colab.research.google.com/notebooks/data_table.ipynb>data table notebook</a>'\n",
              "            + ' to learn more about interactive tables.';\n",
              "          element.innerHTML = '';\n",
              "          dataTable['output_type'] = 'display_data';\n",
              "          await google.colab.output.renderOutput(dataTable, element);\n",
              "          const docLink = document.createElement('div');\n",
              "          docLink.innerHTML = docLinkHtml;\n",
              "          element.appendChild(docLink);\n",
              "        }\n",
              "      </script>\n",
              "    </div>\n",
              "  </div>\n",
              "  "
            ],
            "text/plain": [
              "                      brand    price\n",
              "0                  $averPak   30.990\n",
              "1             &#39;47 Brand   18.245\n",
              "2        &nbsp;Canal Street  117.935\n",
              "3             &nbsp;Dog Tag   26.530\n",
              "4      &nbsp;KME Sharpeners   26.970\n",
              "...                     ...      ...\n",
              "14108           xiufen shop   10.910\n",
              "14109                   znu   20.390\n",
              "14110                zstyle    7.490\n",
              "14111                   zuo  595.240\n",
              "14112                    zw   13.990\n",
              "\n",
              "[14113 rows x 2 columns]"
            ]
          },
          "execution_count": 54,
          "metadata": {},
          "output_type": "execute_result"
        }
      ],
      "source": [
        "median=df_not_null.groupby(['brand'])[[\"price\"]].median().reset_index()\n",
        "median"
      ]
    },
    {
      "cell_type": "code",
      "execution_count": null,
      "metadata": {
        "id": "mkrz-BQbrhN8"
      },
      "outputs": [],
      "source": [
        "dic1=dict()"
      ]
    },
    {
      "cell_type": "code",
      "execution_count": null,
      "metadata": {
        "id": "pb5BQBGNriCR"
      },
      "outputs": [],
      "source": [
        "price=list(df_not_null[\"price\"].values)\n",
        "brand=list(df_not_null[\"brand\"].values)\n",
        "brand_price=list(zip(brand,price))"
      ]
    },
    {
      "cell_type": "code",
      "execution_count": null,
      "metadata": {
        "id": "mW4h5oJqriF1"
      },
      "outputs": [],
      "source": [
        "for i,j in brand_price:\n",
        "  dic1[i]=j"
      ]
    },
    {
      "cell_type": "code",
      "execution_count": null,
      "metadata": {
        "id": "Fyr3855KriLI"
      },
      "outputs": [],
      "source": [
        "df_null=df_null1[200000:]"
      ]
    },
    {
      "cell_type": "code",
      "execution_count": null,
      "metadata": {
        "id": "v1vSM4DZriOi"
      },
      "outputs": [],
      "source": [
        "zip_list=list(zip(df_null.index,(df_null[\"brand\"].values)))"
      ]
    },
    {
      "cell_type": "code",
      "execution_count": null,
      "metadata": {
        "id": "ZriUK_Fashq0"
      },
      "outputs": [],
      "source": [
        "for  i,k in dic1.items():\n",
        "  for indx,j in zip_list:\n",
        "    if i == j:\n",
        "      df1.at[indx,\"price\"]=k\n",
        "    else:\n",
        "      pass"
      ]
    },
    {
      "cell_type": "code",
      "execution_count": null,
      "metadata": {
        "colab": {
          "base_uri": "https://localhost:8080/"
        },
        "id": "nZe_2r6Rv3Zv",
        "outputId": "29535b33-fcb9-404b-d76b-1e3056ac5397"
      },
      "outputs": [
        {
          "data": {
            "text/plain": [
              "asin            0.000000\n",
              "title           0.000000\n",
              "price          20.257976\n",
              "imUrl           0.000000\n",
              "related        27.043848\n",
              "brand          34.117325\n",
              "categories      0.000000\n",
              "salesRank       8.529048\n",
              "description    25.707923\n",
              "dtype: float64"
            ]
          },
          "execution_count": 70,
          "metadata": {},
          "output_type": "execute_result"
        }
      ],
      "source": [
        "df1.isnull().mean()*100"
      ]
    },
    {
      "cell_type": "markdown",
      "metadata": {
        "id": "PHSffY6KATJp"
      },
      "source": [
        "## review data imputation"
      ]
    },
    {
      "cell_type": "code",
      "execution_count": null,
      "metadata": {
        "colab": {
          "base_uri": "https://localhost:8080/"
        },
        "id": "_LaEJn1u5YXj",
        "outputId": "ea31a95c-d3d8-4a94-8dd1-8cc352d6746d"
      },
      "outputs": [
        {
          "data": {
            "text/plain": [
              "reviewerID            0\n",
              "asin                  0\n",
              "reviewerName      13957\n",
              "helpful               0\n",
              "reviewText            0\n",
              "overall               0\n",
              "summary               0\n",
              "unixReviewTime        0\n",
              "reviewTime            0\n",
              "dtype: int64"
            ]
          },
          "execution_count": 76,
          "metadata": {},
          "output_type": "execute_result"
        }
      ],
      "source": [
        "df1.isnull().sum()"
      ]
    },
    {
      "cell_type": "code",
      "execution_count": null,
      "metadata": {
        "colab": {
          "base_uri": "https://localhost:8080/",
          "height": 112
        },
        "id": "vWSJMW435crl",
        "outputId": "3e0b8fd3-fe43-47d2-831c-d4704582b85c"
      },
      "outputs": [
        {
          "data": {
            "text/html": [
              "\n",
              "  <div id=\"df-ab8c696a-14c3-404f-a940-9cb809a36146\">\n",
              "    <div class=\"colab-df-container\">\n",
              "      <div>\n",
              "<style scoped>\n",
              "    .dataframe tbody tr th:only-of-type {\n",
              "        vertical-align: middle;\n",
              "    }\n",
              "\n",
              "    .dataframe tbody tr th {\n",
              "        vertical-align: top;\n",
              "    }\n",
              "\n",
              "    .dataframe thead th {\n",
              "        text-align: right;\n",
              "    }\n",
              "</style>\n",
              "<table border=\"1\" class=\"dataframe\">\n",
              "  <thead>\n",
              "    <tr style=\"text-align: right;\">\n",
              "      <th></th>\n",
              "      <th>reviewerID</th>\n",
              "      <th>asin</th>\n",
              "      <th>reviewerName</th>\n",
              "      <th>helpful</th>\n",
              "      <th>reviewText</th>\n",
              "      <th>overall</th>\n",
              "      <th>summary</th>\n",
              "      <th>unixReviewTime</th>\n",
              "      <th>reviewTime</th>\n",
              "    </tr>\n",
              "  </thead>\n",
              "  <tbody>\n",
              "    <tr>\n",
              "      <th>293469</th>\n",
              "      <td>A3T9NLDXGN71CK</td>\n",
              "      <td>B000BNS634</td>\n",
              "      <td>John</td>\n",
              "      <td>[0, 0]</td>\n",
              "      <td>I got this helmet for road cycling and am very...</td>\n",
              "      <td>5.0</td>\n",
              "      <td>Great helmet</td>\n",
              "      <td>1364947200</td>\n",
              "      <td>04 3, 2013</td>\n",
              "    </tr>\n",
              "    <tr>\n",
              "      <th>1929103</th>\n",
              "      <td>A1VTTI6D0OH3ET</td>\n",
              "      <td>B003ZZ8220</td>\n",
              "      <td>Stacy H.</td>\n",
              "      <td>[0, 1]</td>\n",
              "      <td>For the money, this is a pretty nice reel. I b...</td>\n",
              "      <td>4.0</td>\n",
              "      <td>Better than you think</td>\n",
              "      <td>1401408000</td>\n",
              "      <td>05 30, 2014</td>\n",
              "    </tr>\n",
              "  </tbody>\n",
              "</table>\n",
              "</div>\n",
              "      <button class=\"colab-df-convert\" onclick=\"convertToInteractive('df-ab8c696a-14c3-404f-a940-9cb809a36146')\"\n",
              "              title=\"Convert this dataframe to an interactive table.\"\n",
              "              style=\"display:none;\">\n",
              "        \n",
              "  <svg xmlns=\"http://www.w3.org/2000/svg\" height=\"24px\"viewBox=\"0 0 24 24\"\n",
              "       width=\"24px\">\n",
              "    <path d=\"M0 0h24v24H0V0z\" fill=\"none\"/>\n",
              "    <path d=\"M18.56 5.44l.94 2.06.94-2.06 2.06-.94-2.06-.94-.94-2.06-.94 2.06-2.06.94zm-11 1L8.5 8.5l.94-2.06 2.06-.94-2.06-.94L8.5 2.5l-.94 2.06-2.06.94zm10 10l.94 2.06.94-2.06 2.06-.94-2.06-.94-.94-2.06-.94 2.06-2.06.94z\"/><path d=\"M17.41 7.96l-1.37-1.37c-.4-.4-.92-.59-1.43-.59-.52 0-1.04.2-1.43.59L10.3 9.45l-7.72 7.72c-.78.78-.78 2.05 0 2.83L4 21.41c.39.39.9.59 1.41.59.51 0 1.02-.2 1.41-.59l7.78-7.78 2.81-2.81c.8-.78.8-2.07 0-2.86zM5.41 20L4 18.59l7.72-7.72 1.47 1.35L5.41 20z\"/>\n",
              "  </svg>\n",
              "      </button>\n",
              "      \n",
              "  <style>\n",
              "    .colab-df-container {\n",
              "      display:flex;\n",
              "      flex-wrap:wrap;\n",
              "      gap: 12px;\n",
              "    }\n",
              "\n",
              "    .colab-df-convert {\n",
              "      background-color: #E8F0FE;\n",
              "      border: none;\n",
              "      border-radius: 50%;\n",
              "      cursor: pointer;\n",
              "      display: none;\n",
              "      fill: #1967D2;\n",
              "      height: 32px;\n",
              "      padding: 0 0 0 0;\n",
              "      width: 32px;\n",
              "    }\n",
              "\n",
              "    .colab-df-convert:hover {\n",
              "      background-color: #E2EBFA;\n",
              "      box-shadow: 0px 1px 2px rgba(60, 64, 67, 0.3), 0px 1px 3px 1px rgba(60, 64, 67, 0.15);\n",
              "      fill: #174EA6;\n",
              "    }\n",
              "\n",
              "    [theme=dark] .colab-df-convert {\n",
              "      background-color: #3B4455;\n",
              "      fill: #D2E3FC;\n",
              "    }\n",
              "\n",
              "    [theme=dark] .colab-df-convert:hover {\n",
              "      background-color: #434B5C;\n",
              "      box-shadow: 0px 1px 3px 1px rgba(0, 0, 0, 0.15);\n",
              "      filter: drop-shadow(0px 1px 2px rgba(0, 0, 0, 0.3));\n",
              "      fill: #FFFFFF;\n",
              "    }\n",
              "  </style>\n",
              "\n",
              "      <script>\n",
              "        const buttonEl =\n",
              "          document.querySelector('#df-ab8c696a-14c3-404f-a940-9cb809a36146 button.colab-df-convert');\n",
              "        buttonEl.style.display =\n",
              "          google.colab.kernel.accessAllowed ? 'block' : 'none';\n",
              "\n",
              "        async function convertToInteractive(key) {\n",
              "          const element = document.querySelector('#df-ab8c696a-14c3-404f-a940-9cb809a36146');\n",
              "          const dataTable =\n",
              "            await google.colab.kernel.invokeFunction('convertToInteractive',\n",
              "                                                     [key], {});\n",
              "          if (!dataTable) return;\n",
              "\n",
              "          const docLinkHtml = 'Like what you see? Visit the ' +\n",
              "            '<a target=\"_blank\" href=https://colab.research.google.com/notebooks/data_table.ipynb>data table notebook</a>'\n",
              "            + ' to learn more about interactive tables.';\n",
              "          element.innerHTML = '';\n",
              "          dataTable['output_type'] = 'display_data';\n",
              "          await google.colab.output.renderOutput(dataTable, element);\n",
              "          const docLink = document.createElement('div');\n",
              "          docLink.innerHTML = docLinkHtml;\n",
              "          element.appendChild(docLink);\n",
              "        }\n",
              "      </script>\n",
              "    </div>\n",
              "  </div>\n",
              "  "
            ],
            "text/plain": [
              "             reviewerID        asin reviewerName helpful  \\\n",
              "293469   A3T9NLDXGN71CK  B000BNS634         John  [0, 0]   \n",
              "1929103  A1VTTI6D0OH3ET  B003ZZ8220     Stacy H.  [0, 1]   \n",
              "\n",
              "                                                reviewText  overall  \\\n",
              "293469   I got this helmet for road cycling and am very...      5.0   \n",
              "1929103  For the money, this is a pretty nice reel. I b...      4.0   \n",
              "\n",
              "                       summary  unixReviewTime   reviewTime  \n",
              "293469            Great helmet      1364947200   04 3, 2013  \n",
              "1929103  Better than you think      1401408000  05 30, 2014  "
            ]
          },
          "execution_count": 77,
          "metadata": {},
          "output_type": "execute_result"
        }
      ],
      "source": [
        "df1.sample(2)"
      ]
    },
    {
      "cell_type": "code",
      "execution_count": null,
      "metadata": {
        "colab": {
          "base_uri": "https://localhost:8080/"
        },
        "id": "jf_SEe9b5moU",
        "outputId": "da54556f-7f71-4d8d-c827-584bfc6b2bf6"
      },
      "outputs": [
        {
          "data": {
            "text/plain": [
              "reviewerID            0\n",
              "asin                  0\n",
              "reviewerName      13957\n",
              "helpful               0\n",
              "reviewText            0\n",
              "overall               0\n",
              "summary               0\n",
              "unixReviewTime        0\n",
              "reviewTime            0\n",
              "dtype: int64"
            ]
          },
          "execution_count": 78,
          "metadata": {},
          "output_type": "execute_result"
        }
      ],
      "source": [
        "df1.isnull().sum()"
      ]
    },
    {
      "cell_type": "markdown",
      "metadata": {
        "id": "Sk0Cugw5AiVF"
      },
      "source": [
        "## method: review name imputation\n",
        "## approach-impute reviewname by grouping up review id"
      ]
    },
    {
      "cell_type": "code",
      "execution_count": null,
      "metadata": {
        "id": "Zmcm5wU55o9z"
      },
      "outputs": [],
      "source": [
        "df_null1=df1[[\"reviewerID\",\"reviewerName\"]][df1.reviewerName.isnull()]\n",
        "df_not_null=df1[[\"reviewerID\",\"reviewerName\"]][~df1.reviewerName.isnull()]"
      ]
    },
    {
      "cell_type": "code",
      "execution_count": null,
      "metadata": {
        "colab": {
          "base_uri": "https://localhost:8080/"
        },
        "id": "tulPzylcIKrQ",
        "outputId": "917f5ebb-b54c-45eb-c088-d836dc20ed04"
      },
      "outputs": [
        {
          "data": {
            "text/plain": [
              "(9688, 2)"
            ]
          },
          "execution_count": 95,
          "metadata": {},
          "output_type": "execute_result"
        }
      ],
      "source": [
        "df_null1.shape"
      ]
    },
    {
      "cell_type": "code",
      "execution_count": null,
      "metadata": {
        "id": "aF9_03Le5u5c"
      },
      "outputs": [],
      "source": [
        "dic1=dict()"
      ]
    },
    {
      "cell_type": "code",
      "execution_count": null,
      "metadata": {
        "id": "magdJBIC5x0a"
      },
      "outputs": [],
      "source": [
        "reviewerID=list(df_not_null[\"reviewerID\"].values)\n",
        "reviewerName=list(df_not_null[\"reviewerName\"].values)\n",
        "reviewerID_reviewerName=list(zip(reviewerID,reviewerName))"
      ]
    },
    {
      "cell_type": "code",
      "execution_count": null,
      "metadata": {
        "id": "Gcaw4FSA50BD"
      },
      "outputs": [],
      "source": [
        "for i,j in reviewerID_reviewerName:\n",
        "  dic1[i]=j"
      ]
    },
    {
      "cell_type": "code",
      "execution_count": null,
      "metadata": {
        "id": "q_yN8QHPIB2_"
      },
      "outputs": [],
      "source": [
        "df_null=df_null[4000:]"
      ]
    },
    {
      "cell_type": "code",
      "execution_count": null,
      "metadata": {
        "id": "ro3hHGMp52rg"
      },
      "outputs": [],
      "source": [
        "zip_list=list(zip(df_null.index,(df_null[\"reviewerID\"].values)))"
      ]
    },
    {
      "cell_type": "code",
      "execution_count": null,
      "metadata": {
        "id": "g85koLwE55ac"
      },
      "outputs": [],
      "source": [
        "for  i,k in dic1.items():\n",
        "  for indx,j in zip_list:\n",
        "    if i == j:\n",
        "      df1.at[indx,\"reviewerName\"]=k\n",
        "    else:\n",
        "      pass"
      ]
    },
    {
      "cell_type": "code",
      "execution_count": null,
      "metadata": {
        "colab": {
          "base_uri": "https://localhost:8080/"
        },
        "id": "eHM_vMheIZz3",
        "outputId": "36d96b8a-c255-4451-d4f6-82628a35ad58"
      },
      "outputs": [
        {
          "data": {
            "text/plain": [
              "reviewerID        0.000000\n",
              "asin              0.000000\n",
              "reviewerName      0.296387\n",
              "helpful           0.000000\n",
              "reviewText        0.000000\n",
              "overall           0.000000\n",
              "summary           0.000000\n",
              "unixReviewTime    0.000000\n",
              "reviewTime        0.000000\n",
              "dtype: float64"
            ]
          },
          "execution_count": 106,
          "metadata": {},
          "output_type": "execute_result"
        }
      ],
      "source": [
        "df1.isnull().mean()*100"
      ]
    },
    {
      "cell_type": "markdown",
      "metadata": {
        "id": "NmpIjfTnBDuR"
      },
      "source": [
        "## other review name impute by amazon customer"
      ]
    },
    {
      "cell_type": "code",
      "execution_count": null,
      "metadata": {
        "id": "fINMmcrJTlcn"
      },
      "outputs": [],
      "source": [
        "df1[\"reviewerName\"]=df1[\"reviewerName\"].fillna(\"Amazon Customer\")"
      ]
    },
    {
      "cell_type": "code",
      "execution_count": null,
      "metadata": {
        "colab": {
          "base_uri": "https://localhost:8080/",
          "height": 243
        },
        "id": "JwTHYKhsh7_X",
        "outputId": "f20fe9c2-c5ae-4cd1-9e72-bcff478fd797"
      },
      "outputs": [
        {
          "output_type": "execute_result",
          "data": {
            "text/plain": [
              "         asin                           title  price  \\\n",
              "0  0000032069  Adult Ballet Tutu Cheetah Pink   7.89   \n",
              "1  0000031909     Girls Ballet Tutu Neon Pink   7.00   \n",
              "\n",
              "                                               imUrl  \\\n",
              "0  http://ecx.images-amazon.com/images/I/51EzU6qu...   \n",
              "1  http://ecx.images-amazon.com/images/I/41xBoP0F...   \n",
              "\n",
              "                                             related     brand  \\\n",
              "0  {'also_bought': ['0000032050', 'B00D0DJAEG', '...  BubuBibi   \n",
              "1  {'also_bought': ['B002BZX8Z6', 'B00JHONN1S', '...   Unknown   \n",
              "\n",
              "                                          categories  \\\n",
              "0  [['Sports & Outdoors', 'Other Sports', 'Dance'...   \n",
              "1   [['Sports & Outdoors', 'Other Sports', 'Dance']]   \n",
              "\n",
              "                  salesRank                                        description  \n",
              "0                       NaN                                                NaN  \n",
              "1  {'Toys & Games': 201847}  High quality 3 layer ballet tutu. 12 inches in...  "
            ],
            "text/html": [
              "\n",
              "  <div id=\"df-f399ae6e-5e75-4f05-9532-a2182aeef06c\">\n",
              "    <div class=\"colab-df-container\">\n",
              "      <div>\n",
              "<style scoped>\n",
              "    .dataframe tbody tr th:only-of-type {\n",
              "        vertical-align: middle;\n",
              "    }\n",
              "\n",
              "    .dataframe tbody tr th {\n",
              "        vertical-align: top;\n",
              "    }\n",
              "\n",
              "    .dataframe thead th {\n",
              "        text-align: right;\n",
              "    }\n",
              "</style>\n",
              "<table border=\"1\" class=\"dataframe\">\n",
              "  <thead>\n",
              "    <tr style=\"text-align: right;\">\n",
              "      <th></th>\n",
              "      <th>asin</th>\n",
              "      <th>title</th>\n",
              "      <th>price</th>\n",
              "      <th>imUrl</th>\n",
              "      <th>related</th>\n",
              "      <th>brand</th>\n",
              "      <th>categories</th>\n",
              "      <th>salesRank</th>\n",
              "      <th>description</th>\n",
              "    </tr>\n",
              "  </thead>\n",
              "  <tbody>\n",
              "    <tr>\n",
              "      <th>0</th>\n",
              "      <td>0000032069</td>\n",
              "      <td>Adult Ballet Tutu Cheetah Pink</td>\n",
              "      <td>7.89</td>\n",
              "      <td>http://ecx.images-amazon.com/images/I/51EzU6qu...</td>\n",
              "      <td>{'also_bought': ['0000032050', 'B00D0DJAEG', '...</td>\n",
              "      <td>BubuBibi</td>\n",
              "      <td>[['Sports &amp; Outdoors', 'Other Sports', 'Dance'...</td>\n",
              "      <td>NaN</td>\n",
              "      <td>NaN</td>\n",
              "    </tr>\n",
              "    <tr>\n",
              "      <th>1</th>\n",
              "      <td>0000031909</td>\n",
              "      <td>Girls Ballet Tutu Neon Pink</td>\n",
              "      <td>7.00</td>\n",
              "      <td>http://ecx.images-amazon.com/images/I/41xBoP0F...</td>\n",
              "      <td>{'also_bought': ['B002BZX8Z6', 'B00JHONN1S', '...</td>\n",
              "      <td>Unknown</td>\n",
              "      <td>[['Sports &amp; Outdoors', 'Other Sports', 'Dance']]</td>\n",
              "      <td>{'Toys &amp; Games': 201847}</td>\n",
              "      <td>High quality 3 layer ballet tutu. 12 inches in...</td>\n",
              "    </tr>\n",
              "  </tbody>\n",
              "</table>\n",
              "</div>\n",
              "      <button class=\"colab-df-convert\" onclick=\"convertToInteractive('df-f399ae6e-5e75-4f05-9532-a2182aeef06c')\"\n",
              "              title=\"Convert this dataframe to an interactive table.\"\n",
              "              style=\"display:none;\">\n",
              "        \n",
              "  <svg xmlns=\"http://www.w3.org/2000/svg\" height=\"24px\"viewBox=\"0 0 24 24\"\n",
              "       width=\"24px\">\n",
              "    <path d=\"M0 0h24v24H0V0z\" fill=\"none\"/>\n",
              "    <path d=\"M18.56 5.44l.94 2.06.94-2.06 2.06-.94-2.06-.94-.94-2.06-.94 2.06-2.06.94zm-11 1L8.5 8.5l.94-2.06 2.06-.94-2.06-.94L8.5 2.5l-.94 2.06-2.06.94zm10 10l.94 2.06.94-2.06 2.06-.94-2.06-.94-.94-2.06-.94 2.06-2.06.94z\"/><path d=\"M17.41 7.96l-1.37-1.37c-.4-.4-.92-.59-1.43-.59-.52 0-1.04.2-1.43.59L10.3 9.45l-7.72 7.72c-.78.78-.78 2.05 0 2.83L4 21.41c.39.39.9.59 1.41.59.51 0 1.02-.2 1.41-.59l7.78-7.78 2.81-2.81c.8-.78.8-2.07 0-2.86zM5.41 20L4 18.59l7.72-7.72 1.47 1.35L5.41 20z\"/>\n",
              "  </svg>\n",
              "      </button>\n",
              "      \n",
              "  <style>\n",
              "    .colab-df-container {\n",
              "      display:flex;\n",
              "      flex-wrap:wrap;\n",
              "      gap: 12px;\n",
              "    }\n",
              "\n",
              "    .colab-df-convert {\n",
              "      background-color: #E8F0FE;\n",
              "      border: none;\n",
              "      border-radius: 50%;\n",
              "      cursor: pointer;\n",
              "      display: none;\n",
              "      fill: #1967D2;\n",
              "      height: 32px;\n",
              "      padding: 0 0 0 0;\n",
              "      width: 32px;\n",
              "    }\n",
              "\n",
              "    .colab-df-convert:hover {\n",
              "      background-color: #E2EBFA;\n",
              "      box-shadow: 0px 1px 2px rgba(60, 64, 67, 0.3), 0px 1px 3px 1px rgba(60, 64, 67, 0.15);\n",
              "      fill: #174EA6;\n",
              "    }\n",
              "\n",
              "    [theme=dark] .colab-df-convert {\n",
              "      background-color: #3B4455;\n",
              "      fill: #D2E3FC;\n",
              "    }\n",
              "\n",
              "    [theme=dark] .colab-df-convert:hover {\n",
              "      background-color: #434B5C;\n",
              "      box-shadow: 0px 1px 3px 1px rgba(0, 0, 0, 0.15);\n",
              "      filter: drop-shadow(0px 1px 2px rgba(0, 0, 0, 0.3));\n",
              "      fill: #FFFFFF;\n",
              "    }\n",
              "  </style>\n",
              "\n",
              "      <script>\n",
              "        const buttonEl =\n",
              "          document.querySelector('#df-f399ae6e-5e75-4f05-9532-a2182aeef06c button.colab-df-convert');\n",
              "        buttonEl.style.display =\n",
              "          google.colab.kernel.accessAllowed ? 'block' : 'none';\n",
              "\n",
              "        async function convertToInteractive(key) {\n",
              "          const element = document.querySelector('#df-f399ae6e-5e75-4f05-9532-a2182aeef06c');\n",
              "          const dataTable =\n",
              "            await google.colab.kernel.invokeFunction('convertToInteractive',\n",
              "                                                     [key], {});\n",
              "          if (!dataTable) return;\n",
              "\n",
              "          const docLinkHtml = 'Like what you see? Visit the ' +\n",
              "            '<a target=\"_blank\" href=https://colab.research.google.com/notebooks/data_table.ipynb>data table notebook</a>'\n",
              "            + ' to learn more about interactive tables.';\n",
              "          element.innerHTML = '';\n",
              "          dataTable['output_type'] = 'display_data';\n",
              "          await google.colab.output.renderOutput(dataTable, element);\n",
              "          const docLink = document.createElement('div');\n",
              "          docLink.innerHTML = docLinkHtml;\n",
              "          element.appendChild(docLink);\n",
              "        }\n",
              "      </script>\n",
              "    </div>\n",
              "  </div>\n",
              "  "
            ]
          },
          "metadata": {},
          "execution_count": 5
        }
      ],
      "source": [
        "meta_data.head(2)"
      ]
    },
    {
      "cell_type": "code",
      "execution_count": null,
      "metadata": {
        "colab": {
          "base_uri": "https://localhost:8080/"
        },
        "id": "ytiTrwN-dBrQ",
        "outputId": "3567e211-6c23-47f6-eaa5-a2b779204af5"
      },
      "outputs": [
        {
          "output_type": "execute_result",
          "data": {
            "text/plain": [
              "asin                0\n",
              "title               0\n",
              "price          107346\n",
              "imUrl               0\n",
              "related        143304\n",
              "brand          180786\n",
              "categories          0\n",
              "salesRank       45195\n",
              "description    136225\n",
              "dtype: int64"
            ]
          },
          "metadata": {},
          "execution_count": 6
        }
      ],
      "source": [
        "meta_data.isnull().sum()"
      ]
    },
    {
      "cell_type": "code",
      "execution_count": null,
      "metadata": {
        "colab": {
          "base_uri": "https://localhost:8080/"
        },
        "id": "dgaZywRAdE1l",
        "outputId": "400034d7-2db8-4385-ac2c-200cd94fae08"
      },
      "outputs": [
        {
          "output_type": "execute_result",
          "data": {
            "text/plain": [
              "reviewerID           0\n",
              "asin                 0\n",
              "reviewerName         0\n",
              "helpful              0\n",
              "reviewText        1159\n",
              "overall              0\n",
              "summary             20\n",
              "unixReviewTime       0\n",
              "reviewTime           0\n",
              "dtype: int64"
            ]
          },
          "metadata": {},
          "execution_count": 8
        }
      ],
      "source": [
        "review_data.isnull().sum()"
      ]
    },
    {
      "cell_type": "code",
      "execution_count": null,
      "metadata": {
        "id": "gpPOGgBscdOY"
      },
      "outputs": [],
      "source": [
        "mergedata1=pd.merge(meta_data,review_data,on='asin',how=\"inner\")"
      ]
    },
    {
      "cell_type": "code",
      "execution_count": null,
      "metadata": {
        "colab": {
          "base_uri": "https://localhost:8080/",
          "height": 332
        },
        "id": "ZkqC6PtgiCjX",
        "outputId": "f928cf13-3d6f-4c66-c99e-6b07b7871a71"
      },
      "outputs": [
        {
          "output_type": "execute_result",
          "data": {
            "text/plain": [
              "         asin                           title  price  \\\n",
              "0  0000032069  Adult Ballet Tutu Cheetah Pink   7.89   \n",
              "1  0000032069  Adult Ballet Tutu Cheetah Pink   7.89   \n",
              "\n",
              "                                               imUrl  \\\n",
              "0  http://ecx.images-amazon.com/images/I/51EzU6qu...   \n",
              "1  http://ecx.images-amazon.com/images/I/51EzU6qu...   \n",
              "\n",
              "                                             related     brand  \\\n",
              "0  {'also_bought': ['0000032050', 'B00D0DJAEG', '...  BubuBibi   \n",
              "1  {'also_bought': ['0000032050', 'B00D0DJAEG', '...  BubuBibi   \n",
              "\n",
              "                                          categories salesRank description  \\\n",
              "0  [['Sports & Outdoors', 'Other Sports', 'Dance'...       NaN         NaN   \n",
              "1  [['Sports & Outdoors', 'Other Sports', 'Dance'...       NaN         NaN   \n",
              "\n",
              "       reviewerID        reviewerName helpful  \\\n",
              "0  A3V95EULVNA5H4             kristin  [0, 0]   \n",
              "1  A26A7Q6R1GMCFP  K. W. \"Eragon Fan\"  [0, 0]   \n",
              "\n",
              "                                          reviewText  overall        summary  \\\n",
              "0  Poor quality, I guess you get what you paid fo...      2.0   POOR QUALITY   \n",
              "1  My daughter wanted to change her wardrobe and ...      5.0  Just gorgeous   \n",
              "\n",
              "   unixReviewTime   reviewTime  \n",
              "0      1385942400   12 2, 2013  \n",
              "1      1395187200  03 19, 2014  "
            ],
            "text/html": [
              "\n",
              "  <div id=\"df-af915a18-830f-4e1e-838e-ac32515aa8bb\">\n",
              "    <div class=\"colab-df-container\">\n",
              "      <div>\n",
              "<style scoped>\n",
              "    .dataframe tbody tr th:only-of-type {\n",
              "        vertical-align: middle;\n",
              "    }\n",
              "\n",
              "    .dataframe tbody tr th {\n",
              "        vertical-align: top;\n",
              "    }\n",
              "\n",
              "    .dataframe thead th {\n",
              "        text-align: right;\n",
              "    }\n",
              "</style>\n",
              "<table border=\"1\" class=\"dataframe\">\n",
              "  <thead>\n",
              "    <tr style=\"text-align: right;\">\n",
              "      <th></th>\n",
              "      <th>asin</th>\n",
              "      <th>title</th>\n",
              "      <th>price</th>\n",
              "      <th>imUrl</th>\n",
              "      <th>related</th>\n",
              "      <th>brand</th>\n",
              "      <th>categories</th>\n",
              "      <th>salesRank</th>\n",
              "      <th>description</th>\n",
              "      <th>reviewerID</th>\n",
              "      <th>reviewerName</th>\n",
              "      <th>helpful</th>\n",
              "      <th>reviewText</th>\n",
              "      <th>overall</th>\n",
              "      <th>summary</th>\n",
              "      <th>unixReviewTime</th>\n",
              "      <th>reviewTime</th>\n",
              "    </tr>\n",
              "  </thead>\n",
              "  <tbody>\n",
              "    <tr>\n",
              "      <th>0</th>\n",
              "      <td>0000032069</td>\n",
              "      <td>Adult Ballet Tutu Cheetah Pink</td>\n",
              "      <td>7.89</td>\n",
              "      <td>http://ecx.images-amazon.com/images/I/51EzU6qu...</td>\n",
              "      <td>{'also_bought': ['0000032050', 'B00D0DJAEG', '...</td>\n",
              "      <td>BubuBibi</td>\n",
              "      <td>[['Sports &amp; Outdoors', 'Other Sports', 'Dance'...</td>\n",
              "      <td>NaN</td>\n",
              "      <td>NaN</td>\n",
              "      <td>A3V95EULVNA5H4</td>\n",
              "      <td>kristin</td>\n",
              "      <td>[0, 0]</td>\n",
              "      <td>Poor quality, I guess you get what you paid fo...</td>\n",
              "      <td>2.0</td>\n",
              "      <td>POOR QUALITY</td>\n",
              "      <td>1385942400</td>\n",
              "      <td>12 2, 2013</td>\n",
              "    </tr>\n",
              "    <tr>\n",
              "      <th>1</th>\n",
              "      <td>0000032069</td>\n",
              "      <td>Adult Ballet Tutu Cheetah Pink</td>\n",
              "      <td>7.89</td>\n",
              "      <td>http://ecx.images-amazon.com/images/I/51EzU6qu...</td>\n",
              "      <td>{'also_bought': ['0000032050', 'B00D0DJAEG', '...</td>\n",
              "      <td>BubuBibi</td>\n",
              "      <td>[['Sports &amp; Outdoors', 'Other Sports', 'Dance'...</td>\n",
              "      <td>NaN</td>\n",
              "      <td>NaN</td>\n",
              "      <td>A26A7Q6R1GMCFP</td>\n",
              "      <td>K. W. \"Eragon Fan\"</td>\n",
              "      <td>[0, 0]</td>\n",
              "      <td>My daughter wanted to change her wardrobe and ...</td>\n",
              "      <td>5.0</td>\n",
              "      <td>Just gorgeous</td>\n",
              "      <td>1395187200</td>\n",
              "      <td>03 19, 2014</td>\n",
              "    </tr>\n",
              "  </tbody>\n",
              "</table>\n",
              "</div>\n",
              "      <button class=\"colab-df-convert\" onclick=\"convertToInteractive('df-af915a18-830f-4e1e-838e-ac32515aa8bb')\"\n",
              "              title=\"Convert this dataframe to an interactive table.\"\n",
              "              style=\"display:none;\">\n",
              "        \n",
              "  <svg xmlns=\"http://www.w3.org/2000/svg\" height=\"24px\"viewBox=\"0 0 24 24\"\n",
              "       width=\"24px\">\n",
              "    <path d=\"M0 0h24v24H0V0z\" fill=\"none\"/>\n",
              "    <path d=\"M18.56 5.44l.94 2.06.94-2.06 2.06-.94-2.06-.94-.94-2.06-.94 2.06-2.06.94zm-11 1L8.5 8.5l.94-2.06 2.06-.94-2.06-.94L8.5 2.5l-.94 2.06-2.06.94zm10 10l.94 2.06.94-2.06 2.06-.94-2.06-.94-.94-2.06-.94 2.06-2.06.94z\"/><path d=\"M17.41 7.96l-1.37-1.37c-.4-.4-.92-.59-1.43-.59-.52 0-1.04.2-1.43.59L10.3 9.45l-7.72 7.72c-.78.78-.78 2.05 0 2.83L4 21.41c.39.39.9.59 1.41.59.51 0 1.02-.2 1.41-.59l7.78-7.78 2.81-2.81c.8-.78.8-2.07 0-2.86zM5.41 20L4 18.59l7.72-7.72 1.47 1.35L5.41 20z\"/>\n",
              "  </svg>\n",
              "      </button>\n",
              "      \n",
              "  <style>\n",
              "    .colab-df-container {\n",
              "      display:flex;\n",
              "      flex-wrap:wrap;\n",
              "      gap: 12px;\n",
              "    }\n",
              "\n",
              "    .colab-df-convert {\n",
              "      background-color: #E8F0FE;\n",
              "      border: none;\n",
              "      border-radius: 50%;\n",
              "      cursor: pointer;\n",
              "      display: none;\n",
              "      fill: #1967D2;\n",
              "      height: 32px;\n",
              "      padding: 0 0 0 0;\n",
              "      width: 32px;\n",
              "    }\n",
              "\n",
              "    .colab-df-convert:hover {\n",
              "      background-color: #E2EBFA;\n",
              "      box-shadow: 0px 1px 2px rgba(60, 64, 67, 0.3), 0px 1px 3px 1px rgba(60, 64, 67, 0.15);\n",
              "      fill: #174EA6;\n",
              "    }\n",
              "\n",
              "    [theme=dark] .colab-df-convert {\n",
              "      background-color: #3B4455;\n",
              "      fill: #D2E3FC;\n",
              "    }\n",
              "\n",
              "    [theme=dark] .colab-df-convert:hover {\n",
              "      background-color: #434B5C;\n",
              "      box-shadow: 0px 1px 3px 1px rgba(0, 0, 0, 0.15);\n",
              "      filter: drop-shadow(0px 1px 2px rgba(0, 0, 0, 0.3));\n",
              "      fill: #FFFFFF;\n",
              "    }\n",
              "  </style>\n",
              "\n",
              "      <script>\n",
              "        const buttonEl =\n",
              "          document.querySelector('#df-af915a18-830f-4e1e-838e-ac32515aa8bb button.colab-df-convert');\n",
              "        buttonEl.style.display =\n",
              "          google.colab.kernel.accessAllowed ? 'block' : 'none';\n",
              "\n",
              "        async function convertToInteractive(key) {\n",
              "          const element = document.querySelector('#df-af915a18-830f-4e1e-838e-ac32515aa8bb');\n",
              "          const dataTable =\n",
              "            await google.colab.kernel.invokeFunction('convertToInteractive',\n",
              "                                                     [key], {});\n",
              "          if (!dataTable) return;\n",
              "\n",
              "          const docLinkHtml = 'Like what you see? Visit the ' +\n",
              "            '<a target=\"_blank\" href=https://colab.research.google.com/notebooks/data_table.ipynb>data table notebook</a>'\n",
              "            + ' to learn more about interactive tables.';\n",
              "          element.innerHTML = '';\n",
              "          dataTable['output_type'] = 'display_data';\n",
              "          await google.colab.output.renderOutput(dataTable, element);\n",
              "          const docLink = document.createElement('div');\n",
              "          docLink.innerHTML = docLinkHtml;\n",
              "          element.appendChild(docLink);\n",
              "        }\n",
              "      </script>\n",
              "    </div>\n",
              "  </div>\n",
              "  "
            ]
          },
          "metadata": {},
          "execution_count": 10
        }
      ],
      "source": [
        "mergedata1.head(2)"
      ]
    }
  ]
}