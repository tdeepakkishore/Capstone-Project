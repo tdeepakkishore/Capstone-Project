{
  "nbformat": 4,
  "nbformat_minor": 0,
  "metadata": {
    "colab": {
      "provenance": []
    },
    "kernelspec": {
      "name": "python3",
      "display_name": "Python 3"
    },
    "language_info": {
      "name": "python"
    }
  },
  "cells": [
    {
      "cell_type": "code",
      "execution_count": 1,
      "metadata": {
        "colab": {
          "base_uri": "https://localhost:8080/"
        },
        "outputId": "28dcca67-052c-4637-f7bf-fb373e411eca",
        "id": "jvTtj0pZiiuU"
      },
      "outputs": [
        {
          "output_type": "stream",
          "name": "stdout",
          "text": [
            "Mounted at /content/drive\n"
          ]
        }
      ],
      "source": [
        "# Connecting to Drive\n",
        "from google.colab import drive\n",
        "drive.mount('/content/drive')"
      ]
    },
    {
      "cell_type": "code",
      "source": [
        "import pandas as pd\n",
        "from sklearn.preprocessing import LabelEncoder\n",
        "from sklearn import preprocessing"
      ],
      "metadata": {
        "id": "njqchfFCiiuU"
      },
      "execution_count": 2,
      "outputs": []
    },
    {
      "cell_type": "code",
      "source": [
        "import re\n",
        "import string\n",
        "import gzip\n",
        "import nltk\n",
        "nltk.download(\"stopwords\")\n",
        "from nltk.corpus import stopwords\n",
        "import pandas as pd\n",
        "import numpy as np\n",
        "import seaborn as sb\n",
        "import matplotlib.pyplot as pyplot\n",
        "from pandas import option_context\n",
        "from sklearn import preprocessing\n",
        "from tabulate import tabulate\n",
        "from sklearn.preprocessing import LabelEncoder\n",
        "from sklearn.pipeline import Pipeline\n",
        "from sklearn.model_selection import train_test_split\n",
        "from sklearn.feature_extraction.text import TfidfVectorizer, CountVectorizer\n",
        "from sklearn.linear_model import LogisticRegression\n",
        "from sklearn.naive_bayes import MultinomialNB\n",
        "from sklearn.cluster import KMeans\n",
        "from sklearn.ensemble  import RandomForestClassifier\n",
        "from sklearn.linear_model import SGDClassifier\n",
        "from sklearn.model_selection import GridSearchCV\n",
        "from sklearn.metrics import f1_score,accuracy_score,recall_score,precision_score,classification_report,confusion_matrix\n",
        "from IPython.core.interactiveshell import InteractiveShell  \n",
        "InteractiveShell.ast_node_interactivity = \"all\"\n",
        "import warnings\n",
        "warnings.filterwarnings('ignore')"
      ],
      "metadata": {
        "colab": {
          "base_uri": "https://localhost:8080/"
        },
        "outputId": "eb01e46e-0fee-4d44-93d9-8f04c75a0e03",
        "id": "mGpTsboniiuU"
      },
      "execution_count": 3,
      "outputs": [
        {
          "output_type": "stream",
          "name": "stderr",
          "text": [
            "[nltk_data] Downloading package stopwords to /root/nltk_data...\n",
            "[nltk_data]   Unzipping corpora/stopwords.zip.\n"
          ]
        }
      ]
    },
    {
      "cell_type": "code",
      "source": [
        "def parse(path):\n",
        "  g = gzip.open(path, 'rb')\n",
        "  for l in g:\n",
        "    yield eval(l)\n",
        "\n",
        "def getDF(path):\n",
        "  i = 0\n",
        "  df = {}\n",
        "  for d in parse(path):\n",
        "    df[i] = d\n",
        "    i += 1\n",
        "  return pd.DataFrame.from_dict(df, orient='index')"
      ],
      "metadata": {
        "id": "PyqQjbmZiiuV"
      },
      "execution_count": 5,
      "outputs": []
    },
    {
      "cell_type": "code",
      "source": [
        "# Reading Data\n",
        "meta_health = getDF('/content/drive/MyDrive/Health_Data/meta_Health_and_Personal_Care.json.gz')\n",
        "meta_health.head(3)"
      ],
      "metadata": {
        "colab": {
          "base_uri": "https://localhost:8080/",
          "height": 274
        },
        "outputId": "384b4917-8c36-4694-f5a9-5a6855429cb6",
        "id": "rzm_S3j5iiuV"
      },
      "execution_count": 6,
      "outputs": [
        {
          "output_type": "execute_result",
          "data": {
            "text/plain": [
              "         asin                                        description  \\\n",
              "0  0077614992            This is an example product description.   \n",
              "1  0615208479  By now we all know the benefits of exercise fo...   \n",
              "2  0615269990  What's wrong with your patient?Do all the symp...   \n",
              "\n",
              "                                     title  \\\n",
              "0  Principles of Mgmt + Oper-CSUF Custom C   \n",
              "1         Brain Fitness Exercises Software   \n",
              "2                            Occam's Razor   \n",
              "\n",
              "                                               imUrl  \\\n",
              "0  http://ecx.images-amazon.com/images/I/51G%2BRq...   \n",
              "1  http://ecx.images-amazon.com/images/I/41kbZB04...   \n",
              "2  http://ecx.images-amazon.com/images/I/51fH-ABe...   \n",
              "\n",
              "                                             related  \\\n",
              "0  {'also_bought': ['0471730726', '0132834871', '...   \n",
              "1                                                NaN   \n",
              "2  {'also_bought': ['1935660152', '0071743979', '...   \n",
              "\n",
              "                             salesRank  \\\n",
              "0   {'Health & Personal Care': 168429}   \n",
              "1  {'Health & Personal Care': 1346973}   \n",
              "2             {'Toys & Games': 110575}   \n",
              "\n",
              "                                          categories  price brand  \n",
              "0                         [[Health & Personal Care]]    NaN   NaN  \n",
              "1          [[Health & Personal Care, Personal Care]]    NaN   NaN  \n",
              "2  [[Health & Personal Care, Personal Care, Shavi...  34.99   NaN  "
            ],
            "text/html": [
              "\n",
              "  <div id=\"df-8b8e1549-8161-4415-b9d9-c3c5367e56b5\">\n",
              "    <div class=\"colab-df-container\">\n",
              "      <div>\n",
              "<style scoped>\n",
              "    .dataframe tbody tr th:only-of-type {\n",
              "        vertical-align: middle;\n",
              "    }\n",
              "\n",
              "    .dataframe tbody tr th {\n",
              "        vertical-align: top;\n",
              "    }\n",
              "\n",
              "    .dataframe thead th {\n",
              "        text-align: right;\n",
              "    }\n",
              "</style>\n",
              "<table border=\"1\" class=\"dataframe\">\n",
              "  <thead>\n",
              "    <tr style=\"text-align: right;\">\n",
              "      <th></th>\n",
              "      <th>asin</th>\n",
              "      <th>description</th>\n",
              "      <th>title</th>\n",
              "      <th>imUrl</th>\n",
              "      <th>related</th>\n",
              "      <th>salesRank</th>\n",
              "      <th>categories</th>\n",
              "      <th>price</th>\n",
              "      <th>brand</th>\n",
              "    </tr>\n",
              "  </thead>\n",
              "  <tbody>\n",
              "    <tr>\n",
              "      <th>0</th>\n",
              "      <td>0077614992</td>\n",
              "      <td>This is an example product description.</td>\n",
              "      <td>Principles of Mgmt + Oper-CSUF Custom C</td>\n",
              "      <td>http://ecx.images-amazon.com/images/I/51G%2BRq...</td>\n",
              "      <td>{'also_bought': ['0471730726', '0132834871', '...</td>\n",
              "      <td>{'Health &amp; Personal Care': 168429}</td>\n",
              "      <td>[[Health &amp; Personal Care]]</td>\n",
              "      <td>NaN</td>\n",
              "      <td>NaN</td>\n",
              "    </tr>\n",
              "    <tr>\n",
              "      <th>1</th>\n",
              "      <td>0615208479</td>\n",
              "      <td>By now we all know the benefits of exercise fo...</td>\n",
              "      <td>Brain Fitness Exercises Software</td>\n",
              "      <td>http://ecx.images-amazon.com/images/I/41kbZB04...</td>\n",
              "      <td>NaN</td>\n",
              "      <td>{'Health &amp; Personal Care': 1346973}</td>\n",
              "      <td>[[Health &amp; Personal Care, Personal Care]]</td>\n",
              "      <td>NaN</td>\n",
              "      <td>NaN</td>\n",
              "    </tr>\n",
              "    <tr>\n",
              "      <th>2</th>\n",
              "      <td>0615269990</td>\n",
              "      <td>What's wrong with your patient?Do all the symp...</td>\n",
              "      <td>Occam's Razor</td>\n",
              "      <td>http://ecx.images-amazon.com/images/I/51fH-ABe...</td>\n",
              "      <td>{'also_bought': ['1935660152', '0071743979', '...</td>\n",
              "      <td>{'Toys &amp; Games': 110575}</td>\n",
              "      <td>[[Health &amp; Personal Care, Personal Care, Shavi...</td>\n",
              "      <td>34.99</td>\n",
              "      <td>NaN</td>\n",
              "    </tr>\n",
              "  </tbody>\n",
              "</table>\n",
              "</div>\n",
              "      <button class=\"colab-df-convert\" onclick=\"convertToInteractive('df-8b8e1549-8161-4415-b9d9-c3c5367e56b5')\"\n",
              "              title=\"Convert this dataframe to an interactive table.\"\n",
              "              style=\"display:none;\">\n",
              "        \n",
              "  <svg xmlns=\"http://www.w3.org/2000/svg\" height=\"24px\"viewBox=\"0 0 24 24\"\n",
              "       width=\"24px\">\n",
              "    <path d=\"M0 0h24v24H0V0z\" fill=\"none\"/>\n",
              "    <path d=\"M18.56 5.44l.94 2.06.94-2.06 2.06-.94-2.06-.94-.94-2.06-.94 2.06-2.06.94zm-11 1L8.5 8.5l.94-2.06 2.06-.94-2.06-.94L8.5 2.5l-.94 2.06-2.06.94zm10 10l.94 2.06.94-2.06 2.06-.94-2.06-.94-.94-2.06-.94 2.06-2.06.94z\"/><path d=\"M17.41 7.96l-1.37-1.37c-.4-.4-.92-.59-1.43-.59-.52 0-1.04.2-1.43.59L10.3 9.45l-7.72 7.72c-.78.78-.78 2.05 0 2.83L4 21.41c.39.39.9.59 1.41.59.51 0 1.02-.2 1.41-.59l7.78-7.78 2.81-2.81c.8-.78.8-2.07 0-2.86zM5.41 20L4 18.59l7.72-7.72 1.47 1.35L5.41 20z\"/>\n",
              "  </svg>\n",
              "      </button>\n",
              "      \n",
              "  <style>\n",
              "    .colab-df-container {\n",
              "      display:flex;\n",
              "      flex-wrap:wrap;\n",
              "      gap: 12px;\n",
              "    }\n",
              "\n",
              "    .colab-df-convert {\n",
              "      background-color: #E8F0FE;\n",
              "      border: none;\n",
              "      border-radius: 50%;\n",
              "      cursor: pointer;\n",
              "      display: none;\n",
              "      fill: #1967D2;\n",
              "      height: 32px;\n",
              "      padding: 0 0 0 0;\n",
              "      width: 32px;\n",
              "    }\n",
              "\n",
              "    .colab-df-convert:hover {\n",
              "      background-color: #E2EBFA;\n",
              "      box-shadow: 0px 1px 2px rgba(60, 64, 67, 0.3), 0px 1px 3px 1px rgba(60, 64, 67, 0.15);\n",
              "      fill: #174EA6;\n",
              "    }\n",
              "\n",
              "    [theme=dark] .colab-df-convert {\n",
              "      background-color: #3B4455;\n",
              "      fill: #D2E3FC;\n",
              "    }\n",
              "\n",
              "    [theme=dark] .colab-df-convert:hover {\n",
              "      background-color: #434B5C;\n",
              "      box-shadow: 0px 1px 3px 1px rgba(0, 0, 0, 0.15);\n",
              "      filter: drop-shadow(0px 1px 2px rgba(0, 0, 0, 0.3));\n",
              "      fill: #FFFFFF;\n",
              "    }\n",
              "  </style>\n",
              "\n",
              "      <script>\n",
              "        const buttonEl =\n",
              "          document.querySelector('#df-8b8e1549-8161-4415-b9d9-c3c5367e56b5 button.colab-df-convert');\n",
              "        buttonEl.style.display =\n",
              "          google.colab.kernel.accessAllowed ? 'block' : 'none';\n",
              "\n",
              "        async function convertToInteractive(key) {\n",
              "          const element = document.querySelector('#df-8b8e1549-8161-4415-b9d9-c3c5367e56b5');\n",
              "          const dataTable =\n",
              "            await google.colab.kernel.invokeFunction('convertToInteractive',\n",
              "                                                     [key], {});\n",
              "          if (!dataTable) return;\n",
              "\n",
              "          const docLinkHtml = 'Like what you see? Visit the ' +\n",
              "            '<a target=\"_blank\" href=https://colab.research.google.com/notebooks/data_table.ipynb>data table notebook</a>'\n",
              "            + ' to learn more about interactive tables.';\n",
              "          element.innerHTML = '';\n",
              "          dataTable['output_type'] = 'display_data';\n",
              "          await google.colab.output.renderOutput(dataTable, element);\n",
              "          const docLink = document.createElement('div');\n",
              "          docLink.innerHTML = docLinkHtml;\n",
              "          element.appendChild(docLink);\n",
              "        }\n",
              "      </script>\n",
              "    </div>\n",
              "  </div>\n",
              "  "
            ]
          },
          "metadata": {},
          "execution_count": 6
        }
      ]
    },
    {
      "cell_type": "code",
      "source": [
        "# Reading Data\n",
        "review_health = getDF('/content/drive/MyDrive/Health_Data/reviews_Health_and_Personal_Care.json.gz')\n",
        "review_health.head(3)"
      ],
      "metadata": {
        "colab": {
          "base_uri": "https://localhost:8080/",
          "height": 143
        },
        "outputId": "de42a5dc-3b5b-40d3-d15e-5b6258823c9f",
        "id": "cnCUCuTWiiuV"
      },
      "execution_count": 7,
      "outputs": [
        {
          "output_type": "execute_result",
          "data": {
            "text/plain": [
              "       reviewerID        asin    reviewerName helpful  \\\n",
              "0   ARMDSTEI0Z7YW  0077614992            dodo  [0, 0]   \n",
              "1   A3FYN0SZYWN74  0615208479  Marilyn Mitzel  [0, 0]   \n",
              "2  A2J0WRZSAAHUAP  0615269990          icu-rn  [0, 0]   \n",
              "\n",
              "                                          reviewText  overall  \\\n",
              "0  This book was a requirement for a college clas...      5.0   \n",
              "1  This is a great gift for anyone who wants to h...      5.0   \n",
              "2  Very helpful in learning about different disea...      5.0   \n",
              "\n",
              "                         summary  unixReviewTime   reviewTime  \n",
              "0                          great      1360886400  02 15, 2013  \n",
              "1  AMAZING HOW QUICKLY IT WORKS!      1228089600   12 1, 2008  \n",
              "2                      Must have      1396742400   04 6, 2014  "
            ],
            "text/html": [
              "\n",
              "  <div id=\"df-d1464159-ba80-4090-a532-b80f5484017f\">\n",
              "    <div class=\"colab-df-container\">\n",
              "      <div>\n",
              "<style scoped>\n",
              "    .dataframe tbody tr th:only-of-type {\n",
              "        vertical-align: middle;\n",
              "    }\n",
              "\n",
              "    .dataframe tbody tr th {\n",
              "        vertical-align: top;\n",
              "    }\n",
              "\n",
              "    .dataframe thead th {\n",
              "        text-align: right;\n",
              "    }\n",
              "</style>\n",
              "<table border=\"1\" class=\"dataframe\">\n",
              "  <thead>\n",
              "    <tr style=\"text-align: right;\">\n",
              "      <th></th>\n",
              "      <th>reviewerID</th>\n",
              "      <th>asin</th>\n",
              "      <th>reviewerName</th>\n",
              "      <th>helpful</th>\n",
              "      <th>reviewText</th>\n",
              "      <th>overall</th>\n",
              "      <th>summary</th>\n",
              "      <th>unixReviewTime</th>\n",
              "      <th>reviewTime</th>\n",
              "    </tr>\n",
              "  </thead>\n",
              "  <tbody>\n",
              "    <tr>\n",
              "      <th>0</th>\n",
              "      <td>ARMDSTEI0Z7YW</td>\n",
              "      <td>0077614992</td>\n",
              "      <td>dodo</td>\n",
              "      <td>[0, 0]</td>\n",
              "      <td>This book was a requirement for a college clas...</td>\n",
              "      <td>5.0</td>\n",
              "      <td>great</td>\n",
              "      <td>1360886400</td>\n",
              "      <td>02 15, 2013</td>\n",
              "    </tr>\n",
              "    <tr>\n",
              "      <th>1</th>\n",
              "      <td>A3FYN0SZYWN74</td>\n",
              "      <td>0615208479</td>\n",
              "      <td>Marilyn Mitzel</td>\n",
              "      <td>[0, 0]</td>\n",
              "      <td>This is a great gift for anyone who wants to h...</td>\n",
              "      <td>5.0</td>\n",
              "      <td>AMAZING HOW QUICKLY IT WORKS!</td>\n",
              "      <td>1228089600</td>\n",
              "      <td>12 1, 2008</td>\n",
              "    </tr>\n",
              "    <tr>\n",
              "      <th>2</th>\n",
              "      <td>A2J0WRZSAAHUAP</td>\n",
              "      <td>0615269990</td>\n",
              "      <td>icu-rn</td>\n",
              "      <td>[0, 0]</td>\n",
              "      <td>Very helpful in learning about different disea...</td>\n",
              "      <td>5.0</td>\n",
              "      <td>Must have</td>\n",
              "      <td>1396742400</td>\n",
              "      <td>04 6, 2014</td>\n",
              "    </tr>\n",
              "  </tbody>\n",
              "</table>\n",
              "</div>\n",
              "      <button class=\"colab-df-convert\" onclick=\"convertToInteractive('df-d1464159-ba80-4090-a532-b80f5484017f')\"\n",
              "              title=\"Convert this dataframe to an interactive table.\"\n",
              "              style=\"display:none;\">\n",
              "        \n",
              "  <svg xmlns=\"http://www.w3.org/2000/svg\" height=\"24px\"viewBox=\"0 0 24 24\"\n",
              "       width=\"24px\">\n",
              "    <path d=\"M0 0h24v24H0V0z\" fill=\"none\"/>\n",
              "    <path d=\"M18.56 5.44l.94 2.06.94-2.06 2.06-.94-2.06-.94-.94-2.06-.94 2.06-2.06.94zm-11 1L8.5 8.5l.94-2.06 2.06-.94-2.06-.94L8.5 2.5l-.94 2.06-2.06.94zm10 10l.94 2.06.94-2.06 2.06-.94-2.06-.94-.94-2.06-.94 2.06-2.06.94z\"/><path d=\"M17.41 7.96l-1.37-1.37c-.4-.4-.92-.59-1.43-.59-.52 0-1.04.2-1.43.59L10.3 9.45l-7.72 7.72c-.78.78-.78 2.05 0 2.83L4 21.41c.39.39.9.59 1.41.59.51 0 1.02-.2 1.41-.59l7.78-7.78 2.81-2.81c.8-.78.8-2.07 0-2.86zM5.41 20L4 18.59l7.72-7.72 1.47 1.35L5.41 20z\"/>\n",
              "  </svg>\n",
              "      </button>\n",
              "      \n",
              "  <style>\n",
              "    .colab-df-container {\n",
              "      display:flex;\n",
              "      flex-wrap:wrap;\n",
              "      gap: 12px;\n",
              "    }\n",
              "\n",
              "    .colab-df-convert {\n",
              "      background-color: #E8F0FE;\n",
              "      border: none;\n",
              "      border-radius: 50%;\n",
              "      cursor: pointer;\n",
              "      display: none;\n",
              "      fill: #1967D2;\n",
              "      height: 32px;\n",
              "      padding: 0 0 0 0;\n",
              "      width: 32px;\n",
              "    }\n",
              "\n",
              "    .colab-df-convert:hover {\n",
              "      background-color: #E2EBFA;\n",
              "      box-shadow: 0px 1px 2px rgba(60, 64, 67, 0.3), 0px 1px 3px 1px rgba(60, 64, 67, 0.15);\n",
              "      fill: #174EA6;\n",
              "    }\n",
              "\n",
              "    [theme=dark] .colab-df-convert {\n",
              "      background-color: #3B4455;\n",
              "      fill: #D2E3FC;\n",
              "    }\n",
              "\n",
              "    [theme=dark] .colab-df-convert:hover {\n",
              "      background-color: #434B5C;\n",
              "      box-shadow: 0px 1px 3px 1px rgba(0, 0, 0, 0.15);\n",
              "      filter: drop-shadow(0px 1px 2px rgba(0, 0, 0, 0.3));\n",
              "      fill: #FFFFFF;\n",
              "    }\n",
              "  </style>\n",
              "\n",
              "      <script>\n",
              "        const buttonEl =\n",
              "          document.querySelector('#df-d1464159-ba80-4090-a532-b80f5484017f button.colab-df-convert');\n",
              "        buttonEl.style.display =\n",
              "          google.colab.kernel.accessAllowed ? 'block' : 'none';\n",
              "\n",
              "        async function convertToInteractive(key) {\n",
              "          const element = document.querySelector('#df-d1464159-ba80-4090-a532-b80f5484017f');\n",
              "          const dataTable =\n",
              "            await google.colab.kernel.invokeFunction('convertToInteractive',\n",
              "                                                     [key], {});\n",
              "          if (!dataTable) return;\n",
              "\n",
              "          const docLinkHtml = 'Like what you see? Visit the ' +\n",
              "            '<a target=\"_blank\" href=https://colab.research.google.com/notebooks/data_table.ipynb>data table notebook</a>'\n",
              "            + ' to learn more about interactive tables.';\n",
              "          element.innerHTML = '';\n",
              "          dataTable['output_type'] = 'display_data';\n",
              "          await google.colab.output.renderOutput(dataTable, element);\n",
              "          const docLink = document.createElement('div');\n",
              "          docLink.innerHTML = docLinkHtml;\n",
              "          element.appendChild(docLink);\n",
              "        }\n",
              "      </script>\n",
              "    </div>\n",
              "  </div>\n",
              "  "
            ]
          },
          "metadata": {},
          "execution_count": 7
        }
      ]
    },
    {
      "cell_type": "code",
      "source": [
        "# Merging Data\n",
        "merge_data = pd.merge(review_health,meta_health,on='asin',how='inner')"
      ],
      "metadata": {
        "id": "PQtcJJF-iiuV"
      },
      "execution_count": 8,
      "outputs": []
    },
    {
      "cell_type": "code",
      "source": [
        "# Data Head\n",
        "merge_data.head(2)"
      ],
      "metadata": {
        "colab": {
          "base_uri": "https://localhost:8080/",
          "height": 332
        },
        "outputId": "dc09c902-3328-4e1a-a85a-e3e1ba9b4bdb",
        "id": "L9RWttyeiiuV"
      },
      "execution_count": 9,
      "outputs": [
        {
          "output_type": "execute_result",
          "data": {
            "text/plain": [
              "      reviewerID        asin    reviewerName helpful  \\\n",
              "0  ARMDSTEI0Z7YW  0077614992            dodo  [0, 0]   \n",
              "1  A3FYN0SZYWN74  0615208479  Marilyn Mitzel  [0, 0]   \n",
              "\n",
              "                                          reviewText  overall  \\\n",
              "0  This book was a requirement for a college clas...      5.0   \n",
              "1  This is a great gift for anyone who wants to h...      5.0   \n",
              "\n",
              "                         summary  unixReviewTime   reviewTime  \\\n",
              "0                          great      1360886400  02 15, 2013   \n",
              "1  AMAZING HOW QUICKLY IT WORKS!      1228089600   12 1, 2008   \n",
              "\n",
              "                                         description  \\\n",
              "0            This is an example product description.   \n",
              "1  By now we all know the benefits of exercise fo...   \n",
              "\n",
              "                                     title  \\\n",
              "0  Principles of Mgmt + Oper-CSUF Custom C   \n",
              "1         Brain Fitness Exercises Software   \n",
              "\n",
              "                                               imUrl  \\\n",
              "0  http://ecx.images-amazon.com/images/I/51G%2BRq...   \n",
              "1  http://ecx.images-amazon.com/images/I/41kbZB04...   \n",
              "\n",
              "                                             related  \\\n",
              "0  {'also_bought': ['0471730726', '0132834871', '...   \n",
              "1                                                NaN   \n",
              "\n",
              "                             salesRank  \\\n",
              "0   {'Health & Personal Care': 168429}   \n",
              "1  {'Health & Personal Care': 1346973}   \n",
              "\n",
              "                                  categories  price brand  \n",
              "0                 [[Health & Personal Care]]    NaN   NaN  \n",
              "1  [[Health & Personal Care, Personal Care]]    NaN   NaN  "
            ],
            "text/html": [
              "\n",
              "  <div id=\"df-b9edcfd0-f7f8-400a-83a4-4263e52a4a16\">\n",
              "    <div class=\"colab-df-container\">\n",
              "      <div>\n",
              "<style scoped>\n",
              "    .dataframe tbody tr th:only-of-type {\n",
              "        vertical-align: middle;\n",
              "    }\n",
              "\n",
              "    .dataframe tbody tr th {\n",
              "        vertical-align: top;\n",
              "    }\n",
              "\n",
              "    .dataframe thead th {\n",
              "        text-align: right;\n",
              "    }\n",
              "</style>\n",
              "<table border=\"1\" class=\"dataframe\">\n",
              "  <thead>\n",
              "    <tr style=\"text-align: right;\">\n",
              "      <th></th>\n",
              "      <th>reviewerID</th>\n",
              "      <th>asin</th>\n",
              "      <th>reviewerName</th>\n",
              "      <th>helpful</th>\n",
              "      <th>reviewText</th>\n",
              "      <th>overall</th>\n",
              "      <th>summary</th>\n",
              "      <th>unixReviewTime</th>\n",
              "      <th>reviewTime</th>\n",
              "      <th>description</th>\n",
              "      <th>title</th>\n",
              "      <th>imUrl</th>\n",
              "      <th>related</th>\n",
              "      <th>salesRank</th>\n",
              "      <th>categories</th>\n",
              "      <th>price</th>\n",
              "      <th>brand</th>\n",
              "    </tr>\n",
              "  </thead>\n",
              "  <tbody>\n",
              "    <tr>\n",
              "      <th>0</th>\n",
              "      <td>ARMDSTEI0Z7YW</td>\n",
              "      <td>0077614992</td>\n",
              "      <td>dodo</td>\n",
              "      <td>[0, 0]</td>\n",
              "      <td>This book was a requirement for a college clas...</td>\n",
              "      <td>5.0</td>\n",
              "      <td>great</td>\n",
              "      <td>1360886400</td>\n",
              "      <td>02 15, 2013</td>\n",
              "      <td>This is an example product description.</td>\n",
              "      <td>Principles of Mgmt + Oper-CSUF Custom C</td>\n",
              "      <td>http://ecx.images-amazon.com/images/I/51G%2BRq...</td>\n",
              "      <td>{'also_bought': ['0471730726', '0132834871', '...</td>\n",
              "      <td>{'Health &amp; Personal Care': 168429}</td>\n",
              "      <td>[[Health &amp; Personal Care]]</td>\n",
              "      <td>NaN</td>\n",
              "      <td>NaN</td>\n",
              "    </tr>\n",
              "    <tr>\n",
              "      <th>1</th>\n",
              "      <td>A3FYN0SZYWN74</td>\n",
              "      <td>0615208479</td>\n",
              "      <td>Marilyn Mitzel</td>\n",
              "      <td>[0, 0]</td>\n",
              "      <td>This is a great gift for anyone who wants to h...</td>\n",
              "      <td>5.0</td>\n",
              "      <td>AMAZING HOW QUICKLY IT WORKS!</td>\n",
              "      <td>1228089600</td>\n",
              "      <td>12 1, 2008</td>\n",
              "      <td>By now we all know the benefits of exercise fo...</td>\n",
              "      <td>Brain Fitness Exercises Software</td>\n",
              "      <td>http://ecx.images-amazon.com/images/I/41kbZB04...</td>\n",
              "      <td>NaN</td>\n",
              "      <td>{'Health &amp; Personal Care': 1346973}</td>\n",
              "      <td>[[Health &amp; Personal Care, Personal Care]]</td>\n",
              "      <td>NaN</td>\n",
              "      <td>NaN</td>\n",
              "    </tr>\n",
              "  </tbody>\n",
              "</table>\n",
              "</div>\n",
              "      <button class=\"colab-df-convert\" onclick=\"convertToInteractive('df-b9edcfd0-f7f8-400a-83a4-4263e52a4a16')\"\n",
              "              title=\"Convert this dataframe to an interactive table.\"\n",
              "              style=\"display:none;\">\n",
              "        \n",
              "  <svg xmlns=\"http://www.w3.org/2000/svg\" height=\"24px\"viewBox=\"0 0 24 24\"\n",
              "       width=\"24px\">\n",
              "    <path d=\"M0 0h24v24H0V0z\" fill=\"none\"/>\n",
              "    <path d=\"M18.56 5.44l.94 2.06.94-2.06 2.06-.94-2.06-.94-.94-2.06-.94 2.06-2.06.94zm-11 1L8.5 8.5l.94-2.06 2.06-.94-2.06-.94L8.5 2.5l-.94 2.06-2.06.94zm10 10l.94 2.06.94-2.06 2.06-.94-2.06-.94-.94-2.06-.94 2.06-2.06.94z\"/><path d=\"M17.41 7.96l-1.37-1.37c-.4-.4-.92-.59-1.43-.59-.52 0-1.04.2-1.43.59L10.3 9.45l-7.72 7.72c-.78.78-.78 2.05 0 2.83L4 21.41c.39.39.9.59 1.41.59.51 0 1.02-.2 1.41-.59l7.78-7.78 2.81-2.81c.8-.78.8-2.07 0-2.86zM5.41 20L4 18.59l7.72-7.72 1.47 1.35L5.41 20z\"/>\n",
              "  </svg>\n",
              "      </button>\n",
              "      \n",
              "  <style>\n",
              "    .colab-df-container {\n",
              "      display:flex;\n",
              "      flex-wrap:wrap;\n",
              "      gap: 12px;\n",
              "    }\n",
              "\n",
              "    .colab-df-convert {\n",
              "      background-color: #E8F0FE;\n",
              "      border: none;\n",
              "      border-radius: 50%;\n",
              "      cursor: pointer;\n",
              "      display: none;\n",
              "      fill: #1967D2;\n",
              "      height: 32px;\n",
              "      padding: 0 0 0 0;\n",
              "      width: 32px;\n",
              "    }\n",
              "\n",
              "    .colab-df-convert:hover {\n",
              "      background-color: #E2EBFA;\n",
              "      box-shadow: 0px 1px 2px rgba(60, 64, 67, 0.3), 0px 1px 3px 1px rgba(60, 64, 67, 0.15);\n",
              "      fill: #174EA6;\n",
              "    }\n",
              "\n",
              "    [theme=dark] .colab-df-convert {\n",
              "      background-color: #3B4455;\n",
              "      fill: #D2E3FC;\n",
              "    }\n",
              "\n",
              "    [theme=dark] .colab-df-convert:hover {\n",
              "      background-color: #434B5C;\n",
              "      box-shadow: 0px 1px 3px 1px rgba(0, 0, 0, 0.15);\n",
              "      filter: drop-shadow(0px 1px 2px rgba(0, 0, 0, 0.3));\n",
              "      fill: #FFFFFF;\n",
              "    }\n",
              "  </style>\n",
              "\n",
              "      <script>\n",
              "        const buttonEl =\n",
              "          document.querySelector('#df-b9edcfd0-f7f8-400a-83a4-4263e52a4a16 button.colab-df-convert');\n",
              "        buttonEl.style.display =\n",
              "          google.colab.kernel.accessAllowed ? 'block' : 'none';\n",
              "\n",
              "        async function convertToInteractive(key) {\n",
              "          const element = document.querySelector('#df-b9edcfd0-f7f8-400a-83a4-4263e52a4a16');\n",
              "          const dataTable =\n",
              "            await google.colab.kernel.invokeFunction('convertToInteractive',\n",
              "                                                     [key], {});\n",
              "          if (!dataTable) return;\n",
              "\n",
              "          const docLinkHtml = 'Like what you see? Visit the ' +\n",
              "            '<a target=\"_blank\" href=https://colab.research.google.com/notebooks/data_table.ipynb>data table notebook</a>'\n",
              "            + ' to learn more about interactive tables.';\n",
              "          element.innerHTML = '';\n",
              "          dataTable['output_type'] = 'display_data';\n",
              "          await google.colab.output.renderOutput(dataTable, element);\n",
              "          const docLink = document.createElement('div');\n",
              "          docLink.innerHTML = docLinkHtml;\n",
              "          element.appendChild(docLink);\n",
              "        }\n",
              "      </script>\n",
              "    </div>\n",
              "  </div>\n",
              "  "
            ]
          },
          "metadata": {},
          "execution_count": 9
        }
      ]
    },
    {
      "cell_type": "code",
      "source": [
        "# Converting Date Format\n",
        "merge_data['reviewTime'] = pd.to_datetime(merge_data['reviewTime'])"
      ],
      "metadata": {
        "id": "6oppB8n0iiuV"
      },
      "execution_count": 10,
      "outputs": []
    },
    {
      "cell_type": "code",
      "source": [
        "# Sorting the Data on Time Frame\n",
        "merge_data = merge_data.sort_values('reviewTime')"
      ],
      "metadata": {
        "id": "HgoBUjLViiuW"
      },
      "execution_count": 11,
      "outputs": []
    },
    {
      "cell_type": "code",
      "source": [
        "# Setting Review Date as Index\n",
        "merge_data = merge_data.set_index(merge_data['reviewTime'])"
      ],
      "metadata": {
        "id": "_-zuc0opiiuW"
      },
      "execution_count": 12,
      "outputs": []
    },
    {
      "cell_type": "code",
      "execution_count": 13,
      "metadata": {
        "colab": {
          "base_uri": "https://localhost:8080/"
        },
        "outputId": "1f483185-dc8b-4df5-c918-c760656b74de",
        "id": "b0m_mpBWiiuW"
      },
      "outputs": [
        {
          "output_type": "execute_result",
          "data": {
            "text/plain": [
              "reviewerID             0\n",
              "asin                   0\n",
              "reviewerName       31653\n",
              "helpful                0\n",
              "reviewText             0\n",
              "overall                0\n",
              "summary                0\n",
              "unixReviewTime         0\n",
              "reviewTime             0\n",
              "description       119905\n",
              "title              11411\n",
              "imUrl               5278\n",
              "related           111195\n",
              "salesRank         141681\n",
              "categories             0\n",
              "price             314472\n",
              "brand             904550\n",
              "dtype: int64"
            ]
          },
          "metadata": {},
          "execution_count": 13
        }
      ],
      "source": [
        "# Checking Null Values\n",
        "merge_data.isnull().sum()"
      ]
    },
    {
      "cell_type": "code",
      "execution_count": 14,
      "metadata": {
        "colab": {
          "base_uri": "https://localhost:8080/"
        },
        "outputId": "c86bf2ca-e8e5-49c4-8765-796dd3d804b6",
        "id": "Eod-q8T9iiuW"
      },
      "outputs": [
        {
          "output_type": "execute_result",
          "data": {
            "text/plain": [
              "(2982326, 17)"
            ]
          },
          "metadata": {},
          "execution_count": 14
        }
      ],
      "source": [
        "# Data Shape\n",
        "merge_data.shape"
      ]
    },
    {
      "cell_type": "code",
      "execution_count": 15,
      "metadata": {
        "id": "XjbeMRMJiiuW"
      },
      "outputs": [],
      "source": [
        "# Converting Categories Nested List into List\n",
        "merge_data['categories'] = [i[0] for i in merge_data['categories']]"
      ]
    },
    {
      "cell_type": "code",
      "execution_count": 16,
      "metadata": {
        "id": "m5gUhDIaiiuW"
      },
      "outputs": [],
      "source": [
        "# Converting Rating Float to Int\n",
        "merge_data['overall'] = merge_data['overall'].astype('int')"
      ]
    },
    {
      "cell_type": "code",
      "execution_count": 17,
      "metadata": {
        "colab": {
          "base_uri": "https://localhost:8080/"
        },
        "outputId": "167fc869-f386-48ae-ba53-664f708d0386",
        "id": "TFJSyidEiiuW"
      },
      "outputs": [
        {
          "output_type": "stream",
          "name": "stdout",
          "text": [
            "<class 'pandas.core.frame.DataFrame'>\n",
            "DatetimeIndex: 2982326 entries, 1998-07-26 to 2014-07-23\n",
            "Data columns (total 17 columns):\n",
            " #   Column          Dtype         \n",
            "---  ------          -----         \n",
            " 0   reviewerID      object        \n",
            " 1   asin            object        \n",
            " 2   reviewerName    object        \n",
            " 3   helpful         object        \n",
            " 4   reviewText      object        \n",
            " 5   overall         int64         \n",
            " 6   summary         object        \n",
            " 7   unixReviewTime  int64         \n",
            " 8   reviewTime      datetime64[ns]\n",
            " 9   description     object        \n",
            " 10  title           object        \n",
            " 11  imUrl           object        \n",
            " 12  related         object        \n",
            " 13  salesRank       object        \n",
            " 14  categories      object        \n",
            " 15  price           float64       \n",
            " 16  brand           object        \n",
            "dtypes: datetime64[ns](1), float64(1), int64(2), object(13)\n",
            "memory usage: 409.6+ MB\n"
          ]
        }
      ],
      "source": [
        "# Info\n",
        "merge_data.info()"
      ]
    },
    {
      "cell_type": "code",
      "execution_count": 18,
      "metadata": {
        "id": "XWkEFCQFiiuW"
      },
      "outputs": [],
      "source": [
        "# Filtering the Records based on Good or Bad\n",
        "merge_data.insert(6,'sentiment',np.nan)"
      ]
    },
    {
      "cell_type": "code",
      "source": [
        "# Adding Sentiment Columns\n",
        "lst = []\n",
        "for i in merge_data['overall']:\n",
        "  if i > 3:\n",
        "    lst.append('Positive')\n",
        "  elif i == 3:\n",
        "    lst.append('Neutral')\n",
        "  else:\n",
        "    lst.append('Negative')\n",
        "\n",
        "merge_data['sentiment'] = lst"
      ],
      "metadata": {
        "id": "EgER8guPiiuW"
      },
      "execution_count": 19,
      "outputs": []
    },
    {
      "cell_type": "code",
      "execution_count": 20,
      "metadata": {
        "id": "MeYdo6UliiuW"
      },
      "outputs": [],
      "source": [
        "# Filtering the Records based on Helpful or Not\n",
        "merge_data.insert(4,'help_per',np.nan)"
      ]
    },
    {
      "cell_type": "code",
      "execution_count": 21,
      "metadata": {
        "id": "9BGHarS9iiuX"
      },
      "outputs": [],
      "source": [
        "# Adding Values to the Columns helpful percentage\n",
        "merge_data['help_per'] = [0 if i[1]==0 else round(i[0]/i[1]*100,2) for i in merge_data['helpful']]"
      ]
    },
    {
      "cell_type": "code",
      "execution_count": 22,
      "metadata": {
        "colab": {
          "base_uri": "https://localhost:8080/"
        },
        "outputId": "93ce53af-9308-4118-e333-2a3778c15662",
        "id": "NgXUW_rJiiuX"
      },
      "outputs": [
        {
          "output_type": "execute_result",
          "data": {
            "text/plain": [
              "Index(['reviewerID', 'asin', 'reviewerName', 'helpful', 'help_per',\n",
              "       'reviewText', 'overall', 'sentiment', 'summary', 'unixReviewTime',\n",
              "       'reviewTime', 'description', 'title', 'imUrl', 'related', 'salesRank',\n",
              "       'categories', 'price', 'brand'],\n",
              "      dtype='object')"
            ]
          },
          "metadata": {},
          "execution_count": 22
        }
      ],
      "source": [
        "# Columns\n",
        "merge_data.columns"
      ]
    },
    {
      "cell_type": "code",
      "execution_count": 23,
      "metadata": {
        "colab": {
          "base_uri": "https://localhost:8080/",
          "height": 300
        },
        "outputId": "11171b32-9aa3-4832-b93a-75352ada3a32",
        "id": "k9RVSNI6iiuX"
      },
      "outputs": [
        {
          "output_type": "execute_result",
          "data": {
            "text/plain": [
              "           help_per       overall  unixReviewTime         price\n",
              "count  2.982326e+06  2.982326e+06    2.982326e+06  2.667854e+06\n",
              "mean   3.307806e+01  4.107974e+00    1.358166e+09  2.929901e+01\n",
              "std    4.361229e+01  1.336448e+00    5.000698e+07  4.011675e+01\n",
              "min    0.000000e+00  1.000000e+00    9.014112e+08  1.000000e-02\n",
              "25%    0.000000e+00  4.000000e+00    1.347667e+09  1.013000e+01\n",
              "50%    0.000000e+00  5.000000e+00    1.372810e+09  1.884000e+01\n",
              "75%    8.750000e+01  5.000000e+00    1.391472e+09  3.321000e+01\n",
              "max    2.000000e+02  5.000000e+00    1.406074e+09  9.999900e+02"
            ],
            "text/html": [
              "\n",
              "  <div id=\"df-619ba504-2b8e-4824-816c-8570a2b8a7f2\">\n",
              "    <div class=\"colab-df-container\">\n",
              "      <div>\n",
              "<style scoped>\n",
              "    .dataframe tbody tr th:only-of-type {\n",
              "        vertical-align: middle;\n",
              "    }\n",
              "\n",
              "    .dataframe tbody tr th {\n",
              "        vertical-align: top;\n",
              "    }\n",
              "\n",
              "    .dataframe thead th {\n",
              "        text-align: right;\n",
              "    }\n",
              "</style>\n",
              "<table border=\"1\" class=\"dataframe\">\n",
              "  <thead>\n",
              "    <tr style=\"text-align: right;\">\n",
              "      <th></th>\n",
              "      <th>help_per</th>\n",
              "      <th>overall</th>\n",
              "      <th>unixReviewTime</th>\n",
              "      <th>price</th>\n",
              "    </tr>\n",
              "  </thead>\n",
              "  <tbody>\n",
              "    <tr>\n",
              "      <th>count</th>\n",
              "      <td>2.982326e+06</td>\n",
              "      <td>2.982326e+06</td>\n",
              "      <td>2.982326e+06</td>\n",
              "      <td>2.667854e+06</td>\n",
              "    </tr>\n",
              "    <tr>\n",
              "      <th>mean</th>\n",
              "      <td>3.307806e+01</td>\n",
              "      <td>4.107974e+00</td>\n",
              "      <td>1.358166e+09</td>\n",
              "      <td>2.929901e+01</td>\n",
              "    </tr>\n",
              "    <tr>\n",
              "      <th>std</th>\n",
              "      <td>4.361229e+01</td>\n",
              "      <td>1.336448e+00</td>\n",
              "      <td>5.000698e+07</td>\n",
              "      <td>4.011675e+01</td>\n",
              "    </tr>\n",
              "    <tr>\n",
              "      <th>min</th>\n",
              "      <td>0.000000e+00</td>\n",
              "      <td>1.000000e+00</td>\n",
              "      <td>9.014112e+08</td>\n",
              "      <td>1.000000e-02</td>\n",
              "    </tr>\n",
              "    <tr>\n",
              "      <th>25%</th>\n",
              "      <td>0.000000e+00</td>\n",
              "      <td>4.000000e+00</td>\n",
              "      <td>1.347667e+09</td>\n",
              "      <td>1.013000e+01</td>\n",
              "    </tr>\n",
              "    <tr>\n",
              "      <th>50%</th>\n",
              "      <td>0.000000e+00</td>\n",
              "      <td>5.000000e+00</td>\n",
              "      <td>1.372810e+09</td>\n",
              "      <td>1.884000e+01</td>\n",
              "    </tr>\n",
              "    <tr>\n",
              "      <th>75%</th>\n",
              "      <td>8.750000e+01</td>\n",
              "      <td>5.000000e+00</td>\n",
              "      <td>1.391472e+09</td>\n",
              "      <td>3.321000e+01</td>\n",
              "    </tr>\n",
              "    <tr>\n",
              "      <th>max</th>\n",
              "      <td>2.000000e+02</td>\n",
              "      <td>5.000000e+00</td>\n",
              "      <td>1.406074e+09</td>\n",
              "      <td>9.999900e+02</td>\n",
              "    </tr>\n",
              "  </tbody>\n",
              "</table>\n",
              "</div>\n",
              "      <button class=\"colab-df-convert\" onclick=\"convertToInteractive('df-619ba504-2b8e-4824-816c-8570a2b8a7f2')\"\n",
              "              title=\"Convert this dataframe to an interactive table.\"\n",
              "              style=\"display:none;\">\n",
              "        \n",
              "  <svg xmlns=\"http://www.w3.org/2000/svg\" height=\"24px\"viewBox=\"0 0 24 24\"\n",
              "       width=\"24px\">\n",
              "    <path d=\"M0 0h24v24H0V0z\" fill=\"none\"/>\n",
              "    <path d=\"M18.56 5.44l.94 2.06.94-2.06 2.06-.94-2.06-.94-.94-2.06-.94 2.06-2.06.94zm-11 1L8.5 8.5l.94-2.06 2.06-.94-2.06-.94L8.5 2.5l-.94 2.06-2.06.94zm10 10l.94 2.06.94-2.06 2.06-.94-2.06-.94-.94-2.06-.94 2.06-2.06.94z\"/><path d=\"M17.41 7.96l-1.37-1.37c-.4-.4-.92-.59-1.43-.59-.52 0-1.04.2-1.43.59L10.3 9.45l-7.72 7.72c-.78.78-.78 2.05 0 2.83L4 21.41c.39.39.9.59 1.41.59.51 0 1.02-.2 1.41-.59l7.78-7.78 2.81-2.81c.8-.78.8-2.07 0-2.86zM5.41 20L4 18.59l7.72-7.72 1.47 1.35L5.41 20z\"/>\n",
              "  </svg>\n",
              "      </button>\n",
              "      \n",
              "  <style>\n",
              "    .colab-df-container {\n",
              "      display:flex;\n",
              "      flex-wrap:wrap;\n",
              "      gap: 12px;\n",
              "    }\n",
              "\n",
              "    .colab-df-convert {\n",
              "      background-color: #E8F0FE;\n",
              "      border: none;\n",
              "      border-radius: 50%;\n",
              "      cursor: pointer;\n",
              "      display: none;\n",
              "      fill: #1967D2;\n",
              "      height: 32px;\n",
              "      padding: 0 0 0 0;\n",
              "      width: 32px;\n",
              "    }\n",
              "\n",
              "    .colab-df-convert:hover {\n",
              "      background-color: #E2EBFA;\n",
              "      box-shadow: 0px 1px 2px rgba(60, 64, 67, 0.3), 0px 1px 3px 1px rgba(60, 64, 67, 0.15);\n",
              "      fill: #174EA6;\n",
              "    }\n",
              "\n",
              "    [theme=dark] .colab-df-convert {\n",
              "      background-color: #3B4455;\n",
              "      fill: #D2E3FC;\n",
              "    }\n",
              "\n",
              "    [theme=dark] .colab-df-convert:hover {\n",
              "      background-color: #434B5C;\n",
              "      box-shadow: 0px 1px 3px 1px rgba(0, 0, 0, 0.15);\n",
              "      filter: drop-shadow(0px 1px 2px rgba(0, 0, 0, 0.3));\n",
              "      fill: #FFFFFF;\n",
              "    }\n",
              "  </style>\n",
              "\n",
              "      <script>\n",
              "        const buttonEl =\n",
              "          document.querySelector('#df-619ba504-2b8e-4824-816c-8570a2b8a7f2 button.colab-df-convert');\n",
              "        buttonEl.style.display =\n",
              "          google.colab.kernel.accessAllowed ? 'block' : 'none';\n",
              "\n",
              "        async function convertToInteractive(key) {\n",
              "          const element = document.querySelector('#df-619ba504-2b8e-4824-816c-8570a2b8a7f2');\n",
              "          const dataTable =\n",
              "            await google.colab.kernel.invokeFunction('convertToInteractive',\n",
              "                                                     [key], {});\n",
              "          if (!dataTable) return;\n",
              "\n",
              "          const docLinkHtml = 'Like what you see? Visit the ' +\n",
              "            '<a target=\"_blank\" href=https://colab.research.google.com/notebooks/data_table.ipynb>data table notebook</a>'\n",
              "            + ' to learn more about interactive tables.';\n",
              "          element.innerHTML = '';\n",
              "          dataTable['output_type'] = 'display_data';\n",
              "          await google.colab.output.renderOutput(dataTable, element);\n",
              "          const docLink = document.createElement('div');\n",
              "          docLink.innerHTML = docLinkHtml;\n",
              "          element.appendChild(docLink);\n",
              "        }\n",
              "      </script>\n",
              "    </div>\n",
              "  </div>\n",
              "  "
            ]
          },
          "metadata": {},
          "execution_count": 23
        }
      ],
      "source": [
        "# Describe\n",
        "merge_data.describe()"
      ]
    },
    {
      "cell_type": "code",
      "execution_count": 24,
      "metadata": {
        "colab": {
          "base_uri": "https://localhost:8080/"
        },
        "outputId": "b1f9ab50-f25f-499f-daec-f9ae111572ec",
        "id": "ZJtlDDxJiiuX"
      },
      "outputs": [
        {
          "output_type": "stream",
          "name": "stdout",
          "text": [
            "<class 'pandas.core.frame.DataFrame'>\n",
            "DatetimeIndex: 2982326 entries, 1998-07-26 to 2014-07-23\n",
            "Data columns (total 19 columns):\n",
            " #   Column          Dtype         \n",
            "---  ------          -----         \n",
            " 0   reviewerID      object        \n",
            " 1   asin            object        \n",
            " 2   reviewerName    object        \n",
            " 3   helpful         object        \n",
            " 4   help_per        float64       \n",
            " 5   reviewText      object        \n",
            " 6   overall         int64         \n",
            " 7   sentiment       object        \n",
            " 8   summary         object        \n",
            " 9   unixReviewTime  int64         \n",
            " 10  reviewTime      datetime64[ns]\n",
            " 11  description     object        \n",
            " 12  title           object        \n",
            " 13  imUrl           object        \n",
            " 14  related         object        \n",
            " 15  salesRank       object        \n",
            " 16  categories      object        \n",
            " 17  price           float64       \n",
            " 18  brand           object        \n",
            "dtypes: datetime64[ns](1), float64(2), int64(2), object(14)\n",
            "memory usage: 455.1+ MB\n"
          ]
        }
      ],
      "source": [
        "# Info\n",
        "merge_data.info()"
      ]
    },
    {
      "cell_type": "code",
      "source": [
        "# Shape\n",
        "merge_data.shape"
      ],
      "metadata": {
        "colab": {
          "base_uri": "https://localhost:8080/"
        },
        "outputId": "720f5c92-928b-4dde-d653-05fd67a05a5e",
        "id": "dsxYB0UgiiuX"
      },
      "execution_count": 25,
      "outputs": [
        {
          "output_type": "execute_result",
          "data": {
            "text/plain": [
              "(2982326, 19)"
            ]
          },
          "metadata": {},
          "execution_count": 25
        }
      ]
    },
    {
      "cell_type": "code",
      "source": [
        "# Copying Data Frame\n",
        "data = merge_data.copy()"
      ],
      "metadata": {
        "id": "-FsZiaE6iiuX"
      },
      "execution_count": 26,
      "outputs": []
    },
    {
      "cell_type": "code",
      "source": [
        "# Dropping Null Values\n",
        "merge_data.dropna(inplace=True)"
      ],
      "metadata": {
        "id": "FKgYz63CiiuX"
      },
      "execution_count": 27,
      "outputs": []
    },
    {
      "cell_type": "code",
      "source": [
        "# Data Shape \n",
        "merge_data.shape"
      ],
      "metadata": {
        "colab": {
          "base_uri": "https://localhost:8080/"
        },
        "outputId": "48ff3122-63d7-4cd6-ba83-847c902482e3",
        "id": "YJ6LjdSJiiuX"
      },
      "execution_count": 28,
      "outputs": [
        {
          "output_type": "execute_result",
          "data": {
            "text/plain": [
              "(1916495, 19)"
            ]
          },
          "metadata": {},
          "execution_count": 28
        }
      ]
    },
    {
      "cell_type": "code",
      "source": [
        "# Null Values Check\n",
        "merge_data.isnull().sum()"
      ],
      "metadata": {
        "colab": {
          "base_uri": "https://localhost:8080/"
        },
        "outputId": "fca8b7ad-4d9d-4b1c-c95c-ca92f9969735",
        "id": "sKrSarMPiiuX"
      },
      "execution_count": 29,
      "outputs": [
        {
          "output_type": "execute_result",
          "data": {
            "text/plain": [
              "reviewerID        0\n",
              "asin              0\n",
              "reviewerName      0\n",
              "helpful           0\n",
              "help_per          0\n",
              "reviewText        0\n",
              "overall           0\n",
              "sentiment         0\n",
              "summary           0\n",
              "unixReviewTime    0\n",
              "reviewTime        0\n",
              "description       0\n",
              "title             0\n",
              "imUrl             0\n",
              "related           0\n",
              "salesRank         0\n",
              "categories        0\n",
              "price             0\n",
              "brand             0\n",
              "dtype: int64"
            ]
          },
          "metadata": {},
          "execution_count": 29
        }
      ]
    },
    {
      "cell_type": "markdown",
      "source": [
        "# NLP Text Classification"
      ],
      "metadata": {
        "id": "yqFVpRemiiuY"
      }
    },
    {
      "cell_type": "code",
      "source": [
        "# Sampling Data\n",
        "group_s=merge_data.groupby([\"sentiment\"])\n",
        "sentiments=merge_data.sentiment.unique()\n",
        "sample_df=pd.DataFrame()\n",
        "for s in sentiments:\n",
        "  s_data=group_s.get_group(s)\n",
        "  sample_data=s_data.sample(frac=0.32,random_state=42)\n",
        "  sample_df=sample_df.append(sample_data,ignore_index=True)"
      ],
      "metadata": {
        "id": "KX3EZR2siiuY"
      },
      "execution_count": 70,
      "outputs": []
    },
    {
      "cell_type": "code",
      "source": [
        "# COnverting Data to CSV\n",
        "sample_df.to_csv('/content/drive/MyDrive/Health_Data/nlp_data.csv')"
      ],
      "metadata": {
        "id": "4HyhPfFHET9x"
      },
      "execution_count": 72,
      "outputs": []
    },
    {
      "cell_type": "code",
      "source": [
        "# Reading Data \n",
        "sample_df = pd.read_csv('/content/drive/MyDrive/Health_Data/nlp_data.csv')"
      ],
      "metadata": {
        "id": "MG79BxHsFMC5"
      },
      "execution_count": 4,
      "outputs": []
    },
    {
      "cell_type": "code",
      "source": [
        "# Data Shape of Sampled Data\n",
        "sample_df.shape"
      ],
      "metadata": {
        "colab": {
          "base_uri": "https://localhost:8080/"
        },
        "outputId": "9904d551-07d4-4a43-b723-171946760def",
        "id": "26b1jftDiiuY"
      },
      "execution_count": 5,
      "outputs": [
        {
          "output_type": "execute_result",
          "data": {
            "text/plain": [
              "(613279, 20)"
            ]
          },
          "metadata": {},
          "execution_count": 5
        }
      ]
    },
    {
      "cell_type": "code",
      "source": [
        "# Creating Data Frame\n",
        "data_1 = pd.DataFrame()\n",
        "data_1[\"review\"]=sample_df[\"reviewText\"]\n",
        "data_1[\"sentiment\"]=sample_df[\"sentiment\"]"
      ],
      "metadata": {
        "id": "Vnk4uc8hiiuY"
      },
      "execution_count": 6,
      "outputs": []
    },
    {
      "cell_type": "code",
      "source": [
        "# Displaying Data Frame\n",
        "with option_context('display.max_colwidth',200):\n",
        "    display(data_1.head(5))"
      ],
      "metadata": {
        "colab": {
          "base_uri": "https://localhost:8080/",
          "height": 206
        },
        "outputId": "afd5ddd0-f81f-4ab0-f888-e1e5db218cd4",
        "id": "d_f17nqfiiuY"
      },
      "execution_count": 7,
      "outputs": [
        {
          "output_type": "display_data",
          "data": {
            "text/plain": [
              "                                                                                                                                                                                                    review  \\\n",
              "0  It's done very well.  It's strong and well made.  The only one issue I had was a scare I had, I picked the bucket up by the handle and the handle slipped off.  I caught it before anything spilled....   \n",
              "1                                                                                   Finally I got the hair all over my body shaved, it's just what I want, my girl friend and boy friend all like it, lol!   \n",
              "2  This tape does not leave any tape residue on your skin. So much better for long term use on delicate sensitive skin. I love it. I have been using it for 1 year this time and for 2 yrs in 2002. I h...   \n",
              "3  I've never waxed myself before, but this works great! Putting on a thin layer, rubbing quickly a few times in the direction of growth, and then rapidly pulling the strip off makes it work perfectl...   \n",
              "4  I take a pill about 30 minutes before I want to go to sleep, and it doesn't take long before I am yawning and ready to crawl under the covers. If you have problems sleeping at night, I would encou...   \n",
              "\n",
              "  sentiment  \n",
              "0  Positive  \n",
              "1  Positive  \n",
              "2  Positive  \n",
              "3  Positive  \n",
              "4  Positive  "
            ],
            "text/html": [
              "\n",
              "  <div id=\"df-b09531c3-4a95-4d31-bd8a-0387981bb6b1\">\n",
              "    <div class=\"colab-df-container\">\n",
              "      <div>\n",
              "<style scoped>\n",
              "    .dataframe tbody tr th:only-of-type {\n",
              "        vertical-align: middle;\n",
              "    }\n",
              "\n",
              "    .dataframe tbody tr th {\n",
              "        vertical-align: top;\n",
              "    }\n",
              "\n",
              "    .dataframe thead th {\n",
              "        text-align: right;\n",
              "    }\n",
              "</style>\n",
              "<table border=\"1\" class=\"dataframe\">\n",
              "  <thead>\n",
              "    <tr style=\"text-align: right;\">\n",
              "      <th></th>\n",
              "      <th>review</th>\n",
              "      <th>sentiment</th>\n",
              "    </tr>\n",
              "  </thead>\n",
              "  <tbody>\n",
              "    <tr>\n",
              "      <th>0</th>\n",
              "      <td>It's done very well.  It's strong and well made.  The only one issue I had was a scare I had, I picked the bucket up by the handle and the handle slipped off.  I caught it before anything spilled....</td>\n",
              "      <td>Positive</td>\n",
              "    </tr>\n",
              "    <tr>\n",
              "      <th>1</th>\n",
              "      <td>Finally I got the hair all over my body shaved, it's just what I want, my girl friend and boy friend all like it, lol!</td>\n",
              "      <td>Positive</td>\n",
              "    </tr>\n",
              "    <tr>\n",
              "      <th>2</th>\n",
              "      <td>This tape does not leave any tape residue on your skin. So much better for long term use on delicate sensitive skin. I love it. I have been using it for 1 year this time and for 2 yrs in 2002. I h...</td>\n",
              "      <td>Positive</td>\n",
              "    </tr>\n",
              "    <tr>\n",
              "      <th>3</th>\n",
              "      <td>I've never waxed myself before, but this works great! Putting on a thin layer, rubbing quickly a few times in the direction of growth, and then rapidly pulling the strip off makes it work perfectl...</td>\n",
              "      <td>Positive</td>\n",
              "    </tr>\n",
              "    <tr>\n",
              "      <th>4</th>\n",
              "      <td>I take a pill about 30 minutes before I want to go to sleep, and it doesn't take long before I am yawning and ready to crawl under the covers. If you have problems sleeping at night, I would encou...</td>\n",
              "      <td>Positive</td>\n",
              "    </tr>\n",
              "  </tbody>\n",
              "</table>\n",
              "</div>\n",
              "      <button class=\"colab-df-convert\" onclick=\"convertToInteractive('df-b09531c3-4a95-4d31-bd8a-0387981bb6b1')\"\n",
              "              title=\"Convert this dataframe to an interactive table.\"\n",
              "              style=\"display:none;\">\n",
              "        \n",
              "  <svg xmlns=\"http://www.w3.org/2000/svg\" height=\"24px\"viewBox=\"0 0 24 24\"\n",
              "       width=\"24px\">\n",
              "    <path d=\"M0 0h24v24H0V0z\" fill=\"none\"/>\n",
              "    <path d=\"M18.56 5.44l.94 2.06.94-2.06 2.06-.94-2.06-.94-.94-2.06-.94 2.06-2.06.94zm-11 1L8.5 8.5l.94-2.06 2.06-.94-2.06-.94L8.5 2.5l-.94 2.06-2.06.94zm10 10l.94 2.06.94-2.06 2.06-.94-2.06-.94-.94-2.06-.94 2.06-2.06.94z\"/><path d=\"M17.41 7.96l-1.37-1.37c-.4-.4-.92-.59-1.43-.59-.52 0-1.04.2-1.43.59L10.3 9.45l-7.72 7.72c-.78.78-.78 2.05 0 2.83L4 21.41c.39.39.9.59 1.41.59.51 0 1.02-.2 1.41-.59l7.78-7.78 2.81-2.81c.8-.78.8-2.07 0-2.86zM5.41 20L4 18.59l7.72-7.72 1.47 1.35L5.41 20z\"/>\n",
              "  </svg>\n",
              "      </button>\n",
              "      \n",
              "  <style>\n",
              "    .colab-df-container {\n",
              "      display:flex;\n",
              "      flex-wrap:wrap;\n",
              "      gap: 12px;\n",
              "    }\n",
              "\n",
              "    .colab-df-convert {\n",
              "      background-color: #E8F0FE;\n",
              "      border: none;\n",
              "      border-radius: 50%;\n",
              "      cursor: pointer;\n",
              "      display: none;\n",
              "      fill: #1967D2;\n",
              "      height: 32px;\n",
              "      padding: 0 0 0 0;\n",
              "      width: 32px;\n",
              "    }\n",
              "\n",
              "    .colab-df-convert:hover {\n",
              "      background-color: #E2EBFA;\n",
              "      box-shadow: 0px 1px 2px rgba(60, 64, 67, 0.3), 0px 1px 3px 1px rgba(60, 64, 67, 0.15);\n",
              "      fill: #174EA6;\n",
              "    }\n",
              "\n",
              "    [theme=dark] .colab-df-convert {\n",
              "      background-color: #3B4455;\n",
              "      fill: #D2E3FC;\n",
              "    }\n",
              "\n",
              "    [theme=dark] .colab-df-convert:hover {\n",
              "      background-color: #434B5C;\n",
              "      box-shadow: 0px 1px 3px 1px rgba(0, 0, 0, 0.15);\n",
              "      filter: drop-shadow(0px 1px 2px rgba(0, 0, 0, 0.3));\n",
              "      fill: #FFFFFF;\n",
              "    }\n",
              "  </style>\n",
              "\n",
              "      <script>\n",
              "        const buttonEl =\n",
              "          document.querySelector('#df-b09531c3-4a95-4d31-bd8a-0387981bb6b1 button.colab-df-convert');\n",
              "        buttonEl.style.display =\n",
              "          google.colab.kernel.accessAllowed ? 'block' : 'none';\n",
              "\n",
              "        async function convertToInteractive(key) {\n",
              "          const element = document.querySelector('#df-b09531c3-4a95-4d31-bd8a-0387981bb6b1');\n",
              "          const dataTable =\n",
              "            await google.colab.kernel.invokeFunction('convertToInteractive',\n",
              "                                                     [key], {});\n",
              "          if (!dataTable) return;\n",
              "\n",
              "          const docLinkHtml = 'Like what you see? Visit the ' +\n",
              "            '<a target=\"_blank\" href=https://colab.research.google.com/notebooks/data_table.ipynb>data table notebook</a>'\n",
              "            + ' to learn more about interactive tables.';\n",
              "          element.innerHTML = '';\n",
              "          dataTable['output_type'] = 'display_data';\n",
              "          await google.colab.output.renderOutput(dataTable, element);\n",
              "          const docLink = document.createElement('div');\n",
              "          docLink.innerHTML = docLinkHtml;\n",
              "          element.appendChild(docLink);\n",
              "        }\n",
              "      </script>\n",
              "    </div>\n",
              "  </div>\n",
              "  "
            ]
          },
          "metadata": {}
        }
      ]
    },
    {
      "cell_type": "code",
      "source": [
        "# Defining Function for Cleaning\n",
        "def cleaning(text):\n",
        "    '''Make text lowercase, remove text in square brackets,remove links,remove punctuation\n",
        "    and remove words containing numbers.'''\n",
        "    text = str(text).lower()\n",
        "    text = re.sub('\\[.*?\\]', '', text)\n",
        "    text = re.sub('https?://\\S+|www\\.\\S+', '', text)\n",
        "    text = re.sub('<.*?>+', '', text)\n",
        "    text = re.sub('[%s]' % re.escape(string.punctuation), '', text)\n",
        "    text = re.sub('\\n', '', text)\n",
        "    text = re.sub('\\w*\\d\\w*', '', text)\n",
        "    return text"
      ],
      "metadata": {
        "id": "IaXM1VnuiiuY"
      },
      "execution_count": 8,
      "outputs": []
    },
    {
      "cell_type": "code",
      "source": [
        "# Cleaning of Data\n",
        "data_1['cleaned_review']=data_1['review'].apply(cleaning)\n",
        "data_1['cleaned_review']"
      ],
      "metadata": {
        "colab": {
          "base_uri": "https://localhost:8080/"
        },
        "outputId": "6f66aac5-47f2-47e6-ffd6-a2795ab88d6d",
        "id": "jGYGWb47iiuZ"
      },
      "execution_count": 9,
      "outputs": [
        {
          "output_type": "execute_result",
          "data": {
            "text/plain": [
              "0         its done very well  its strong and well made  ...\n",
              "1         finally i got the hair all over my body shaved...\n",
              "2         this tape does not leave any tape residue on y...\n",
              "3         ive never waxed myself before but this works g...\n",
              "4         i take a pill about  minutes before i want to ...\n",
              "                                ...                        \n",
              "613274    its not a very effective cleaner compared to o...\n",
              "613275    i started taking thyroid energy in november   ...\n",
              "613276    even though the head looks like its made of me...\n",
              "613277    ive never reviewed anything online before but ...\n",
              "613278    it definitely helped get rid of water weight b...\n",
              "Name: cleaned_review, Length: 613279, dtype: object"
            ]
          },
          "metadata": {},
          "execution_count": 9
        }
      ]
    },
    {
      "cell_type": "code",
      "source": [
        "# Stopwords Treatment\n",
        "import nltk\n",
        "nltk.download(\"stopwords\")\n",
        "from nltk.corpus import stopwords"
      ],
      "metadata": {
        "colab": {
          "base_uri": "https://localhost:8080/"
        },
        "outputId": "9df55f0d-c217-4bb3-b67c-4f84a588ebf4",
        "id": "fyG-6AoOiiuZ"
      },
      "execution_count": 10,
      "outputs": [
        {
          "output_type": "stream",
          "name": "stderr",
          "text": [
            "[nltk_data] Downloading package stopwords to /root/nltk_data...\n",
            "[nltk_data]   Package stopwords is already up-to-date!\n"
          ]
        },
        {
          "output_type": "execute_result",
          "data": {
            "text/plain": [
              "True"
            ]
          },
          "metadata": {},
          "execution_count": 10
        }
      ]
    },
    {
      "cell_type": "code",
      "source": [
        "# Loading Stopwords\n",
        "sw = stopwords.words('english')"
      ],
      "metadata": {
        "id": "ncKNK5GxiiuZ"
      },
      "execution_count": 11,
      "outputs": []
    },
    {
      "cell_type": "code",
      "source": [
        "# Defining Function for Stopwords\n",
        "def stop_treat(data):\n",
        "  flst = []\n",
        "  for i in data:\n",
        "    lst = []\n",
        "    for j in i.split(' '):\n",
        "      if j not in sw:\n",
        "        lst.append(j)\n",
        "    flst.append(' '.join(lst))\n",
        "  return(flst)"
      ],
      "metadata": {
        "id": "yJjr0r0miiuZ"
      },
      "execution_count": 12,
      "outputs": []
    },
    {
      "cell_type": "code",
      "source": [
        "# Stopwords Treatment\n",
        "data_1['cleaned_review']=stop_treat(data_1['cleaned_review'])\n",
        "data_1['cleaned_review']"
      ],
      "metadata": {
        "colab": {
          "base_uri": "https://localhost:8080/"
        },
        "outputId": "8aaffe6b-d522-47bd-b6e2-d0da731e0683",
        "id": "UW9HfjowiiuZ"
      },
      "execution_count": 13,
      "outputs": [
        {
          "output_type": "execute_result",
          "data": {
            "text/plain": [
              "0         done well  strong well made  one issue scare p...\n",
              "1         finally got hair body shaved want girl friend ...\n",
              "2         tape leave tape residue skin much better long ...\n",
              "3         ive never waxed works great putting thin layer...\n",
              "4         take pill  minutes want go sleep doesnt take l...\n",
              "                                ...                        \n",
              "613274    effective cleaner compared others ive used  ha...\n",
              "613275    started taking thyroid energy november   first...\n",
              "613276    even though head looks like made metal im pret...\n",
              "613277    ive never reviewed anything online thing bad f...\n",
              "613278    definitely helped get rid water weight didnt w...\n",
              "Name: cleaned_review, Length: 613279, dtype: object"
            ]
          },
          "metadata": {},
          "execution_count": 13
        }
      ]
    },
    {
      "cell_type": "code",
      "source": [
        "# Dropping Review Column\n",
        "data_1.drop([\"review\"],axis=1,inplace=True)"
      ],
      "metadata": {
        "id": "T5amkZLhiiuZ"
      },
      "execution_count": 17,
      "outputs": []
    },
    {
      "cell_type": "code",
      "source": [
        "# Displaying Data\n",
        "with option_context('display.max_colwidth',200):\n",
        "    display(data_1.head(5))"
      ],
      "metadata": {
        "colab": {
          "base_uri": "https://localhost:8080/",
          "height": 250
        },
        "outputId": "051dce5d-73e8-4280-839b-210fda381fd4",
        "id": "4xAhtj07iiuZ"
      },
      "execution_count": 18,
      "outputs": [
        {
          "output_type": "display_data",
          "data": {
            "text/plain": [
              "  sentiment  \\\n",
              "0  Positive   \n",
              "1  Positive   \n",
              "2  Positive   \n",
              "3  Positive   \n",
              "4  Positive   \n",
              "\n",
              "                                                                                                                                                                                            cleaned_review  \n",
              "0                                             done well  strong well made  one issue scare picked bucket handle handle slipped  caught anything spilled  think could make better get make sure pick bucket  \n",
              "1                                                                                                                                        finally got hair body shaved want girl friend boy friend like lol  \n",
              "2                                                              tape leave tape residue skin much better long term use delicate sensitive skin love using  year time  yrs  tried every kind bomb  good deal  \n",
              "3  ive never waxed works great putting thin layer rubbing quickly times direction growth rapidly pulling strip makes work perfectly still little pain course certainly bearable theres slight learning ...  \n",
              "4  take pill  minutes want go sleep doesnt take long yawning ready crawl covers problems sleeping night would encourage anyone everyone try melatonin work everyone dollars nearly years supply worth t...  "
            ],
            "text/html": [
              "\n",
              "  <div id=\"df-4631b322-f046-483d-8fa0-272d83060d7d\">\n",
              "    <div class=\"colab-df-container\">\n",
              "      <div>\n",
              "<style scoped>\n",
              "    .dataframe tbody tr th:only-of-type {\n",
              "        vertical-align: middle;\n",
              "    }\n",
              "\n",
              "    .dataframe tbody tr th {\n",
              "        vertical-align: top;\n",
              "    }\n",
              "\n",
              "    .dataframe thead th {\n",
              "        text-align: right;\n",
              "    }\n",
              "</style>\n",
              "<table border=\"1\" class=\"dataframe\">\n",
              "  <thead>\n",
              "    <tr style=\"text-align: right;\">\n",
              "      <th></th>\n",
              "      <th>sentiment</th>\n",
              "      <th>cleaned_review</th>\n",
              "    </tr>\n",
              "  </thead>\n",
              "  <tbody>\n",
              "    <tr>\n",
              "      <th>0</th>\n",
              "      <td>Positive</td>\n",
              "      <td>done well  strong well made  one issue scare picked bucket handle handle slipped  caught anything spilled  think could make better get make sure pick bucket</td>\n",
              "    </tr>\n",
              "    <tr>\n",
              "      <th>1</th>\n",
              "      <td>Positive</td>\n",
              "      <td>finally got hair body shaved want girl friend boy friend like lol</td>\n",
              "    </tr>\n",
              "    <tr>\n",
              "      <th>2</th>\n",
              "      <td>Positive</td>\n",
              "      <td>tape leave tape residue skin much better long term use delicate sensitive skin love using  year time  yrs  tried every kind bomb  good deal</td>\n",
              "    </tr>\n",
              "    <tr>\n",
              "      <th>3</th>\n",
              "      <td>Positive</td>\n",
              "      <td>ive never waxed works great putting thin layer rubbing quickly times direction growth rapidly pulling strip makes work perfectly still little pain course certainly bearable theres slight learning ...</td>\n",
              "    </tr>\n",
              "    <tr>\n",
              "      <th>4</th>\n",
              "      <td>Positive</td>\n",
              "      <td>take pill  minutes want go sleep doesnt take long yawning ready crawl covers problems sleeping night would encourage anyone everyone try melatonin work everyone dollars nearly years supply worth t...</td>\n",
              "    </tr>\n",
              "  </tbody>\n",
              "</table>\n",
              "</div>\n",
              "      <button class=\"colab-df-convert\" onclick=\"convertToInteractive('df-4631b322-f046-483d-8fa0-272d83060d7d')\"\n",
              "              title=\"Convert this dataframe to an interactive table.\"\n",
              "              style=\"display:none;\">\n",
              "        \n",
              "  <svg xmlns=\"http://www.w3.org/2000/svg\" height=\"24px\"viewBox=\"0 0 24 24\"\n",
              "       width=\"24px\">\n",
              "    <path d=\"M0 0h24v24H0V0z\" fill=\"none\"/>\n",
              "    <path d=\"M18.56 5.44l.94 2.06.94-2.06 2.06-.94-2.06-.94-.94-2.06-.94 2.06-2.06.94zm-11 1L8.5 8.5l.94-2.06 2.06-.94-2.06-.94L8.5 2.5l-.94 2.06-2.06.94zm10 10l.94 2.06.94-2.06 2.06-.94-2.06-.94-.94-2.06-.94 2.06-2.06.94z\"/><path d=\"M17.41 7.96l-1.37-1.37c-.4-.4-.92-.59-1.43-.59-.52 0-1.04.2-1.43.59L10.3 9.45l-7.72 7.72c-.78.78-.78 2.05 0 2.83L4 21.41c.39.39.9.59 1.41.59.51 0 1.02-.2 1.41-.59l7.78-7.78 2.81-2.81c.8-.78.8-2.07 0-2.86zM5.41 20L4 18.59l7.72-7.72 1.47 1.35L5.41 20z\"/>\n",
              "  </svg>\n",
              "      </button>\n",
              "      \n",
              "  <style>\n",
              "    .colab-df-container {\n",
              "      display:flex;\n",
              "      flex-wrap:wrap;\n",
              "      gap: 12px;\n",
              "    }\n",
              "\n",
              "    .colab-df-convert {\n",
              "      background-color: #E8F0FE;\n",
              "      border: none;\n",
              "      border-radius: 50%;\n",
              "      cursor: pointer;\n",
              "      display: none;\n",
              "      fill: #1967D2;\n",
              "      height: 32px;\n",
              "      padding: 0 0 0 0;\n",
              "      width: 32px;\n",
              "    }\n",
              "\n",
              "    .colab-df-convert:hover {\n",
              "      background-color: #E2EBFA;\n",
              "      box-shadow: 0px 1px 2px rgba(60, 64, 67, 0.3), 0px 1px 3px 1px rgba(60, 64, 67, 0.15);\n",
              "      fill: #174EA6;\n",
              "    }\n",
              "\n",
              "    [theme=dark] .colab-df-convert {\n",
              "      background-color: #3B4455;\n",
              "      fill: #D2E3FC;\n",
              "    }\n",
              "\n",
              "    [theme=dark] .colab-df-convert:hover {\n",
              "      background-color: #434B5C;\n",
              "      box-shadow: 0px 1px 3px 1px rgba(0, 0, 0, 0.15);\n",
              "      filter: drop-shadow(0px 1px 2px rgba(0, 0, 0, 0.3));\n",
              "      fill: #FFFFFF;\n",
              "    }\n",
              "  </style>\n",
              "\n",
              "      <script>\n",
              "        const buttonEl =\n",
              "          document.querySelector('#df-4631b322-f046-483d-8fa0-272d83060d7d button.colab-df-convert');\n",
              "        buttonEl.style.display =\n",
              "          google.colab.kernel.accessAllowed ? 'block' : 'none';\n",
              "\n",
              "        async function convertToInteractive(key) {\n",
              "          const element = document.querySelector('#df-4631b322-f046-483d-8fa0-272d83060d7d');\n",
              "          const dataTable =\n",
              "            await google.colab.kernel.invokeFunction('convertToInteractive',\n",
              "                                                     [key], {});\n",
              "          if (!dataTable) return;\n",
              "\n",
              "          const docLinkHtml = 'Like what you see? Visit the ' +\n",
              "            '<a target=\"_blank\" href=https://colab.research.google.com/notebooks/data_table.ipynb>data table notebook</a>'\n",
              "            + ' to learn more about interactive tables.';\n",
              "          element.innerHTML = '';\n",
              "          dataTable['output_type'] = 'display_data';\n",
              "          await google.colab.output.renderOutput(dataTable, element);\n",
              "          const docLink = document.createElement('div');\n",
              "          docLink.innerHTML = docLinkHtml;\n",
              "          element.appendChild(docLink);\n",
              "        }\n",
              "      </script>\n",
              "    </div>\n",
              "  </div>\n",
              "  "
            ]
          },
          "metadata": {}
        }
      ]
    },
    {
      "cell_type": "code",
      "source": [
        "# Converting Category to Numerical\n",
        "labelencoder=preprocessing.LabelEncoder()\n",
        "data_1[\"sentiment\"]=labelencoder.fit_transform(data_1[\"sentiment\"])"
      ],
      "metadata": {
        "id": "ZSyLp2n1iiuZ"
      },
      "execution_count": 19,
      "outputs": []
    },
    {
      "cell_type": "code",
      "source": [
        "# Converting to Unicode\n",
        "data_1[\"cleaned_review\"] = data_1[\"cleaned_review\"].astype('U').values"
      ],
      "metadata": {
        "id": "lUicD2AwiiuZ"
      },
      "execution_count": 20,
      "outputs": []
    },
    {
      "cell_type": "code",
      "source": [
        "# Splitting Dependent and Independent Data\n",
        "x=data_1[\"cleaned_review\"]\n",
        "y=data_1[\"sentiment\"]"
      ],
      "metadata": {
        "id": "Hq8jVJIeiiua"
      },
      "execution_count": 21,
      "outputs": []
    },
    {
      "cell_type": "code",
      "source": [
        "from sklearn.pipeline import Pipeline\n",
        "from sklearn.model_selection import train_test_split\n",
        "from sklearn.feature_extraction.text import TfidfVectorizer, CountVectorizer"
      ],
      "metadata": {
        "id": "xGuLYHbUiiua"
      },
      "execution_count": 22,
      "outputs": []
    },
    {
      "cell_type": "code",
      "source": [
        "# Splitting Train and Test Data\n",
        "x_train,x_test,y_train,y_test=train_test_split(x,y,test_size=0.30,stratify = y,random_state=42)"
      ],
      "metadata": {
        "id": "8Q01WHAkiiua"
      },
      "execution_count": 23,
      "outputs": []
    },
    {
      "cell_type": "code",
      "source": [
        "# Length of Train and Test\n",
        "print(f\"length of x_train ={len(x_train)},length of y_train ={len(y_train)}\")\n",
        "print(f\"length of x_test ={len(x_test)},length of y_test ={len(y_test)}\")"
      ],
      "metadata": {
        "colab": {
          "base_uri": "https://localhost:8080/"
        },
        "outputId": "898abd9c-a1b1-49f9-f571-9993159b57c6",
        "id": "xsHpgL0Viiua"
      },
      "execution_count": 24,
      "outputs": [
        {
          "output_type": "stream",
          "name": "stdout",
          "text": [
            "length of x_train =429295,length of y_train =429295\n",
            "length of x_test =183984,length of y_test =183984\n"
          ]
        }
      ]
    },
    {
      "cell_type": "code",
      "source": [
        "# Vectorizing Data\n",
        "tvectorizer = TfidfVectorizer(ngram_range=(2,2))"
      ],
      "metadata": {
        "id": "M-lBFjCNiiua"
      },
      "execution_count": 25,
      "outputs": []
    },
    {
      "cell_type": "code",
      "source": [
        "# Data Vectorization\n",
        "x_train1 = tvectorizer.fit_transform(x_train)\n",
        "x_test1 = tvectorizer.transform(x_test)  "
      ],
      "metadata": {
        "id": "_L8ASbtdiiua"
      },
      "execution_count": 26,
      "outputs": []
    },
    {
      "cell_type": "code",
      "source": [
        "from sklearn.linear_model import LogisticRegression\n",
        "import warnings\n",
        "warnings.filterwarnings('ignore')"
      ],
      "metadata": {
        "id": "Jq_6ZoP-iiua"
      },
      "execution_count": 27,
      "outputs": []
    },
    {
      "cell_type": "code",
      "source": [
        "# Defining Function for Evaluation\n",
        "def evaluation_metrics(y_test,y_pred):\n",
        "    print(\"--------------------------------------------confusion matrix -----------------------------------------\")\n",
        "    cm=confusion_matrix(y_test,y_pred)\n",
        "    print(cm)\n",
        "    print()\n",
        "    print(\"--------------------------------------------classification report -----------------------------------------\")\n",
        "    cr=classification_report(y_test,y_pred)\n",
        "    print(cr)\n",
        "    acc=accuracy_score(y_test,y_pred)\n",
        "    rec=recall_score(y_test,y_pred,average=\"weighted\")\n",
        "    f1=f1_score(y_test,y_pred,average=\"weighted\")\n",
        "    pre=precision_score(y_test,y_pred,average=\"weighted\")\n",
        "    print('The Accuracy score is : ',round(acc*100,1),'%')\n",
        "    print('The Precission score is : ',round(pre*100,1),'%')\n",
        "    print('The F1_score score is : ',round(f1*100,1),'%')\n",
        "    print('The Recall score is : ',round(rec*100,1),'%')"
      ],
      "metadata": {
        "id": "nGNgzWBuiiua"
      },
      "execution_count": 28,
      "outputs": []
    },
    {
      "cell_type": "code",
      "source": [
        "# Logistic Regression Model Building\n",
        "lr=LogisticRegression()\n",
        "lr.fit(x_train1,y_train)"
      ],
      "metadata": {
        "colab": {
          "base_uri": "https://localhost:8080/"
        },
        "outputId": "24684ab0-db0d-424b-da09-e075f6bc7896",
        "id": "lXhc7Ja5iiua"
      },
      "execution_count": 29,
      "outputs": [
        {
          "output_type": "execute_result",
          "data": {
            "text/plain": [
              "LogisticRegression()"
            ]
          },
          "metadata": {},
          "execution_count": 29
        }
      ]
    },
    {
      "cell_type": "code",
      "source": [
        "# LR Model Prediction\n",
        "pred_lr = lr.predict(x_test1)"
      ],
      "metadata": {
        "id": "U-ztLiTNiiua"
      },
      "execution_count": 30,
      "outputs": []
    },
    {
      "cell_type": "code",
      "source": [
        "# Evaluation\n",
        "evaluation_metrics(y_test,pred_lr)"
      ],
      "metadata": {
        "colab": {
          "base_uri": "https://localhost:8080/"
        },
        "outputId": "cbd7791a-61b5-4630-f51c-50a20f7e6745",
        "id": "Po0r77auiiub"
      },
      "execution_count": 31,
      "outputs": [
        {
          "output_type": "stream",
          "name": "stdout",
          "text": [
            "--------------------------------------------confusion matrix -----------------------------------------\n",
            "[[ 13218    326  14085]\n",
            " [  2015    787  12134]\n",
            " [  1354    353 139712]]\n",
            "\n",
            "--------------------------------------------classification report -----------------------------------------\n",
            "              precision    recall  f1-score   support\n",
            "\n",
            "           0       0.80      0.48      0.60     27629\n",
            "           1       0.54      0.05      0.10     14936\n",
            "           2       0.84      0.99      0.91    141419\n",
            "\n",
            "    accuracy                           0.84    183984\n",
            "   macro avg       0.73      0.51      0.53    183984\n",
            "weighted avg       0.81      0.84      0.80    183984\n",
            "\n",
            "The Accuracy score is :  83.5 %\n",
            "The Precission score is :  81.0 %\n",
            "The F1_score score is :  79.6 %\n",
            "The Recall score is :  83.5 %\n"
          ]
        }
      ]
    },
    {
      "cell_type": "code",
      "source": [
        "# Multinomial Model Building\n",
        "mb = MultinomialNB()\n",
        "mb.fit(x_train1,y_train)"
      ],
      "metadata": {
        "colab": {
          "base_uri": "https://localhost:8080/"
        },
        "outputId": "89573055-6673-4e41-8442-47d9e9d54bf9",
        "id": "wdVfdkYyiiub"
      },
      "execution_count": 32,
      "outputs": [
        {
          "output_type": "execute_result",
          "data": {
            "text/plain": [
              "MultinomialNB()"
            ]
          },
          "metadata": {},
          "execution_count": 32
        }
      ]
    },
    {
      "cell_type": "code",
      "source": [
        "# MB Model Prediction\n",
        "pred_mb = mb.predict(x_test1)"
      ],
      "metadata": {
        "id": "kNHq08y3iiub"
      },
      "execution_count": 33,
      "outputs": []
    },
    {
      "cell_type": "code",
      "source": [
        "# Evaluation\n",
        "evaluation_metrics(y_test,pred_mb)"
      ],
      "metadata": {
        "colab": {
          "base_uri": "https://localhost:8080/"
        },
        "outputId": "bb6db1b9-3ee2-4b35-f544-4171de8276e0",
        "id": "l-lU3zs5iiub"
      },
      "execution_count": 34,
      "outputs": [
        {
          "output_type": "stream",
          "name": "stdout",
          "text": [
            "--------------------------------------------confusion matrix -----------------------------------------\n",
            "[[   356      0  27273]\n",
            " [     3      0  14933]\n",
            " [     0      0 141419]]\n",
            "\n",
            "--------------------------------------------classification report -----------------------------------------\n",
            "              precision    recall  f1-score   support\n",
            "\n",
            "           0       0.99      0.01      0.03     27629\n",
            "           1       0.00      0.00      0.00     14936\n",
            "           2       0.77      1.00      0.87    141419\n",
            "\n",
            "    accuracy                           0.77    183984\n",
            "   macro avg       0.59      0.34      0.30    183984\n",
            "weighted avg       0.74      0.77      0.67    183984\n",
            "\n",
            "The Accuracy score is :  77.1 %\n",
            "The Precission score is :  74.1 %\n",
            "The F1_score score is :  67.3 %\n",
            "The Recall score is :  77.1 %\n"
          ]
        }
      ]
    },
    {
      "cell_type": "code",
      "source": [
        "from sklearn.svm import LinearSVC"
      ],
      "metadata": {
        "id": "SBpAyHBuiiub"
      },
      "execution_count": 35,
      "outputs": []
    },
    {
      "cell_type": "code",
      "source": [
        "# SVM Model Building\n",
        "svm = LinearSVC()\n",
        "svm.fit(x_train1,y_train)"
      ],
      "metadata": {
        "colab": {
          "base_uri": "https://localhost:8080/"
        },
        "outputId": "f4ba10f8-f4c2-4ca8-bb6b-df3745b66fc7",
        "id": "KoRqnygbiiub"
      },
      "execution_count": 36,
      "outputs": [
        {
          "output_type": "execute_result",
          "data": {
            "text/plain": [
              "LinearSVC()"
            ]
          },
          "metadata": {},
          "execution_count": 36
        }
      ]
    },
    {
      "cell_type": "code",
      "source": [
        "# SVM Model Prediction\n",
        "pred_svm = svm.predict(x_test1)"
      ],
      "metadata": {
        "id": "GIc1ZiQyiiub"
      },
      "execution_count": 37,
      "outputs": []
    },
    {
      "cell_type": "code",
      "source": [
        "# Evaluation\n",
        "evaluation_metrics(y_test,pred_svm)"
      ],
      "metadata": {
        "colab": {
          "base_uri": "https://localhost:8080/"
        },
        "outputId": "bc6e5455-725b-4215-a99c-ba4123183722",
        "id": "sXlX8dtZiiub"
      },
      "execution_count": 38,
      "outputs": [
        {
          "output_type": "stream",
          "name": "stdout",
          "text": [
            "--------------------------------------------confusion matrix -----------------------------------------\n",
            "[[ 16290    869  10470]\n",
            " [  2960   1481  10495]\n",
            " [  2415    942 138062]]\n",
            "\n",
            "--------------------------------------------classification report -----------------------------------------\n",
            "              precision    recall  f1-score   support\n",
            "\n",
            "           0       0.75      0.59      0.66     27629\n",
            "           1       0.45      0.10      0.16     14936\n",
            "           2       0.87      0.98      0.92    141419\n",
            "\n",
            "    accuracy                           0.85    183984\n",
            "   macro avg       0.69      0.56      0.58    183984\n",
            "weighted avg       0.82      0.85      0.82    183984\n",
            "\n",
            "The Accuracy score is :  84.7 %\n",
            "The Precission score is :  81.7 %\n",
            "The F1_score score is :  81.9 %\n",
            "The Recall score is :  84.7 %\n"
          ]
        }
      ]
    },
    {
      "cell_type": "code",
      "source": [
        "# Count Vectorizer\n",
        "cvectorizer = CountVectorizer(ngram_range=(2,2))"
      ],
      "metadata": {
        "id": "EBIlUc-uiiub"
      },
      "execution_count": 39,
      "outputs": []
    },
    {
      "cell_type": "code",
      "source": [
        "# Vectorizing Data\n",
        "x_train1 = cvectorizer.fit_transform(x_train)\n",
        "x_test1 = cvectorizer.transform(x_test)"
      ],
      "metadata": {
        "id": "aaPd7gV1iiuc"
      },
      "execution_count": 40,
      "outputs": []
    },
    {
      "cell_type": "code",
      "source": [
        "# LR Model Building\n",
        "lr_1 = LogisticRegression()\n",
        "lr_1.fit(x_train1,y_train)"
      ],
      "metadata": {
        "colab": {
          "base_uri": "https://localhost:8080/"
        },
        "outputId": "db3a2dba-60f0-4b1a-8e08-28872445b023",
        "id": "TqM_2PY-iiuc"
      },
      "execution_count": 41,
      "outputs": [
        {
          "output_type": "execute_result",
          "data": {
            "text/plain": [
              "LogisticRegression()"
            ]
          },
          "metadata": {},
          "execution_count": 41
        }
      ]
    },
    {
      "cell_type": "code",
      "source": [
        "# Prediction\n",
        "pred_lr_1 = lr_1.predict(x_test1)"
      ],
      "metadata": {
        "id": "Yk67ibZuiiuc"
      },
      "execution_count": 42,
      "outputs": []
    },
    {
      "cell_type": "code",
      "source": [
        "# Evaluation\n",
        "evaluation_metrics(y_test,pred_lr)"
      ],
      "metadata": {
        "colab": {
          "base_uri": "https://localhost:8080/"
        },
        "outputId": "a36cc3b4-6461-4c34-b97c-ef54dd6270f6",
        "id": "Q8nA9OCFiiuc"
      },
      "execution_count": 43,
      "outputs": [
        {
          "output_type": "stream",
          "name": "stdout",
          "text": [
            "--------------------------------------------confusion matrix -----------------------------------------\n",
            "[[ 13218    326  14085]\n",
            " [  2015    787  12134]\n",
            " [  1354    353 139712]]\n",
            "\n",
            "--------------------------------------------classification report -----------------------------------------\n",
            "              precision    recall  f1-score   support\n",
            "\n",
            "           0       0.80      0.48      0.60     27629\n",
            "           1       0.54      0.05      0.10     14936\n",
            "           2       0.84      0.99      0.91    141419\n",
            "\n",
            "    accuracy                           0.84    183984\n",
            "   macro avg       0.73      0.51      0.53    183984\n",
            "weighted avg       0.81      0.84      0.80    183984\n",
            "\n",
            "The Accuracy score is :  83.5 %\n",
            "The Precission score is :  81.0 %\n",
            "The F1_score score is :  79.6 %\n",
            "The Recall score is :  83.5 %\n"
          ]
        }
      ]
    },
    {
      "cell_type": "code",
      "source": [
        "# Multinomial NB Model Building\n",
        "mb_1 = MultinomialNB()\n",
        "mb_1.fit(x_train1,y_train)"
      ],
      "metadata": {
        "colab": {
          "base_uri": "https://localhost:8080/"
        },
        "outputId": "6a8eff4e-a85b-4643-e725-6af6e64a5a60",
        "id": "_zmmvcALiiuc"
      },
      "execution_count": 44,
      "outputs": [
        {
          "output_type": "execute_result",
          "data": {
            "text/plain": [
              "MultinomialNB()"
            ]
          },
          "metadata": {},
          "execution_count": 44
        }
      ]
    },
    {
      "cell_type": "code",
      "source": [
        "# Prediction\n",
        "pred_mb_1 = mb_1.predict(x_test1)"
      ],
      "metadata": {
        "id": "loa4iWf9iiuc"
      },
      "execution_count": 45,
      "outputs": []
    },
    {
      "cell_type": "code",
      "source": [
        "# Evaluation\n",
        "evaluation_metrics(y_test,pred_mb_1)"
      ],
      "metadata": {
        "colab": {
          "base_uri": "https://localhost:8080/"
        },
        "outputId": "fe914202-ddb3-48f0-9904-f32239eb3ed4",
        "id": "3vDqTRcNiiuc"
      },
      "execution_count": 46,
      "outputs": [
        {
          "output_type": "stream",
          "name": "stdout",
          "text": [
            "--------------------------------------------confusion matrix -----------------------------------------\n",
            "[[  8582     67  18980]\n",
            " [   875     97  13964]\n",
            " [   514     60 140845]]\n",
            "\n",
            "--------------------------------------------classification report -----------------------------------------\n",
            "              precision    recall  f1-score   support\n",
            "\n",
            "           0       0.86      0.31      0.46     27629\n",
            "           1       0.43      0.01      0.01     14936\n",
            "           2       0.81      1.00      0.89    141419\n",
            "\n",
            "    accuracy                           0.81    183984\n",
            "   macro avg       0.70      0.44      0.45    183984\n",
            "weighted avg       0.79      0.81      0.76    183984\n",
            "\n",
            "The Accuracy score is :  81.3 %\n",
            "The Precission score is :  78.7 %\n",
            "The F1_score score is :  75.7 %\n",
            "The Recall score is :  81.3 %\n"
          ]
        }
      ]
    },
    {
      "cell_type": "code",
      "source": [
        "# SVM Model Building\n",
        "svm_1 = LinearSVC()\n",
        "svm_1.fit(x_train1,y_train)"
      ],
      "metadata": {
        "colab": {
          "base_uri": "https://localhost:8080/"
        },
        "outputId": "b699c21e-a922-4e77-f1ca-d2001727344d",
        "id": "4i7OMlypiiuc"
      },
      "execution_count": 47,
      "outputs": [
        {
          "output_type": "execute_result",
          "data": {
            "text/plain": [
              "LinearSVC()"
            ]
          },
          "metadata": {},
          "execution_count": 47
        }
      ]
    },
    {
      "cell_type": "code",
      "source": [
        "# Prediction\n",
        "pred_svm_1 = svm_1.predict(x_test1)"
      ],
      "metadata": {
        "id": "OITvwP1viiud"
      },
      "execution_count": 48,
      "outputs": []
    },
    {
      "cell_type": "code",
      "source": [
        "# Evaluation\n",
        "evaluation_metrics(y_test,pred_svm_1)"
      ],
      "metadata": {
        "colab": {
          "base_uri": "https://localhost:8080/"
        },
        "outputId": "4ed1c022-1a3c-41b9-edd0-718e119b4006",
        "id": "dFBUV_OPiiud"
      },
      "execution_count": 49,
      "outputs": [
        {
          "output_type": "stream",
          "name": "stdout",
          "text": [
            "--------------------------------------------confusion matrix -----------------------------------------\n",
            "[[ 15970   1771   9888]\n",
            " [  3154   2300   9482]\n",
            " [  3754   2867 134798]]\n",
            "\n",
            "--------------------------------------------classification report -----------------------------------------\n",
            "              precision    recall  f1-score   support\n",
            "\n",
            "           0       0.70      0.58      0.63     27629\n",
            "           1       0.33      0.15      0.21     14936\n",
            "           2       0.87      0.95      0.91    141419\n",
            "\n",
            "    accuracy                           0.83    183984\n",
            "   macro avg       0.63      0.56      0.58    183984\n",
            "weighted avg       0.80      0.83      0.81    183984\n",
            "\n",
            "The Accuracy score is :  83.2 %\n",
            "The Precission score is :  80.4 %\n",
            "The F1_score score is :  81.3 %\n",
            "The Recall score is :  83.2 %\n"
          ]
        }
      ]
    },
    {
      "cell_type": "markdown",
      "source": [
        "# Customer Segmentation"
      ],
      "metadata": {
        "id": "9rPOXiL3hHsd"
      }
    },
    {
      "cell_type": "code",
      "source": [
        "from sklearn.cluster import KMeans\n",
        "from sklearn.preprocessing import StandardScaler\n",
        "from sklearn.metrics import silhouette_samples, silhouette_score\n",
        "import matplotlib.cm as cm\n",
        "import datetime as dt\n",
        "import pandas as pd\n",
        "import numpy as np\n",
        "import seaborn as sb\n",
        "import matplotlib.pyplot as plt\n",
        "\n",
        "import warnings\n",
        "warnings.filterwarnings('ignore')"
      ],
      "metadata": {
        "id": "C0Au9s8ExQCJ"
      },
      "execution_count": 121,
      "outputs": []
    },
    {
      "cell_type": "code",
      "source": [
        "# Copying Data\n",
        "df_2 = data.copy()"
      ],
      "metadata": {
        "id": "G32BItjFqUxz"
      },
      "execution_count": 122,
      "outputs": []
    },
    {
      "cell_type": "code",
      "source": [
        "# Columns\n",
        "df_2.columns"
      ],
      "metadata": {
        "colab": {
          "base_uri": "https://localhost:8080/"
        },
        "id": "D6QrLd7kxp2d",
        "outputId": "dd29f8a1-e1fc-4cbb-a2b2-af50e4b34a39"
      },
      "execution_count": 124,
      "outputs": [
        {
          "output_type": "execute_result",
          "data": {
            "text/plain": [
              "Index(['reviewerID', 'asin', 'reviewerName', 'helpful', 'help_per',\n",
              "       'reviewText', 'overall', 'sentiment', 'summary', 'unixReviewTime',\n",
              "       'reviewTime', 'description', 'title', 'imUrl', 'related', 'salesRank',\n",
              "       'categories', 'price', 'brand'],\n",
              "      dtype='object')"
            ]
          },
          "metadata": {},
          "execution_count": 124
        }
      ]
    },
    {
      "cell_type": "code",
      "source": [
        "# Columns\n",
        "df_2.shape"
      ],
      "metadata": {
        "colab": {
          "base_uri": "https://localhost:8080/"
        },
        "id": "Tv3VfnWzxvKZ",
        "outputId": "a4aa17cb-2509-4cee-8253-eaeaf3f4f8f4"
      },
      "execution_count": 125,
      "outputs": [
        {
          "output_type": "execute_result",
          "data": {
            "text/plain": [
              "(2982326, 19)"
            ]
          },
          "metadata": {},
          "execution_count": 125
        }
      ]
    },
    {
      "cell_type": "code",
      "source": [
        "# Summary\n",
        "df_2.describe()"
      ],
      "metadata": {
        "id": "Qq_Tj4aBLbXd",
        "colab": {
          "base_uri": "https://localhost:8080/",
          "height": 300
        },
        "outputId": "0c1fac7f-723b-44e1-ef1c-de7a6812dec7"
      },
      "execution_count": 126,
      "outputs": [
        {
          "output_type": "execute_result",
          "data": {
            "text/plain": [
              "           help_per       overall  unixReviewTime         price\n",
              "count  2.982326e+06  2.982326e+06    2.982326e+06  2.667854e+06\n",
              "mean   3.307806e+01  4.107974e+00    1.358166e+09  2.929901e+01\n",
              "std    4.361229e+01  1.336448e+00    5.000698e+07  4.011675e+01\n",
              "min    0.000000e+00  1.000000e+00    9.014112e+08  1.000000e-02\n",
              "25%    0.000000e+00  4.000000e+00    1.347667e+09  1.013000e+01\n",
              "50%    0.000000e+00  5.000000e+00    1.372810e+09  1.884000e+01\n",
              "75%    8.750000e+01  5.000000e+00    1.391472e+09  3.321000e+01\n",
              "max    2.000000e+02  5.000000e+00    1.406074e+09  9.999900e+02"
            ],
            "text/html": [
              "\n",
              "  <div id=\"df-902adf5b-9ed1-4e37-ac8b-c91774fc0151\">\n",
              "    <div class=\"colab-df-container\">\n",
              "      <div>\n",
              "<style scoped>\n",
              "    .dataframe tbody tr th:only-of-type {\n",
              "        vertical-align: middle;\n",
              "    }\n",
              "\n",
              "    .dataframe tbody tr th {\n",
              "        vertical-align: top;\n",
              "    }\n",
              "\n",
              "    .dataframe thead th {\n",
              "        text-align: right;\n",
              "    }\n",
              "</style>\n",
              "<table border=\"1\" class=\"dataframe\">\n",
              "  <thead>\n",
              "    <tr style=\"text-align: right;\">\n",
              "      <th></th>\n",
              "      <th>help_per</th>\n",
              "      <th>overall</th>\n",
              "      <th>unixReviewTime</th>\n",
              "      <th>price</th>\n",
              "    </tr>\n",
              "  </thead>\n",
              "  <tbody>\n",
              "    <tr>\n",
              "      <th>count</th>\n",
              "      <td>2.982326e+06</td>\n",
              "      <td>2.982326e+06</td>\n",
              "      <td>2.982326e+06</td>\n",
              "      <td>2.667854e+06</td>\n",
              "    </tr>\n",
              "    <tr>\n",
              "      <th>mean</th>\n",
              "      <td>3.307806e+01</td>\n",
              "      <td>4.107974e+00</td>\n",
              "      <td>1.358166e+09</td>\n",
              "      <td>2.929901e+01</td>\n",
              "    </tr>\n",
              "    <tr>\n",
              "      <th>std</th>\n",
              "      <td>4.361229e+01</td>\n",
              "      <td>1.336448e+00</td>\n",
              "      <td>5.000698e+07</td>\n",
              "      <td>4.011675e+01</td>\n",
              "    </tr>\n",
              "    <tr>\n",
              "      <th>min</th>\n",
              "      <td>0.000000e+00</td>\n",
              "      <td>1.000000e+00</td>\n",
              "      <td>9.014112e+08</td>\n",
              "      <td>1.000000e-02</td>\n",
              "    </tr>\n",
              "    <tr>\n",
              "      <th>25%</th>\n",
              "      <td>0.000000e+00</td>\n",
              "      <td>4.000000e+00</td>\n",
              "      <td>1.347667e+09</td>\n",
              "      <td>1.013000e+01</td>\n",
              "    </tr>\n",
              "    <tr>\n",
              "      <th>50%</th>\n",
              "      <td>0.000000e+00</td>\n",
              "      <td>5.000000e+00</td>\n",
              "      <td>1.372810e+09</td>\n",
              "      <td>1.884000e+01</td>\n",
              "    </tr>\n",
              "    <tr>\n",
              "      <th>75%</th>\n",
              "      <td>8.750000e+01</td>\n",
              "      <td>5.000000e+00</td>\n",
              "      <td>1.391472e+09</td>\n",
              "      <td>3.321000e+01</td>\n",
              "    </tr>\n",
              "    <tr>\n",
              "      <th>max</th>\n",
              "      <td>2.000000e+02</td>\n",
              "      <td>5.000000e+00</td>\n",
              "      <td>1.406074e+09</td>\n",
              "      <td>9.999900e+02</td>\n",
              "    </tr>\n",
              "  </tbody>\n",
              "</table>\n",
              "</div>\n",
              "      <button class=\"colab-df-convert\" onclick=\"convertToInteractive('df-902adf5b-9ed1-4e37-ac8b-c91774fc0151')\"\n",
              "              title=\"Convert this dataframe to an interactive table.\"\n",
              "              style=\"display:none;\">\n",
              "        \n",
              "  <svg xmlns=\"http://www.w3.org/2000/svg\" height=\"24px\"viewBox=\"0 0 24 24\"\n",
              "       width=\"24px\">\n",
              "    <path d=\"M0 0h24v24H0V0z\" fill=\"none\"/>\n",
              "    <path d=\"M18.56 5.44l.94 2.06.94-2.06 2.06-.94-2.06-.94-.94-2.06-.94 2.06-2.06.94zm-11 1L8.5 8.5l.94-2.06 2.06-.94-2.06-.94L8.5 2.5l-.94 2.06-2.06.94zm10 10l.94 2.06.94-2.06 2.06-.94-2.06-.94-.94-2.06-.94 2.06-2.06.94z\"/><path d=\"M17.41 7.96l-1.37-1.37c-.4-.4-.92-.59-1.43-.59-.52 0-1.04.2-1.43.59L10.3 9.45l-7.72 7.72c-.78.78-.78 2.05 0 2.83L4 21.41c.39.39.9.59 1.41.59.51 0 1.02-.2 1.41-.59l7.78-7.78 2.81-2.81c.8-.78.8-2.07 0-2.86zM5.41 20L4 18.59l7.72-7.72 1.47 1.35L5.41 20z\"/>\n",
              "  </svg>\n",
              "      </button>\n",
              "      \n",
              "  <style>\n",
              "    .colab-df-container {\n",
              "      display:flex;\n",
              "      flex-wrap:wrap;\n",
              "      gap: 12px;\n",
              "    }\n",
              "\n",
              "    .colab-df-convert {\n",
              "      background-color: #E8F0FE;\n",
              "      border: none;\n",
              "      border-radius: 50%;\n",
              "      cursor: pointer;\n",
              "      display: none;\n",
              "      fill: #1967D2;\n",
              "      height: 32px;\n",
              "      padding: 0 0 0 0;\n",
              "      width: 32px;\n",
              "    }\n",
              "\n",
              "    .colab-df-convert:hover {\n",
              "      background-color: #E2EBFA;\n",
              "      box-shadow: 0px 1px 2px rgba(60, 64, 67, 0.3), 0px 1px 3px 1px rgba(60, 64, 67, 0.15);\n",
              "      fill: #174EA6;\n",
              "    }\n",
              "\n",
              "    [theme=dark] .colab-df-convert {\n",
              "      background-color: #3B4455;\n",
              "      fill: #D2E3FC;\n",
              "    }\n",
              "\n",
              "    [theme=dark] .colab-df-convert:hover {\n",
              "      background-color: #434B5C;\n",
              "      box-shadow: 0px 1px 3px 1px rgba(0, 0, 0, 0.15);\n",
              "      filter: drop-shadow(0px 1px 2px rgba(0, 0, 0, 0.3));\n",
              "      fill: #FFFFFF;\n",
              "    }\n",
              "  </style>\n",
              "\n",
              "      <script>\n",
              "        const buttonEl =\n",
              "          document.querySelector('#df-902adf5b-9ed1-4e37-ac8b-c91774fc0151 button.colab-df-convert');\n",
              "        buttonEl.style.display =\n",
              "          google.colab.kernel.accessAllowed ? 'block' : 'none';\n",
              "\n",
              "        async function convertToInteractive(key) {\n",
              "          const element = document.querySelector('#df-902adf5b-9ed1-4e37-ac8b-c91774fc0151');\n",
              "          const dataTable =\n",
              "            await google.colab.kernel.invokeFunction('convertToInteractive',\n",
              "                                                     [key], {});\n",
              "          if (!dataTable) return;\n",
              "\n",
              "          const docLinkHtml = 'Like what you see? Visit the ' +\n",
              "            '<a target=\"_blank\" href=https://colab.research.google.com/notebooks/data_table.ipynb>data table notebook</a>'\n",
              "            + ' to learn more about interactive tables.';\n",
              "          element.innerHTML = '';\n",
              "          dataTable['output_type'] = 'display_data';\n",
              "          await google.colab.output.renderOutput(dataTable, element);\n",
              "          const docLink = document.createElement('div');\n",
              "          docLink.innerHTML = docLinkHtml;\n",
              "          element.appendChild(docLink);\n",
              "        }\n",
              "      </script>\n",
              "    </div>\n",
              "  </div>\n",
              "  "
            ]
          },
          "metadata": {},
          "execution_count": 126
        }
      ]
    },
    {
      "cell_type": "code",
      "source": [
        "# Creating Date\n",
        "end_date = dt.datetime(2015, 12, 1)"
      ],
      "metadata": {
        "id": "ij_QbnOKfue_"
      },
      "execution_count": 127,
      "outputs": []
    },
    {
      "cell_type": "code",
      "source": [
        "# Info\n",
        "df_2.info()"
      ],
      "metadata": {
        "colab": {
          "base_uri": "https://localhost:8080/"
        },
        "id": "c1T3B7qlEWs2",
        "outputId": "320c2bf7-eb3c-4706-a699-6310a9c52e95"
      },
      "execution_count": 129,
      "outputs": [
        {
          "output_type": "stream",
          "name": "stdout",
          "text": [
            "<class 'pandas.core.frame.DataFrame'>\n",
            "DatetimeIndex: 2982326 entries, 1998-07-26 to 2014-07-23\n",
            "Data columns (total 19 columns):\n",
            " #   Column          Dtype         \n",
            "---  ------          -----         \n",
            " 0   reviewerID      object        \n",
            " 1   asin            object        \n",
            " 2   reviewerName    object        \n",
            " 3   helpful         object        \n",
            " 4   help_per        float64       \n",
            " 5   reviewText      object        \n",
            " 6   overall         int64         \n",
            " 7   sentiment       object        \n",
            " 8   summary         object        \n",
            " 9   unixReviewTime  int64         \n",
            " 10  reviewTime      datetime64[ns]\n",
            " 11  description     object        \n",
            " 12  title           object        \n",
            " 13  imUrl           object        \n",
            " 14  related         object        \n",
            " 15  salesRank       object        \n",
            " 16  categories      object        \n",
            " 17  price           float64       \n",
            " 18  brand           object        \n",
            "dtypes: datetime64[ns](1), float64(2), int64(2), object(14)\n",
            "memory usage: 455.1+ MB\n"
          ]
        }
      ]
    },
    {
      "cell_type": "code",
      "source": [
        "# Grouping the Data for RFM\n",
        "data_2 = df_2.groupby('reviewerID').agg({'reviewTime': lambda reviewTime: (end_date - reviewTime.max()).days,'asin' : 'nunique', 'price' : 'sum'})"
      ],
      "metadata": {
        "id": "UwJjTlU2cU0e"
      },
      "execution_count": 130,
      "outputs": []
    },
    {
      "cell_type": "code",
      "source": [
        "# Shape of Data\n",
        "data_2.shape"
      ],
      "metadata": {
        "colab": {
          "base_uri": "https://localhost:8080/"
        },
        "id": "nlhFN24lFIKq",
        "outputId": "f0c643f2-20a6-49cf-da43-f7c0f1e5f256"
      },
      "execution_count": 131,
      "outputs": [
        {
          "output_type": "execute_result",
          "data": {
            "text/plain": [
              "(1851132, 3)"
            ]
          },
          "metadata": {},
          "execution_count": 131
        }
      ]
    },
    {
      "cell_type": "code",
      "source": [
        "# Assigning Columns\n",
        "data_2.columns = ['recency','frequency','monetary']"
      ],
      "metadata": {
        "id": "773uEg49iqyx"
      },
      "execution_count": 132,
      "outputs": []
    },
    {
      "cell_type": "code",
      "source": [
        "# Data Head\n",
        "data_2.head()"
      ],
      "metadata": {
        "colab": {
          "base_uri": "https://localhost:8080/",
          "height": 237
        },
        "id": "x_6NvEF8iq4F",
        "outputId": "fd194fe1-d704-47c5-bda0-a9b005d5de85"
      },
      "execution_count": 133,
      "outputs": [
        {
          "output_type": "execute_result",
          "data": {
            "text/plain": [
              "                       recency  frequency  monetary\n",
              "reviewerID                                         \n",
              "A0000726154QG4JYYPS1W      628          1     22.95\n",
              "A000096617D1KX8J1SNO6      774          1     73.78\n",
              "A000152835L65OOF6JM10      771          1     18.58\n",
              "A000187635I595IAVSQLH      638          2     11.22\n",
              "A00024081MYZENMKQF9NC      516          1      6.99"
            ],
            "text/html": [
              "\n",
              "  <div id=\"df-0c707d93-190e-41d9-9639-8466d525d867\">\n",
              "    <div class=\"colab-df-container\">\n",
              "      <div>\n",
              "<style scoped>\n",
              "    .dataframe tbody tr th:only-of-type {\n",
              "        vertical-align: middle;\n",
              "    }\n",
              "\n",
              "    .dataframe tbody tr th {\n",
              "        vertical-align: top;\n",
              "    }\n",
              "\n",
              "    .dataframe thead th {\n",
              "        text-align: right;\n",
              "    }\n",
              "</style>\n",
              "<table border=\"1\" class=\"dataframe\">\n",
              "  <thead>\n",
              "    <tr style=\"text-align: right;\">\n",
              "      <th></th>\n",
              "      <th>recency</th>\n",
              "      <th>frequency</th>\n",
              "      <th>monetary</th>\n",
              "    </tr>\n",
              "    <tr>\n",
              "      <th>reviewerID</th>\n",
              "      <th></th>\n",
              "      <th></th>\n",
              "      <th></th>\n",
              "    </tr>\n",
              "  </thead>\n",
              "  <tbody>\n",
              "    <tr>\n",
              "      <th>A0000726154QG4JYYPS1W</th>\n",
              "      <td>628</td>\n",
              "      <td>1</td>\n",
              "      <td>22.95</td>\n",
              "    </tr>\n",
              "    <tr>\n",
              "      <th>A000096617D1KX8J1SNO6</th>\n",
              "      <td>774</td>\n",
              "      <td>1</td>\n",
              "      <td>73.78</td>\n",
              "    </tr>\n",
              "    <tr>\n",
              "      <th>A000152835L65OOF6JM10</th>\n",
              "      <td>771</td>\n",
              "      <td>1</td>\n",
              "      <td>18.58</td>\n",
              "    </tr>\n",
              "    <tr>\n",
              "      <th>A000187635I595IAVSQLH</th>\n",
              "      <td>638</td>\n",
              "      <td>2</td>\n",
              "      <td>11.22</td>\n",
              "    </tr>\n",
              "    <tr>\n",
              "      <th>A00024081MYZENMKQF9NC</th>\n",
              "      <td>516</td>\n",
              "      <td>1</td>\n",
              "      <td>6.99</td>\n",
              "    </tr>\n",
              "  </tbody>\n",
              "</table>\n",
              "</div>\n",
              "      <button class=\"colab-df-convert\" onclick=\"convertToInteractive('df-0c707d93-190e-41d9-9639-8466d525d867')\"\n",
              "              title=\"Convert this dataframe to an interactive table.\"\n",
              "              style=\"display:none;\">\n",
              "        \n",
              "  <svg xmlns=\"http://www.w3.org/2000/svg\" height=\"24px\"viewBox=\"0 0 24 24\"\n",
              "       width=\"24px\">\n",
              "    <path d=\"M0 0h24v24H0V0z\" fill=\"none\"/>\n",
              "    <path d=\"M18.56 5.44l.94 2.06.94-2.06 2.06-.94-2.06-.94-.94-2.06-.94 2.06-2.06.94zm-11 1L8.5 8.5l.94-2.06 2.06-.94-2.06-.94L8.5 2.5l-.94 2.06-2.06.94zm10 10l.94 2.06.94-2.06 2.06-.94-2.06-.94-.94-2.06-.94 2.06-2.06.94z\"/><path d=\"M17.41 7.96l-1.37-1.37c-.4-.4-.92-.59-1.43-.59-.52 0-1.04.2-1.43.59L10.3 9.45l-7.72 7.72c-.78.78-.78 2.05 0 2.83L4 21.41c.39.39.9.59 1.41.59.51 0 1.02-.2 1.41-.59l7.78-7.78 2.81-2.81c.8-.78.8-2.07 0-2.86zM5.41 20L4 18.59l7.72-7.72 1.47 1.35L5.41 20z\"/>\n",
              "  </svg>\n",
              "      </button>\n",
              "      \n",
              "  <style>\n",
              "    .colab-df-container {\n",
              "      display:flex;\n",
              "      flex-wrap:wrap;\n",
              "      gap: 12px;\n",
              "    }\n",
              "\n",
              "    .colab-df-convert {\n",
              "      background-color: #E8F0FE;\n",
              "      border: none;\n",
              "      border-radius: 50%;\n",
              "      cursor: pointer;\n",
              "      display: none;\n",
              "      fill: #1967D2;\n",
              "      height: 32px;\n",
              "      padding: 0 0 0 0;\n",
              "      width: 32px;\n",
              "    }\n",
              "\n",
              "    .colab-df-convert:hover {\n",
              "      background-color: #E2EBFA;\n",
              "      box-shadow: 0px 1px 2px rgba(60, 64, 67, 0.3), 0px 1px 3px 1px rgba(60, 64, 67, 0.15);\n",
              "      fill: #174EA6;\n",
              "    }\n",
              "\n",
              "    [theme=dark] .colab-df-convert {\n",
              "      background-color: #3B4455;\n",
              "      fill: #D2E3FC;\n",
              "    }\n",
              "\n",
              "    [theme=dark] .colab-df-convert:hover {\n",
              "      background-color: #434B5C;\n",
              "      box-shadow: 0px 1px 3px 1px rgba(0, 0, 0, 0.15);\n",
              "      filter: drop-shadow(0px 1px 2px rgba(0, 0, 0, 0.3));\n",
              "      fill: #FFFFFF;\n",
              "    }\n",
              "  </style>\n",
              "\n",
              "      <script>\n",
              "        const buttonEl =\n",
              "          document.querySelector('#df-0c707d93-190e-41d9-9639-8466d525d867 button.colab-df-convert');\n",
              "        buttonEl.style.display =\n",
              "          google.colab.kernel.accessAllowed ? 'block' : 'none';\n",
              "\n",
              "        async function convertToInteractive(key) {\n",
              "          const element = document.querySelector('#df-0c707d93-190e-41d9-9639-8466d525d867');\n",
              "          const dataTable =\n",
              "            await google.colab.kernel.invokeFunction('convertToInteractive',\n",
              "                                                     [key], {});\n",
              "          if (!dataTable) return;\n",
              "\n",
              "          const docLinkHtml = 'Like what you see? Visit the ' +\n",
              "            '<a target=\"_blank\" href=https://colab.research.google.com/notebooks/data_table.ipynb>data table notebook</a>'\n",
              "            + ' to learn more about interactive tables.';\n",
              "          element.innerHTML = '';\n",
              "          dataTable['output_type'] = 'display_data';\n",
              "          await google.colab.output.renderOutput(dataTable, element);\n",
              "          const docLink = document.createElement('div');\n",
              "          docLink.innerHTML = docLinkHtml;\n",
              "          element.appendChild(docLink);\n",
              "        }\n",
              "      </script>\n",
              "    </div>\n",
              "  </div>\n",
              "  "
            ]
          },
          "metadata": {},
          "execution_count": 133
        }
      ]
    },
    {
      "cell_type": "code",
      "source": [
        "# Scaling of Data\n",
        "std = StandardScaler()\n",
        "\n",
        "scaled_df = std.fit_transform(data_2)"
      ],
      "metadata": {
        "id": "vch3dLcLiq5t"
      },
      "execution_count": 134,
      "outputs": []
    },
    {
      "cell_type": "code",
      "source": [
        "# Creating DataFrame for Scaled Data\n",
        "\n",
        "scaled_df = pd.DataFrame(scaled_df,columns=['recency','frequency','monetary'], index=data_2.index)"
      ],
      "metadata": {
        "id": "4YcB_wYRiq_H"
      },
      "execution_count": 135,
      "outputs": []
    },
    {
      "cell_type": "code",
      "source": [
        "# Data Head\n",
        "scaled_df.head()"
      ],
      "metadata": {
        "colab": {
          "base_uri": "https://localhost:8080/",
          "height": 237
        },
        "id": "Uk3bYjVpjk0H",
        "outputId": "eb92e067-0f6a-4168-97b3-4881378af4bc"
      },
      "execution_count": 136,
      "outputs": [
        {
          "output_type": "execute_result",
          "data": {
            "text/plain": [
              "                        recency  frequency  monetary\n",
              "reviewerID                                          \n",
              "A0000726154QG4JYYPS1W -0.681653  -0.258189 -0.272911\n",
              "A000096617D1KX8J1SNO6 -0.431311  -0.258189  0.446752\n",
              "A000152835L65OOF6JM10 -0.436455  -0.258189 -0.334782\n",
              "A000187635I595IAVSQLH -0.664506   0.164322 -0.438987\n",
              "A00024081MYZENMKQF9NC -0.873697  -0.258189 -0.498876"
            ],
            "text/html": [
              "\n",
              "  <div id=\"df-217f97ef-633b-4e3b-8983-88ebba809262\">\n",
              "    <div class=\"colab-df-container\">\n",
              "      <div>\n",
              "<style scoped>\n",
              "    .dataframe tbody tr th:only-of-type {\n",
              "        vertical-align: middle;\n",
              "    }\n",
              "\n",
              "    .dataframe tbody tr th {\n",
              "        vertical-align: top;\n",
              "    }\n",
              "\n",
              "    .dataframe thead th {\n",
              "        text-align: right;\n",
              "    }\n",
              "</style>\n",
              "<table border=\"1\" class=\"dataframe\">\n",
              "  <thead>\n",
              "    <tr style=\"text-align: right;\">\n",
              "      <th></th>\n",
              "      <th>recency</th>\n",
              "      <th>frequency</th>\n",
              "      <th>monetary</th>\n",
              "    </tr>\n",
              "    <tr>\n",
              "      <th>reviewerID</th>\n",
              "      <th></th>\n",
              "      <th></th>\n",
              "      <th></th>\n",
              "    </tr>\n",
              "  </thead>\n",
              "  <tbody>\n",
              "    <tr>\n",
              "      <th>A0000726154QG4JYYPS1W</th>\n",
              "      <td>-0.681653</td>\n",
              "      <td>-0.258189</td>\n",
              "      <td>-0.272911</td>\n",
              "    </tr>\n",
              "    <tr>\n",
              "      <th>A000096617D1KX8J1SNO6</th>\n",
              "      <td>-0.431311</td>\n",
              "      <td>-0.258189</td>\n",
              "      <td>0.446752</td>\n",
              "    </tr>\n",
              "    <tr>\n",
              "      <th>A000152835L65OOF6JM10</th>\n",
              "      <td>-0.436455</td>\n",
              "      <td>-0.258189</td>\n",
              "      <td>-0.334782</td>\n",
              "    </tr>\n",
              "    <tr>\n",
              "      <th>A000187635I595IAVSQLH</th>\n",
              "      <td>-0.664506</td>\n",
              "      <td>0.164322</td>\n",
              "      <td>-0.438987</td>\n",
              "    </tr>\n",
              "    <tr>\n",
              "      <th>A00024081MYZENMKQF9NC</th>\n",
              "      <td>-0.873697</td>\n",
              "      <td>-0.258189</td>\n",
              "      <td>-0.498876</td>\n",
              "    </tr>\n",
              "  </tbody>\n",
              "</table>\n",
              "</div>\n",
              "      <button class=\"colab-df-convert\" onclick=\"convertToInteractive('df-217f97ef-633b-4e3b-8983-88ebba809262')\"\n",
              "              title=\"Convert this dataframe to an interactive table.\"\n",
              "              style=\"display:none;\">\n",
              "        \n",
              "  <svg xmlns=\"http://www.w3.org/2000/svg\" height=\"24px\"viewBox=\"0 0 24 24\"\n",
              "       width=\"24px\">\n",
              "    <path d=\"M0 0h24v24H0V0z\" fill=\"none\"/>\n",
              "    <path d=\"M18.56 5.44l.94 2.06.94-2.06 2.06-.94-2.06-.94-.94-2.06-.94 2.06-2.06.94zm-11 1L8.5 8.5l.94-2.06 2.06-.94-2.06-.94L8.5 2.5l-.94 2.06-2.06.94zm10 10l.94 2.06.94-2.06 2.06-.94-2.06-.94-.94-2.06-.94 2.06-2.06.94z\"/><path d=\"M17.41 7.96l-1.37-1.37c-.4-.4-.92-.59-1.43-.59-.52 0-1.04.2-1.43.59L10.3 9.45l-7.72 7.72c-.78.78-.78 2.05 0 2.83L4 21.41c.39.39.9.59 1.41.59.51 0 1.02-.2 1.41-.59l7.78-7.78 2.81-2.81c.8-.78.8-2.07 0-2.86zM5.41 20L4 18.59l7.72-7.72 1.47 1.35L5.41 20z\"/>\n",
              "  </svg>\n",
              "      </button>\n",
              "      \n",
              "  <style>\n",
              "    .colab-df-container {\n",
              "      display:flex;\n",
              "      flex-wrap:wrap;\n",
              "      gap: 12px;\n",
              "    }\n",
              "\n",
              "    .colab-df-convert {\n",
              "      background-color: #E8F0FE;\n",
              "      border: none;\n",
              "      border-radius: 50%;\n",
              "      cursor: pointer;\n",
              "      display: none;\n",
              "      fill: #1967D2;\n",
              "      height: 32px;\n",
              "      padding: 0 0 0 0;\n",
              "      width: 32px;\n",
              "    }\n",
              "\n",
              "    .colab-df-convert:hover {\n",
              "      background-color: #E2EBFA;\n",
              "      box-shadow: 0px 1px 2px rgba(60, 64, 67, 0.3), 0px 1px 3px 1px rgba(60, 64, 67, 0.15);\n",
              "      fill: #174EA6;\n",
              "    }\n",
              "\n",
              "    [theme=dark] .colab-df-convert {\n",
              "      background-color: #3B4455;\n",
              "      fill: #D2E3FC;\n",
              "    }\n",
              "\n",
              "    [theme=dark] .colab-df-convert:hover {\n",
              "      background-color: #434B5C;\n",
              "      box-shadow: 0px 1px 3px 1px rgba(0, 0, 0, 0.15);\n",
              "      filter: drop-shadow(0px 1px 2px rgba(0, 0, 0, 0.3));\n",
              "      fill: #FFFFFF;\n",
              "    }\n",
              "  </style>\n",
              "\n",
              "      <script>\n",
              "        const buttonEl =\n",
              "          document.querySelector('#df-217f97ef-633b-4e3b-8983-88ebba809262 button.colab-df-convert');\n",
              "        buttonEl.style.display =\n",
              "          google.colab.kernel.accessAllowed ? 'block' : 'none';\n",
              "\n",
              "        async function convertToInteractive(key) {\n",
              "          const element = document.querySelector('#df-217f97ef-633b-4e3b-8983-88ebba809262');\n",
              "          const dataTable =\n",
              "            await google.colab.kernel.invokeFunction('convertToInteractive',\n",
              "                                                     [key], {});\n",
              "          if (!dataTable) return;\n",
              "\n",
              "          const docLinkHtml = 'Like what you see? Visit the ' +\n",
              "            '<a target=\"_blank\" href=https://colab.research.google.com/notebooks/data_table.ipynb>data table notebook</a>'\n",
              "            + ' to learn more about interactive tables.';\n",
              "          element.innerHTML = '';\n",
              "          dataTable['output_type'] = 'display_data';\n",
              "          await google.colab.output.renderOutput(dataTable, element);\n",
              "          const docLink = document.createElement('div');\n",
              "          docLink.innerHTML = docLinkHtml;\n",
              "          element.appendChild(docLink);\n",
              "        }\n",
              "      </script>\n",
              "    </div>\n",
              "  </div>\n",
              "  "
            ]
          },
          "metadata": {},
          "execution_count": 136
        }
      ]
    },
    {
      "cell_type": "code",
      "source": [
        "# Elbow Method for Finding Best Cluster\n",
        "\n",
        "error = []\n",
        "for i in range(1,11):\n",
        "    km = KMeans(n_clusters=i,random_state=10)\n",
        "    km.fit_predict(scaled_df)\n",
        "    error.append(km.inertia_)\n",
        "    \n",
        "plt.figure(figsize=(12,6))\n",
        "plt.plot(range(1,11),error,marker='o',ls='--',color='red',mfc='black')\n",
        "plt.xlabel('Cluster (K)')\n",
        "plt.ylabel('Error (Distortions)')\n",
        "plt.show()"
      ],
      "metadata": {
        "colab": {
          "base_uri": "https://localhost:8080/",
          "height": 468
        },
        "id": "IOhnfnLwjk4-",
        "outputId": "a5fb4918-f959-4332-ea79-909708ea4eb9"
      },
      "execution_count": 137,
      "outputs": [
        {
          "output_type": "execute_result",
          "data": {
            "text/plain": [
              "array([0, 0, 0, ..., 0, 0, 0], dtype=int32)"
            ]
          },
          "metadata": {},
          "execution_count": 137
        },
        {
          "output_type": "execute_result",
          "data": {
            "text/plain": [
              "array([1, 1, 1, ..., 1, 1, 1], dtype=int32)"
            ]
          },
          "metadata": {},
          "execution_count": 137
        },
        {
          "output_type": "execute_result",
          "data": {
            "text/plain": [
              "array([0, 0, 0, ..., 0, 0, 1], dtype=int32)"
            ]
          },
          "metadata": {},
          "execution_count": 137
        },
        {
          "output_type": "execute_result",
          "data": {
            "text/plain": [
              "array([0, 0, 0, ..., 0, 0, 1], dtype=int32)"
            ]
          },
          "metadata": {},
          "execution_count": 137
        },
        {
          "output_type": "execute_result",
          "data": {
            "text/plain": [
              "array([0, 0, 0, ..., 0, 0, 1], dtype=int32)"
            ]
          },
          "metadata": {},
          "execution_count": 137
        },
        {
          "output_type": "execute_result",
          "data": {
            "text/plain": [
              "array([1, 1, 1, ..., 1, 1, 4], dtype=int32)"
            ]
          },
          "metadata": {},
          "execution_count": 137
        },
        {
          "output_type": "execute_result",
          "data": {
            "text/plain": [
              "array([0, 0, 0, ..., 0, 0, 3], dtype=int32)"
            ]
          },
          "metadata": {},
          "execution_count": 137
        },
        {
          "output_type": "execute_result",
          "data": {
            "text/plain": [
              "array([0, 0, 0, ..., 0, 0, 1], dtype=int32)"
            ]
          },
          "metadata": {},
          "execution_count": 137
        },
        {
          "output_type": "execute_result",
          "data": {
            "text/plain": [
              "array([5, 2, 5, ..., 5, 5, 3], dtype=int32)"
            ]
          },
          "metadata": {},
          "execution_count": 137
        },
        {
          "output_type": "execute_result",
          "data": {
            "text/plain": [
              "array([3, 3, 3, ..., 3, 7, 1], dtype=int32)"
            ]
          },
          "metadata": {},
          "execution_count": 137
        },
        {
          "output_type": "execute_result",
          "data": {
            "text/plain": [
              "<Figure size 864x432 with 0 Axes>"
            ]
          },
          "metadata": {},
          "execution_count": 137
        },
        {
          "output_type": "execute_result",
          "data": {
            "text/plain": [
              "[<matplotlib.lines.Line2D at 0x7fef5b8c9af0>]"
            ]
          },
          "metadata": {},
          "execution_count": 137
        },
        {
          "output_type": "execute_result",
          "data": {
            "text/plain": [
              "Text(0.5, 0, 'Cluster (K)')"
            ]
          },
          "metadata": {},
          "execution_count": 137
        },
        {
          "output_type": "execute_result",
          "data": {
            "text/plain": [
              "Text(0, 0.5, 'Error (Distortions)')"
            ]
          },
          "metadata": {},
          "execution_count": 137
        },
        {
          "output_type": "display_data",
          "data": {
            "text/plain": [
              "<Figure size 864x432 with 1 Axes>"
            ],
            "image/png": "[encoded data removed]"
          },
          "metadata": {
            "needs_background": "light"
          }
        }
      ]
    },
    {
      "cell_type": "code",
      "source": [
        "# Model Building\n",
        "model_1 = KMeans(n_clusters=4,random_state=22)"
      ],
      "metadata": {
        "id": "FlBvCp6Fjk7k"
      },
      "execution_count": 138,
      "outputs": []
    },
    {
      "cell_type": "code",
      "source": [
        "# Fitting Data\n",
        "model_1.fit(scaled_df)"
      ],
      "metadata": {
        "colab": {
          "base_uri": "https://localhost:8080/"
        },
        "id": "Sf0UT-l9jk-M",
        "outputId": "742d181a-d4ca-4b44-977f-92183d8a1028"
      },
      "execution_count": 139,
      "outputs": [
        {
          "output_type": "execute_result",
          "data": {
            "text/plain": [
              "KMeans(n_clusters=4, random_state=22)"
            ]
          },
          "metadata": {},
          "execution_count": 139
        }
      ]
    },
    {
      "cell_type": "code",
      "source": [
        "# Centroids\n",
        "centroids = model_1.cluster_centers_\n",
        "centroids_df = pd.DataFrame(centroids,columns=list(scaled_df))\n",
        "centroids_df"
      ],
      "metadata": {
        "colab": {
          "base_uri": "https://localhost:8080/",
          "height": 175
        },
        "id": "LSgPW-4vqwPN",
        "outputId": "09d24ab0-69be-4f22-9b8b-d7c9959a3194"
      },
      "execution_count": 140,
      "outputs": [
        {
          "output_type": "execute_result",
          "data": {
            "text/plain": [
              "    recency  frequency   monetary\n",
              "0 -0.404032   1.547385   2.392711\n",
              "1 -0.330126  -0.106037  -0.166799\n",
              "2 -0.783408  17.847422  13.191699\n",
              "3  2.017810  -0.201537  -0.177650"
            ],
            "text/html": [
              "\n",
              "  <div id=\"df-2ae5d903-fd94-4c12-aac3-42b723be0ef4\">\n",
              "    <div class=\"colab-df-container\">\n",
              "      <div>\n",
              "<style scoped>\n",
              "    .dataframe tbody tr th:only-of-type {\n",
              "        vertical-align: middle;\n",
              "    }\n",
              "\n",
              "    .dataframe tbody tr th {\n",
              "        vertical-align: top;\n",
              "    }\n",
              "\n",
              "    .dataframe thead th {\n",
              "        text-align: right;\n",
              "    }\n",
              "</style>\n",
              "<table border=\"1\" class=\"dataframe\">\n",
              "  <thead>\n",
              "    <tr style=\"text-align: right;\">\n",
              "      <th></th>\n",
              "      <th>recency</th>\n",
              "      <th>frequency</th>\n",
              "      <th>monetary</th>\n",
              "    </tr>\n",
              "  </thead>\n",
              "  <tbody>\n",
              "    <tr>\n",
              "      <th>0</th>\n",
              "      <td>-0.404032</td>\n",
              "      <td>1.547385</td>\n",
              "      <td>2.392711</td>\n",
              "    </tr>\n",
              "    <tr>\n",
              "      <th>1</th>\n",
              "      <td>-0.330126</td>\n",
              "      <td>-0.106037</td>\n",
              "      <td>-0.166799</td>\n",
              "    </tr>\n",
              "    <tr>\n",
              "      <th>2</th>\n",
              "      <td>-0.783408</td>\n",
              "      <td>17.847422</td>\n",
              "      <td>13.191699</td>\n",
              "    </tr>\n",
              "    <tr>\n",
              "      <th>3</th>\n",
              "      <td>2.017810</td>\n",
              "      <td>-0.201537</td>\n",
              "      <td>-0.177650</td>\n",
              "    </tr>\n",
              "  </tbody>\n",
              "</table>\n",
              "</div>\n",
              "      <button class=\"colab-df-convert\" onclick=\"convertToInteractive('df-2ae5d903-fd94-4c12-aac3-42b723be0ef4')\"\n",
              "              title=\"Convert this dataframe to an interactive table.\"\n",
              "              style=\"display:none;\">\n",
              "        \n",
              "  <svg xmlns=\"http://www.w3.org/2000/svg\" height=\"24px\"viewBox=\"0 0 24 24\"\n",
              "       width=\"24px\">\n",
              "    <path d=\"M0 0h24v24H0V0z\" fill=\"none\"/>\n",
              "    <path d=\"M18.56 5.44l.94 2.06.94-2.06 2.06-.94-2.06-.94-.94-2.06-.94 2.06-2.06.94zm-11 1L8.5 8.5l.94-2.06 2.06-.94-2.06-.94L8.5 2.5l-.94 2.06-2.06.94zm10 10l.94 2.06.94-2.06 2.06-.94-2.06-.94-.94-2.06-.94 2.06-2.06.94z\"/><path d=\"M17.41 7.96l-1.37-1.37c-.4-.4-.92-.59-1.43-.59-.52 0-1.04.2-1.43.59L10.3 9.45l-7.72 7.72c-.78.78-.78 2.05 0 2.83L4 21.41c.39.39.9.59 1.41.59.51 0 1.02-.2 1.41-.59l7.78-7.78 2.81-2.81c.8-.78.8-2.07 0-2.86zM5.41 20L4 18.59l7.72-7.72 1.47 1.35L5.41 20z\"/>\n",
              "  </svg>\n",
              "      </button>\n",
              "      \n",
              "  <style>\n",
              "    .colab-df-container {\n",
              "      display:flex;\n",
              "      flex-wrap:wrap;\n",
              "      gap: 12px;\n",
              "    }\n",
              "\n",
              "    .colab-df-convert {\n",
              "      background-color: #E8F0FE;\n",
              "      border: none;\n",
              "      border-radius: 50%;\n",
              "      cursor: pointer;\n",
              "      display: none;\n",
              "      fill: #1967D2;\n",
              "      height: 32px;\n",
              "      padding: 0 0 0 0;\n",
              "      width: 32px;\n",
              "    }\n",
              "\n",
              "    .colab-df-convert:hover {\n",
              "      background-color: #E2EBFA;\n",
              "      box-shadow: 0px 1px 2px rgba(60, 64, 67, 0.3), 0px 1px 3px 1px rgba(60, 64, 67, 0.15);\n",
              "      fill: #174EA6;\n",
              "    }\n",
              "\n",
              "    [theme=dark] .colab-df-convert {\n",
              "      background-color: #3B4455;\n",
              "      fill: #D2E3FC;\n",
              "    }\n",
              "\n",
              "    [theme=dark] .colab-df-convert:hover {\n",
              "      background-color: #434B5C;\n",
              "      box-shadow: 0px 1px 3px 1px rgba(0, 0, 0, 0.15);\n",
              "      filter: drop-shadow(0px 1px 2px rgba(0, 0, 0, 0.3));\n",
              "      fill: #FFFFFF;\n",
              "    }\n",
              "  </style>\n",
              "\n",
              "      <script>\n",
              "        const buttonEl =\n",
              "          document.querySelector('#df-2ae5d903-fd94-4c12-aac3-42b723be0ef4 button.colab-df-convert');\n",
              "        buttonEl.style.display =\n",
              "          google.colab.kernel.accessAllowed ? 'block' : 'none';\n",
              "\n",
              "        async function convertToInteractive(key) {\n",
              "          const element = document.querySelector('#df-2ae5d903-fd94-4c12-aac3-42b723be0ef4');\n",
              "          const dataTable =\n",
              "            await google.colab.kernel.invokeFunction('convertToInteractive',\n",
              "                                                     [key], {});\n",
              "          if (!dataTable) return;\n",
              "\n",
              "          const docLinkHtml = 'Like what you see? Visit the ' +\n",
              "            '<a target=\"_blank\" href=https://colab.research.google.com/notebooks/data_table.ipynb>data table notebook</a>'\n",
              "            + ' to learn more about interactive tables.';\n",
              "          element.innerHTML = '';\n",
              "          dataTable['output_type'] = 'display_data';\n",
              "          await google.colab.output.renderOutput(dataTable, element);\n",
              "          const docLink = document.createElement('div');\n",
              "          docLink.innerHTML = docLinkHtml;\n",
              "          element.appendChild(docLink);\n",
              "        }\n",
              "      </script>\n",
              "    </div>\n",
              "  </div>\n",
              "  "
            ]
          },
          "metadata": {},
          "execution_count": 140
        }
      ]
    },
    {
      "cell_type": "code",
      "source": [
        "# Cluster Labels\n",
        "label_df = pd.DataFrame(model_1.labels_,columns=['labels'])\n",
        "label_df.head()"
      ],
      "metadata": {
        "colab": {
          "base_uri": "https://localhost:8080/",
          "height": 206
        },
        "id": "uMrwX8VhqwUM",
        "outputId": "19c2fd78-0af0-42b9-dded-b89a6330f034"
      },
      "execution_count": 141,
      "outputs": [
        {
          "output_type": "execute_result",
          "data": {
            "text/plain": [
              "   labels\n",
              "0       1\n",
              "1       1\n",
              "2       1\n",
              "3       1\n",
              "4       1"
            ],
            "text/html": [
              "\n",
              "  <div id=\"df-88e51d90-5a83-4922-9798-858af84b25ef\">\n",
              "    <div class=\"colab-df-container\">\n",
              "      <div>\n",
              "<style scoped>\n",
              "    .dataframe tbody tr th:only-of-type {\n",
              "        vertical-align: middle;\n",
              "    }\n",
              "\n",
              "    .dataframe tbody tr th {\n",
              "        vertical-align: top;\n",
              "    }\n",
              "\n",
              "    .dataframe thead th {\n",
              "        text-align: right;\n",
              "    }\n",
              "</style>\n",
              "<table border=\"1\" class=\"dataframe\">\n",
              "  <thead>\n",
              "    <tr style=\"text-align: right;\">\n",
              "      <th></th>\n",
              "      <th>labels</th>\n",
              "    </tr>\n",
              "  </thead>\n",
              "  <tbody>\n",
              "    <tr>\n",
              "      <th>0</th>\n",
              "      <td>1</td>\n",
              "    </tr>\n",
              "    <tr>\n",
              "      <th>1</th>\n",
              "      <td>1</td>\n",
              "    </tr>\n",
              "    <tr>\n",
              "      <th>2</th>\n",
              "      <td>1</td>\n",
              "    </tr>\n",
              "    <tr>\n",
              "      <th>3</th>\n",
              "      <td>1</td>\n",
              "    </tr>\n",
              "    <tr>\n",
              "      <th>4</th>\n",
              "      <td>1</td>\n",
              "    </tr>\n",
              "  </tbody>\n",
              "</table>\n",
              "</div>\n",
              "      <button class=\"colab-df-convert\" onclick=\"convertToInteractive('df-88e51d90-5a83-4922-9798-858af84b25ef')\"\n",
              "              title=\"Convert this dataframe to an interactive table.\"\n",
              "              style=\"display:none;\">\n",
              "        \n",
              "  <svg xmlns=\"http://www.w3.org/2000/svg\" height=\"24px\"viewBox=\"0 0 24 24\"\n",
              "       width=\"24px\">\n",
              "    <path d=\"M0 0h24v24H0V0z\" fill=\"none\"/>\n",
              "    <path d=\"M18.56 5.44l.94 2.06.94-2.06 2.06-.94-2.06-.94-.94-2.06-.94 2.06-2.06.94zm-11 1L8.5 8.5l.94-2.06 2.06-.94-2.06-.94L8.5 2.5l-.94 2.06-2.06.94zm10 10l.94 2.06.94-2.06 2.06-.94-2.06-.94-.94-2.06-.94 2.06-2.06.94z\"/><path d=\"M17.41 7.96l-1.37-1.37c-.4-.4-.92-.59-1.43-.59-.52 0-1.04.2-1.43.59L10.3 9.45l-7.72 7.72c-.78.78-.78 2.05 0 2.83L4 21.41c.39.39.9.59 1.41.59.51 0 1.02-.2 1.41-.59l7.78-7.78 2.81-2.81c.8-.78.8-2.07 0-2.86zM5.41 20L4 18.59l7.72-7.72 1.47 1.35L5.41 20z\"/>\n",
              "  </svg>\n",
              "      </button>\n",
              "      \n",
              "  <style>\n",
              "    .colab-df-container {\n",
              "      display:flex;\n",
              "      flex-wrap:wrap;\n",
              "      gap: 12px;\n",
              "    }\n",
              "\n",
              "    .colab-df-convert {\n",
              "      background-color: #E8F0FE;\n",
              "      border: none;\n",
              "      border-radius: 50%;\n",
              "      cursor: pointer;\n",
              "      display: none;\n",
              "      fill: #1967D2;\n",
              "      height: 32px;\n",
              "      padding: 0 0 0 0;\n",
              "      width: 32px;\n",
              "    }\n",
              "\n",
              "    .colab-df-convert:hover {\n",
              "      background-color: #E2EBFA;\n",
              "      box-shadow: 0px 1px 2px rgba(60, 64, 67, 0.3), 0px 1px 3px 1px rgba(60, 64, 67, 0.15);\n",
              "      fill: #174EA6;\n",
              "    }\n",
              "\n",
              "    [theme=dark] .colab-df-convert {\n",
              "      background-color: #3B4455;\n",
              "      fill: #D2E3FC;\n",
              "    }\n",
              "\n",
              "    [theme=dark] .colab-df-convert:hover {\n",
              "      background-color: #434B5C;\n",
              "      box-shadow: 0px 1px 3px 1px rgba(0, 0, 0, 0.15);\n",
              "      filter: drop-shadow(0px 1px 2px rgba(0, 0, 0, 0.3));\n",
              "      fill: #FFFFFF;\n",
              "    }\n",
              "  </style>\n",
              "\n",
              "      <script>\n",
              "        const buttonEl =\n",
              "          document.querySelector('#df-88e51d90-5a83-4922-9798-858af84b25ef button.colab-df-convert');\n",
              "        buttonEl.style.display =\n",
              "          google.colab.kernel.accessAllowed ? 'block' : 'none';\n",
              "\n",
              "        async function convertToInteractive(key) {\n",
              "          const element = document.querySelector('#df-88e51d90-5a83-4922-9798-858af84b25ef');\n",
              "          const dataTable =\n",
              "            await google.colab.kernel.invokeFunction('convertToInteractive',\n",
              "                                                     [key], {});\n",
              "          if (!dataTable) return;\n",
              "\n",
              "          const docLinkHtml = 'Like what you see? Visit the ' +\n",
              "            '<a target=\"_blank\" href=https://colab.research.google.com/notebooks/data_table.ipynb>data table notebook</a>'\n",
              "            + ' to learn more about interactive tables.';\n",
              "          element.innerHTML = '';\n",
              "          dataTable['output_type'] = 'display_data';\n",
              "          await google.colab.output.renderOutput(dataTable, element);\n",
              "          const docLink = document.createElement('div');\n",
              "          docLink.innerHTML = docLinkHtml;\n",
              "          element.appendChild(docLink);\n",
              "        }\n",
              "      </script>\n",
              "    </div>\n",
              "  </div>\n",
              "  "
            ]
          },
          "metadata": {},
          "execution_count": 141
        }
      ]
    },
    {
      "cell_type": "code",
      "source": [
        "# Adding Labels to Data Frame\n",
        "scaled_df['labels'] = label_df['labels'].values"
      ],
      "metadata": {
        "id": "cm3ZzBA8qwWN"
      },
      "execution_count": 142,
      "outputs": []
    },
    {
      "cell_type": "code",
      "source": [
        "# Data Head\n",
        "scaled_df.head()"
      ],
      "metadata": {
        "colab": {
          "base_uri": "https://localhost:8080/",
          "height": 237
        },
        "id": "wW2b8xbtr2GS",
        "outputId": "a7b37644-a47d-49e0-ffe6-d0019b7c943a"
      },
      "execution_count": 143,
      "outputs": [
        {
          "output_type": "execute_result",
          "data": {
            "text/plain": [
              "                        recency  frequency  monetary  labels\n",
              "reviewerID                                                  \n",
              "A0000726154QG4JYYPS1W -0.681653  -0.258189 -0.272911       1\n",
              "A000096617D1KX8J1SNO6 -0.431311  -0.258189  0.446752       1\n",
              "A000152835L65OOF6JM10 -0.436455  -0.258189 -0.334782       1\n",
              "A000187635I595IAVSQLH -0.664506   0.164322 -0.438987       1\n",
              "A00024081MYZENMKQF9NC -0.873697  -0.258189 -0.498876       1"
            ],
            "text/html": [
              "\n",
              "  <div id=\"df-7ebc7207-02f6-468e-aaaf-eaf553a5d46b\">\n",
              "    <div class=\"colab-df-container\">\n",
              "      <div>\n",
              "<style scoped>\n",
              "    .dataframe tbody tr th:only-of-type {\n",
              "        vertical-align: middle;\n",
              "    }\n",
              "\n",
              "    .dataframe tbody tr th {\n",
              "        vertical-align: top;\n",
              "    }\n",
              "\n",
              "    .dataframe thead th {\n",
              "        text-align: right;\n",
              "    }\n",
              "</style>\n",
              "<table border=\"1\" class=\"dataframe\">\n",
              "  <thead>\n",
              "    <tr style=\"text-align: right;\">\n",
              "      <th></th>\n",
              "      <th>recency</th>\n",
              "      <th>frequency</th>\n",
              "      <th>monetary</th>\n",
              "      <th>labels</th>\n",
              "    </tr>\n",
              "    <tr>\n",
              "      <th>reviewerID</th>\n",
              "      <th></th>\n",
              "      <th></th>\n",
              "      <th></th>\n",
              "      <th></th>\n",
              "    </tr>\n",
              "  </thead>\n",
              "  <tbody>\n",
              "    <tr>\n",
              "      <th>A0000726154QG4JYYPS1W</th>\n",
              "      <td>-0.681653</td>\n",
              "      <td>-0.258189</td>\n",
              "      <td>-0.272911</td>\n",
              "      <td>1</td>\n",
              "    </tr>\n",
              "    <tr>\n",
              "      <th>A000096617D1KX8J1SNO6</th>\n",
              "      <td>-0.431311</td>\n",
              "      <td>-0.258189</td>\n",
              "      <td>0.446752</td>\n",
              "      <td>1</td>\n",
              "    </tr>\n",
              "    <tr>\n",
              "      <th>A000152835L65OOF6JM10</th>\n",
              "      <td>-0.436455</td>\n",
              "      <td>-0.258189</td>\n",
              "      <td>-0.334782</td>\n",
              "      <td>1</td>\n",
              "    </tr>\n",
              "    <tr>\n",
              "      <th>A000187635I595IAVSQLH</th>\n",
              "      <td>-0.664506</td>\n",
              "      <td>0.164322</td>\n",
              "      <td>-0.438987</td>\n",
              "      <td>1</td>\n",
              "    </tr>\n",
              "    <tr>\n",
              "      <th>A00024081MYZENMKQF9NC</th>\n",
              "      <td>-0.873697</td>\n",
              "      <td>-0.258189</td>\n",
              "      <td>-0.498876</td>\n",
              "      <td>1</td>\n",
              "    </tr>\n",
              "  </tbody>\n",
              "</table>\n",
              "</div>\n",
              "      <button class=\"colab-df-convert\" onclick=\"convertToInteractive('df-7ebc7207-02f6-468e-aaaf-eaf553a5d46b')\"\n",
              "              title=\"Convert this dataframe to an interactive table.\"\n",
              "              style=\"display:none;\">\n",
              "        \n",
              "  <svg xmlns=\"http://www.w3.org/2000/svg\" height=\"24px\"viewBox=\"0 0 24 24\"\n",
              "       width=\"24px\">\n",
              "    <path d=\"M0 0h24v24H0V0z\" fill=\"none\"/>\n",
              "    <path d=\"M18.56 5.44l.94 2.06.94-2.06 2.06-.94-2.06-.94-.94-2.06-.94 2.06-2.06.94zm-11 1L8.5 8.5l.94-2.06 2.06-.94-2.06-.94L8.5 2.5l-.94 2.06-2.06.94zm10 10l.94 2.06.94-2.06 2.06-.94-2.06-.94-.94-2.06-.94 2.06-2.06.94z\"/><path d=\"M17.41 7.96l-1.37-1.37c-.4-.4-.92-.59-1.43-.59-.52 0-1.04.2-1.43.59L10.3 9.45l-7.72 7.72c-.78.78-.78 2.05 0 2.83L4 21.41c.39.39.9.59 1.41.59.51 0 1.02-.2 1.41-.59l7.78-7.78 2.81-2.81c.8-.78.8-2.07 0-2.86zM5.41 20L4 18.59l7.72-7.72 1.47 1.35L5.41 20z\"/>\n",
              "  </svg>\n",
              "      </button>\n",
              "      \n",
              "  <style>\n",
              "    .colab-df-container {\n",
              "      display:flex;\n",
              "      flex-wrap:wrap;\n",
              "      gap: 12px;\n",
              "    }\n",
              "\n",
              "    .colab-df-convert {\n",
              "      background-color: #E8F0FE;\n",
              "      border: none;\n",
              "      border-radius: 50%;\n",
              "      cursor: pointer;\n",
              "      display: none;\n",
              "      fill: #1967D2;\n",
              "      height: 32px;\n",
              "      padding: 0 0 0 0;\n",
              "      width: 32px;\n",
              "    }\n",
              "\n",
              "    .colab-df-convert:hover {\n",
              "      background-color: #E2EBFA;\n",
              "      box-shadow: 0px 1px 2px rgba(60, 64, 67, 0.3), 0px 1px 3px 1px rgba(60, 64, 67, 0.15);\n",
              "      fill: #174EA6;\n",
              "    }\n",
              "\n",
              "    [theme=dark] .colab-df-convert {\n",
              "      background-color: #3B4455;\n",
              "      fill: #D2E3FC;\n",
              "    }\n",
              "\n",
              "    [theme=dark] .colab-df-convert:hover {\n",
              "      background-color: #434B5C;\n",
              "      box-shadow: 0px 1px 3px 1px rgba(0, 0, 0, 0.15);\n",
              "      filter: drop-shadow(0px 1px 2px rgba(0, 0, 0, 0.3));\n",
              "      fill: #FFFFFF;\n",
              "    }\n",
              "  </style>\n",
              "\n",
              "      <script>\n",
              "        const buttonEl =\n",
              "          document.querySelector('#df-7ebc7207-02f6-468e-aaaf-eaf553a5d46b button.colab-df-convert');\n",
              "        buttonEl.style.display =\n",
              "          google.colab.kernel.accessAllowed ? 'block' : 'none';\n",
              "\n",
              "        async function convertToInteractive(key) {\n",
              "          const element = document.querySelector('#df-7ebc7207-02f6-468e-aaaf-eaf553a5d46b');\n",
              "          const dataTable =\n",
              "            await google.colab.kernel.invokeFunction('convertToInteractive',\n",
              "                                                     [key], {});\n",
              "          if (!dataTable) return;\n",
              "\n",
              "          const docLinkHtml = 'Like what you see? Visit the ' +\n",
              "            '<a target=\"_blank\" href=https://colab.research.google.com/notebooks/data_table.ipynb>data table notebook</a>'\n",
              "            + ' to learn more about interactive tables.';\n",
              "          element.innerHTML = '';\n",
              "          dataTable['output_type'] = 'display_data';\n",
              "          await google.colab.output.renderOutput(dataTable, element);\n",
              "          const docLink = document.createElement('div');\n",
              "          docLink.innerHTML = docLinkHtml;\n",
              "          element.appendChild(docLink);\n",
              "        }\n",
              "      </script>\n",
              "    </div>\n",
              "  </div>\n",
              "  "
            ]
          },
          "metadata": {},
          "execution_count": 143
        }
      ]
    },
    {
      "cell_type": "code",
      "source": [
        "# Replacing Names of Clusters\n",
        "scaled_df['labels'] = scaled_df['labels'].replace({0:'Promising',1:'Need-Attention',2:'Best-Customer',3:'Churn-Out'})"
      ],
      "metadata": {
        "id": "DrStHMAaai0A"
      },
      "execution_count": 144,
      "outputs": []
    },
    {
      "cell_type": "code",
      "source": [
        "# Recency VS Frequency\n",
        "plt.figure(figsize=(8,8))\n",
        "sb.scatterplot(x ='recency',y = 'frequency',data = scaled_df, hue='labels', palette='dark')\n",
        "plt.title('Recency VS Frequency')\n",
        "plt.show()"
      ],
      "metadata": {
        "colab": {
          "base_uri": "https://localhost:8080/",
          "height": 530
        },
        "id": "SjrPYPuRZGcB",
        "outputId": "32c75022-bbf1-44fd-cbc3-367a5f08d78c"
      },
      "execution_count": 145,
      "outputs": [
        {
          "output_type": "execute_result",
          "data": {
            "text/plain": [
              "<Figure size 576x576 with 0 Axes>"
            ]
          },
          "metadata": {},
          "execution_count": 145
        },
        {
          "output_type": "execute_result",
          "data": {
            "text/plain": [
              "<matplotlib.axes._subplots.AxesSubplot at 0x7fef9acb2550>"
            ]
          },
          "metadata": {},
          "execution_count": 145
        },
        {
          "output_type": "execute_result",
          "data": {
            "text/plain": [
              "Text(0.5, 1.0, 'Recency VS Frequency')"
            ]
          },
          "metadata": {},
          "execution_count": 145
        },
        {
          "output_type": "display_data",
          "data": {
            "text/plain": [
              "<Figure size 576x576 with 1 Axes>"
            ],
            "image/png": "[encoded data removed]"
          },
          "metadata": {
            "needs_background": "light"
          }
        }
      ]
    },
    {
      "cell_type": "code",
      "source": [
        "# Recency VS Monetary\n",
        "plt.figure(figsize=(8,8))\n",
        "sb.scatterplot(x ='recency',y = 'monetary',data = scaled_df, hue='labels', palette='dark')\n",
        "plt.title('Recency VS Monetary')\n",
        "plt.show()"
      ],
      "metadata": {
        "colab": {
          "base_uri": "https://localhost:8080/",
          "height": 530
        },
        "id": "QVbkJigDr2Nu",
        "outputId": "8ee3fdce-554d-45c1-abec-3ba96104efd2"
      },
      "execution_count": 146,
      "outputs": [
        {
          "output_type": "execute_result",
          "data": {
            "text/plain": [
              "<Figure size 576x576 with 0 Axes>"
            ]
          },
          "metadata": {},
          "execution_count": 146
        },
        {
          "output_type": "execute_result",
          "data": {
            "text/plain": [
              "<matplotlib.axes._subplots.AxesSubplot at 0x7fef6a07bb50>"
            ]
          },
          "metadata": {},
          "execution_count": 146
        },
        {
          "output_type": "execute_result",
          "data": {
            "text/plain": [
              "Text(0.5, 1.0, 'Recency VS Monetary')"
            ]
          },
          "metadata": {},
          "execution_count": 146
        },
        {
          "output_type": "display_data",
          "data": {
            "text/plain": [
              "<Figure size 576x576 with 1 Axes>"
            ],
            "image/png": "[encoded data removed]"
          },
          "metadata": {
            "needs_background": "light"
          }
        }
      ]
    },
    {
      "cell_type": "markdown",
      "source": [
        "# Product Recommendation"
      ],
      "metadata": {
        "id": "bMaJY4gf8rMR"
      }
    },
    {
      "cell_type": "code",
      "source": [
        "from sklearn.decomposition import TruncatedSVD"
      ],
      "metadata": {
        "id": "Pvj0-j1Nm47W"
      },
      "execution_count": 47,
      "outputs": []
    },
    {
      "cell_type": "code",
      "source": [
        "# Review Data Head\n",
        "review_health.head(2)"
      ],
      "metadata": {
        "colab": {
          "base_uri": "https://localhost:8080/",
          "height": 112
        },
        "id": "zu_X-JioBtvP",
        "outputId": "66e7e22c-e05f-43e6-e3c8-34ad060d71a2"
      },
      "execution_count": 34,
      "outputs": [
        {
          "output_type": "execute_result",
          "data": {
            "text/plain": [
              "      reviewerID        asin    reviewerName helpful  \\\n",
              "0  ARMDSTEI0Z7YW  0077614992            dodo  [0, 0]   \n",
              "1  A3FYN0SZYWN74  0615208479  Marilyn Mitzel  [0, 0]   \n",
              "\n",
              "                                          reviewText  overall  \\\n",
              "0  This book was a requirement for a college clas...      5.0   \n",
              "1  This is a great gift for anyone who wants to h...      5.0   \n",
              "\n",
              "                         summary  unixReviewTime   reviewTime  \n",
              "0                          great      1360886400  02 15, 2013  \n",
              "1  AMAZING HOW QUICKLY IT WORKS!      1228089600   12 1, 2008  "
            ],
            "text/html": [
              "\n",
              "  <div id=\"df-64a83e5d-b0b6-4ece-bdb8-8d4ef310ccd3\">\n",
              "    <div class=\"colab-df-container\">\n",
              "      <div>\n",
              "<style scoped>\n",
              "    .dataframe tbody tr th:only-of-type {\n",
              "        vertical-align: middle;\n",
              "    }\n",
              "\n",
              "    .dataframe tbody tr th {\n",
              "        vertical-align: top;\n",
              "    }\n",
              "\n",
              "    .dataframe thead th {\n",
              "        text-align: right;\n",
              "    }\n",
              "</style>\n",
              "<table border=\"1\" class=\"dataframe\">\n",
              "  <thead>\n",
              "    <tr style=\"text-align: right;\">\n",
              "      <th></th>\n",
              "      <th>reviewerID</th>\n",
              "      <th>asin</th>\n",
              "      <th>reviewerName</th>\n",
              "      <th>helpful</th>\n",
              "      <th>reviewText</th>\n",
              "      <th>overall</th>\n",
              "      <th>summary</th>\n",
              "      <th>unixReviewTime</th>\n",
              "      <th>reviewTime</th>\n",
              "    </tr>\n",
              "  </thead>\n",
              "  <tbody>\n",
              "    <tr>\n",
              "      <th>0</th>\n",
              "      <td>ARMDSTEI0Z7YW</td>\n",
              "      <td>0077614992</td>\n",
              "      <td>dodo</td>\n",
              "      <td>[0, 0]</td>\n",
              "      <td>This book was a requirement for a college clas...</td>\n",
              "      <td>5.0</td>\n",
              "      <td>great</td>\n",
              "      <td>1360886400</td>\n",
              "      <td>02 15, 2013</td>\n",
              "    </tr>\n",
              "    <tr>\n",
              "      <th>1</th>\n",
              "      <td>A3FYN0SZYWN74</td>\n",
              "      <td>0615208479</td>\n",
              "      <td>Marilyn Mitzel</td>\n",
              "      <td>[0, 0]</td>\n",
              "      <td>This is a great gift for anyone who wants to h...</td>\n",
              "      <td>5.0</td>\n",
              "      <td>AMAZING HOW QUICKLY IT WORKS!</td>\n",
              "      <td>1228089600</td>\n",
              "      <td>12 1, 2008</td>\n",
              "    </tr>\n",
              "  </tbody>\n",
              "</table>\n",
              "</div>\n",
              "      <button class=\"colab-df-convert\" onclick=\"convertToInteractive('df-64a83e5d-b0b6-4ece-bdb8-8d4ef310ccd3')\"\n",
              "              title=\"Convert this dataframe to an interactive table.\"\n",
              "              style=\"display:none;\">\n",
              "        \n",
              "  <svg xmlns=\"http://www.w3.org/2000/svg\" height=\"24px\"viewBox=\"0 0 24 24\"\n",
              "       width=\"24px\">\n",
              "    <path d=\"M0 0h24v24H0V0z\" fill=\"none\"/>\n",
              "    <path d=\"M18.56 5.44l.94 2.06.94-2.06 2.06-.94-2.06-.94-.94-2.06-.94 2.06-2.06.94zm-11 1L8.5 8.5l.94-2.06 2.06-.94-2.06-.94L8.5 2.5l-.94 2.06-2.06.94zm10 10l.94 2.06.94-2.06 2.06-.94-2.06-.94-.94-2.06-.94 2.06-2.06.94z\"/><path d=\"M17.41 7.96l-1.37-1.37c-.4-.4-.92-.59-1.43-.59-.52 0-1.04.2-1.43.59L10.3 9.45l-7.72 7.72c-.78.78-.78 2.05 0 2.83L4 21.41c.39.39.9.59 1.41.59.51 0 1.02-.2 1.41-.59l7.78-7.78 2.81-2.81c.8-.78.8-2.07 0-2.86zM5.41 20L4 18.59l7.72-7.72 1.47 1.35L5.41 20z\"/>\n",
              "  </svg>\n",
              "      </button>\n",
              "      \n",
              "  <style>\n",
              "    .colab-df-container {\n",
              "      display:flex;\n",
              "      flex-wrap:wrap;\n",
              "      gap: 12px;\n",
              "    }\n",
              "\n",
              "    .colab-df-convert {\n",
              "      background-color: #E8F0FE;\n",
              "      border: none;\n",
              "      border-radius: 50%;\n",
              "      cursor: pointer;\n",
              "      display: none;\n",
              "      fill: #1967D2;\n",
              "      height: 32px;\n",
              "      padding: 0 0 0 0;\n",
              "      width: 32px;\n",
              "    }\n",
              "\n",
              "    .colab-df-convert:hover {\n",
              "      background-color: #E2EBFA;\n",
              "      box-shadow: 0px 1px 2px rgba(60, 64, 67, 0.3), 0px 1px 3px 1px rgba(60, 64, 67, 0.15);\n",
              "      fill: #174EA6;\n",
              "    }\n",
              "\n",
              "    [theme=dark] .colab-df-convert {\n",
              "      background-color: #3B4455;\n",
              "      fill: #D2E3FC;\n",
              "    }\n",
              "\n",
              "    [theme=dark] .colab-df-convert:hover {\n",
              "      background-color: #434B5C;\n",
              "      box-shadow: 0px 1px 3px 1px rgba(0, 0, 0, 0.15);\n",
              "      filter: drop-shadow(0px 1px 2px rgba(0, 0, 0, 0.3));\n",
              "      fill: #FFFFFF;\n",
              "    }\n",
              "  </style>\n",
              "\n",
              "      <script>\n",
              "        const buttonEl =\n",
              "          document.querySelector('#df-64a83e5d-b0b6-4ece-bdb8-8d4ef310ccd3 button.colab-df-convert');\n",
              "        buttonEl.style.display =\n",
              "          google.colab.kernel.accessAllowed ? 'block' : 'none';\n",
              "\n",
              "        async function convertToInteractive(key) {\n",
              "          const element = document.querySelector('#df-64a83e5d-b0b6-4ece-bdb8-8d4ef310ccd3');\n",
              "          const dataTable =\n",
              "            await google.colab.kernel.invokeFunction('convertToInteractive',\n",
              "                                                     [key], {});\n",
              "          if (!dataTable) return;\n",
              "\n",
              "          const docLinkHtml = 'Like what you see? Visit the ' +\n",
              "            '<a target=\"_blank\" href=https://colab.research.google.com/notebooks/data_table.ipynb>data table notebook</a>'\n",
              "            + ' to learn more about interactive tables.';\n",
              "          element.innerHTML = '';\n",
              "          dataTable['output_type'] = 'display_data';\n",
              "          await google.colab.output.renderOutput(dataTable, element);\n",
              "          const docLink = document.createElement('div');\n",
              "          docLink.innerHTML = docLinkHtml;\n",
              "          element.appendChild(docLink);\n",
              "        }\n",
              "      </script>\n",
              "    </div>\n",
              "  </div>\n",
              "  "
            ]
          },
          "metadata": {},
          "execution_count": 34
        }
      ]
    },
    {
      "cell_type": "code",
      "source": [
        "# Rating Details\n",
        "rating = review_health.overall.unique()\n",
        "print('Ratings: ',rating)\n",
        "print('Len of Ratings: ',len(rating))"
      ],
      "metadata": {
        "colab": {
          "base_uri": "https://localhost:8080/"
        },
        "id": "qJdJTakgAhft",
        "outputId": "94b37d27-8a0a-491c-bead-eb967124146f"
      },
      "execution_count": 35,
      "outputs": [
        {
          "output_type": "stream",
          "name": "stdout",
          "text": [
            "Ratings:  [5. 2. 4. 1. 3.]\n",
            "Len of Ratings:  5\n"
          ]
        }
      ]
    },
    {
      "cell_type": "code",
      "source": [
        "# Reviewer ID Details\n",
        "id = review_health.reviewerID.unique()\n",
        "print('Reviewer ID: ',id)\n",
        "print('Len of Reviewer ID: ',len(id))"
      ],
      "metadata": {
        "colab": {
          "base_uri": "https://localhost:8080/"
        },
        "id": "eXJyqS5fAhiH",
        "outputId": "f3108768-7501-4a2a-c87e-858bed3570e7"
      },
      "execution_count": 36,
      "outputs": [
        {
          "output_type": "stream",
          "name": "stdout",
          "text": [
            "Reviewer ID:  ['ARMDSTEI0Z7YW' 'A3FYN0SZYWN74' 'A2J0WRZSAAHUAP' ... 'A1252ETWUJRKVC'\n",
            " 'A215W0EOUNL81C' 'A2ZFFXGLJUHD76']\n",
            "Len of Reviewer ID:  1851132\n"
          ]
        }
      ]
    },
    {
      "cell_type": "code",
      "source": [
        "# Product ID\n",
        "pro = review_health.asin.unique()\n",
        "print('Products: ',pro)\n",
        "print('Len of Products: ',len(pro))"
      ],
      "metadata": {
        "colab": {
          "base_uri": "https://localhost:8080/"
        },
        "id": "zQlM3uasAhkh",
        "outputId": "3bcf90aa-68d7-4b5e-eb61-b9b024f515c4"
      },
      "execution_count": 37,
      "outputs": [
        {
          "output_type": "stream",
          "name": "stdout",
          "text": [
            "Products:  ['0077614992' '0615208479' '0615269990' ... 'B00LV4480W' 'B00LWTTO0A'\n",
            " 'B00LYPUPZK']\n",
            "Len of Products:  252331\n"
          ]
        }
      ]
    },
    {
      "cell_type": "code",
      "source": [
        "# Product which were sold more \n",
        "product_sales = review_health.groupby('asin')['overall'].count().sort_values(ascending=False)\n",
        "product_sales.head()"
      ],
      "metadata": {
        "colab": {
          "base_uri": "https://localhost:8080/"
        },
        "id": "eRo1d17lAhmw",
        "outputId": "80d02eff-00c1-44ad-c8c0-934eeecac497"
      },
      "execution_count": 38,
      "outputs": [
        {
          "output_type": "execute_result",
          "data": {
            "text/plain": [
              "asin\n",
              "B001KXZ808    11365\n",
              "B0032TNPOE     9338\n",
              "B0095PZHPE     6788\n",
              "B00B5H5BGA     5739\n",
              "B0000U1OCI     5550\n",
              "Name: overall, dtype: int64"
            ]
          },
          "metadata": {},
          "execution_count": 38
        }
      ]
    },
    {
      "cell_type": "code",
      "source": [
        "# Reviewer written more \n",
        "rev_sales = review_health.groupby('reviewerID')['overall'].count().sort_values(ascending=False)\n",
        "rev_sales.head()"
      ],
      "metadata": {
        "colab": {
          "base_uri": "https://localhost:8080/"
        },
        "id": "1iY2OK3CAhpS",
        "outputId": "f805d3ca-8b1f-4398-d748-3baa15d4a435"
      },
      "execution_count": 39,
      "outputs": [
        {
          "output_type": "execute_result",
          "data": {
            "text/plain": [
              "reviewerID\n",
              "A3OXHLG6DIBRW8    348\n",
              "A1P27BGF8NAI29    311\n",
              "A3NHUQ33CFH3VM    307\n",
              "A1UQBFCERIP7VJ    285\n",
              "A34BZM6S9L7QI4    278\n",
              "Name: overall, dtype: int64"
            ]
          },
          "metadata": {},
          "execution_count": 39
        }
      ]
    },
    {
      "cell_type": "code",
      "source": [
        "# Filtering the Data which has more than 50 items sold\n",
        "new_df=review_health.groupby(\"asin\").filter(lambda x:x['overall'].count() >= 50)"
      ],
      "metadata": {
        "id": "tjApP45nAhr0"
      },
      "execution_count": 40,
      "outputs": []
    },
    {
      "cell_type": "code",
      "source": [
        "# Data Head\n",
        "new_df.head()"
      ],
      "metadata": {
        "colab": {
          "base_uri": "https://localhost:8080/",
          "height": 285
        },
        "id": "-52UAw2hAhuk",
        "outputId": "781ba431-35e3-4982-8f65-b0255b7e3ca7"
      },
      "execution_count": 41,
      "outputs": [
        {
          "output_type": "execute_result",
          "data": {
            "text/plain": [
              "         reviewerID        asin              reviewerName helpful  \\\n",
              "350  A1LFEMC0GGOJ3X  159985130X                    7 Zion  [1, 1]   \n",
              "351  A17NW9ZCVHYBS1  159985130X           Amazon Customer  [2, 2]   \n",
              "352   AA5OQ4JR4CCV3  159985130X  Amazon Customer \"Timmyg\"  [1, 1]   \n",
              "353   A1HP21ZBOYRSU  159985130X                Amazonmama  [2, 2]   \n",
              "354   ALC5GH8CAMAI7  159985130X                      AnnN  [1, 1]   \n",
              "\n",
              "                                            reviewText  overall  \\\n",
              "350  We recommend the Magnifier. We are able to rea...      4.0   \n",
              "351  So convenient and small.  I love the LED light...      5.0   \n",
              "352  Thank god for Amazon. I can never find things ...      5.0   \n",
              "353  I just love this little gadget. Sometimes my r...      5.0   \n",
              "354  This is a great little gadget to have around. ...      5.0   \n",
              "\n",
              "                                               summary  unixReviewTime  \\\n",
              "350  The Lightwedge Lighted Pocket Magnifier meets ...      1353715200   \n",
              "351                                        Convenient!      1279929600   \n",
              "352                                   A real lifesaver      1268784000   \n",
              "353                                Just what I needed!      1301270400   \n",
              "354                                Handy little gadget      1294185600   \n",
              "\n",
              "      reviewTime  \n",
              "350  11 24, 2012  \n",
              "351  07 24, 2010  \n",
              "352  03 17, 2010  \n",
              "353  03 28, 2011  \n",
              "354   01 5, 2011  "
            ],
            "text/html": [
              "\n",
              "  <div id=\"df-cde0f569-010b-47a1-9e4a-d59f7229a54c\">\n",
              "    <div class=\"colab-df-container\">\n",
              "      <div>\n",
              "<style scoped>\n",
              "    .dataframe tbody tr th:only-of-type {\n",
              "        vertical-align: middle;\n",
              "    }\n",
              "\n",
              "    .dataframe tbody tr th {\n",
              "        vertical-align: top;\n",
              "    }\n",
              "\n",
              "    .dataframe thead th {\n",
              "        text-align: right;\n",
              "    }\n",
              "</style>\n",
              "<table border=\"1\" class=\"dataframe\">\n",
              "  <thead>\n",
              "    <tr style=\"text-align: right;\">\n",
              "      <th></th>\n",
              "      <th>reviewerID</th>\n",
              "      <th>asin</th>\n",
              "      <th>reviewerName</th>\n",
              "      <th>helpful</th>\n",
              "      <th>reviewText</th>\n",
              "      <th>overall</th>\n",
              "      <th>summary</th>\n",
              "      <th>unixReviewTime</th>\n",
              "      <th>reviewTime</th>\n",
              "    </tr>\n",
              "  </thead>\n",
              "  <tbody>\n",
              "    <tr>\n",
              "      <th>350</th>\n",
              "      <td>A1LFEMC0GGOJ3X</td>\n",
              "      <td>159985130X</td>\n",
              "      <td>7 Zion</td>\n",
              "      <td>[1, 1]</td>\n",
              "      <td>We recommend the Magnifier. We are able to rea...</td>\n",
              "      <td>4.0</td>\n",
              "      <td>The Lightwedge Lighted Pocket Magnifier meets ...</td>\n",
              "      <td>1353715200</td>\n",
              "      <td>11 24, 2012</td>\n",
              "    </tr>\n",
              "    <tr>\n",
              "      <th>351</th>\n",
              "      <td>A17NW9ZCVHYBS1</td>\n",
              "      <td>159985130X</td>\n",
              "      <td>Amazon Customer</td>\n",
              "      <td>[2, 2]</td>\n",
              "      <td>So convenient and small.  I love the LED light...</td>\n",
              "      <td>5.0</td>\n",
              "      <td>Convenient!</td>\n",
              "      <td>1279929600</td>\n",
              "      <td>07 24, 2010</td>\n",
              "    </tr>\n",
              "    <tr>\n",
              "      <th>352</th>\n",
              "      <td>AA5OQ4JR4CCV3</td>\n",
              "      <td>159985130X</td>\n",
              "      <td>Amazon Customer \"Timmyg\"</td>\n",
              "      <td>[1, 1]</td>\n",
              "      <td>Thank god for Amazon. I can never find things ...</td>\n",
              "      <td>5.0</td>\n",
              "      <td>A real lifesaver</td>\n",
              "      <td>1268784000</td>\n",
              "      <td>03 17, 2010</td>\n",
              "    </tr>\n",
              "    <tr>\n",
              "      <th>353</th>\n",
              "      <td>A1HP21ZBOYRSU</td>\n",
              "      <td>159985130X</td>\n",
              "      <td>Amazonmama</td>\n",
              "      <td>[2, 2]</td>\n",
              "      <td>I just love this little gadget. Sometimes my r...</td>\n",
              "      <td>5.0</td>\n",
              "      <td>Just what I needed!</td>\n",
              "      <td>1301270400</td>\n",
              "      <td>03 28, 2011</td>\n",
              "    </tr>\n",
              "    <tr>\n",
              "      <th>354</th>\n",
              "      <td>ALC5GH8CAMAI7</td>\n",
              "      <td>159985130X</td>\n",
              "      <td>AnnN</td>\n",
              "      <td>[1, 1]</td>\n",
              "      <td>This is a great little gadget to have around. ...</td>\n",
              "      <td>5.0</td>\n",
              "      <td>Handy little gadget</td>\n",
              "      <td>1294185600</td>\n",
              "      <td>01 5, 2011</td>\n",
              "    </tr>\n",
              "  </tbody>\n",
              "</table>\n",
              "</div>\n",
              "      <button class=\"colab-df-convert\" onclick=\"convertToInteractive('df-cde0f569-010b-47a1-9e4a-d59f7229a54c')\"\n",
              "              title=\"Convert this dataframe to an interactive table.\"\n",
              "              style=\"display:none;\">\n",
              "        \n",
              "  <svg xmlns=\"http://www.w3.org/2000/svg\" height=\"24px\"viewBox=\"0 0 24 24\"\n",
              "       width=\"24px\">\n",
              "    <path d=\"M0 0h24v24H0V0z\" fill=\"none\"/>\n",
              "    <path d=\"M18.56 5.44l.94 2.06.94-2.06 2.06-.94-2.06-.94-.94-2.06-.94 2.06-2.06.94zm-11 1L8.5 8.5l.94-2.06 2.06-.94-2.06-.94L8.5 2.5l-.94 2.06-2.06.94zm10 10l.94 2.06.94-2.06 2.06-.94-2.06-.94-.94-2.06-.94 2.06-2.06.94z\"/><path d=\"M17.41 7.96l-1.37-1.37c-.4-.4-.92-.59-1.43-.59-.52 0-1.04.2-1.43.59L10.3 9.45l-7.72 7.72c-.78.78-.78 2.05 0 2.83L4 21.41c.39.39.9.59 1.41.59.51 0 1.02-.2 1.41-.59l7.78-7.78 2.81-2.81c.8-.78.8-2.07 0-2.86zM5.41 20L4 18.59l7.72-7.72 1.47 1.35L5.41 20z\"/>\n",
              "  </svg>\n",
              "      </button>\n",
              "      \n",
              "  <style>\n",
              "    .colab-df-container {\n",
              "      display:flex;\n",
              "      flex-wrap:wrap;\n",
              "      gap: 12px;\n",
              "    }\n",
              "\n",
              "    .colab-df-convert {\n",
              "      background-color: #E8F0FE;\n",
              "      border: none;\n",
              "      border-radius: 50%;\n",
              "      cursor: pointer;\n",
              "      display: none;\n",
              "      fill: #1967D2;\n",
              "      height: 32px;\n",
              "      padding: 0 0 0 0;\n",
              "      width: 32px;\n",
              "    }\n",
              "\n",
              "    .colab-df-convert:hover {\n",
              "      background-color: #E2EBFA;\n",
              "      box-shadow: 0px 1px 2px rgba(60, 64, 67, 0.3), 0px 1px 3px 1px rgba(60, 64, 67, 0.15);\n",
              "      fill: #174EA6;\n",
              "    }\n",
              "\n",
              "    [theme=dark] .colab-df-convert {\n",
              "      background-color: #3B4455;\n",
              "      fill: #D2E3FC;\n",
              "    }\n",
              "\n",
              "    [theme=dark] .colab-df-convert:hover {\n",
              "      background-color: #434B5C;\n",
              "      box-shadow: 0px 1px 3px 1px rgba(0, 0, 0, 0.15);\n",
              "      filter: drop-shadow(0px 1px 2px rgba(0, 0, 0, 0.3));\n",
              "      fill: #FFFFFF;\n",
              "    }\n",
              "  </style>\n",
              "\n",
              "      <script>\n",
              "        const buttonEl =\n",
              "          document.querySelector('#df-cde0f569-010b-47a1-9e4a-d59f7229a54c button.colab-df-convert');\n",
              "        buttonEl.style.display =\n",
              "          google.colab.kernel.accessAllowed ? 'block' : 'none';\n",
              "\n",
              "        async function convertToInteractive(key) {\n",
              "          const element = document.querySelector('#df-cde0f569-010b-47a1-9e4a-d59f7229a54c');\n",
              "          const dataTable =\n",
              "            await google.colab.kernel.invokeFunction('convertToInteractive',\n",
              "                                                     [key], {});\n",
              "          if (!dataTable) return;\n",
              "\n",
              "          const docLinkHtml = 'Like what you see? Visit the ' +\n",
              "            '<a target=\"_blank\" href=https://colab.research.google.com/notebooks/data_table.ipynb>data table notebook</a>'\n",
              "            + ' to learn more about interactive tables.';\n",
              "          element.innerHTML = '';\n",
              "          dataTable['output_type'] = 'display_data';\n",
              "          await google.colab.output.renderOutput(dataTable, element);\n",
              "          const docLink = document.createElement('div');\n",
              "          docLink.innerHTML = docLinkHtml;\n",
              "          element.appendChild(docLink);\n",
              "        }\n",
              "      </script>\n",
              "    </div>\n",
              "  </div>\n",
              "  "
            ]
          },
          "metadata": {},
          "execution_count": 41
        }
      ]
    },
    {
      "cell_type": "code",
      "source": [
        "# Structure of Dataset\n",
        "new_df.shape"
      ],
      "metadata": {
        "colab": {
          "base_uri": "https://localhost:8080/"
        },
        "id": "OCXWPJdBAhxb",
        "outputId": "85478cb6-38f6-4bac-e6ee-205d1795e3ea"
      },
      "execution_count": 42,
      "outputs": [
        {
          "output_type": "execute_result",
          "data": {
            "text/plain": [
              "(1731327, 9)"
            ]
          },
          "metadata": {},
          "execution_count": 42
        }
      ]
    },
    {
      "cell_type": "code",
      "source": [
        "# Slicing the Data \n",
        "new_df_1 = new_df[:100000]"
      ],
      "metadata": {
        "id": "BROu94z2MP1K"
      },
      "execution_count": 43,
      "outputs": []
    },
    {
      "cell_type": "code",
      "source": [
        "# Creating Pivot table for Checking Correlation\n",
        "rating_matrix = new_df_1.pivot_table(index='asin',columns='reviewerID',values='overall',fill_value=0)"
      ],
      "metadata": {
        "id": "mGS79RhVMP9b"
      },
      "execution_count": 44,
      "outputs": []
    },
    {
      "cell_type": "code",
      "source": [
        "# Data Head\n",
        "rating_matrix.head()"
      ],
      "metadata": {
        "colab": {
          "base_uri": "https://localhost:8080/",
          "height": 331
        },
        "id": "fHG0XdWdMQBH",
        "outputId": "51066743-1d45-4f27-8d08-e259b2bd4c55"
      },
      "execution_count": 45,
      "outputs": [
        {
          "output_type": "execute_result",
          "data": {
            "text/plain": [
              "reviewerID  A0009478CBXKUCALUC7U  A005011233SVRED9Q0VY0  A00878297VYRVLFM06AG  \\\n",
              "asin                                                                            \n",
              "159985130X                     0                      0                     0   \n",
              "1933622865                     0                      0                     0   \n",
              "3812028492                     0                      0                     0   \n",
              "6182055936                     0                      0                     0   \n",
              "7884890364                     0                      0                     0   \n",
              "\n",
              "reviewerID  A00951093TVGQWA8EA8DB  A015565634RZNSDLJBE5M  \\\n",
              "asin                                                       \n",
              "159985130X                      0                      0   \n",
              "1933622865                      0                      0   \n",
              "3812028492                      0                      0   \n",
              "6182055936                      0                      0   \n",
              "7884890364                      0                      0   \n",
              "\n",
              "reviewerID  A01811021PZ9TH392P21J  A01818243PXJHK1ZH4HUM  \\\n",
              "asin                                                       \n",
              "159985130X                      0                      0   \n",
              "1933622865                      0                      0   \n",
              "3812028492                      0                      0   \n",
              "6182055936                      0                      0   \n",
              "7884890364                      0                      0   \n",
              "\n",
              "reviewerID  A01836621IAABVFLY7Z80  A01866161OQ1BJPZE8D00  \\\n",
              "asin                                                       \n",
              "159985130X                      0                      0   \n",
              "1933622865                      0                      0   \n",
              "3812028492                      0                      0   \n",
              "6182055936                      0                      0   \n",
              "7884890364                      0                      0   \n",
              "\n",
              "reviewerID  A0193442L7IJXD7HANDM  ...  AZZCT56PUXILB  AZZDHYOZS7M3B  \\\n",
              "asin                              ...                                 \n",
              "159985130X                     0  ...              0              0   \n",
              "1933622865                     0  ...              0              0   \n",
              "3812028492                     0  ...              0              0   \n",
              "6182055936                     0  ...              0              0   \n",
              "7884890364                     0  ...              0              0   \n",
              "\n",
              "reviewerID  AZZGJ2KMWB7R  AZZMINCJAD6JM  AZZMO52V8WZ68  AZZNK89PXD006  \\\n",
              "asin                                                                    \n",
              "159985130X             0              0              0              0   \n",
              "1933622865             0              0              0              0   \n",
              "3812028492             0              0              0              0   \n",
              "6182055936             0              0              0              0   \n",
              "7884890364             0              0              0              0   \n",
              "\n",
              "reviewerID  AZZTH6DJ0KSIP  AZZV9PDNMCOZW  AZZY3B308E3UB  AZZYO4XQYE89O  \n",
              "asin                                                                    \n",
              "159985130X              0              0              0              0  \n",
              "1933622865              0              0              0              0  \n",
              "3812028492              0              0              0              0  \n",
              "6182055936              0              0              0              0  \n",
              "7884890364              0              0              0              0  \n",
              "\n",
              "[5 rows x 94786 columns]"
            ],
            "text/html": [
              "\n",
              "  <div id=\"df-c2390fa0-4a4f-41ad-8f2a-b0f681402507\">\n",
              "    <div class=\"colab-df-container\">\n",
              "      <div>\n",
              "<style scoped>\n",
              "    .dataframe tbody tr th:only-of-type {\n",
              "        vertical-align: middle;\n",
              "    }\n",
              "\n",
              "    .dataframe tbody tr th {\n",
              "        vertical-align: top;\n",
              "    }\n",
              "\n",
              "    .dataframe thead th {\n",
              "        text-align: right;\n",
              "    }\n",
              "</style>\n",
              "<table border=\"1\" class=\"dataframe\">\n",
              "  <thead>\n",
              "    <tr style=\"text-align: right;\">\n",
              "      <th>reviewerID</th>\n",
              "      <th>A0009478CBXKUCALUC7U</th>\n",
              "      <th>A005011233SVRED9Q0VY0</th>\n",
              "      <th>A00878297VYRVLFM06AG</th>\n",
              "      <th>A00951093TVGQWA8EA8DB</th>\n",
              "      <th>A015565634RZNSDLJBE5M</th>\n",
              "      <th>A01811021PZ9TH392P21J</th>\n",
              "      <th>A01818243PXJHK1ZH4HUM</th>\n",
              "      <th>A01836621IAABVFLY7Z80</th>\n",
              "      <th>A01866161OQ1BJPZE8D00</th>\n",
              "      <th>A0193442L7IJXD7HANDM</th>\n",
              "      <th>...</th>\n",
              "      <th>AZZCT56PUXILB</th>\n",
              "      <th>AZZDHYOZS7M3B</th>\n",
              "      <th>AZZGJ2KMWB7R</th>\n",
              "      <th>AZZMINCJAD6JM</th>\n",
              "      <th>AZZMO52V8WZ68</th>\n",
              "      <th>AZZNK89PXD006</th>\n",
              "      <th>AZZTH6DJ0KSIP</th>\n",
              "      <th>AZZV9PDNMCOZW</th>\n",
              "      <th>AZZY3B308E3UB</th>\n",
              "      <th>AZZYO4XQYE89O</th>\n",
              "    </tr>\n",
              "    <tr>\n",
              "      <th>asin</th>\n",
              "      <th></th>\n",
              "      <th></th>\n",
              "      <th></th>\n",
              "      <th></th>\n",
              "      <th></th>\n",
              "      <th></th>\n",
              "      <th></th>\n",
              "      <th></th>\n",
              "      <th></th>\n",
              "      <th></th>\n",
              "      <th></th>\n",
              "      <th></th>\n",
              "      <th></th>\n",
              "      <th></th>\n",
              "      <th></th>\n",
              "      <th></th>\n",
              "      <th></th>\n",
              "      <th></th>\n",
              "      <th></th>\n",
              "      <th></th>\n",
              "      <th></th>\n",
              "    </tr>\n",
              "  </thead>\n",
              "  <tbody>\n",
              "    <tr>\n",
              "      <th>159985130X</th>\n",
              "      <td>0</td>\n",
              "      <td>0</td>\n",
              "      <td>0</td>\n",
              "      <td>0</td>\n",
              "      <td>0</td>\n",
              "      <td>0</td>\n",
              "      <td>0</td>\n",
              "      <td>0</td>\n",
              "      <td>0</td>\n",
              "      <td>0</td>\n",
              "      <td>...</td>\n",
              "      <td>0</td>\n",
              "      <td>0</td>\n",
              "      <td>0</td>\n",
              "      <td>0</td>\n",
              "      <td>0</td>\n",
              "      <td>0</td>\n",
              "      <td>0</td>\n",
              "      <td>0</td>\n",
              "      <td>0</td>\n",
              "      <td>0</td>\n",
              "    </tr>\n",
              "    <tr>\n",
              "      <th>1933622865</th>\n",
              "      <td>0</td>\n",
              "      <td>0</td>\n",
              "      <td>0</td>\n",
              "      <td>0</td>\n",
              "      <td>0</td>\n",
              "      <td>0</td>\n",
              "      <td>0</td>\n",
              "      <td>0</td>\n",
              "      <td>0</td>\n",
              "      <td>0</td>\n",
              "      <td>...</td>\n",
              "      <td>0</td>\n",
              "      <td>0</td>\n",
              "      <td>0</td>\n",
              "      <td>0</td>\n",
              "      <td>0</td>\n",
              "      <td>0</td>\n",
              "      <td>0</td>\n",
              "      <td>0</td>\n",
              "      <td>0</td>\n",
              "      <td>0</td>\n",
              "    </tr>\n",
              "    <tr>\n",
              "      <th>3812028492</th>\n",
              "      <td>0</td>\n",
              "      <td>0</td>\n",
              "      <td>0</td>\n",
              "      <td>0</td>\n",
              "      <td>0</td>\n",
              "      <td>0</td>\n",
              "      <td>0</td>\n",
              "      <td>0</td>\n",
              "      <td>0</td>\n",
              "      <td>0</td>\n",
              "      <td>...</td>\n",
              "      <td>0</td>\n",
              "      <td>0</td>\n",
              "      <td>0</td>\n",
              "      <td>0</td>\n",
              "      <td>0</td>\n",
              "      <td>0</td>\n",
              "      <td>0</td>\n",
              "      <td>0</td>\n",
              "      <td>0</td>\n",
              "      <td>0</td>\n",
              "    </tr>\n",
              "    <tr>\n",
              "      <th>6182055936</th>\n",
              "      <td>0</td>\n",
              "      <td>0</td>\n",
              "      <td>0</td>\n",
              "      <td>0</td>\n",
              "      <td>0</td>\n",
              "      <td>0</td>\n",
              "      <td>0</td>\n",
              "      <td>0</td>\n",
              "      <td>0</td>\n",
              "      <td>0</td>\n",
              "      <td>...</td>\n",
              "      <td>0</td>\n",
              "      <td>0</td>\n",
              "      <td>0</td>\n",
              "      <td>0</td>\n",
              "      <td>0</td>\n",
              "      <td>0</td>\n",
              "      <td>0</td>\n",
              "      <td>0</td>\n",
              "      <td>0</td>\n",
              "      <td>0</td>\n",
              "    </tr>\n",
              "    <tr>\n",
              "      <th>7884890364</th>\n",
              "      <td>0</td>\n",
              "      <td>0</td>\n",
              "      <td>0</td>\n",
              "      <td>0</td>\n",
              "      <td>0</td>\n",
              "      <td>0</td>\n",
              "      <td>0</td>\n",
              "      <td>0</td>\n",
              "      <td>0</td>\n",
              "      <td>0</td>\n",
              "      <td>...</td>\n",
              "      <td>0</td>\n",
              "      <td>0</td>\n",
              "      <td>0</td>\n",
              "      <td>0</td>\n",
              "      <td>0</td>\n",
              "      <td>0</td>\n",
              "      <td>0</td>\n",
              "      <td>0</td>\n",
              "      <td>0</td>\n",
              "      <td>0</td>\n",
              "    </tr>\n",
              "  </tbody>\n",
              "</table>\n",
              "<p>5 rows × 94786 columns</p>\n",
              "</div>\n",
              "      <button class=\"colab-df-convert\" onclick=\"convertToInteractive('df-c2390fa0-4a4f-41ad-8f2a-b0f681402507')\"\n",
              "              title=\"Convert this dataframe to an interactive table.\"\n",
              "              style=\"display:none;\">\n",
              "        \n",
              "  <svg xmlns=\"http://www.w3.org/2000/svg\" height=\"24px\"viewBox=\"0 0 24 24\"\n",
              "       width=\"24px\">\n",
              "    <path d=\"M0 0h24v24H0V0z\" fill=\"none\"/>\n",
              "    <path d=\"M18.56 5.44l.94 2.06.94-2.06 2.06-.94-2.06-.94-.94-2.06-.94 2.06-2.06.94zm-11 1L8.5 8.5l.94-2.06 2.06-.94-2.06-.94L8.5 2.5l-.94 2.06-2.06.94zm10 10l.94 2.06.94-2.06 2.06-.94-2.06-.94-.94-2.06-.94 2.06-2.06.94z\"/><path d=\"M17.41 7.96l-1.37-1.37c-.4-.4-.92-.59-1.43-.59-.52 0-1.04.2-1.43.59L10.3 9.45l-7.72 7.72c-.78.78-.78 2.05 0 2.83L4 21.41c.39.39.9.59 1.41.59.51 0 1.02-.2 1.41-.59l7.78-7.78 2.81-2.81c.8-.78.8-2.07 0-2.86zM5.41 20L4 18.59l7.72-7.72 1.47 1.35L5.41 20z\"/>\n",
              "  </svg>\n",
              "      </button>\n",
              "      \n",
              "  <style>\n",
              "    .colab-df-container {\n",
              "      display:flex;\n",
              "      flex-wrap:wrap;\n",
              "      gap: 12px;\n",
              "    }\n",
              "\n",
              "    .colab-df-convert {\n",
              "      background-color: #E8F0FE;\n",
              "      border: none;\n",
              "      border-radius: 50%;\n",
              "      cursor: pointer;\n",
              "      display: none;\n",
              "      fill: #1967D2;\n",
              "      height: 32px;\n",
              "      padding: 0 0 0 0;\n",
              "      width: 32px;\n",
              "    }\n",
              "\n",
              "    .colab-df-convert:hover {\n",
              "      background-color: #E2EBFA;\n",
              "      box-shadow: 0px 1px 2px rgba(60, 64, 67, 0.3), 0px 1px 3px 1px rgba(60, 64, 67, 0.15);\n",
              "      fill: #174EA6;\n",
              "    }\n",
              "\n",
              "    [theme=dark] .colab-df-convert {\n",
              "      background-color: #3B4455;\n",
              "      fill: #D2E3FC;\n",
              "    }\n",
              "\n",
              "    [theme=dark] .colab-df-convert:hover {\n",
              "      background-color: #434B5C;\n",
              "      box-shadow: 0px 1px 3px 1px rgba(0, 0, 0, 0.15);\n",
              "      filter: drop-shadow(0px 1px 2px rgba(0, 0, 0, 0.3));\n",
              "      fill: #FFFFFF;\n",
              "    }\n",
              "  </style>\n",
              "\n",
              "      <script>\n",
              "        const buttonEl =\n",
              "          document.querySelector('#df-c2390fa0-4a4f-41ad-8f2a-b0f681402507 button.colab-df-convert');\n",
              "        buttonEl.style.display =\n",
              "          google.colab.kernel.accessAllowed ? 'block' : 'none';\n",
              "\n",
              "        async function convertToInteractive(key) {\n",
              "          const element = document.querySelector('#df-c2390fa0-4a4f-41ad-8f2a-b0f681402507');\n",
              "          const dataTable =\n",
              "            await google.colab.kernel.invokeFunction('convertToInteractive',\n",
              "                                                     [key], {});\n",
              "          if (!dataTable) return;\n",
              "\n",
              "          const docLinkHtml = 'Like what you see? Visit the ' +\n",
              "            '<a target=\"_blank\" href=https://colab.research.google.com/notebooks/data_table.ipynb>data table notebook</a>'\n",
              "            + ' to learn more about interactive tables.';\n",
              "          element.innerHTML = '';\n",
              "          dataTable['output_type'] = 'display_data';\n",
              "          await google.colab.output.renderOutput(dataTable, element);\n",
              "          const docLink = document.createElement('div');\n",
              "          docLink.innerHTML = docLinkHtml;\n",
              "          element.appendChild(docLink);\n",
              "        }\n",
              "      </script>\n",
              "    </div>\n",
              "  </div>\n",
              "  "
            ]
          },
          "metadata": {},
          "execution_count": 45
        }
      ]
    },
    {
      "cell_type": "code",
      "source": [
        "# Structure of Pivot Table\n",
        "rating_matrix.shape"
      ],
      "metadata": {
        "colab": {
          "base_uri": "https://localhost:8080/"
        },
        "id": "MP1hi6Q7o8y-",
        "outputId": "723551a2-b652-4a5f-eea4-7f79ab368b3b"
      },
      "execution_count": 46,
      "outputs": [
        {
          "output_type": "execute_result",
          "data": {
            "text/plain": [
              "(575, 94786)"
            ]
          },
          "metadata": {},
          "execution_count": 46
        }
      ]
    },
    {
      "cell_type": "code",
      "source": [
        "# Dimensionality Reduction\n",
        "svd = TruncatedSVD(n_components=20)\n",
        "dim_data = svd.fit_transform(rating_matrix)"
      ],
      "metadata": {
        "id": "PsJ_rquMo84C"
      },
      "execution_count": 48,
      "outputs": []
    },
    {
      "cell_type": "code",
      "source": [
        "# Structure of SVD Data\n",
        "dim_data.shape"
      ],
      "metadata": {
        "colab": {
          "base_uri": "https://localhost:8080/"
        },
        "id": "sxSPjsySo854",
        "outputId": "d1366b52-f61b-4f01-f867-f3ff9f8b8465"
      },
      "execution_count": 49,
      "outputs": [
        {
          "output_type": "execute_result",
          "data": {
            "text/plain": [
              "(575, 20)"
            ]
          },
          "metadata": {},
          "execution_count": 49
        }
      ]
    },
    {
      "cell_type": "code",
      "source": [
        "# Correlation Matrix\n",
        "corr_matrix = np.corrcoef(dim_data)"
      ],
      "metadata": {
        "id": "Kv0_cPDQrW2V"
      },
      "execution_count": 50,
      "outputs": []
    },
    {
      "cell_type": "code",
      "source": [
        "# Shape of Correlation Matrix\n",
        "corr_matrix.shape"
      ],
      "metadata": {
        "colab": {
          "base_uri": "https://localhost:8080/"
        },
        "id": "hHDdm-iwo87q",
        "outputId": "074bb80f-67a7-4be6-bd57-2e46691baf73"
      },
      "execution_count": 51,
      "outputs": [
        {
          "output_type": "execute_result",
          "data": {
            "text/plain": [
              "(575, 575)"
            ]
          },
          "metadata": {},
          "execution_count": 51
        }
      ]
    },
    {
      "cell_type": "code",
      "source": [
        "# Taking Random Product for Selection\n",
        "i = rating_matrix.index[350]"
      ],
      "metadata": {
        "id": "YXM76Pofo89s"
      },
      "execution_count": 52,
      "outputs": []
    },
    {
      "cell_type": "code",
      "source": [
        "# Displaying the Selected Product ID\n",
        "i"
      ],
      "metadata": {
        "colab": {
          "base_uri": "https://localhost:8080/",
          "height": 36
        },
        "id": "u4XYvMQw_1Mp",
        "outputId": "2a6078b5-ad08-4135-b5a8-e8e9d549d9da"
      },
      "execution_count": 53,
      "outputs": [
        {
          "output_type": "execute_result",
          "data": {
            "text/plain": [
              "'B0000Y3F6W'"
            ],
            "application/vnd.google.colaboratory.intrinsic+json": {
              "type": "string"
            }
          },
          "metadata": {},
          "execution_count": 53
        }
      ]
    },
    {
      "cell_type": "code",
      "source": [
        "# Taking Correlation Matrix Index into List\n",
        "lst = list(rating_matrix.index)"
      ],
      "metadata": {
        "id": "x_f7bu9Ro9Ay"
      },
      "execution_count": 54,
      "outputs": []
    },
    {
      "cell_type": "code",
      "source": [
        "# Finding Index of Selected Product ID in List\n",
        "j = lst.index(i)"
      ],
      "metadata": {
        "id": "MXE7TkGbo9E3"
      },
      "execution_count": 55,
      "outputs": []
    },
    {
      "cell_type": "code",
      "source": [
        "# Selection of Columns of Index of Product ID\n",
        "correlation_product_ID = corr_matrix[j]"
      ],
      "metadata": {
        "id": "smhYP4e_zjao"
      },
      "execution_count": 56,
      "outputs": []
    },
    {
      "cell_type": "code",
      "source": [
        "# Fetching Correlated Product ID's\n",
        "\n",
        "Recommend = list(rating_matrix.index[correlation_product_ID > 0.8])\n",
        "\n",
        "Recommend.remove(i) "
      ],
      "metadata": {
        "id": "jeSnn0edzjhj"
      },
      "execution_count": 60,
      "outputs": []
    },
    {
      "cell_type": "code",
      "source": [
        "print(Recommend)"
      ],
      "metadata": {
        "colab": {
          "base_uri": "https://localhost:8080/"
        },
        "id": "yV-boScynLvs",
        "outputId": "abd25d15-47fb-4c90-82f9-28bd2906d129"
      },
      "execution_count": 62,
      "outputs": [
        {
          "output_type": "stream",
          "name": "stdout",
          "text": [
            "['3812028492', 'B00009RB1C', 'B0001ATEJ2']\n"
          ]
        }
      ]
    },
    {
      "cell_type": "markdown",
      "source": [
        "# Time Series Demand Forecasting"
      ],
      "metadata": {
        "id": "1LVv_pOkGLrD"
      }
    },
    {
      "cell_type": "code",
      "execution_count": 79,
      "metadata": {
        "id": "9qkSwnWR3yDw"
      },
      "outputs": [],
      "source": [
        "from statsmodels.tsa.seasonal import seasonal_decompose\n",
        "import matplotlib.pyplot as plt\n",
        "import pandas as pd\n",
        "from sklearn import metrics\n",
        "import statsmodels.api as sm\n",
        "import math\n",
        "from statsmodels.tsa.stattools import adfuller\n",
        "from statsmodels.graphics.tsaplots import plot_acf, plot_pacf\n",
        "\n",
        "import warnings\n",
        "warnings.filterwarnings('ignore')"
      ]
    },
    {
      "cell_type": "code",
      "source": [
        "# Head\n",
        "data.head(2)"
      ],
      "metadata": {
        "colab": {
          "base_uri": "https://localhost:8080/",
          "height": 346
        },
        "id": "ECDzw35HpMrI",
        "outputId": "e934908c-f315-4cef-9868-77aa6d59b122"
      },
      "execution_count": 80,
      "outputs": [
        {
          "output_type": "execute_result",
          "data": {
            "text/plain": [
              "                reviewerID        asin                        reviewerName  \\\n",
              "reviewTime                                                                   \n",
              "1998-07-26  A2712X75Y9QI0Q  B0000017QN  Bruce L. Weaver (weav@waveone.net)   \n",
              "1998-11-18  A2NKS9JA830F85  B000000EIC                      John A. Wilson   \n",
              "\n",
              "             helpful  help_per  \\\n",
              "reviewTime                       \n",
              "1998-07-26    [7, 9]     77.78   \n",
              "1998-11-18  [16, 17]     94.12   \n",
              "\n",
              "                                                   reviewText  overall  \\\n",
              "reviewTime                                                               \n",
              "1998-07-26  I have an incurable addition to this music. I ...        5   \n",
              "1998-11-18  I met and sang with Pat before he made his fir...        5   \n",
              "\n",
              "           sentiment        summary  unixReviewTime reviewTime  \\\n",
              "reviewTime                                                       \n",
              "1998-07-26  Positive  Magical Music       901411200 1998-07-26   \n",
              "1998-11-18  Positive     wonderful!       911347200 1998-11-18   \n",
              "\n",
              "                                                  description         title  \\\n",
              "reviewTime                                                                    \n",
              "1998-07-26                                                     Sedona Suite   \n",
              "1998-11-18  Vanguard is finally re-issuing this '60s folki...   Patrick Sky   \n",
              "\n",
              "                                                        imUrl  \\\n",
              "reviewTime                                                      \n",
              "1998-07-26  http://ecx.images-amazon.com/images/I/51riGHIG...   \n",
              "1998-11-18  http://ecx.images-amazon.com/images/I/51X6YAX7...   \n",
              "\n",
              "                                                      related  \\\n",
              "reviewTime                                                      \n",
              "1998-07-26  {'also_bought': ['B0000017RN', 'B00000DBWN', '...   \n",
              "1998-11-18  {'also_bought': ['B000003TK9', 'B000000XF7', '...   \n",
              "\n",
              "                   salesRank                              categories  price  \\\n",
              "reviewTime                                                                    \n",
              "1998-07-26  {'Music': 96262}      [CDs & Vinyl, New Age, Meditation]  15.67   \n",
              "1998-11-18  {'Music': 44009}  [CDs & Vinyl, Folk, Contemporary Folk]  12.76   \n",
              "\n",
              "                                             brand  \n",
              "reviewTime                                          \n",
              "1998-07-26  Soundings of the Planet, Healing Music  \n",
              "1998-11-18                                     NaN  "
            ],
            "text/html": [
              "\n",
              "  <div id=\"df-176d97eb-cb1f-41fc-b899-621025aecc1a\">\n",
              "    <div class=\"colab-df-container\">\n",
              "      <div>\n",
              "<style scoped>\n",
              "    .dataframe tbody tr th:only-of-type {\n",
              "        vertical-align: middle;\n",
              "    }\n",
              "\n",
              "    .dataframe tbody tr th {\n",
              "        vertical-align: top;\n",
              "    }\n",
              "\n",
              "    .dataframe thead th {\n",
              "        text-align: right;\n",
              "    }\n",
              "</style>\n",
              "<table border=\"1\" class=\"dataframe\">\n",
              "  <thead>\n",
              "    <tr style=\"text-align: right;\">\n",
              "      <th></th>\n",
              "      <th>reviewerID</th>\n",
              "      <th>asin</th>\n",
              "      <th>reviewerName</th>\n",
              "      <th>helpful</th>\n",
              "      <th>help_per</th>\n",
              "      <th>reviewText</th>\n",
              "      <th>overall</th>\n",
              "      <th>sentiment</th>\n",
              "      <th>summary</th>\n",
              "      <th>unixReviewTime</th>\n",
              "      <th>reviewTime</th>\n",
              "      <th>description</th>\n",
              "      <th>title</th>\n",
              "      <th>imUrl</th>\n",
              "      <th>related</th>\n",
              "      <th>salesRank</th>\n",
              "      <th>categories</th>\n",
              "      <th>price</th>\n",
              "      <th>brand</th>\n",
              "    </tr>\n",
              "    <tr>\n",
              "      <th>reviewTime</th>\n",
              "      <th></th>\n",
              "      <th></th>\n",
              "      <th></th>\n",
              "      <th></th>\n",
              "      <th></th>\n",
              "      <th></th>\n",
              "      <th></th>\n",
              "      <th></th>\n",
              "      <th></th>\n",
              "      <th></th>\n",
              "      <th></th>\n",
              "      <th></th>\n",
              "      <th></th>\n",
              "      <th></th>\n",
              "      <th></th>\n",
              "      <th></th>\n",
              "      <th></th>\n",
              "      <th></th>\n",
              "      <th></th>\n",
              "    </tr>\n",
              "  </thead>\n",
              "  <tbody>\n",
              "    <tr>\n",
              "      <th>1998-07-26</th>\n",
              "      <td>A2712X75Y9QI0Q</td>\n",
              "      <td>B0000017QN</td>\n",
              "      <td>Bruce L. Weaver (weav@waveone.net)</td>\n",
              "      <td>[7, 9]</td>\n",
              "      <td>77.78</td>\n",
              "      <td>I have an incurable addition to this music. I ...</td>\n",
              "      <td>5</td>\n",
              "      <td>Positive</td>\n",
              "      <td>Magical Music</td>\n",
              "      <td>901411200</td>\n",
              "      <td>1998-07-26</td>\n",
              "      <td></td>\n",
              "      <td>Sedona Suite</td>\n",
              "      <td>http://ecx.images-amazon.com/images/I/51riGHIG...</td>\n",
              "      <td>{'also_bought': ['B0000017RN', 'B00000DBWN', '...</td>\n",
              "      <td>{'Music': 96262}</td>\n",
              "      <td>[CDs &amp; Vinyl, New Age, Meditation]</td>\n",
              "      <td>15.67</td>\n",
              "      <td>Soundings of the Planet, Healing Music</td>\n",
              "    </tr>\n",
              "    <tr>\n",
              "      <th>1998-11-18</th>\n",
              "      <td>A2NKS9JA830F85</td>\n",
              "      <td>B000000EIC</td>\n",
              "      <td>John A. Wilson</td>\n",
              "      <td>[16, 17]</td>\n",
              "      <td>94.12</td>\n",
              "      <td>I met and sang with Pat before he made his fir...</td>\n",
              "      <td>5</td>\n",
              "      <td>Positive</td>\n",
              "      <td>wonderful!</td>\n",
              "      <td>911347200</td>\n",
              "      <td>1998-11-18</td>\n",
              "      <td>Vanguard is finally re-issuing this '60s folki...</td>\n",
              "      <td>Patrick Sky</td>\n",
              "      <td>http://ecx.images-amazon.com/images/I/51X6YAX7...</td>\n",
              "      <td>{'also_bought': ['B000003TK9', 'B000000XF7', '...</td>\n",
              "      <td>{'Music': 44009}</td>\n",
              "      <td>[CDs &amp; Vinyl, Folk, Contemporary Folk]</td>\n",
              "      <td>12.76</td>\n",
              "      <td>NaN</td>\n",
              "    </tr>\n",
              "  </tbody>\n",
              "</table>\n",
              "</div>\n",
              "      <button class=\"colab-df-convert\" onclick=\"convertToInteractive('df-176d97eb-cb1f-41fc-b899-621025aecc1a')\"\n",
              "              title=\"Convert this dataframe to an interactive table.\"\n",
              "              style=\"display:none;\">\n",
              "        \n",
              "  <svg xmlns=\"http://www.w3.org/2000/svg\" height=\"24px\"viewBox=\"0 0 24 24\"\n",
              "       width=\"24px\">\n",
              "    <path d=\"M0 0h24v24H0V0z\" fill=\"none\"/>\n",
              "    <path d=\"M18.56 5.44l.94 2.06.94-2.06 2.06-.94-2.06-.94-.94-2.06-.94 2.06-2.06.94zm-11 1L8.5 8.5l.94-2.06 2.06-.94-2.06-.94L8.5 2.5l-.94 2.06-2.06.94zm10 10l.94 2.06.94-2.06 2.06-.94-2.06-.94-.94-2.06-.94 2.06-2.06.94z\"/><path d=\"M17.41 7.96l-1.37-1.37c-.4-.4-.92-.59-1.43-.59-.52 0-1.04.2-1.43.59L10.3 9.45l-7.72 7.72c-.78.78-.78 2.05 0 2.83L4 21.41c.39.39.9.59 1.41.59.51 0 1.02-.2 1.41-.59l7.78-7.78 2.81-2.81c.8-.78.8-2.07 0-2.86zM5.41 20L4 18.59l7.72-7.72 1.47 1.35L5.41 20z\"/>\n",
              "  </svg>\n",
              "      </button>\n",
              "      \n",
              "  <style>\n",
              "    .colab-df-container {\n",
              "      display:flex;\n",
              "      flex-wrap:wrap;\n",
              "      gap: 12px;\n",
              "    }\n",
              "\n",
              "    .colab-df-convert {\n",
              "      background-color: #E8F0FE;\n",
              "      border: none;\n",
              "      border-radius: 50%;\n",
              "      cursor: pointer;\n",
              "      display: none;\n",
              "      fill: #1967D2;\n",
              "      height: 32px;\n",
              "      padding: 0 0 0 0;\n",
              "      width: 32px;\n",
              "    }\n",
              "\n",
              "    .colab-df-convert:hover {\n",
              "      background-color: #E2EBFA;\n",
              "      box-shadow: 0px 1px 2px rgba(60, 64, 67, 0.3), 0px 1px 3px 1px rgba(60, 64, 67, 0.15);\n",
              "      fill: #174EA6;\n",
              "    }\n",
              "\n",
              "    [theme=dark] .colab-df-convert {\n",
              "      background-color: #3B4455;\n",
              "      fill: #D2E3FC;\n",
              "    }\n",
              "\n",
              "    [theme=dark] .colab-df-convert:hover {\n",
              "      background-color: #434B5C;\n",
              "      box-shadow: 0px 1px 3px 1px rgba(0, 0, 0, 0.15);\n",
              "      filter: drop-shadow(0px 1px 2px rgba(0, 0, 0, 0.3));\n",
              "      fill: #FFFFFF;\n",
              "    }\n",
              "  </style>\n",
              "\n",
              "      <script>\n",
              "        const buttonEl =\n",
              "          document.querySelector('#df-176d97eb-cb1f-41fc-b899-621025aecc1a button.colab-df-convert');\n",
              "        buttonEl.style.display =\n",
              "          google.colab.kernel.accessAllowed ? 'block' : 'none';\n",
              "\n",
              "        async function convertToInteractive(key) {\n",
              "          const element = document.querySelector('#df-176d97eb-cb1f-41fc-b899-621025aecc1a');\n",
              "          const dataTable =\n",
              "            await google.colab.kernel.invokeFunction('convertToInteractive',\n",
              "                                                     [key], {});\n",
              "          if (!dataTable) return;\n",
              "\n",
              "          const docLinkHtml = 'Like what you see? Visit the ' +\n",
              "            '<a target=\"_blank\" href=https://colab.research.google.com/notebooks/data_table.ipynb>data table notebook</a>'\n",
              "            + ' to learn more about interactive tables.';\n",
              "          element.innerHTML = '';\n",
              "          dataTable['output_type'] = 'display_data';\n",
              "          await google.colab.output.renderOutput(dataTable, element);\n",
              "          const docLink = document.createElement('div');\n",
              "          docLink.innerHTML = docLinkHtml;\n",
              "          element.appendChild(docLink);\n",
              "        }\n",
              "      </script>\n",
              "    </div>\n",
              "  </div>\n",
              "  "
            ]
          },
          "metadata": {},
          "execution_count": 80
        }
      ]
    },
    {
      "cell_type": "code",
      "source": [
        "# Datatypes\n",
        "data.dtypes"
      ],
      "metadata": {
        "colab": {
          "base_uri": "https://localhost:8080/"
        },
        "id": "LMPgTFh_rnSy",
        "outputId": "e087e3ac-32e6-43d5-ee8a-c6a153a6d18d"
      },
      "execution_count": 81,
      "outputs": [
        {
          "output_type": "execute_result",
          "data": {
            "text/plain": [
              "reviewerID                object\n",
              "asin                      object\n",
              "reviewerName              object\n",
              "helpful                   object\n",
              "help_per                 float64\n",
              "reviewText                object\n",
              "overall                    int64\n",
              "sentiment                 object\n",
              "summary                   object\n",
              "unixReviewTime             int64\n",
              "reviewTime        datetime64[ns]\n",
              "description               object\n",
              "title                     object\n",
              "imUrl                     object\n",
              "related                   object\n",
              "salesRank                 object\n",
              "categories                object\n",
              "price                    float64\n",
              "brand                     object\n",
              "dtype: object"
            ]
          },
          "metadata": {},
          "execution_count": 81
        }
      ]
    },
    {
      "cell_type": "code",
      "source": [
        "# Info\n",
        "data.info()"
      ],
      "metadata": {
        "colab": {
          "base_uri": "https://localhost:8080/"
        },
        "id": "JPo0ABMap3yI",
        "outputId": "4afd7821-c54d-49b8-bf66-5013b747a4e3"
      },
      "execution_count": 82,
      "outputs": [
        {
          "output_type": "stream",
          "name": "stdout",
          "text": [
            "<class 'pandas.core.frame.DataFrame'>\n",
            "DatetimeIndex: 2982326 entries, 1998-07-26 to 2014-07-23\n",
            "Data columns (total 19 columns):\n",
            " #   Column          Dtype         \n",
            "---  ------          -----         \n",
            " 0   reviewerID      object        \n",
            " 1   asin            object        \n",
            " 2   reviewerName    object        \n",
            " 3   helpful         object        \n",
            " 4   help_per        float64       \n",
            " 5   reviewText      object        \n",
            " 6   overall         int64         \n",
            " 7   sentiment       object        \n",
            " 8   summary         object        \n",
            " 9   unixReviewTime  int64         \n",
            " 10  reviewTime      datetime64[ns]\n",
            " 11  description     object        \n",
            " 12  title           object        \n",
            " 13  imUrl           object        \n",
            " 14  related         object        \n",
            " 15  salesRank       object        \n",
            " 16  categories      object        \n",
            " 17  price           float64       \n",
            " 18  brand           object        \n",
            "dtypes: datetime64[ns](1), float64(2), int64(2), object(14)\n",
            "memory usage: 455.1+ MB\n"
          ]
        }
      ]
    },
    {
      "cell_type": "code",
      "source": [
        "# Columns\n",
        "data.columns"
      ],
      "metadata": {
        "colab": {
          "base_uri": "https://localhost:8080/"
        },
        "id": "2ScxyDcqp6Ic",
        "outputId": "4e4d07d4-2c81-4768-aa13-9a4351d4bbda"
      },
      "execution_count": 83,
      "outputs": [
        {
          "output_type": "execute_result",
          "data": {
            "text/plain": [
              "Index(['reviewerID', 'asin', 'reviewerName', 'helpful', 'help_per',\n",
              "       'reviewText', 'overall', 'sentiment', 'summary', 'unixReviewTime',\n",
              "       'reviewTime', 'description', 'title', 'imUrl', 'related', 'salesRank',\n",
              "       'categories', 'price', 'brand'],\n",
              "      dtype='object')"
            ]
          },
          "metadata": {},
          "execution_count": 83
        }
      ]
    },
    {
      "cell_type": "code",
      "source": [
        "# Decomposing Data Function\n",
        "def time_series_comp(data):\n",
        "  decomp = seasonal_decompose(data,period=12)\n",
        "  trend = decomp.trend\n",
        "  season = decomp.seasonal\n",
        "  irreg = decomp.resid\n",
        "  return(trend,season,irreg)"
      ],
      "metadata": {
        "id": "CF5rM-2C_bQl"
      },
      "execution_count": 84,
      "outputs": []
    },
    {
      "cell_type": "code",
      "source": [
        "# Function for Time Series Components\n",
        "def plot_comp(actual,trend,season,irreg,name):\n",
        "\n",
        "  plt.figure(figsize=(20,20))\n",
        "  plt.subplot(4,1,1)\n",
        "  xx = plt.plot(actual,color='black')\n",
        "  plt.title(name+' Actual Data',fontsize=20,color=\"maroon\",fontweight=20)\n",
        "\n",
        "  plt.figure(figsize=(20,20))\n",
        "  plt.subplot(4,1,1)\n",
        "  yy = plt.plot(trend,color='blue')\n",
        "  plt.title(name+' Trend',fontsize=20,color=\"maroon\",fontweight=20)\n",
        "\n",
        "  plt.figure(figsize=(20,20))\n",
        "  plt.subplot(4,1,1)\n",
        "  zz = plt.plot(season,color='green')\n",
        "  plt.title(name+' Seasonality',fontsize=20,color=\"maroon\",fontweight=20)\n",
        "\n",
        "  plt.figure(figsize=(20,20))\n",
        "  plt.subplot(4,1,1)\n",
        "  aa = plt.plot(irreg,color='red')\n",
        "  plt.title(name+' Irregularity',fontsize=20,color=\"maroon\",fontweight=20)\n",
        "\n",
        "  return(xx,yy,zz,aa)"
      ],
      "metadata": {
        "id": "M_k4XDdGgZfY"
      },
      "execution_count": 85,
      "outputs": []
    },
    {
      "cell_type": "code",
      "source": [
        "def stationarity_check(data):\n",
        "  p_value = adfuller(data)[1]\n",
        "  if p_value < 0.05:\n",
        "    dec = 'Model was Stationary - Proceed for Model Building'\n",
        "  else:\n",
        "    dec = 'Model was not Stationary - Take Differenced Data'\n",
        "  return(dec)"
      ],
      "metadata": {
        "id": "wLXSKljf0Jbh"
      },
      "execution_count": 86,
      "outputs": []
    },
    {
      "cell_type": "code",
      "source": [
        "def plot(data):\n",
        "  return(plot_acf(res_data_diff,c='red',lags=12),plot_pacf(res_data_diff,c='red',lags=12));"
      ],
      "metadata": {
        "id": "-mbJdzbvRTkM"
      },
      "execution_count": 87,
      "outputs": []
    },
    {
      "cell_type": "code",
      "source": [
        "def trend_order_iter(p,d,q):\n",
        "  lst = []\n",
        "  for i in range(p+1):\n",
        "    for j in range(q+1):\n",
        "      lst.append((i,0,j))\n",
        "  return(lst)\n",
        "\n",
        "def seasonal_order_iter(P,D,Q,L):\n",
        "  lst = []\n",
        "  for i in range(P+1):\n",
        "    for j in range(Q+1):\n",
        "      lst.append((i,D,j,L))\n",
        "  return(lst)\n",
        "\n",
        "def score_cal_1(t_lst,s_lst,data):\n",
        "  AIC = []\n",
        "  BIC = []\n",
        "  MSE = []\n",
        "  RMSE = []\n",
        "  for i in t_lst:\n",
        "    for j in s_lst:\n",
        "      model = sm.tsa.statespace.SARIMAX(data,order=i,seasonal_order=j).fit()\n",
        "      pred = model.fittedvalues\n",
        "      AIC.append(model.aic)\n",
        "      BIC.append(model.bic)\n",
        "      MSE.append(round(metrics.mean_squared_error(data,pred),3))\n",
        "      RMSE.append(round(metrics.mean_squared_error(data,pred,squared=False),3))\n",
        "  c = pd.DataFrame({'AIC':AIC,'BIC':BIC,'MSE':MSE,'RMSE':RMSE},index=lst)\n",
        "  print('Min AIC Order: ',c['AIC'].idxmin())\n",
        "  print('Min BIC Order: ',c['BIC'].idxmin())\n",
        "  print('Min MSE Order: ',c['MSE'].idxmin())\n",
        "  print('Min RMSE Order: ',c['RMSE'].idxmin())"
      ],
      "metadata": {
        "id": "YQPfvOf838ms"
      },
      "execution_count": 88,
      "outputs": []
    },
    {
      "cell_type": "code",
      "source": [
        "# Ljung Box Test \n",
        "def fit_check(model):\n",
        "    pvalue = sm.stats.acorr_ljungbox(model.resid,lags=[12],return_df=True)['lb_pvalue'].values\n",
        "    if pvalue < 0.05:\n",
        "        print(\"Bad model - Build the Model Again with differnt Parameters\")\n",
        "    else:\n",
        "        print(\"Good model - Proceed for Forecasting\")"
      ],
      "metadata": {
        "id": "Y0iZUkft0yU3"
      },
      "execution_count": 89,
      "outputs": []
    },
    {
      "cell_type": "code",
      "source": [
        "def error_check(data,forecast):\n",
        "    mse = round(metrics.mean_squared_error(data,forecast),3)\n",
        "    rmse = round(metrics.mean_squared_error(data,forecast,squared=False),3)\n",
        "    mae = round(metrics.mean_absolute_error(data,forecast),3)\n",
        "    mape = round(metrics.mean_absolute_percentage_error(data,forecast),3)\n",
        "    return(mse,rmse,mae,mape)\n",
        "\n",
        "def print_error(m1_mse, m1_rmse, m1_mae, m1_mape, Model):\n",
        "    print('Mean Squared Error of '+Model+' is: ',m1_mse)\n",
        "    print('Root Mean Squared Error of '+Model+' is: ',m1_rmse)\n",
        "    print('Mean Absolute Error of '+Model+' is: ',m1_mae)\n",
        "    print('Mean Absolute Percentage Error of '+Model+' is: ',m1_mape)\n",
        "    \n",
        "def aic_bic_scores(model):\n",
        "    AIC = round(model.aic,3)\n",
        "    BIC = round(model.bic,3)\n",
        "    return(AIC,BIC)\n",
        "\n",
        "def print_aic_bic(AIC, BIC, Model):\n",
        "    print('AIC Score '+Model+' is: ',AIC)\n",
        "    print('BIC Score '+Model+' is: ',BIC)"
      ],
      "metadata": {
        "id": "AMxbWp0f38v-"
      },
      "execution_count": 90,
      "outputs": []
    },
    {
      "cell_type": "markdown",
      "source": [
        "## EatSmart Precision Digital Bathroom Scale w/ Extra Large Lighted Display, 400 lb. Capacity and &quot;Step-On&quot; Technology [2014 VERSION] - 10,000+ Reviews EatSmart Guaranteed Accurate"
      ],
      "metadata": {
        "id": "Ls1os2np2RnN"
      }
    },
    {
      "cell_type": "code",
      "source": [
        "# Copying Data\n",
        "df_1 = data.copy()"
      ],
      "metadata": {
        "id": "ZmsZARnKRjYp"
      },
      "execution_count": 91,
      "outputs": []
    },
    {
      "cell_type": "code",
      "source": [
        "# Products which are sold more\n",
        "df_1.title.value_counts()"
      ],
      "metadata": {
        "colab": {
          "base_uri": "https://localhost:8080/"
        },
        "id": "oagTpkRUUJ_x",
        "outputId": "ffba9021-b422-4336-e7c6-3f4fcecb19dc"
      },
      "execution_count": 92,
      "outputs": [
        {
          "output_type": "execute_result",
          "data": {
            "text/plain": [
              "EatSmart Precision Digital Bathroom Scale w/ Extra Large Lighted Display, 400 lb. Capacity and &quot;Step-On&quot; Technology [2014 VERSION] - 10,000+ Reviews EatSmart Guaranteed Accurate    11365\n",
              "Eatsmart Precision Plus Digital Bathroom Scale with Ultra Wide Platform and Step-on Technology, 440-Pounds                                                                                      9338\n",
              "Fitbit One Wireless Activity Plus Sleep Tracker, Black                                                                                                                                          6788\n",
              "NatureWise Garcinia Cambogia Extract Natural Appetite Suppressant and Weight Loss Supplement, 180 Count, 500mg (packaging may vary)                                                             5739\n",
              "Omron HJ-112 Digital Pocket Pedometer                                                                                                                                                           5550\n",
              "                                                                                                                                                                                               ...  \n",
              "Swissco 4-In-1 Pedicure Tool                                                                                                                                                                       1\n",
              "Scented Oil - Tropical Pine - ScentsOil for Aromatherapy Burners &amp; Diffuser                                                                                                                    1\n",
              "ACME USA 6.5&quot; Glossy Finish Hair Cutting Shears/ Scissors                                                                                                                                     1\n",
              "Bella il Fiore Goodnight Gorgeous 100% Silk Sleep Mask (Sweet Dreams)                                                                                                                              1\n",
              "Multi-speed Bullet Mini Vibrator Massager Vibrating Egg J1415-2# (Purple)                                                                                                                          1\n",
              "Name: title, Length: 248989, dtype: int64"
            ]
          },
          "metadata": {},
          "execution_count": 92
        }
      ]
    },
    {
      "cell_type": "code",
      "source": [
        "# Mask the Data\n",
        "mask = (df_1['reviewTime'] > '2008-1-1') & (df_1['reviewTime'] <= '2013-12-31')\n",
        "df_1 = df_1.loc[mask]"
      ],
      "metadata": {
        "id": "GkxxQdUo_5Pm"
      },
      "execution_count": 93,
      "outputs": []
    },
    {
      "cell_type": "code",
      "source": [
        "# Data Filtering\n",
        "data_1 = df_1.loc[df_1.title == 'EatSmart Precision Digital Bathroom Scale w/ Extra Large Lighted Display, 400 lb. Capacity and &quot;Step-On&quot; Technology [2014 VERSION] - 10,000+ Reviews EatSmart Guaranteed Accurate','title']"
      ],
      "metadata": {
        "id": "JxUbU2A0UALh"
      },
      "execution_count": 94,
      "outputs": []
    },
    {
      "cell_type": "code",
      "source": [
        "# Resampling the Data\n",
        "res_data = data_1.resample('M').count()"
      ],
      "metadata": {
        "id": "C7ejRPwFhlzC"
      },
      "execution_count": 95,
      "outputs": []
    },
    {
      "cell_type": "code",
      "source": [
        "# Positive Time Series Data Components\n",
        "trend, season, irreg = time_series_comp(res_data)\n",
        "\n",
        "plot_comp(res_data,trend,season,irreg,'Positive')\n",
        "plt.show();"
      ],
      "metadata": {
        "id": "ODKkV5a_BAmb",
        "colab": {
          "base_uri": "https://localhost:8080/",
          "height": 1000
        },
        "outputId": "47077c54-709f-4e21-fd58-a1f8a7e79003"
      },
      "execution_count": 96,
      "outputs": [
        {
          "output_type": "display_data",
          "data": {
            "text/plain": [
              "<Figure size 1440x1440 with 1 Axes>"
            ],
            "image/png": "[encoded data removed]"
          },
          "metadata": {
            "needs_background": "light"
          }
        },
        {
          "output_type": "display_data",
          "data": {
            "text/plain": [
              "<Figure size 1440x1440 with 1 Axes>"
            ],
            "image/png": "[encoded data removed]"
          },
          "metadata": {
            "needs_background": "light"
          }
        },
        {
          "output_type": "display_data",
          "data": {
            "text/plain": [
              "<Figure size 1440x1440 with 1 Axes>"
            ],
            "image/png": "[encoded data removed]"
          },
          "metadata": {
            "needs_background": "light"
          }
        },
        {
          "output_type": "display_data",
          "data": {
            "text/plain": [
              "<Figure size 1440x1440 with 1 Axes>"
            ],
            "image/png": "[encoded data removed]"
          },
          "metadata": {
            "needs_background": "light"
          }
        }
      ]
    },
    {
      "cell_type": "code",
      "source": [
        "# Stationary Check\n",
        "stationarity_check(res_data)"
      ],
      "metadata": {
        "colab": {
          "base_uri": "https://localhost:8080/",
          "height": 36
        },
        "id": "3Xwme53UWz0L",
        "outputId": "f4bbbfbc-143d-4c17-ad06-98e155262ddf"
      },
      "execution_count": 97,
      "outputs": [
        {
          "output_type": "execute_result",
          "data": {
            "text/plain": [
              "'Model was not Stationary - Take Differenced Data'"
            ],
            "application/vnd.google.colaboratory.intrinsic+json": {
              "type": "string"
            }
          },
          "metadata": {},
          "execution_count": 97
        }
      ]
    },
    {
      "cell_type": "code",
      "source": [
        "# Differencing Data\n",
        "res_data_diff = res_data - res_data.shift(1)\n",
        "res_data_diff.dropna(inplace=True)"
      ],
      "metadata": {
        "id": "Ns4m_cX8Wz4U"
      },
      "execution_count": 98,
      "outputs": []
    },
    {
      "cell_type": "code",
      "source": [
        "# Stationary Check\n",
        "stationarity_check(res_data_diff)"
      ],
      "metadata": {
        "colab": {
          "base_uri": "https://localhost:8080/",
          "height": 36
        },
        "id": "t7f2y1c-Wz6q",
        "outputId": "c4d6ff02-9c33-44cc-d2e3-35ccd956fce3"
      },
      "execution_count": 99,
      "outputs": [
        {
          "output_type": "execute_result",
          "data": {
            "text/plain": [
              "'Model was Stationary - Proceed for Model Building'"
            ],
            "application/vnd.google.colaboratory.intrinsic+json": {
              "type": "string"
            }
          },
          "metadata": {},
          "execution_count": 99
        }
      ]
    },
    {
      "cell_type": "code",
      "source": [
        "# Plotting ACF and PACF\n",
        "plot(res_data_diff)"
      ],
      "metadata": {
        "colab": {
          "base_uri": "https://localhost:8080/",
          "height": 562
        },
        "id": "yjm6Qb-_WnO8",
        "outputId": "70cb798c-674a-4f80-a616-4942d362f6dd"
      },
      "execution_count": 100,
      "outputs": [
        {
          "output_type": "execute_result",
          "data": {
            "text/plain": [
              "(<Figure size 432x288 with 1 Axes>, <Figure size 432x288 with 1 Axes>)"
            ]
          },
          "metadata": {},
          "execution_count": 100
        },
        {
          "output_type": "display_data",
          "data": {
            "text/plain": [
              "<Figure size 432x288 with 1 Axes>"
            ],
            "image/png": "[encoded data removed]"
          },
          "metadata": {
            "needs_background": "light"
          }
        },
        {
          "output_type": "display_data",
          "data": {
            "text/plain": [
              "<Figure size 432x288 with 1 Axes>"
            ],
            "image/png": "[encoded data removed]"
          },
          "metadata": {
            "needs_background": "light"
          }
        }
      ]
    },
    {
      "cell_type": "code",
      "source": [
        "# Splitting Data\n",
        "sep = int(res_data.shape[0]*0.8)\n",
        "\n",
        "train = res_data[:sep+1]\n",
        "test = res_data[sep:]"
      ],
      "metadata": {
        "id": "7NWgpmZZYaRA"
      },
      "execution_count": 101,
      "outputs": []
    },
    {
      "cell_type": "code",
      "source": [
        "# Model Building \n",
        "model_1 = sm.tsa.statespace.SARIMAX(train,order=(1,1,1),seasonal_order=(1,1,1,12)).fit()"
      ],
      "metadata": {
        "id": "lrO_JTDrXN6X"
      },
      "execution_count": 102,
      "outputs": []
    },
    {
      "cell_type": "code",
      "source": [
        "# Fit Check\n",
        "fit_check(model_1)"
      ],
      "metadata": {
        "colab": {
          "base_uri": "https://localhost:8080/"
        },
        "id": "w4v5JvFuX4Y4",
        "outputId": "45077d20-9887-4d05-b4f6-177e196a7406"
      },
      "execution_count": 103,
      "outputs": [
        {
          "output_type": "stream",
          "name": "stdout",
          "text": [
            "Good model - Proceed for Forecasting\n"
          ]
        }
      ]
    },
    {
      "cell_type": "code",
      "source": [
        "# Forecasting the Data\n",
        "pred = model_1.forecast(len(test)+30)"
      ],
      "metadata": {
        "id": "_lvL4eOZX4hp"
      },
      "execution_count": 104,
      "outputs": []
    },
    {
      "cell_type": "code",
      "source": [
        "# Plotting Data\n",
        "plt.figure(figsize=(10,10))\n",
        "plt.plot(pred,ls='--',marker='o',mfc='black',color='red')\n",
        "plt.title('EatSmart Precision Digital Bathroom Scale w/ Extra Large Lighted Display',fontsize=15,fontweight = 'bold')\n",
        "plt.grid()\n",
        "plt.show();"
      ],
      "metadata": {
        "id": "cy-yjjqEojox",
        "colab": {
          "base_uri": "https://localhost:8080/",
          "height": 609
        },
        "outputId": "57e7ccfc-8c2e-4a0c-f137-259fe7ed5e8e"
      },
      "execution_count": 105,
      "outputs": [
        {
          "output_type": "display_data",
          "data": {
            "text/plain": [
              "<Figure size 720x720 with 1 Axes>"
            ],
            "image/png": "[encoded data removed]"
          },
          "metadata": {
            "needs_background": "light"
          }
        }
      ]
    },
    {
      "cell_type": "markdown",
      "source": [
        "## Eatsmart Precision Plus Digital Bathroom Scale with Ultra Wide Platform and Step-on Technology, 440-Pounds"
      ],
      "metadata": {
        "id": "2MRfg0f5ZSaS"
      }
    },
    {
      "cell_type": "code",
      "source": [
        "# Copying Data\n",
        "df_1 = data.copy()"
      ],
      "metadata": {
        "id": "otCXvHe_pzD3"
      },
      "execution_count": 106,
      "outputs": []
    },
    {
      "cell_type": "code",
      "source": [
        "# Products which are sold more\n",
        "df_1.title.value_counts()"
      ],
      "metadata": {
        "colab": {
          "base_uri": "https://localhost:8080/"
        },
        "outputId": "d0e16b2b-b277-43cc-9e68-0b8e7b6e3228",
        "id": "ZcriWmiSZOsr"
      },
      "execution_count": 107,
      "outputs": [
        {
          "output_type": "execute_result",
          "data": {
            "text/plain": [
              "EatSmart Precision Digital Bathroom Scale w/ Extra Large Lighted Display, 400 lb. Capacity and &quot;Step-On&quot; Technology [2014 VERSION] - 10,000+ Reviews EatSmart Guaranteed Accurate    11365\n",
              "Eatsmart Precision Plus Digital Bathroom Scale with Ultra Wide Platform and Step-on Technology, 440-Pounds                                                                                      9338\n",
              "Fitbit One Wireless Activity Plus Sleep Tracker, Black                                                                                                                                          6788\n",
              "NatureWise Garcinia Cambogia Extract Natural Appetite Suppressant and Weight Loss Supplement, 180 Count, 500mg (packaging may vary)                                                             5739\n",
              "Omron HJ-112 Digital Pocket Pedometer                                                                                                                                                           5550\n",
              "                                                                                                                                                                                               ...  \n",
              "Swissco 4-In-1 Pedicure Tool                                                                                                                                                                       1\n",
              "Scented Oil - Tropical Pine - ScentsOil for Aromatherapy Burners &amp; Diffuser                                                                                                                    1\n",
              "ACME USA 6.5&quot; Glossy Finish Hair Cutting Shears/ Scissors                                                                                                                                     1\n",
              "Bella il Fiore Goodnight Gorgeous 100% Silk Sleep Mask (Sweet Dreams)                                                                                                                              1\n",
              "Multi-speed Bullet Mini Vibrator Massager Vibrating Egg J1415-2# (Purple)                                                                                                                          1\n",
              "Name: title, Length: 248989, dtype: int64"
            ]
          },
          "metadata": {},
          "execution_count": 107
        }
      ]
    },
    {
      "cell_type": "code",
      "source": [
        "# Mask the Data\n",
        "mask = (df_1['reviewTime'] > '2008-1-1') & (df_1['reviewTime'] <= '2013-12-31')\n",
        "df_1 = df_1.loc[mask]"
      ],
      "metadata": {
        "id": "ijPeYAarZOsr"
      },
      "execution_count": 108,
      "outputs": []
    },
    {
      "cell_type": "code",
      "source": [
        "# Data Filtering\n",
        "data_1 = df_1.loc[df_1.title == 'Eatsmart Precision Plus Digital Bathroom Scale with Ultra Wide Platform and Step-on Technology, 440-Pounds','title']"
      ],
      "metadata": {
        "id": "z_XJAnxnZOsr"
      },
      "execution_count": 109,
      "outputs": []
    },
    {
      "cell_type": "code",
      "source": [
        "# Resampling the Data\n",
        "res_data = data_1.resample('M').count()"
      ],
      "metadata": {
        "id": "f8RyUif6ZOsr"
      },
      "execution_count": 110,
      "outputs": []
    },
    {
      "cell_type": "code",
      "source": [
        "# Positive Time Series Data Components\n",
        "trend, season, irreg = time_series_comp(res_data)\n",
        "\n",
        "plot_comp(res_data,trend,season,irreg,'Positive')\n",
        "plt.show();"
      ],
      "metadata": {
        "colab": {
          "base_uri": "https://localhost:8080/",
          "height": 1000
        },
        "outputId": "841a5a59-547c-4295-8eb7-4f5bfc681203",
        "id": "pMrBhnIgZOsr"
      },
      "execution_count": 111,
      "outputs": [
        {
          "output_type": "display_data",
          "data": {
            "text/plain": [
              "<Figure size 1440x1440 with 1 Axes>"
            ],
            "image/png": "[encoded data removed]"
          },
          "metadata": {
            "needs_background": "light"
          }
        },
        {
          "output_type": "display_data",
          "data": {
            "text/plain": [
              "<Figure size 1440x1440 with 1 Axes>"
            ],
            "image/png": "[encoded data removed]"
          },
          "metadata": {
            "needs_background": "light"
          }
        },
        {
          "output_type": "display_data",
          "data": {
            "text/plain": [
              "<Figure size 1440x1440 with 1 Axes>"
            ],
            "image/png": "[encoded data removed]"
          },
          "metadata": {
            "needs_background": "light"
          }
        },
        {
          "output_type": "display_data",
          "data": {
            "text/plain": [
              "<Figure size 1440x1440 with 1 Axes>"
            ],
            "image/png": "[encoded data removed]"
          },
          "metadata": {
            "needs_background": "light"
          }
        }
      ]
    },
    {
      "cell_type": "code",
      "source": [
        "# Stationary Check\n",
        "stationarity_check(res_data)"
      ],
      "metadata": {
        "colab": {
          "base_uri": "https://localhost:8080/",
          "height": 36
        },
        "outputId": "0edcde88-b857-46a2-ebac-e90e47899029",
        "id": "b86iNd06ZOss"
      },
      "execution_count": 112,
      "outputs": [
        {
          "output_type": "execute_result",
          "data": {
            "text/plain": [
              "'Model was not Stationary - Take Differenced Data'"
            ],
            "application/vnd.google.colaboratory.intrinsic+json": {
              "type": "string"
            }
          },
          "metadata": {},
          "execution_count": 112
        }
      ]
    },
    {
      "cell_type": "code",
      "source": [
        "# Differencing Data\n",
        "res_data_diff = res_data - res_data.shift(1)\n",
        "res_data_diff.dropna(inplace=True)"
      ],
      "metadata": {
        "id": "tlXvpdvBZOss"
      },
      "execution_count": 113,
      "outputs": []
    },
    {
      "cell_type": "code",
      "source": [
        "# Stationary Check\n",
        "stationarity_check(res_data_diff)"
      ],
      "metadata": {
        "colab": {
          "base_uri": "https://localhost:8080/",
          "height": 36
        },
        "outputId": "e6d7131f-f011-4032-9b0e-7acaf758607e",
        "id": "oWMGtUzkZOss"
      },
      "execution_count": 114,
      "outputs": [
        {
          "output_type": "execute_result",
          "data": {
            "text/plain": [
              "'Model was Stationary - Proceed for Model Building'"
            ],
            "application/vnd.google.colaboratory.intrinsic+json": {
              "type": "string"
            }
          },
          "metadata": {},
          "execution_count": 114
        }
      ]
    },
    {
      "cell_type": "code",
      "source": [
        "# Plotting ACF and PACF\n",
        "plot(res_data_diff)"
      ],
      "metadata": {
        "colab": {
          "base_uri": "https://localhost:8080/",
          "height": 562
        },
        "outputId": "475a58ac-4ce4-40a6-fc8a-c097ca7a3bfb",
        "id": "0mgkMNdSZOss"
      },
      "execution_count": 115,
      "outputs": [
        {
          "output_type": "execute_result",
          "data": {
            "text/plain": [
              "(<Figure size 432x288 with 1 Axes>, <Figure size 432x288 with 1 Axes>)"
            ]
          },
          "metadata": {},
          "execution_count": 115
        },
        {
          "output_type": "display_data",
          "data": {
            "text/plain": [
              "<Figure size 432x288 with 1 Axes>"
            ],
            "image/png": "[encoded data removed]"
          },
          "metadata": {
            "needs_background": "light"
          }
        },
        {
          "output_type": "display_data",
          "data": {
            "text/plain": [
              "<Figure size 432x288 with 1 Axes>"
            ],
            "image/png": "[encoded data removed]"
          },
          "metadata": {
            "needs_background": "light"
          }
        }
      ]
    },
    {
      "cell_type": "code",
      "source": [
        "# Splitting Data\n",
        "sep = int(res_data.shape[0]*0.8)\n",
        "\n",
        "train = res_data[:sep+1]\n",
        "test = res_data[sep:]"
      ],
      "metadata": {
        "id": "D4PRs0IzZOss"
      },
      "execution_count": 116,
      "outputs": []
    },
    {
      "cell_type": "code",
      "source": [
        "# Model Building \n",
        "model_2 = sm.tsa.statespace.SARIMAX(train,order=(1,1,0),seasonal_order=(1,1,0,12)).fit()"
      ],
      "metadata": {
        "id": "oKw1csjYZOss"
      },
      "execution_count": 117,
      "outputs": []
    },
    {
      "cell_type": "code",
      "source": [
        "# Fit Check\n",
        "fit_check(model_2)"
      ],
      "metadata": {
        "colab": {
          "base_uri": "https://localhost:8080/"
        },
        "outputId": "b818dc0f-af77-4786-fc1e-aedc2f109aa7",
        "id": "IMNeWJeQZOss"
      },
      "execution_count": 118,
      "outputs": [
        {
          "output_type": "stream",
          "name": "stdout",
          "text": [
            "Good model - Proceed for Forecasting\n"
          ]
        }
      ]
    },
    {
      "cell_type": "code",
      "source": [
        "# Forecasting the Data\n",
        "pred = model_2.forecast(len(test)+30)"
      ],
      "metadata": {
        "id": "OGo0Nc1tZOss"
      },
      "execution_count": 119,
      "outputs": []
    },
    {
      "cell_type": "code",
      "source": [
        "# Plotting Data\n",
        "plt.figure(figsize=(10,10))\n",
        "plt.plot(pred,ls='--',marker='o',mfc='black',color='red')\n",
        "plt.title('Eatsmart Precision Plus Digital Bathroom Scale with Ultra Wide Platform',fontsize=15,fontweight = 'bold')\n",
        "plt.grid()\n",
        "plt.show();"
      ],
      "metadata": {
        "colab": {
          "base_uri": "https://localhost:8080/",
          "height": 609
        },
        "outputId": "0a6c77aa-6c93-42e3-a1a4-dbe35b0802fb",
        "id": "HKOwxFbQZOst"
      },
      "execution_count": 120,
      "outputs": [
        {
          "output_type": "display_data",
          "data": {
            "text/plain": [
              "<Figure size 720x720 with 1 Axes>"
            ],
            "image/png": "[encoded data removed]"
          },
          "metadata": {
            "needs_background": "light"
          }
        }
      ]
    }
  ]
}